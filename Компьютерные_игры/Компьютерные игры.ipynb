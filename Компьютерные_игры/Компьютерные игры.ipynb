{
 "cells": [
  {
   "cell_type": "markdown",
   "metadata": {},
   "source": [
    "### Компьютерные игры"
   ]
  },
  {
   "cell_type": "markdown",
   "metadata": {},
   "source": [
    "Нужно выявить определяющие успешность игры закономерности"
   ]
  },
  {
   "cell_type": "code",
   "execution_count": 1,
   "metadata": {},
   "outputs": [],
   "source": [
    "import pandas as pd\n",
    "import matplotlib.pyplot as plt\n",
    "import math\n",
    "from scipy import stats as st\n",
    "import numpy as np"
   ]
  },
  {
   "cell_type": "markdown",
   "metadata": {},
   "source": [
    "### Шаг 1. Открытие файла с данными и изучение общей информации"
   ]
  },
  {
   "cell_type": "code",
   "execution_count": 2,
   "metadata": {
    "scrolled": false
   },
   "outputs": [
    {
     "name": "stdout",
     "output_type": "stream",
     "text": [
      "<class 'pandas.core.frame.DataFrame'>\n",
      "RangeIndex: 16715 entries, 0 to 16714\n",
      "Data columns (total 11 columns):\n",
      "Name               16713 non-null object\n",
      "Platform           16715 non-null object\n",
      "Year_of_Release    16446 non-null float64\n",
      "Genre              16713 non-null object\n",
      "NA_sales           16715 non-null float64\n",
      "EU_sales           16715 non-null float64\n",
      "JP_sales           16715 non-null float64\n",
      "Other_sales        16715 non-null float64\n",
      "Critic_Score       8137 non-null float64\n",
      "User_Score         10014 non-null object\n",
      "Rating             9949 non-null object\n",
      "dtypes: float64(6), object(5)\n",
      "memory usage: 1.4+ MB\n",
      "None\n"
     ]
    },
    {
     "data": {
      "text/html": [
       "<div>\n",
       "<style scoped>\n",
       "    .dataframe tbody tr th:only-of-type {\n",
       "        vertical-align: middle;\n",
       "    }\n",
       "\n",
       "    .dataframe tbody tr th {\n",
       "        vertical-align: top;\n",
       "    }\n",
       "\n",
       "    .dataframe thead th {\n",
       "        text-align: right;\n",
       "    }\n",
       "</style>\n",
       "<table border=\"1\" class=\"dataframe\">\n",
       "  <thead>\n",
       "    <tr style=\"text-align: right;\">\n",
       "      <th></th>\n",
       "      <th>Name</th>\n",
       "      <th>Platform</th>\n",
       "      <th>Year_of_Release</th>\n",
       "      <th>Genre</th>\n",
       "      <th>NA_sales</th>\n",
       "      <th>EU_sales</th>\n",
       "      <th>JP_sales</th>\n",
       "      <th>Other_sales</th>\n",
       "      <th>Critic_Score</th>\n",
       "      <th>User_Score</th>\n",
       "      <th>Rating</th>\n",
       "    </tr>\n",
       "  </thead>\n",
       "  <tbody>\n",
       "    <tr>\n",
       "      <td>0</td>\n",
       "      <td>Wii Sports</td>\n",
       "      <td>Wii</td>\n",
       "      <td>2006.0</td>\n",
       "      <td>Sports</td>\n",
       "      <td>41.36</td>\n",
       "      <td>28.96</td>\n",
       "      <td>3.77</td>\n",
       "      <td>8.45</td>\n",
       "      <td>76.0</td>\n",
       "      <td>8</td>\n",
       "      <td>E</td>\n",
       "    </tr>\n",
       "    <tr>\n",
       "      <td>1</td>\n",
       "      <td>Super Mario Bros.</td>\n",
       "      <td>NES</td>\n",
       "      <td>1985.0</td>\n",
       "      <td>Platform</td>\n",
       "      <td>29.08</td>\n",
       "      <td>3.58</td>\n",
       "      <td>6.81</td>\n",
       "      <td>0.77</td>\n",
       "      <td>NaN</td>\n",
       "      <td>NaN</td>\n",
       "      <td>NaN</td>\n",
       "    </tr>\n",
       "    <tr>\n",
       "      <td>2</td>\n",
       "      <td>Mario Kart Wii</td>\n",
       "      <td>Wii</td>\n",
       "      <td>2008.0</td>\n",
       "      <td>Racing</td>\n",
       "      <td>15.68</td>\n",
       "      <td>12.76</td>\n",
       "      <td>3.79</td>\n",
       "      <td>3.29</td>\n",
       "      <td>82.0</td>\n",
       "      <td>8.3</td>\n",
       "      <td>E</td>\n",
       "    </tr>\n",
       "    <tr>\n",
       "      <td>3</td>\n",
       "      <td>Wii Sports Resort</td>\n",
       "      <td>Wii</td>\n",
       "      <td>2009.0</td>\n",
       "      <td>Sports</td>\n",
       "      <td>15.61</td>\n",
       "      <td>10.93</td>\n",
       "      <td>3.28</td>\n",
       "      <td>2.95</td>\n",
       "      <td>80.0</td>\n",
       "      <td>8</td>\n",
       "      <td>E</td>\n",
       "    </tr>\n",
       "    <tr>\n",
       "      <td>4</td>\n",
       "      <td>Pokemon Red/Pokemon Blue</td>\n",
       "      <td>GB</td>\n",
       "      <td>1996.0</td>\n",
       "      <td>Role-Playing</td>\n",
       "      <td>11.27</td>\n",
       "      <td>8.89</td>\n",
       "      <td>10.22</td>\n",
       "      <td>1.00</td>\n",
       "      <td>NaN</td>\n",
       "      <td>NaN</td>\n",
       "      <td>NaN</td>\n",
       "    </tr>\n",
       "  </tbody>\n",
       "</table>\n",
       "</div>"
      ],
      "text/plain": [
       "                       Name Platform  Year_of_Release         Genre  NA_sales  \\\n",
       "0                Wii Sports      Wii           2006.0        Sports     41.36   \n",
       "1         Super Mario Bros.      NES           1985.0      Platform     29.08   \n",
       "2            Mario Kart Wii      Wii           2008.0        Racing     15.68   \n",
       "3         Wii Sports Resort      Wii           2009.0        Sports     15.61   \n",
       "4  Pokemon Red/Pokemon Blue       GB           1996.0  Role-Playing     11.27   \n",
       "\n",
       "   EU_sales  JP_sales  Other_sales  Critic_Score User_Score Rating  \n",
       "0     28.96      3.77         8.45          76.0          8      E  \n",
       "1      3.58      6.81         0.77           NaN        NaN    NaN  \n",
       "2     12.76      3.79         3.29          82.0        8.3      E  \n",
       "3     10.93      3.28         2.95          80.0          8      E  \n",
       "4      8.89     10.22         1.00           NaN        NaN    NaN  "
      ]
     },
     "execution_count": 2,
     "metadata": {},
     "output_type": "execute_result"
    }
   ],
   "source": [
    "data = pd.read_csv('/datasets/games.csv')\n",
    "print(data.info())\n",
    "data.head()"
   ]
  },
  {
   "cell_type": "markdown",
   "metadata": {},
   "source": [
    "В столбце Year_of_Release есть незначительное количество пропусков. Много пропусков в столбцах Critic_Score, User_Score,      Rating. Столбец User_Score имеет тип данных object, что неправильно, т.к. User_Score это количественная оценка, предусматривающая оценку по десятибальной шкале с точностью до десятых, т.е. в данном случае тип данных должен быть float."
   ]
  },
  {
   "cell_type": "markdown",
   "metadata": {},
   "source": [
    "### Шаг 2. Подготовка данныx"
   ]
  },
  {
   "cell_type": "markdown",
   "metadata": {},
   "source": [
    "Замена названия столбцов (приведение к нижнему регистру);"
   ]
  },
  {
   "cell_type": "code",
   "execution_count": 3,
   "metadata": {},
   "outputs": [],
   "source": [
    "data.set_axis(data.columns.str.lower(), axis = 'columns', inplace = True)"
   ]
  },
  {
   "cell_type": "markdown",
   "metadata": {},
   "source": [
    "Преобразование данных в нужные типы."
   ]
  },
  {
   "cell_type": "markdown",
   "metadata": {},
   "source": [
    "Обработайте пропуски при необходимости: Объясните, почему заполнили пропуски определённым образом или почему не стали это делать; Опишите причины, которые могли привести к пропускам;"
   ]
  },
  {
   "cell_type": "code",
   "execution_count": 4,
   "metadata": {},
   "outputs": [],
   "source": [
    "data = data.query('year_of_release != \"nan\"')\n",
    "data['year_of_release'] = data['year_of_release'].astype('int')"
   ]
  },
  {
   "cell_type": "markdown",
   "metadata": {},
   "source": [
    "От пропусков по релизу отказываемся, их всего 269 (менее 3 %). Год важен."
   ]
  },
  {
   "cell_type": "markdown",
   "metadata": {},
   "source": [
    "Обратите внимание на аббревиатуру 'tbd' в столбцах с рейтингом. \n",
    "Отдельно разберите это значение и опишите, как его обработать;"
   ]
  },
  {
   "cell_type": "code",
   "execution_count": 5,
   "metadata": {},
   "outputs": [
    {
     "name": "stderr",
     "output_type": "stream",
     "text": [
      "/opt/conda/lib/python3.7/site-packages/ipykernel_launcher.py:2: SettingWithCopyWarning: \n",
      "A value is trying to be set on a copy of a slice from a DataFrame.\n",
      "Try using .loc[row_indexer,col_indexer] = value instead\n",
      "\n",
      "See the caveats in the documentation: http://pandas.pydata.org/pandas-docs/stable/user_guide/indexing.html#returning-a-view-versus-a-copy\n",
      "  \n"
     ]
    }
   ],
   "source": [
    "data_s = data.query('user_score != \"tbd\"')\n",
    "data_s['user_score'] = data_s['user_score'].astype('float')\n",
    "data['user_score'] = data['user_score'].replace('tbd', data_s['user_score'].median())\n",
    "data['user_score'] = data['user_score'].astype('float')"
   ]
  },
  {
   "cell_type": "markdown",
   "metadata": {},
   "source": [
    "user_score неоходим тип данных перевести в float для выполнения разных в т.ч.логических операций(<,>)\n",
    "tbd - подлежит определению, рейтинг не определён. Заменено на значение медианы."
   ]
  },
  {
   "cell_type": "markdown",
   "metadata": {},
   "source": [
    "Данные столбца critic_score, имеет тип данных float, что уже позволяет с ними выполнять арифметические операции. В данном столбце нет tbd и других object. Данные столбца critic_score можно перевести в int, но не нужно."
   ]
  },
  {
   "cell_type": "code",
   "execution_count": 6,
   "metadata": {},
   "outputs": [
    {
     "name": "stdout",
     "output_type": "stream",
     "text": [
      "<class 'pandas.core.frame.DataFrame'>\n",
      "Int64Index: 16446 entries, 0 to 16714\n",
      "Data columns (total 11 columns):\n",
      "name               16444 non-null object\n",
      "platform           16446 non-null object\n",
      "year_of_release    16446 non-null int64\n",
      "genre              16444 non-null object\n",
      "na_sales           16446 non-null float64\n",
      "eu_sales           16446 non-null float64\n",
      "jp_sales           16446 non-null float64\n",
      "other_sales        16446 non-null float64\n",
      "critic_score       7983 non-null float64\n",
      "user_score         9839 non-null float64\n",
      "rating             9768 non-null object\n",
      "dtypes: float64(6), int64(1), object(4)\n",
      "memory usage: 1.5+ MB\n"
     ]
    }
   ],
   "source": [
    "data.info()"
   ]
  },
  {
   "cell_type": "markdown",
   "metadata": {},
   "source": [
    "Посчитайте суммарные продажи во всех регионах и запишите их в отдельный столбец."
   ]
  },
  {
   "cell_type": "code",
   "execution_count": 7,
   "metadata": {},
   "outputs": [],
   "source": [
    "data['kassa'] = data['na_sales'] + data['eu_sales'] + data['jp_sales'] + data['other_sales']"
   ]
  },
  {
   "cell_type": "markdown",
   "metadata": {},
   "source": [
    "### Шаг 3. Проведите исследовательский анализ данных"
   ]
  },
  {
   "cell_type": "markdown",
   "metadata": {},
   "source": [
    "Посмотрите, сколько игр выпускалось в разные годы. Важны ли данные за все периоды?"
   ]
  },
  {
   "cell_type": "code",
   "execution_count": 8,
   "metadata": {
    "scrolled": true
   },
   "outputs": [
    {
     "data": {
      "text/html": [
       "<div>\n",
       "<style scoped>\n",
       "    .dataframe tbody tr th:only-of-type {\n",
       "        vertical-align: middle;\n",
       "    }\n",
       "\n",
       "    .dataframe tbody tr th {\n",
       "        vertical-align: top;\n",
       "    }\n",
       "\n",
       "    .dataframe thead th {\n",
       "        text-align: right;\n",
       "    }\n",
       "</style>\n",
       "<table border=\"1\" class=\"dataframe\">\n",
       "  <thead>\n",
       "    <tr style=\"text-align: right;\">\n",
       "      <th></th>\n",
       "      <th>kassa</th>\n",
       "    </tr>\n",
       "    <tr>\n",
       "      <th>year_of_release</th>\n",
       "      <th></th>\n",
       "    </tr>\n",
       "  </thead>\n",
       "  <tbody>\n",
       "    <tr>\n",
       "      <td>1980</td>\n",
       "      <td>9</td>\n",
       "    </tr>\n",
       "    <tr>\n",
       "      <td>1981</td>\n",
       "      <td>46</td>\n",
       "    </tr>\n",
       "    <tr>\n",
       "      <td>1982</td>\n",
       "      <td>36</td>\n",
       "    </tr>\n",
       "    <tr>\n",
       "      <td>1983</td>\n",
       "      <td>17</td>\n",
       "    </tr>\n",
       "    <tr>\n",
       "      <td>1984</td>\n",
       "      <td>14</td>\n",
       "    </tr>\n",
       "    <tr>\n",
       "      <td>1985</td>\n",
       "      <td>14</td>\n",
       "    </tr>\n",
       "    <tr>\n",
       "      <td>1986</td>\n",
       "      <td>21</td>\n",
       "    </tr>\n",
       "    <tr>\n",
       "      <td>1987</td>\n",
       "      <td>16</td>\n",
       "    </tr>\n",
       "    <tr>\n",
       "      <td>1988</td>\n",
       "      <td>15</td>\n",
       "    </tr>\n",
       "    <tr>\n",
       "      <td>1989</td>\n",
       "      <td>17</td>\n",
       "    </tr>\n",
       "    <tr>\n",
       "      <td>1990</td>\n",
       "      <td>16</td>\n",
       "    </tr>\n",
       "    <tr>\n",
       "      <td>1991</td>\n",
       "      <td>41</td>\n",
       "    </tr>\n",
       "    <tr>\n",
       "      <td>1992</td>\n",
       "      <td>43</td>\n",
       "    </tr>\n",
       "    <tr>\n",
       "      <td>1993</td>\n",
       "      <td>62</td>\n",
       "    </tr>\n",
       "    <tr>\n",
       "      <td>1994</td>\n",
       "      <td>121</td>\n",
       "    </tr>\n",
       "    <tr>\n",
       "      <td>1995</td>\n",
       "      <td>219</td>\n",
       "    </tr>\n",
       "    <tr>\n",
       "      <td>1996</td>\n",
       "      <td>263</td>\n",
       "    </tr>\n",
       "    <tr>\n",
       "      <td>1997</td>\n",
       "      <td>289</td>\n",
       "    </tr>\n",
       "    <tr>\n",
       "      <td>1998</td>\n",
       "      <td>379</td>\n",
       "    </tr>\n",
       "    <tr>\n",
       "      <td>1999</td>\n",
       "      <td>338</td>\n",
       "    </tr>\n",
       "    <tr>\n",
       "      <td>2000</td>\n",
       "      <td>350</td>\n",
       "    </tr>\n",
       "    <tr>\n",
       "      <td>2001</td>\n",
       "      <td>482</td>\n",
       "    </tr>\n",
       "    <tr>\n",
       "      <td>2002</td>\n",
       "      <td>829</td>\n",
       "    </tr>\n",
       "    <tr>\n",
       "      <td>2003</td>\n",
       "      <td>775</td>\n",
       "    </tr>\n",
       "    <tr>\n",
       "      <td>2004</td>\n",
       "      <td>762</td>\n",
       "    </tr>\n",
       "    <tr>\n",
       "      <td>2005</td>\n",
       "      <td>939</td>\n",
       "    </tr>\n",
       "    <tr>\n",
       "      <td>2006</td>\n",
       "      <td>1006</td>\n",
       "    </tr>\n",
       "    <tr>\n",
       "      <td>2007</td>\n",
       "      <td>1197</td>\n",
       "    </tr>\n",
       "    <tr>\n",
       "      <td>2008</td>\n",
       "      <td>1427</td>\n",
       "    </tr>\n",
       "    <tr>\n",
       "      <td>2009</td>\n",
       "      <td>1426</td>\n",
       "    </tr>\n",
       "    <tr>\n",
       "      <td>2010</td>\n",
       "      <td>1255</td>\n",
       "    </tr>\n",
       "    <tr>\n",
       "      <td>2011</td>\n",
       "      <td>1136</td>\n",
       "    </tr>\n",
       "    <tr>\n",
       "      <td>2012</td>\n",
       "      <td>653</td>\n",
       "    </tr>\n",
       "    <tr>\n",
       "      <td>2013</td>\n",
       "      <td>544</td>\n",
       "    </tr>\n",
       "    <tr>\n",
       "      <td>2014</td>\n",
       "      <td>581</td>\n",
       "    </tr>\n",
       "    <tr>\n",
       "      <td>2015</td>\n",
       "      <td>606</td>\n",
       "    </tr>\n",
       "    <tr>\n",
       "      <td>2016</td>\n",
       "      <td>502</td>\n",
       "    </tr>\n",
       "  </tbody>\n",
       "</table>\n",
       "</div>"
      ],
      "text/plain": [
       "                 kassa\n",
       "year_of_release       \n",
       "1980                 9\n",
       "1981                46\n",
       "1982                36\n",
       "1983                17\n",
       "1984                14\n",
       "1985                14\n",
       "1986                21\n",
       "1987                16\n",
       "1988                15\n",
       "1989                17\n",
       "1990                16\n",
       "1991                41\n",
       "1992                43\n",
       "1993                62\n",
       "1994               121\n",
       "1995               219\n",
       "1996               263\n",
       "1997               289\n",
       "1998               379\n",
       "1999               338\n",
       "2000               350\n",
       "2001               482\n",
       "2002               829\n",
       "2003               775\n",
       "2004               762\n",
       "2005               939\n",
       "2006              1006\n",
       "2007              1197\n",
       "2008              1427\n",
       "2009              1426\n",
       "2010              1255\n",
       "2011              1136\n",
       "2012               653\n",
       "2013               544\n",
       "2014               581\n",
       "2015               606\n",
       "2016               502"
      ]
     },
     "execution_count": 8,
     "metadata": {},
     "output_type": "execute_result"
    }
   ],
   "source": [
    "data['year_of_release'] = data['year_of_release'].astype('int')\n",
    "data_year = data.pivot_table(index = 'year_of_release', values = 'kassa', aggfunc = 'count')\n",
    "data_year"
   ]
  },
  {
   "cell_type": "code",
   "execution_count": 9,
   "metadata": {},
   "outputs": [
    {
     "data": {
      "image/png": "[encoded data removed]",
      "text/plain": [
       "<Figure size 1080x360 with 1 Axes>"
      ]
     },
     "metadata": {
      "needs_background": "light"
     },
     "output_type": "display_data"
    },
    {
     "name": "stdout",
     "output_type": "stream",
     "text": [
      "               График \"Количество выпущенных игр по годам (1980-2016)\"\n"
     ]
    }
   ],
   "source": [
    "data_year = data_year.reset_index()\n",
    "data_year.plot(x = 'year_of_release', y = 'kassa', style = 'o-', xlim=(1980,2016), figsize=(15,5), sharex=False)\n",
    "plt.show()\n",
    "print('               График \"Количество выпущенных игр по годам (1980-2016)\"')"
   ]
  },
  {
   "cell_type": "markdown",
   "metadata": {},
   "source": [
    "В 1993 можно наблюдать сильный скачок двухзначных цифр (в сравнении с 1992 годом) в 2 раза.\n",
    "В 2002 можно наблюдать сильный скачок трёхзначных цифр (в сравнении с 2001 годом) в 2 раза.\n",
    "С 2011 8 поколение приставок. Сложная видеографика (создание игр сложнее), финансовый кризис ..."
   ]
  },
  {
   "cell_type": "code",
   "execution_count": 10,
   "metadata": {
    "scrolled": true
   },
   "outputs": [
    {
     "data": {
      "text/plain": [
       "PS2     2127\n",
       "DS      2120\n",
       "PS3     1306\n",
       "Wii     1286\n",
       "X360    1232\n",
       "PSP     1193\n",
       "PC       932\n",
       "GBA      811\n",
       "XB       803\n",
       "PS       722\n",
       "GC       542\n",
       "3DS      512\n",
       "PSV      429\n",
       "PS4      392\n",
       "N64      249\n",
       "XOne     247\n",
       "WiiU     147\n",
       "DC        52\n",
       "GB        46\n",
       "SAT       30\n",
       "WS         6\n",
       "SNES       3\n",
       "Name: platform, dtype: int64"
      ]
     },
     "execution_count": 10,
     "metadata": {},
     "output_type": "execute_result"
    }
   ],
   "source": [
    "data_year = data.query('year_of_release >= 1998')\n",
    "data_year['platform'].value_counts()"
   ]
  },
  {
   "cell_type": "markdown",
   "metadata": {},
   "source": [
    "Посмотрите, как менялись продажи по платформам. Выберите платформы с наибольшими суммарными продажами и постройте распределение по годам. За какой характерный срок появляются новые и исчезают старые платформы?"
   ]
  },
  {
   "cell_type": "code",
   "execution_count": 11,
   "metadata": {
    "scrolled": true
   },
   "outputs": [
    {
     "data": {
      "text/html": [
       "<div>\n",
       "<style scoped>\n",
       "    .dataframe tbody tr th:only-of-type {\n",
       "        vertical-align: middle;\n",
       "    }\n",
       "\n",
       "    .dataframe tbody tr th {\n",
       "        vertical-align: top;\n",
       "    }\n",
       "\n",
       "    .dataframe thead th {\n",
       "        text-align: right;\n",
       "    }\n",
       "</style>\n",
       "<table border=\"1\" class=\"dataframe\">\n",
       "  <thead>\n",
       "    <tr style=\"text-align: right;\">\n",
       "      <th>year_of_release</th>\n",
       "      <th>platform</th>\n",
       "      <th>1998</th>\n",
       "      <th>1999</th>\n",
       "      <th>2000</th>\n",
       "      <th>2001</th>\n",
       "      <th>2002</th>\n",
       "      <th>2003</th>\n",
       "      <th>2004</th>\n",
       "      <th>2005</th>\n",
       "      <th>2006</th>\n",
       "      <th>2007</th>\n",
       "      <th>2008</th>\n",
       "      <th>2009</th>\n",
       "      <th>2010</th>\n",
       "      <th>2011</th>\n",
       "      <th>2012</th>\n",
       "      <th>2013</th>\n",
       "      <th>2014</th>\n",
       "      <th>2015</th>\n",
       "      <th>2016</th>\n",
       "    </tr>\n",
       "  </thead>\n",
       "  <tbody>\n",
       "    <tr>\n",
       "      <td>8</td>\n",
       "      <td>PS</td>\n",
       "      <td>169.49</td>\n",
       "      <td>144.53</td>\n",
       "      <td>96.37</td>\n",
       "      <td>35.59</td>\n",
       "      <td>6.67</td>\n",
       "      <td>2.07</td>\n",
       "      <td>0.00</td>\n",
       "      <td>0.00</td>\n",
       "      <td>0.00</td>\n",
       "      <td>0.00</td>\n",
       "      <td>0.00</td>\n",
       "      <td>0.00</td>\n",
       "      <td>0.00</td>\n",
       "      <td>0.00</td>\n",
       "      <td>0.00</td>\n",
       "      <td>0.00</td>\n",
       "      <td>0.00</td>\n",
       "      <td>0.00</td>\n",
       "      <td>0.00</td>\n",
       "    </tr>\n",
       "    <tr>\n",
       "      <td>9</td>\n",
       "      <td>PS2</td>\n",
       "      <td>0.00</td>\n",
       "      <td>0.00</td>\n",
       "      <td>39.17</td>\n",
       "      <td>166.43</td>\n",
       "      <td>205.38</td>\n",
       "      <td>184.31</td>\n",
       "      <td>211.81</td>\n",
       "      <td>160.66</td>\n",
       "      <td>103.42</td>\n",
       "      <td>75.99</td>\n",
       "      <td>53.90</td>\n",
       "      <td>26.40</td>\n",
       "      <td>5.64</td>\n",
       "      <td>0.45</td>\n",
       "      <td>0.00</td>\n",
       "      <td>0.00</td>\n",
       "      <td>0.00</td>\n",
       "      <td>0.00</td>\n",
       "      <td>0.00</td>\n",
       "    </tr>\n",
       "    <tr>\n",
       "      <td>10</td>\n",
       "      <td>PS3</td>\n",
       "      <td>0.00</td>\n",
       "      <td>0.00</td>\n",
       "      <td>0.00</td>\n",
       "      <td>0.00</td>\n",
       "      <td>0.00</td>\n",
       "      <td>0.00</td>\n",
       "      <td>0.00</td>\n",
       "      <td>0.00</td>\n",
       "      <td>20.96</td>\n",
       "      <td>73.19</td>\n",
       "      <td>118.52</td>\n",
       "      <td>130.93</td>\n",
       "      <td>142.17</td>\n",
       "      <td>156.78</td>\n",
       "      <td>107.36</td>\n",
       "      <td>113.25</td>\n",
       "      <td>47.76</td>\n",
       "      <td>16.82</td>\n",
       "      <td>3.60</td>\n",
       "    </tr>\n",
       "    <tr>\n",
       "      <td>11</td>\n",
       "      <td>PS4</td>\n",
       "      <td>0.00</td>\n",
       "      <td>0.00</td>\n",
       "      <td>0.00</td>\n",
       "      <td>0.00</td>\n",
       "      <td>0.00</td>\n",
       "      <td>0.00</td>\n",
       "      <td>0.00</td>\n",
       "      <td>0.00</td>\n",
       "      <td>0.00</td>\n",
       "      <td>0.00</td>\n",
       "      <td>0.00</td>\n",
       "      <td>0.00</td>\n",
       "      <td>0.00</td>\n",
       "      <td>0.00</td>\n",
       "      <td>0.00</td>\n",
       "      <td>25.99</td>\n",
       "      <td>100.00</td>\n",
       "      <td>118.90</td>\n",
       "      <td>69.25</td>\n",
       "    </tr>\n",
       "    <tr>\n",
       "      <td>19</td>\n",
       "      <td>X360</td>\n",
       "      <td>0.00</td>\n",
       "      <td>0.00</td>\n",
       "      <td>0.00</td>\n",
       "      <td>0.00</td>\n",
       "      <td>0.00</td>\n",
       "      <td>0.00</td>\n",
       "      <td>0.00</td>\n",
       "      <td>8.25</td>\n",
       "      <td>51.62</td>\n",
       "      <td>95.41</td>\n",
       "      <td>135.26</td>\n",
       "      <td>120.29</td>\n",
       "      <td>170.03</td>\n",
       "      <td>143.84</td>\n",
       "      <td>99.74</td>\n",
       "      <td>88.58</td>\n",
       "      <td>34.74</td>\n",
       "      <td>11.96</td>\n",
       "      <td>1.52</td>\n",
       "    </tr>\n",
       "    <tr>\n",
       "      <td>20</td>\n",
       "      <td>XB</td>\n",
       "      <td>0.00</td>\n",
       "      <td>0.00</td>\n",
       "      <td>0.99</td>\n",
       "      <td>22.26</td>\n",
       "      <td>48.01</td>\n",
       "      <td>55.04</td>\n",
       "      <td>65.42</td>\n",
       "      <td>49.08</td>\n",
       "      <td>10.04</td>\n",
       "      <td>0.55</td>\n",
       "      <td>0.18</td>\n",
       "      <td>0.00</td>\n",
       "      <td>0.00</td>\n",
       "      <td>0.00</td>\n",
       "      <td>0.00</td>\n",
       "      <td>0.00</td>\n",
       "      <td>0.00</td>\n",
       "      <td>0.00</td>\n",
       "      <td>0.00</td>\n",
       "    </tr>\n",
       "    <tr>\n",
       "      <td>21</td>\n",
       "      <td>XOne</td>\n",
       "      <td>0.00</td>\n",
       "      <td>0.00</td>\n",
       "      <td>0.00</td>\n",
       "      <td>0.00</td>\n",
       "      <td>0.00</td>\n",
       "      <td>0.00</td>\n",
       "      <td>0.00</td>\n",
       "      <td>0.00</td>\n",
       "      <td>0.00</td>\n",
       "      <td>0.00</td>\n",
       "      <td>0.00</td>\n",
       "      <td>0.00</td>\n",
       "      <td>0.00</td>\n",
       "      <td>0.00</td>\n",
       "      <td>0.00</td>\n",
       "      <td>18.96</td>\n",
       "      <td>54.07</td>\n",
       "      <td>60.14</td>\n",
       "      <td>26.15</td>\n",
       "    </tr>\n",
       "  </tbody>\n",
       "</table>\n",
       "</div>"
      ],
      "text/plain": [
       "year_of_release platform    1998    1999   2000    2001    2002    2003  \\\n",
       "8                     PS  169.49  144.53  96.37   35.59    6.67    2.07   \n",
       "9                    PS2    0.00    0.00  39.17  166.43  205.38  184.31   \n",
       "10                   PS3    0.00    0.00   0.00    0.00    0.00    0.00   \n",
       "11                   PS4    0.00    0.00   0.00    0.00    0.00    0.00   \n",
       "19                  X360    0.00    0.00   0.00    0.00    0.00    0.00   \n",
       "20                    XB    0.00    0.00   0.99   22.26   48.01   55.04   \n",
       "21                  XOne    0.00    0.00   0.00    0.00    0.00    0.00   \n",
       "\n",
       "year_of_release    2004    2005    2006   2007    2008    2009    2010  \\\n",
       "8                  0.00    0.00    0.00   0.00    0.00    0.00    0.00   \n",
       "9                211.81  160.66  103.42  75.99   53.90   26.40    5.64   \n",
       "10                 0.00    0.00   20.96  73.19  118.52  130.93  142.17   \n",
       "11                 0.00    0.00    0.00   0.00    0.00    0.00    0.00   \n",
       "19                 0.00    8.25   51.62  95.41  135.26  120.29  170.03   \n",
       "20                65.42   49.08   10.04   0.55    0.18    0.00    0.00   \n",
       "21                 0.00    0.00    0.00   0.00    0.00    0.00    0.00   \n",
       "\n",
       "year_of_release    2011    2012    2013    2014    2015   2016  \n",
       "8                  0.00    0.00    0.00    0.00    0.00   0.00  \n",
       "9                  0.45    0.00    0.00    0.00    0.00   0.00  \n",
       "10               156.78  107.36  113.25   47.76   16.82   3.60  \n",
       "11                 0.00    0.00   25.99  100.00  118.90  69.25  \n",
       "19               143.84   99.74   88.58   34.74   11.96   1.52  \n",
       "20                 0.00    0.00    0.00    0.00    0.00   0.00  \n",
       "21                 0.00    0.00   18.96   54.07   60.14  26.15  "
      ]
     },
     "execution_count": 11,
     "metadata": {},
     "output_type": "execute_result"
    }
   ],
   "source": [
    "data_year_P_Pl = data_year.pivot_table(index = 'platform', columns = 'year_of_release',\n",
    "                                      values = 'kassa', aggfunc = 'sum')\n",
    "data_year_P_Pl = data_year_P_Pl.reset_index()\n",
    "data_year_P_Pl = data_year_P_Pl.fillna(0)\n",
    "\n",
    "df = data_year_P_Pl\n",
    "\n",
    "#data_year_P_Pl.loc[8:11]\n",
    "data_year_PS = df[df['platform'].isin(('PS', 'PS2', 'PS3', 'PS4', 'XB', 'X360', 'XOne'))]\n",
    "data_year_PS"
   ]
  },
  {
   "cell_type": "markdown",
   "metadata": {},
   "source": [
    "Все основные платформы PS является очень популярными, являются флагманом, по которому можно отслеживать тенденции и закономерности. Из представленного среза - можно судить о том, что жизненный цикл платформы на рынке это примерно 10 лет. Где-то примерно после пика продаж игр на конкретную платформу появляется новое поколение платформ. В 2013 году появилось новое поколение платформ от PS. Значит правильно строить прогноз на 2017 надо на данных начиная с 2012 (это будет актуальный период).\n",
    "(Прямой конкурент PS - XBox демонстрирует похожий жизненный цикл и в 2013 году у него тоже появилось новое поколение платформ от XBox)"
   ]
  },
  {
   "cell_type": "markdown",
   "metadata": {},
   "source": [
    "#В этих строчках присутствует основные поколения приставок. Переделал - теперь через isin()"
   ]
  },
  {
   "cell_type": "code",
   "execution_count": 12,
   "metadata": {
    "scrolled": true
   },
   "outputs": [
    {
     "data": {
      "text/html": [
       "<div>\n",
       "<style scoped>\n",
       "    .dataframe tbody tr th:only-of-type {\n",
       "        vertical-align: middle;\n",
       "    }\n",
       "\n",
       "    .dataframe tbody tr th {\n",
       "        vertical-align: top;\n",
       "    }\n",
       "\n",
       "    .dataframe thead th {\n",
       "        text-align: right;\n",
       "    }\n",
       "</style>\n",
       "<table border=\"1\" class=\"dataframe\">\n",
       "  <thead>\n",
       "    <tr style=\"text-align: right;\">\n",
       "      <th>year_of_release</th>\n",
       "      <th>platform</th>\n",
       "      <th>1998</th>\n",
       "      <th>1999</th>\n",
       "      <th>2000</th>\n",
       "      <th>2001</th>\n",
       "      <th>2002</th>\n",
       "      <th>2003</th>\n",
       "      <th>2004</th>\n",
       "      <th>2005</th>\n",
       "      <th>2006</th>\n",
       "      <th>...</th>\n",
       "      <th>2008</th>\n",
       "      <th>2009</th>\n",
       "      <th>2010</th>\n",
       "      <th>2011</th>\n",
       "      <th>2012</th>\n",
       "      <th>2013</th>\n",
       "      <th>2014</th>\n",
       "      <th>2015</th>\n",
       "      <th>2016</th>\n",
       "      <th>sum</th>\n",
       "    </tr>\n",
       "  </thead>\n",
       "  <tbody>\n",
       "    <tr>\n",
       "      <td>9</td>\n",
       "      <td>PS2</td>\n",
       "      <td>0.00</td>\n",
       "      <td>0.00</td>\n",
       "      <td>39.17</td>\n",
       "      <td>166.43</td>\n",
       "      <td>205.38</td>\n",
       "      <td>184.31</td>\n",
       "      <td>211.81</td>\n",
       "      <td>160.66</td>\n",
       "      <td>103.42</td>\n",
       "      <td>...</td>\n",
       "      <td>53.90</td>\n",
       "      <td>26.40</td>\n",
       "      <td>5.64</td>\n",
       "      <td>0.45</td>\n",
       "      <td>0.00</td>\n",
       "      <td>0.00</td>\n",
       "      <td>0.00</td>\n",
       "      <td>0.00</td>\n",
       "      <td>0.00</td>\n",
       "      <td>1233.56</td>\n",
       "    </tr>\n",
       "    <tr>\n",
       "      <td>19</td>\n",
       "      <td>X360</td>\n",
       "      <td>0.00</td>\n",
       "      <td>0.00</td>\n",
       "      <td>0.00</td>\n",
       "      <td>0.00</td>\n",
       "      <td>0.00</td>\n",
       "      <td>0.00</td>\n",
       "      <td>0.00</td>\n",
       "      <td>8.25</td>\n",
       "      <td>51.62</td>\n",
       "      <td>...</td>\n",
       "      <td>135.26</td>\n",
       "      <td>120.29</td>\n",
       "      <td>170.03</td>\n",
       "      <td>143.84</td>\n",
       "      <td>99.74</td>\n",
       "      <td>88.58</td>\n",
       "      <td>34.74</td>\n",
       "      <td>11.96</td>\n",
       "      <td>1.52</td>\n",
       "      <td>961.24</td>\n",
       "    </tr>\n",
       "    <tr>\n",
       "      <td>10</td>\n",
       "      <td>PS3</td>\n",
       "      <td>0.00</td>\n",
       "      <td>0.00</td>\n",
       "      <td>0.00</td>\n",
       "      <td>0.00</td>\n",
       "      <td>0.00</td>\n",
       "      <td>0.00</td>\n",
       "      <td>0.00</td>\n",
       "      <td>0.00</td>\n",
       "      <td>20.96</td>\n",
       "      <td>...</td>\n",
       "      <td>118.52</td>\n",
       "      <td>130.93</td>\n",
       "      <td>142.17</td>\n",
       "      <td>156.78</td>\n",
       "      <td>107.36</td>\n",
       "      <td>113.25</td>\n",
       "      <td>47.76</td>\n",
       "      <td>16.82</td>\n",
       "      <td>3.60</td>\n",
       "      <td>931.34</td>\n",
       "    </tr>\n",
       "    <tr>\n",
       "      <td>17</td>\n",
       "      <td>Wii</td>\n",
       "      <td>0.00</td>\n",
       "      <td>0.00</td>\n",
       "      <td>0.00</td>\n",
       "      <td>0.00</td>\n",
       "      <td>0.00</td>\n",
       "      <td>0.00</td>\n",
       "      <td>0.00</td>\n",
       "      <td>0.00</td>\n",
       "      <td>137.15</td>\n",
       "      <td>...</td>\n",
       "      <td>171.32</td>\n",
       "      <td>206.97</td>\n",
       "      <td>127.95</td>\n",
       "      <td>59.65</td>\n",
       "      <td>21.71</td>\n",
       "      <td>8.59</td>\n",
       "      <td>3.75</td>\n",
       "      <td>1.14</td>\n",
       "      <td>0.18</td>\n",
       "      <td>891.18</td>\n",
       "    </tr>\n",
       "    <tr>\n",
       "      <td>2</td>\n",
       "      <td>DS</td>\n",
       "      <td>0.00</td>\n",
       "      <td>0.00</td>\n",
       "      <td>0.00</td>\n",
       "      <td>0.00</td>\n",
       "      <td>0.00</td>\n",
       "      <td>0.00</td>\n",
       "      <td>17.27</td>\n",
       "      <td>130.14</td>\n",
       "      <td>119.81</td>\n",
       "      <td>...</td>\n",
       "      <td>145.31</td>\n",
       "      <td>119.54</td>\n",
       "      <td>85.02</td>\n",
       "      <td>26.18</td>\n",
       "      <td>11.01</td>\n",
       "      <td>1.54</td>\n",
       "      <td>0.00</td>\n",
       "      <td>0.00</td>\n",
       "      <td>0.00</td>\n",
       "      <td>802.76</td>\n",
       "    </tr>\n",
       "    <tr>\n",
       "      <td>8</td>\n",
       "      <td>PS</td>\n",
       "      <td>169.49</td>\n",
       "      <td>144.53</td>\n",
       "      <td>96.37</td>\n",
       "      <td>35.59</td>\n",
       "      <td>6.67</td>\n",
       "      <td>2.07</td>\n",
       "      <td>0.00</td>\n",
       "      <td>0.00</td>\n",
       "      <td>0.00</td>\n",
       "      <td>...</td>\n",
       "      <td>0.00</td>\n",
       "      <td>0.00</td>\n",
       "      <td>0.00</td>\n",
       "      <td>0.00</td>\n",
       "      <td>0.00</td>\n",
       "      <td>0.00</td>\n",
       "      <td>0.00</td>\n",
       "      <td>0.00</td>\n",
       "      <td>0.00</td>\n",
       "      <td>454.72</td>\n",
       "    </tr>\n",
       "    <tr>\n",
       "      <td>11</td>\n",
       "      <td>PS4</td>\n",
       "      <td>0.00</td>\n",
       "      <td>0.00</td>\n",
       "      <td>0.00</td>\n",
       "      <td>0.00</td>\n",
       "      <td>0.00</td>\n",
       "      <td>0.00</td>\n",
       "      <td>0.00</td>\n",
       "      <td>0.00</td>\n",
       "      <td>0.00</td>\n",
       "      <td>...</td>\n",
       "      <td>0.00</td>\n",
       "      <td>0.00</td>\n",
       "      <td>0.00</td>\n",
       "      <td>0.00</td>\n",
       "      <td>0.00</td>\n",
       "      <td>25.99</td>\n",
       "      <td>100.00</td>\n",
       "      <td>118.90</td>\n",
       "      <td>69.25</td>\n",
       "      <td>314.14</td>\n",
       "    </tr>\n",
       "    <tr>\n",
       "      <td>4</td>\n",
       "      <td>GBA</td>\n",
       "      <td>0.00</td>\n",
       "      <td>0.00</td>\n",
       "      <td>0.07</td>\n",
       "      <td>61.53</td>\n",
       "      <td>74.16</td>\n",
       "      <td>56.67</td>\n",
       "      <td>77.91</td>\n",
       "      <td>33.86</td>\n",
       "      <td>5.28</td>\n",
       "      <td>...</td>\n",
       "      <td>0.00</td>\n",
       "      <td>0.00</td>\n",
       "      <td>0.00</td>\n",
       "      <td>0.00</td>\n",
       "      <td>0.00</td>\n",
       "      <td>0.00</td>\n",
       "      <td>0.00</td>\n",
       "      <td>0.00</td>\n",
       "      <td>0.00</td>\n",
       "      <td>312.88</td>\n",
       "    </tr>\n",
       "    <tr>\n",
       "      <td>12</td>\n",
       "      <td>PSP</td>\n",
       "      <td>0.00</td>\n",
       "      <td>0.00</td>\n",
       "      <td>0.00</td>\n",
       "      <td>0.00</td>\n",
       "      <td>0.00</td>\n",
       "      <td>0.00</td>\n",
       "      <td>7.06</td>\n",
       "      <td>43.84</td>\n",
       "      <td>55.32</td>\n",
       "      <td>...</td>\n",
       "      <td>34.55</td>\n",
       "      <td>37.78</td>\n",
       "      <td>35.04</td>\n",
       "      <td>17.82</td>\n",
       "      <td>7.69</td>\n",
       "      <td>3.14</td>\n",
       "      <td>0.24</td>\n",
       "      <td>0.12</td>\n",
       "      <td>0.00</td>\n",
       "      <td>289.53</td>\n",
       "    </tr>\n",
       "    <tr>\n",
       "      <td>0</td>\n",
       "      <td>3DS</td>\n",
       "      <td>0.00</td>\n",
       "      <td>0.00</td>\n",
       "      <td>0.00</td>\n",
       "      <td>0.00</td>\n",
       "      <td>0.00</td>\n",
       "      <td>0.00</td>\n",
       "      <td>0.00</td>\n",
       "      <td>0.00</td>\n",
       "      <td>0.00</td>\n",
       "      <td>...</td>\n",
       "      <td>0.00</td>\n",
       "      <td>0.00</td>\n",
       "      <td>0.00</td>\n",
       "      <td>63.20</td>\n",
       "      <td>51.36</td>\n",
       "      <td>56.57</td>\n",
       "      <td>43.76</td>\n",
       "      <td>27.78</td>\n",
       "      <td>15.14</td>\n",
       "      <td>257.81</td>\n",
       "    </tr>\n",
       "    <tr>\n",
       "      <td>20</td>\n",
       "      <td>XB</td>\n",
       "      <td>0.00</td>\n",
       "      <td>0.00</td>\n",
       "      <td>0.99</td>\n",
       "      <td>22.26</td>\n",
       "      <td>48.01</td>\n",
       "      <td>55.04</td>\n",
       "      <td>65.42</td>\n",
       "      <td>49.08</td>\n",
       "      <td>10.04</td>\n",
       "      <td>...</td>\n",
       "      <td>0.18</td>\n",
       "      <td>0.00</td>\n",
       "      <td>0.00</td>\n",
       "      <td>0.00</td>\n",
       "      <td>0.00</td>\n",
       "      <td>0.00</td>\n",
       "      <td>0.00</td>\n",
       "      <td>0.00</td>\n",
       "      <td>0.00</td>\n",
       "      <td>251.57</td>\n",
       "    </tr>\n",
       "    <tr>\n",
       "      <td>7</td>\n",
       "      <td>PC</td>\n",
       "      <td>3.26</td>\n",
       "      <td>4.74</td>\n",
       "      <td>4.66</td>\n",
       "      <td>5.47</td>\n",
       "      <td>8.57</td>\n",
       "      <td>8.84</td>\n",
       "      <td>10.39</td>\n",
       "      <td>4.37</td>\n",
       "      <td>2.85</td>\n",
       "      <td>...</td>\n",
       "      <td>12.42</td>\n",
       "      <td>16.91</td>\n",
       "      <td>24.28</td>\n",
       "      <td>35.03</td>\n",
       "      <td>23.22</td>\n",
       "      <td>12.38</td>\n",
       "      <td>13.28</td>\n",
       "      <td>8.52</td>\n",
       "      <td>5.25</td>\n",
       "      <td>213.72</td>\n",
       "    </tr>\n",
       "    <tr>\n",
       "      <td>5</td>\n",
       "      <td>GC</td>\n",
       "      <td>0.00</td>\n",
       "      <td>0.00</td>\n",
       "      <td>0.00</td>\n",
       "      <td>26.34</td>\n",
       "      <td>51.81</td>\n",
       "      <td>50.61</td>\n",
       "      <td>28.82</td>\n",
       "      <td>27.62</td>\n",
       "      <td>11.26</td>\n",
       "      <td>...</td>\n",
       "      <td>0.00</td>\n",
       "      <td>0.00</td>\n",
       "      <td>0.00</td>\n",
       "      <td>0.00</td>\n",
       "      <td>0.00</td>\n",
       "      <td>0.00</td>\n",
       "      <td>0.00</td>\n",
       "      <td>0.00</td>\n",
       "      <td>0.00</td>\n",
       "      <td>196.73</td>\n",
       "    </tr>\n",
       "    <tr>\n",
       "      <td>21</td>\n",
       "      <td>XOne</td>\n",
       "      <td>0.00</td>\n",
       "      <td>0.00</td>\n",
       "      <td>0.00</td>\n",
       "      <td>0.00</td>\n",
       "      <td>0.00</td>\n",
       "      <td>0.00</td>\n",
       "      <td>0.00</td>\n",
       "      <td>0.00</td>\n",
       "      <td>0.00</td>\n",
       "      <td>...</td>\n",
       "      <td>0.00</td>\n",
       "      <td>0.00</td>\n",
       "      <td>0.00</td>\n",
       "      <td>0.00</td>\n",
       "      <td>0.00</td>\n",
       "      <td>18.96</td>\n",
       "      <td>54.07</td>\n",
       "      <td>60.14</td>\n",
       "      <td>26.15</td>\n",
       "      <td>159.32</td>\n",
       "    </tr>\n",
       "    <tr>\n",
       "      <td>6</td>\n",
       "      <td>N64</td>\n",
       "      <td>49.24</td>\n",
       "      <td>57.87</td>\n",
       "      <td>33.97</td>\n",
       "      <td>3.25</td>\n",
       "      <td>0.08</td>\n",
       "      <td>0.00</td>\n",
       "      <td>0.00</td>\n",
       "      <td>0.00</td>\n",
       "      <td>0.00</td>\n",
       "      <td>...</td>\n",
       "      <td>0.00</td>\n",
       "      <td>0.00</td>\n",
       "      <td>0.00</td>\n",
       "      <td>0.00</td>\n",
       "      <td>0.00</td>\n",
       "      <td>0.00</td>\n",
       "      <td>0.00</td>\n",
       "      <td>0.00</td>\n",
       "      <td>0.00</td>\n",
       "      <td>144.41</td>\n",
       "    </tr>\n",
       "    <tr>\n",
       "      <td>3</td>\n",
       "      <td>GB</td>\n",
       "      <td>26.90</td>\n",
       "      <td>38.00</td>\n",
       "      <td>19.76</td>\n",
       "      <td>9.24</td>\n",
       "      <td>0.00</td>\n",
       "      <td>0.00</td>\n",
       "      <td>0.00</td>\n",
       "      <td>0.00</td>\n",
       "      <td>0.00</td>\n",
       "      <td>...</td>\n",
       "      <td>0.00</td>\n",
       "      <td>0.00</td>\n",
       "      <td>0.00</td>\n",
       "      <td>0.00</td>\n",
       "      <td>0.00</td>\n",
       "      <td>0.00</td>\n",
       "      <td>0.00</td>\n",
       "      <td>0.00</td>\n",
       "      <td>0.00</td>\n",
       "      <td>93.90</td>\n",
       "    </tr>\n",
       "    <tr>\n",
       "      <td>18</td>\n",
       "      <td>WiiU</td>\n",
       "      <td>0.00</td>\n",
       "      <td>0.00</td>\n",
       "      <td>0.00</td>\n",
       "      <td>0.00</td>\n",
       "      <td>0.00</td>\n",
       "      <td>0.00</td>\n",
       "      <td>0.00</td>\n",
       "      <td>0.00</td>\n",
       "      <td>0.00</td>\n",
       "      <td>...</td>\n",
       "      <td>0.00</td>\n",
       "      <td>0.00</td>\n",
       "      <td>0.00</td>\n",
       "      <td>0.00</td>\n",
       "      <td>17.56</td>\n",
       "      <td>21.65</td>\n",
       "      <td>22.03</td>\n",
       "      <td>16.35</td>\n",
       "      <td>4.60</td>\n",
       "      <td>82.19</td>\n",
       "    </tr>\n",
       "    <tr>\n",
       "      <td>13</td>\n",
       "      <td>PSV</td>\n",
       "      <td>0.00</td>\n",
       "      <td>0.00</td>\n",
       "      <td>0.00</td>\n",
       "      <td>0.00</td>\n",
       "      <td>0.00</td>\n",
       "      <td>0.00</td>\n",
       "      <td>0.00</td>\n",
       "      <td>0.00</td>\n",
       "      <td>0.00</td>\n",
       "      <td>...</td>\n",
       "      <td>0.00</td>\n",
       "      <td>0.00</td>\n",
       "      <td>0.00</td>\n",
       "      <td>4.63</td>\n",
       "      <td>16.19</td>\n",
       "      <td>10.59</td>\n",
       "      <td>11.90</td>\n",
       "      <td>6.25</td>\n",
       "      <td>4.25</td>\n",
       "      <td>53.81</td>\n",
       "    </tr>\n",
       "    <tr>\n",
       "      <td>1</td>\n",
       "      <td>DC</td>\n",
       "      <td>3.38</td>\n",
       "      <td>5.16</td>\n",
       "      <td>5.99</td>\n",
       "      <td>1.07</td>\n",
       "      <td>0.29</td>\n",
       "      <td>0.00</td>\n",
       "      <td>0.00</td>\n",
       "      <td>0.00</td>\n",
       "      <td>0.00</td>\n",
       "      <td>...</td>\n",
       "      <td>0.04</td>\n",
       "      <td>0.00</td>\n",
       "      <td>0.00</td>\n",
       "      <td>0.00</td>\n",
       "      <td>0.00</td>\n",
       "      <td>0.00</td>\n",
       "      <td>0.00</td>\n",
       "      <td>0.00</td>\n",
       "      <td>0.00</td>\n",
       "      <td>15.95</td>\n",
       "    </tr>\n",
       "    <tr>\n",
       "      <td>14</td>\n",
       "      <td>SAT</td>\n",
       "      <td>3.82</td>\n",
       "      <td>0.09</td>\n",
       "      <td>0.00</td>\n",
       "      <td>0.00</td>\n",
       "      <td>0.00</td>\n",
       "      <td>0.00</td>\n",
       "      <td>0.00</td>\n",
       "      <td>0.00</td>\n",
       "      <td>0.00</td>\n",
       "      <td>...</td>\n",
       "      <td>0.00</td>\n",
       "      <td>0.00</td>\n",
       "      <td>0.00</td>\n",
       "      <td>0.00</td>\n",
       "      <td>0.00</td>\n",
       "      <td>0.00</td>\n",
       "      <td>0.00</td>\n",
       "      <td>0.00</td>\n",
       "      <td>0.00</td>\n",
       "      <td>3.91</td>\n",
       "    </tr>\n",
       "    <tr>\n",
       "      <td>16</td>\n",
       "      <td>WS</td>\n",
       "      <td>0.00</td>\n",
       "      <td>0.46</td>\n",
       "      <td>0.68</td>\n",
       "      <td>0.28</td>\n",
       "      <td>0.00</td>\n",
       "      <td>0.00</td>\n",
       "      <td>0.00</td>\n",
       "      <td>0.00</td>\n",
       "      <td>0.00</td>\n",
       "      <td>...</td>\n",
       "      <td>0.00</td>\n",
       "      <td>0.00</td>\n",
       "      <td>0.00</td>\n",
       "      <td>0.00</td>\n",
       "      <td>0.00</td>\n",
       "      <td>0.00</td>\n",
       "      <td>0.00</td>\n",
       "      <td>0.00</td>\n",
       "      <td>0.00</td>\n",
       "      <td>1.42</td>\n",
       "    </tr>\n",
       "    <tr>\n",
       "      <td>15</td>\n",
       "      <td>SNES</td>\n",
       "      <td>0.22</td>\n",
       "      <td>0.26</td>\n",
       "      <td>0.00</td>\n",
       "      <td>0.00</td>\n",
       "      <td>0.00</td>\n",
       "      <td>0.00</td>\n",
       "      <td>0.00</td>\n",
       "      <td>0.00</td>\n",
       "      <td>0.00</td>\n",
       "      <td>...</td>\n",
       "      <td>0.00</td>\n",
       "      <td>0.00</td>\n",
       "      <td>0.00</td>\n",
       "      <td>0.00</td>\n",
       "      <td>0.00</td>\n",
       "      <td>0.00</td>\n",
       "      <td>0.00</td>\n",
       "      <td>0.00</td>\n",
       "      <td>0.00</td>\n",
       "      <td>0.48</td>\n",
       "    </tr>\n",
       "  </tbody>\n",
       "</table>\n",
       "<p>22 rows × 21 columns</p>\n",
       "</div>"
      ],
      "text/plain": [
       "year_of_release platform    1998    1999   2000    2001    2002    2003  \\\n",
       "9                    PS2    0.00    0.00  39.17  166.43  205.38  184.31   \n",
       "19                  X360    0.00    0.00   0.00    0.00    0.00    0.00   \n",
       "10                   PS3    0.00    0.00   0.00    0.00    0.00    0.00   \n",
       "17                   Wii    0.00    0.00   0.00    0.00    0.00    0.00   \n",
       "2                     DS    0.00    0.00   0.00    0.00    0.00    0.00   \n",
       "8                     PS  169.49  144.53  96.37   35.59    6.67    2.07   \n",
       "11                   PS4    0.00    0.00   0.00    0.00    0.00    0.00   \n",
       "4                    GBA    0.00    0.00   0.07   61.53   74.16   56.67   \n",
       "12                   PSP    0.00    0.00   0.00    0.00    0.00    0.00   \n",
       "0                    3DS    0.00    0.00   0.00    0.00    0.00    0.00   \n",
       "20                    XB    0.00    0.00   0.99   22.26   48.01   55.04   \n",
       "7                     PC    3.26    4.74   4.66    5.47    8.57    8.84   \n",
       "5                     GC    0.00    0.00   0.00   26.34   51.81   50.61   \n",
       "21                  XOne    0.00    0.00   0.00    0.00    0.00    0.00   \n",
       "6                    N64   49.24   57.87  33.97    3.25    0.08    0.00   \n",
       "3                     GB   26.90   38.00  19.76    9.24    0.00    0.00   \n",
       "18                  WiiU    0.00    0.00   0.00    0.00    0.00    0.00   \n",
       "13                   PSV    0.00    0.00   0.00    0.00    0.00    0.00   \n",
       "1                     DC    3.38    5.16   5.99    1.07    0.29    0.00   \n",
       "14                   SAT    3.82    0.09   0.00    0.00    0.00    0.00   \n",
       "16                    WS    0.00    0.46   0.68    0.28    0.00    0.00   \n",
       "15                  SNES    0.22    0.26   0.00    0.00    0.00    0.00   \n",
       "\n",
       "year_of_release    2004    2005    2006  ...    2008    2009    2010    2011  \\\n",
       "9                211.81  160.66  103.42  ...   53.90   26.40    5.64    0.45   \n",
       "19                 0.00    8.25   51.62  ...  135.26  120.29  170.03  143.84   \n",
       "10                 0.00    0.00   20.96  ...  118.52  130.93  142.17  156.78   \n",
       "17                 0.00    0.00  137.15  ...  171.32  206.97  127.95   59.65   \n",
       "2                 17.27  130.14  119.81  ...  145.31  119.54   85.02   26.18   \n",
       "8                  0.00    0.00    0.00  ...    0.00    0.00    0.00    0.00   \n",
       "11                 0.00    0.00    0.00  ...    0.00    0.00    0.00    0.00   \n",
       "4                 77.91   33.86    5.28  ...    0.00    0.00    0.00    0.00   \n",
       "12                 7.06   43.84   55.32  ...   34.55   37.78   35.04   17.82   \n",
       "0                  0.00    0.00    0.00  ...    0.00    0.00    0.00   63.20   \n",
       "20                65.42   49.08   10.04  ...    0.18    0.00    0.00    0.00   \n",
       "7                 10.39    4.37    2.85  ...   12.42   16.91   24.28   35.03   \n",
       "5                 28.82   27.62   11.26  ...    0.00    0.00    0.00    0.00   \n",
       "21                 0.00    0.00    0.00  ...    0.00    0.00    0.00    0.00   \n",
       "6                  0.00    0.00    0.00  ...    0.00    0.00    0.00    0.00   \n",
       "3                  0.00    0.00    0.00  ...    0.00    0.00    0.00    0.00   \n",
       "18                 0.00    0.00    0.00  ...    0.00    0.00    0.00    0.00   \n",
       "13                 0.00    0.00    0.00  ...    0.00    0.00    0.00    4.63   \n",
       "1                  0.00    0.00    0.00  ...    0.04    0.00    0.00    0.00   \n",
       "14                 0.00    0.00    0.00  ...    0.00    0.00    0.00    0.00   \n",
       "16                 0.00    0.00    0.00  ...    0.00    0.00    0.00    0.00   \n",
       "15                 0.00    0.00    0.00  ...    0.00    0.00    0.00    0.00   \n",
       "\n",
       "year_of_release    2012    2013    2014    2015   2016      sum  \n",
       "9                  0.00    0.00    0.00    0.00   0.00  1233.56  \n",
       "19                99.74   88.58   34.74   11.96   1.52   961.24  \n",
       "10               107.36  113.25   47.76   16.82   3.60   931.34  \n",
       "17                21.71    8.59    3.75    1.14   0.18   891.18  \n",
       "2                 11.01    1.54    0.00    0.00   0.00   802.76  \n",
       "8                  0.00    0.00    0.00    0.00   0.00   454.72  \n",
       "11                 0.00   25.99  100.00  118.90  69.25   314.14  \n",
       "4                  0.00    0.00    0.00    0.00   0.00   312.88  \n",
       "12                 7.69    3.14    0.24    0.12   0.00   289.53  \n",
       "0                 51.36   56.57   43.76   27.78  15.14   257.81  \n",
       "20                 0.00    0.00    0.00    0.00   0.00   251.57  \n",
       "7                 23.22   12.38   13.28    8.52   5.25   213.72  \n",
       "5                  0.00    0.00    0.00    0.00   0.00   196.73  \n",
       "21                 0.00   18.96   54.07   60.14  26.15   159.32  \n",
       "6                  0.00    0.00    0.00    0.00   0.00   144.41  \n",
       "3                  0.00    0.00    0.00    0.00   0.00    93.90  \n",
       "18                17.56   21.65   22.03   16.35   4.60    82.19  \n",
       "13                16.19   10.59   11.90    6.25   4.25    53.81  \n",
       "1                  0.00    0.00    0.00    0.00   0.00    15.95  \n",
       "14                 0.00    0.00    0.00    0.00   0.00     3.91  \n",
       "16                 0.00    0.00    0.00    0.00   0.00     1.42  \n",
       "15                 0.00    0.00    0.00    0.00   0.00     0.48  \n",
       "\n",
       "[22 rows x 21 columns]"
      ]
     },
     "execution_count": 12,
     "metadata": {},
     "output_type": "execute_result"
    }
   ],
   "source": [
    "df['sum'] = (df[1998] + df[1999] + df[2000] + df[2001] + df[2002] \n",
    "             + df[2003] + df[2004] + df[2005]  + df[2006] + df[2007] + df[2008]\n",
    "             + df[2009] + df[2010] + df[2011]  + df[2012] + df[2013] + df[2014] + df[2015] + df[2016])\n",
    "df.sort_values('sum', ascending = False)"
   ]
  },
  {
   "cell_type": "code",
   "execution_count": 13,
   "metadata": {
    "scrolled": true
   },
   "outputs": [
    {
     "name": "stdout",
     "output_type": "stream",
     "text": [
      "            kassa\n",
      "platform         \n",
      "PS2       1233.56\n",
      "X360       961.24\n",
      "PS3        931.34\n",
      "Wii        891.18\n",
      "DS         802.78\n",
      "PS         727.58\n",
      "PS4        314.14\n",
      "GBA        312.88\n",
      "PSP        289.53\n",
      "3DS        257.81\n",
      "PC         255.76\n",
      "GB         254.43\n",
      "XB         251.57\n",
      "NES        251.05\n",
      "N64        218.01\n",
      "SNES       200.04\n",
      "GC         196.73\n",
      "XOne       159.32\n",
      "2600        86.48\n",
      "WiiU        82.19\n",
      "PSV         53.81\n",
      "SAT         33.59\n",
      "GEN         30.77\n",
      "DC          15.95\n",
      "SCD          1.86\n",
      "NG           1.44\n",
      "WS           1.42\n",
      "TG16         0.16\n",
      "3DO          0.10\n",
      "GG           0.04\n",
      "PCFX         0.03\n"
     ]
    }
   ],
   "source": [
    "data_pivot_P = data.pivot_table(index = 'platform', \n",
    "                                values = 'kassa', aggfunc = 'sum')\n",
    "\n",
    "data_pivot_P_TD = data_pivot_P.sort_values('kassa', ascending = False).head()\n",
    "data_pivot_P_TD = data_pivot_P_TD.reset_index()\n",
    "\n",
    "Top = data_pivot_P_TD['platform'].tolist()\n",
    "\n",
    "print(data_pivot_P.sort_values('kassa', ascending = False).head(50))"
   ]
  },
  {
   "cell_type": "code",
   "execution_count": 14,
   "metadata": {},
   "outputs": [
    {
     "data": {
      "text/html": [
       "<div>\n",
       "<style scoped>\n",
       "    .dataframe tbody tr th:only-of-type {\n",
       "        vertical-align: middle;\n",
       "    }\n",
       "\n",
       "    .dataframe tbody tr th {\n",
       "        vertical-align: top;\n",
       "    }\n",
       "\n",
       "    .dataframe thead th {\n",
       "        text-align: right;\n",
       "    }\n",
       "</style>\n",
       "<table border=\"1\" class=\"dataframe\">\n",
       "  <thead>\n",
       "    <tr style=\"text-align: right;\">\n",
       "      <th></th>\n",
       "      <th></th>\n",
       "      <th>kassa</th>\n",
       "    </tr>\n",
       "    <tr>\n",
       "      <th>platform</th>\n",
       "      <th>year_of_release</th>\n",
       "      <th></th>\n",
       "    </tr>\n",
       "  </thead>\n",
       "  <tbody>\n",
       "    <tr>\n",
       "      <td rowspan=\"5\" valign=\"top\">3DS</td>\n",
       "      <td>2011</td>\n",
       "      <td>63.20</td>\n",
       "    </tr>\n",
       "    <tr>\n",
       "      <td>2012</td>\n",
       "      <td>51.36</td>\n",
       "    </tr>\n",
       "    <tr>\n",
       "      <td>2013</td>\n",
       "      <td>56.57</td>\n",
       "    </tr>\n",
       "    <tr>\n",
       "      <td>2014</td>\n",
       "      <td>43.76</td>\n",
       "    </tr>\n",
       "    <tr>\n",
       "      <td>2015</td>\n",
       "      <td>27.78</td>\n",
       "    </tr>\n",
       "    <tr>\n",
       "      <td>...</td>\n",
       "      <td>...</td>\n",
       "      <td>...</td>\n",
       "    </tr>\n",
       "    <tr>\n",
       "      <td>XB</td>\n",
       "      <td>2008</td>\n",
       "      <td>0.18</td>\n",
       "    </tr>\n",
       "    <tr>\n",
       "      <td rowspan=\"4\" valign=\"top\">XOne</td>\n",
       "      <td>2013</td>\n",
       "      <td>18.96</td>\n",
       "    </tr>\n",
       "    <tr>\n",
       "      <td>2014</td>\n",
       "      <td>54.07</td>\n",
       "    </tr>\n",
       "    <tr>\n",
       "      <td>2015</td>\n",
       "      <td>60.14</td>\n",
       "    </tr>\n",
       "    <tr>\n",
       "      <td>2016</td>\n",
       "      <td>26.15</td>\n",
       "    </tr>\n",
       "  </tbody>\n",
       "</table>\n",
       "<p>165 rows × 1 columns</p>\n",
       "</div>"
      ],
      "text/plain": [
       "                          kassa\n",
       "platform year_of_release       \n",
       "3DS      2011             63.20\n",
       "         2012             51.36\n",
       "         2013             56.57\n",
       "         2014             43.76\n",
       "         2015             27.78\n",
       "...                         ...\n",
       "XB       2008              0.18\n",
       "XOne     2013             18.96\n",
       "         2014             54.07\n",
       "         2015             60.14\n",
       "         2016             26.15\n",
       "\n",
       "[165 rows x 1 columns]"
      ]
     },
     "execution_count": 14,
     "metadata": {},
     "output_type": "execute_result"
    }
   ],
   "source": [
    "data_year_P_FG = data_year.pivot_table(index = ['platform', 'year_of_release'],\n",
    "                                      values = 'kassa', aggfunc = 'sum')\n",
    "data_year_P_FG"
   ]
  },
  {
   "cell_type": "code",
   "execution_count": 15,
   "metadata": {},
   "outputs": [
    {
     "data": {
      "text/plain": [
       "<matplotlib.legend.Legend at 0x7fb4717aa0f0>"
      ]
     },
     "execution_count": 15,
     "metadata": {},
     "output_type": "execute_result"
    },
    {
     "data": {
      "image/png": "[encoded data removed]",
      "text/plain": [
       "<Figure size 1152x576 with 1 Axes>"
      ]
     },
     "metadata": {
      "needs_background": "light"
     },
     "output_type": "display_data"
    }
   ],
   "source": [
    "fig, ax = plt.subplots()\n",
    "for row in Top:\n",
    "    data_year_P_FG.loc[row].plot(ax=ax, figsize = (16, 8), grid = True)\n",
    "ax.legend(Top)"
   ]
  },
  {
   "cell_type": "markdown",
   "metadata": {},
   "source": [
    "Возьмите данные за соответствующий актуальный период. Актуальный период определите самостоятельно в результате исследования предыдущих вопросов. Основной фактор — эти данные помогут построить прогноз на 2017 год.\n",
    "Не учитывайте в работе данные за предыдущие годы."
   ]
  },
  {
   "cell_type": "markdown",
   "metadata": {},
   "source": [
    "Какие платформы лидируют по продажам, растут или падают? Выберите несколько потенциально прибыльных платформ."
   ]
  },
  {
   "cell_type": "code",
   "execution_count": 16,
   "metadata": {},
   "outputs": [
    {
     "name": "stdout",
     "output_type": "stream",
     "text": [
      "   platform   kassa\n",
      "4       PS4  314.14\n",
      "3       PS3  288.79\n",
      "9      X360  236.54\n",
      "0       3DS  194.61\n",
      "10     XOne  159.32\n",
      "8      WiiU   82.19\n",
      "2        PC   62.65\n",
      "6       PSV   49.18\n",
      "7       Wii   35.37\n",
      "1        DS   12.55\n",
      "5       PSP   11.19\n"
     ]
    }
   ],
   "source": [
    "data_actual = data.query('year_of_release >= 2012')\n",
    "data_actual_P = data_actual.pivot_table(index = 'platform', \n",
    "                                values = 'kassa', aggfunc = 'sum')\n",
    "data_actual_P = data_actual_P.reset_index()\n",
    "print(data_actual_P.sort_values('kassa', ascending = False).head(50))"
   ]
  },
  {
   "cell_type": "markdown",
   "metadata": {},
   "source": [
    "Постройте график «ящик с усами» по глобальным продажам каждой игры и разбивкой по платформам. Велика ли разница в продажах? А в средних продажах на разных платформах? Опишите результат."
   ]
  },
  {
   "cell_type": "code",
   "execution_count": 17,
   "metadata": {
    "scrolled": false
   },
   "outputs": [
    {
     "data": {
      "image/png": "[encoded data removed]",
      "text/plain": [
       "<Figure size 576x576 with 1 Axes>"
      ]
     },
     "metadata": {
      "needs_background": "light"
     },
     "output_type": "display_data"
    }
   ],
   "source": [
    "games_sales = data_actual[['platform','kassa']]\n",
    "games_sales.boxplot(by='platform',figsize=(8,8))\n",
    "plt.ylim(0,2)\n",
    "plt.show()"
   ]
  },
  {
   "cell_type": "markdown",
   "metadata": {},
   "source": [
    "В размах «усов» попадают нормальные значения, а за пределами находятся выбросы, изображённые точками. \n",
    "Например, у прямых конкурентов PS3 и X360 (приставки одного поколения) медианы и межквартильные размахи близки по значению. Такая же ситуация у PS4 и XOne."
   ]
  },
  {
   "cell_type": "markdown",
   "metadata": {},
   "source": [
    "Посмотрите, как влияют на продажи внутри одной популярной платформы отзывы пользователей и критиков. "
   ]
  },
  {
   "cell_type": "markdown",
   "metadata": {},
   "source": [
    "Постройте диаграмму рассеяния и посчитайте корреляцию между отзывами и продажами."
   ]
  },
  {
   "cell_type": "code",
   "execution_count": 18,
   "metadata": {},
   "outputs": [
    {
     "name": "stdout",
     "output_type": "stream",
     "text": [
      "0.5561703537455748 Корреляция оценок\n",
      "\n",
      "-0.03843374216971549 Корреляция оценок пользователей и выручки\n"
     ]
    },
    {
     "name": "stderr",
     "output_type": "stream",
     "text": [
      "/opt/conda/lib/python3.7/site-packages/ipykernel_launcher.py:4: SettingWithCopyWarning: \n",
      "A value is trying to be set on a copy of a slice from a DataFrame.\n",
      "Try using .loc[row_indexer,col_indexer] = value instead\n",
      "\n",
      "See the caveats in the documentation: http://pandas.pydata.org/pandas-docs/stable/user_guide/indexing.html#returning-a-view-versus-a-copy\n",
      "  after removing the cwd from sys.path.\n",
      "/opt/conda/lib/python3.7/site-packages/ipykernel_launcher.py:6: SettingWithCopyWarning: \n",
      "A value is trying to be set on a copy of a slice from a DataFrame.\n",
      "Try using .loc[row_indexer,col_indexer] = value instead\n",
      "\n",
      "See the caveats in the documentation: http://pandas.pydata.org/pandas-docs/stable/user_guide/indexing.html#returning-a-view-versus-a-copy\n",
      "  \n"
     ]
    },
    {
     "data": {
      "image/png": "[encoded data removed]",
      "text/plain": [
       "<Figure size 432x288 with 1 Axes>"
      ]
     },
     "metadata": {
      "needs_background": "light"
     },
     "output_type": "display_data"
    },
    {
     "name": "stdout",
     "output_type": "stream",
     "text": [
      "\n",
      "0.40656790206178095 Корреляция оценок критиков и выручки\n"
     ]
    },
    {
     "data": {
      "image/png": "[encoded data removed]",
      "text/plain": [
       "<Figure size 432x288 with 1 Axes>"
      ]
     },
     "metadata": {
      "needs_background": "light"
     },
     "output_type": "display_data"
    },
    {
     "name": "stdout",
     "output_type": "stream",
     "text": [
      "\n",
      "0.1909914398797197 Корреляция интегральной оценки и выручки\n",
      "\n"
     ]
    },
    {
     "data": {
      "image/png": "[encoded data removed]",
      "text/plain": [
       "<Figure size 432x288 with 1 Axes>"
      ]
     },
     "metadata": {
      "needs_background": "light"
     },
     "output_type": "display_data"
    },
    {
     "name": "stdout",
     "output_type": "stream",
     "text": [
      "\n"
     ]
    }
   ],
   "source": [
    "data_actual_PS4 = data_actual.query('platform == \"PS4\"')\n",
    "\n",
    "print(data_actual_PS4['user_score'].corr(data_actual_PS4['critic_score']), \"Корреляция оценок\")\n",
    "data_actual_PS4['desat'] = 10\n",
    "data_actual_PS4['otzjv'] = (data_actual_PS4['critic_score'] + \n",
    "                            (data_actual_PS4['user_score'] * data_actual_PS4['desat']))\n",
    "print()\n",
    "print(data_actual_PS4['user_score'].corr(data_actual_PS4['kassa']), \"Корреляция оценок пользователей и выручки\")\n",
    "data_actual_PS4.plot(y='kassa', x='user_score', kind='scatter', alpha=0.3)\n",
    "plt.show()\n",
    "print()\n",
    "print(data_actual_PS4['critic_score'].corr(data_actual_PS4['kassa']), \"Корреляция оценок критиков и выручки\")\n",
    "data_actual_PS4.plot(y='kassa', x='critic_score', kind='scatter', alpha=0.3)\n",
    "plt.show()\n",
    "print()\n",
    "print(data_actual_PS4['otzjv'].corr(data_actual_PS4['kassa']), \"Корреляция интегральной оценки и выручки\")\n",
    "print()\n",
    "data_actual_PS4.plot(y='kassa', x='otzjv', kind='scatter', alpha=0.3)\n",
    "plt.show()\n",
    "print()"
   ]
  },
  {
   "cell_type": "code",
   "execution_count": 19,
   "metadata": {
    "scrolled": true
   },
   "outputs": [
    {
     "name": "stdout",
     "output_type": "stream",
     "text": [
      "0.49736789516405855 Корреляция оценок\n",
      "\n",
      "-0.011470292402127756 Корреляция оценок пользователей и выручки\n"
     ]
    },
    {
     "name": "stderr",
     "output_type": "stream",
     "text": [
      "/opt/conda/lib/python3.7/site-packages/ipykernel_launcher.py:4: SettingWithCopyWarning: \n",
      "A value is trying to be set on a copy of a slice from a DataFrame.\n",
      "Try using .loc[row_indexer,col_indexer] = value instead\n",
      "\n",
      "See the caveats in the documentation: http://pandas.pydata.org/pandas-docs/stable/user_guide/indexing.html#returning-a-view-versus-a-copy\n",
      "  after removing the cwd from sys.path.\n",
      "/opt/conda/lib/python3.7/site-packages/ipykernel_launcher.py:6: SettingWithCopyWarning: \n",
      "A value is trying to be set on a copy of a slice from a DataFrame.\n",
      "Try using .loc[row_indexer,col_indexer] = value instead\n",
      "\n",
      "See the caveats in the documentation: http://pandas.pydata.org/pandas-docs/stable/user_guide/indexing.html#returning-a-view-versus-a-copy\n",
      "  \n"
     ]
    },
    {
     "data": {
      "image/png": "[encoded data removed]",
      "text/plain": [
       "<Figure size 432x288 with 1 Axes>"
      ]
     },
     "metadata": {
      "needs_background": "light"
     },
     "output_type": "display_data"
    },
    {
     "name": "stdout",
     "output_type": "stream",
     "text": [
      "\n",
      "0.2847728298723546 Корреляция оценок критиков и выручки\n"
     ]
    },
    {
     "data": {
      "image/png": "[encoded data removed]",
      "text/plain": [
       "<Figure size 432x288 with 1 Axes>"
      ]
     },
     "metadata": {
      "needs_background": "light"
     },
     "output_type": "display_data"
    },
    {
     "name": "stdout",
     "output_type": "stream",
     "text": [
      "\n",
      "0.15754726700850116 Корреляция интегральной оценки и выручки\n",
      "\n"
     ]
    },
    {
     "data": {
      "image/png": "[encoded data removed]",
      "text/plain": [
       "<Figure size 432x288 with 1 Axes>"
      ]
     },
     "metadata": {
      "needs_background": "light"
     },
     "output_type": "display_data"
    },
    {
     "name": "stdout",
     "output_type": "stream",
     "text": [
      "\n"
     ]
    }
   ],
   "source": [
    "data_actual_other = data_actual.query('platform != \"PS4\"')\n",
    "\n",
    "print(data_actual_other['user_score'].corr(data_actual_other['critic_score']), \"Корреляция оценок\")\n",
    "data_actual_other['desat'] = 10\n",
    "data_actual_other['otzjv'] = (data_actual_other['critic_score'] + \n",
    "                        (data_actual_other['user_score'] * data_actual_other['desat']))\n",
    "print()\n",
    "print(data_actual_other['user_score'].corr(data_actual_other['kassa']), \"Корреляция оценок пользователей и выручки\")\n",
    "data_actual.plot(y='kassa', x='user_score', kind='scatter', alpha=0.3)\n",
    "plt.show()\n",
    "print()\n",
    "print(data_actual_other['critic_score'].corr(data_actual_other['kassa']), \"Корреляция оценок критиков и выручки\")\n",
    "data_actual.plot(y='kassa', x='critic_score', kind='scatter', alpha=0.3)\n",
    "plt.show()\n",
    "print()\n",
    "print(data_actual_other['otzjv'].corr(data_actual_other['kassa']), \"Корреляция интегральной оценки и выручки\")\n",
    "print()\n",
    "data_actual_other.plot(y='kassa', x='otzjv', kind='scatter', alpha=0.3)\n",
    "plt.show()\n",
    "print()"
   ]
  },
  {
   "cell_type": "markdown",
   "metadata": {},
   "source": [
    "Под интегральной оценкой в данном случае подразумевается простое арифметическое сложение двух оценок - пользоватлей и критиков. Оценка пользователей умножена на поправочный коэффициент 10, что бы у этих оценок был одинаковый масштаб. Результат представлен в столбце \"otzjv\"."
   ]
  },
  {
   "cell_type": "markdown",
   "metadata": {},
   "source": [
    "Редко, но оценки пользователей и критиков всё таки совпадают с продажами. Критики гораздо чаще ставят высокие оценки успешным играм (в смысле количества продаж), в особенности это касается PS4."
   ]
  },
  {
   "cell_type": "markdown",
   "metadata": {},
   "source": [
    "Посмотрите на общее распределение игр по жанрам. Что можно сказать о самых прибыльных жанрах? Выделяются ли жанры с высокими и низкими продажами?"
   ]
  },
  {
   "cell_type": "code",
   "execution_count": 20,
   "metadata": {},
   "outputs": [
    {
     "name": "stdout",
     "output_type": "stream",
     "text": [
      "                kassa\n",
      "genre                \n",
      "Action        1716.52\n",
      "Sports        1309.67\n",
      "Shooter       1041.36\n",
      "Role-Playing   931.08\n",
      "Platform       825.55\n",
      "Misc           790.29\n",
      "Racing         723.49\n",
      "Fighting       442.66\n",
      "Simulation     387.96\n",
      "Puzzle         239.89\n",
      "Adventure      233.33\n",
      "Strategy       172.57\n"
     ]
    }
   ],
   "source": [
    "\n",
    "genre = data.pivot_table(index = 'genre',\n",
    "                                values = 'kassa', aggfunc = 'sum')\n",
    "\n",
    "print(genre.sort_values('kassa', ascending = False).head(50))"
   ]
  },
  {
   "cell_type": "markdown",
   "metadata": {},
   "source": [
    "Наиболее прибыльные жанры завязаны на получение сильных и резких эмоций, которые заставляют игрока поддерживать постоянное взаимодействие с игрой. Игры, которые не требует стремительной реакции, самые не прибыльные."
   ]
  },
  {
   "cell_type": "markdown",
   "metadata": {},
   "source": [
    "### Шаг 4. Составьте портрет пользователя каждого региона\n",
    "Определите для пользователя каждого региона (NA, EU, JP):"
   ]
  },
  {
   "cell_type": "markdown",
   "metadata": {},
   "source": [
    "Самые популярные платформы (топ-5). Опишите различия в долях продаж."
   ]
  },
  {
   "cell_type": "code",
   "execution_count": 21,
   "metadata": {},
   "outputs": [
    {
     "name": "stdout",
     "output_type": "stream",
     "text": [
      "Мир\n",
      "           kassa\n",
      "platform        \n",
      "PS4       314.14\n",
      "PS3       288.79\n",
      "X360      236.54\n",
      "3DS       194.61\n",
      "XOne      159.32\n"
     ]
    }
   ],
   "source": [
    "print('Мир')\n",
    "data_pivot_PT5 = data_actual.pivot_table(index = 'platform', values = 'kassa', aggfunc = 'sum')\n",
    "print(data_pivot_PT5.sort_values('kassa', ascending = False).head())"
   ]
  },
  {
   "cell_type": "code",
   "execution_count": 22,
   "metadata": {},
   "outputs": [
    {
     "name": "stdout",
     "output_type": "stream",
     "text": [
      "Северная Америка\n",
      "          na_sales\n",
      "platform          \n",
      "X360        140.05\n",
      "PS4         108.74\n",
      "PS3         103.38\n",
      "XOne         93.12\n",
      "3DS          55.31\n"
     ]
    }
   ],
   "source": [
    "print('Северная Америка')\n",
    "data_pivot_PT5_NA = data_actual.pivot_table(index = 'platform', values = 'na_sales', aggfunc = 'sum')\n",
    "print(data_pivot_PT5_NA.sort_values('na_sales', ascending = False).head())"
   ]
  },
  {
   "cell_type": "code",
   "execution_count": 23,
   "metadata": {},
   "outputs": [
    {
     "name": "stdout",
     "output_type": "stream",
     "text": [
      "Европа\n",
      "          eu_sales\n",
      "platform          \n",
      "PS4         141.09\n",
      "PS3         106.86\n",
      "X360         74.52\n",
      "XOne         51.59\n",
      "3DS          42.64\n"
     ]
    }
   ],
   "source": [
    "print('Европа')\n",
    "data_pivot_PT5_EU = data_actual.pivot_table(index = 'platform', values = 'eu_sales', aggfunc = 'sum')\n",
    "print(data_pivot_PT5_EU.sort_values('eu_sales', ascending = False).head())"
   ]
  },
  {
   "cell_type": "code",
   "execution_count": 24,
   "metadata": {},
   "outputs": [
    {
     "name": "stdout",
     "output_type": "stream",
     "text": [
      "Япония\n",
      "          jp_sales\n",
      "platform          \n",
      "3DS          87.79\n",
      "PS3          35.29\n",
      "PSV          21.04\n",
      "PS4          15.96\n",
      "WiiU         13.01\n"
     ]
    }
   ],
   "source": [
    "print('Япония')\n",
    "data_pivot_PT5_JP = data_actual.pivot_table(index = 'platform', values = 'jp_sales', aggfunc = 'sum')\n",
    "print(data_pivot_PT5_JP.sort_values('jp_sales', ascending = False).head())"
   ]
  },
  {
   "cell_type": "markdown",
   "metadata": {},
   "source": [
    "Самые популярные жанры (топ-5). Поясните разницу."
   ]
  },
  {
   "cell_type": "code",
   "execution_count": 25,
   "metadata": {},
   "outputs": [
    {
     "name": "stdout",
     "output_type": "stream",
     "text": [
      "               kassa\n",
      "genre               \n",
      "Action        441.12\n",
      "Shooter       304.73\n",
      "Role-Playing  192.80\n",
      "Sports        181.07\n",
      "Misc           85.04\n"
     ]
    }
   ],
   "source": [
    "data_pivot_PT5 = data_actual.pivot_table(index = 'genre', values = 'kassa', aggfunc = 'sum')\n",
    "print(data_pivot_PT5.sort_values('kassa', ascending = False).head())"
   ]
  },
  {
   "cell_type": "code",
   "execution_count": 26,
   "metadata": {},
   "outputs": [
    {
     "name": "stdout",
     "output_type": "stream",
     "text": [
      "              na_sales\n",
      "genre                 \n",
      "Action          177.84\n",
      "Shooter         144.77\n",
      "Sports           81.53\n",
      "Role-Playing     64.00\n",
      "Misc             38.19\n"
     ]
    }
   ],
   "source": [
    "data_pivot_PT5 = data_actual.pivot_table(index = 'genre', values = 'na_sales', aggfunc = 'sum')\n",
    "print(data_pivot_PT5.sort_values('na_sales', ascending = False).head())"
   ]
  },
  {
   "cell_type": "code",
   "execution_count": 27,
   "metadata": {},
   "outputs": [
    {
     "name": "stdout",
     "output_type": "stream",
     "text": [
      "              eu_sales\n",
      "genre                 \n",
      "Action          159.34\n",
      "Shooter         113.47\n",
      "Sports           69.09\n",
      "Role-Playing     48.53\n",
      "Racing           27.29\n"
     ]
    }
   ],
   "source": [
    "data_pivot_PT5 = data_actual.pivot_table(index = 'genre', values = 'eu_sales', aggfunc = 'sum')\n",
    "print(data_pivot_PT5.sort_values('eu_sales', ascending = False).head())"
   ]
  },
  {
   "cell_type": "code",
   "execution_count": 28,
   "metadata": {},
   "outputs": [
    {
     "name": "stdout",
     "output_type": "stream",
     "text": [
      "              jp_sales\n",
      "genre                 \n",
      "Role-Playing     65.44\n",
      "Action           52.80\n",
      "Misc             12.86\n",
      "Simulation       10.41\n",
      "Fighting          9.44\n"
     ]
    }
   ],
   "source": [
    "data_pivot_PT5 = data_actual.pivot_table(index = 'genre', values = 'jp_sales', aggfunc = 'sum')\n",
    "print(data_pivot_PT5.sort_values('jp_sales', ascending = False).head())"
   ]
  },
  {
   "cell_type": "markdown",
   "metadata": {},
   "source": [
    "Японцам сильно отличаются от всех остальных. Им нравиться влиять на характеристики персонажа и играть на \"цветных тетрисах\" и отечественных платформах. По всей видимости популярность жанра \"Role-Playing\" связана с популярностью платформы \"3DS\"."
   ]
  },
  {
   "cell_type": "markdown",
   "metadata": {},
   "source": [
    "Влияет ли рейтинг ESRB на продажи в отдельном регионе?"
   ]
  },
  {
   "cell_type": "code",
   "execution_count": 29,
   "metadata": {},
   "outputs": [
    {
     "name": "stdout",
     "output_type": "stream",
     "text": [
      "0.3948913123646253\n"
     ]
    },
    {
     "name": "stderr",
     "output_type": "stream",
     "text": [
      "/opt/conda/lib/python3.7/site-packages/ipykernel_launcher.py:2: SettingWithCopyWarning: \n",
      "A value is trying to be set on a copy of a slice from a DataFrame.\n",
      "Try using .loc[row_indexer,col_indexer] = value instead\n",
      "\n",
      "See the caveats in the documentation: http://pandas.pydata.org/pandas-docs/stable/user_guide/indexing.html#returning-a-view-versus-a-copy\n",
      "  \n",
      "/opt/conda/lib/python3.7/site-packages/ipykernel_launcher.py:3: SettingWithCopyWarning: \n",
      "A value is trying to be set on a copy of a slice from a DataFrame.\n",
      "Try using .loc[row_indexer,col_indexer] = value instead\n",
      "\n",
      "See the caveats in the documentation: http://pandas.pydata.org/pandas-docs/stable/user_guide/indexing.html#returning-a-view-versus-a-copy\n",
      "  This is separate from the ipykernel package so we can avoid doing imports until\n",
      "/opt/conda/lib/python3.7/site-packages/ipykernel_launcher.py:4: SettingWithCopyWarning: \n",
      "A value is trying to be set on a copy of a slice from a DataFrame.\n",
      "Try using .loc[row_indexer,col_indexer] = value instead\n",
      "\n",
      "See the caveats in the documentation: http://pandas.pydata.org/pandas-docs/stable/user_guide/indexing.html#returning-a-view-versus-a-copy\n",
      "  after removing the cwd from sys.path.\n",
      "/opt/conda/lib/python3.7/site-packages/ipykernel_launcher.py:5: SettingWithCopyWarning: \n",
      "A value is trying to be set on a copy of a slice from a DataFrame.\n",
      "Try using .loc[row_indexer,col_indexer] = value instead\n",
      "\n",
      "See the caveats in the documentation: http://pandas.pydata.org/pandas-docs/stable/user_guide/indexing.html#returning-a-view-versus-a-copy\n",
      "  \"\"\"\n",
      "/opt/conda/lib/python3.7/site-packages/ipykernel_launcher.py:6: SettingWithCopyWarning: \n",
      "A value is trying to be set on a copy of a slice from a DataFrame.\n",
      "Try using .loc[row_indexer,col_indexer] = value instead\n",
      "\n",
      "See the caveats in the documentation: http://pandas.pydata.org/pandas-docs/stable/user_guide/indexing.html#returning-a-view-versus-a-copy\n",
      "  \n",
      "/opt/conda/lib/python3.7/site-packages/ipykernel_launcher.py:7: SettingWithCopyWarning: \n",
      "A value is trying to be set on a copy of a slice from a DataFrame.\n",
      "Try using .loc[row_indexer,col_indexer] = value instead\n",
      "\n",
      "See the caveats in the documentation: http://pandas.pydata.org/pandas-docs/stable/user_guide/indexing.html#returning-a-view-versus-a-copy\n",
      "  import sys\n",
      "/opt/conda/lib/python3.7/site-packages/ipykernel_launcher.py:8: SettingWithCopyWarning: \n",
      "A value is trying to be set on a copy of a slice from a DataFrame.\n",
      "Try using .loc[row_indexer,col_indexer] = value instead\n",
      "\n",
      "See the caveats in the documentation: http://pandas.pydata.org/pandas-docs/stable/user_guide/indexing.html#returning-a-view-versus-a-copy\n",
      "  \n",
      "/opt/conda/lib/python3.7/site-packages/ipykernel_launcher.py:9: SettingWithCopyWarning: \n",
      "A value is trying to be set on a copy of a slice from a DataFrame.\n",
      "Try using .loc[row_indexer,col_indexer] = value instead\n",
      "\n",
      "See the caveats in the documentation: http://pandas.pydata.org/pandas-docs/stable/user_guide/indexing.html#returning-a-view-versus-a-copy\n",
      "  if __name__ == '__main__':\n",
      "/opt/conda/lib/python3.7/site-packages/ipykernel_launcher.py:10: SettingWithCopyWarning: \n",
      "A value is trying to be set on a copy of a slice from a DataFrame.\n",
      "Try using .loc[row_indexer,col_indexer] = value instead\n",
      "\n",
      "See the caveats in the documentation: http://pandas.pydata.org/pandas-docs/stable/user_guide/indexing.html#returning-a-view-versus-a-copy\n",
      "  # Remove the CWD from sys.path while we load stuff.\n",
      "/opt/conda/lib/python3.7/site-packages/ipykernel_launcher.py:11: SettingWithCopyWarning: \n",
      "A value is trying to be set on a copy of a slice from a DataFrame.\n",
      "Try using .loc[row_indexer,col_indexer] = value instead\n",
      "\n",
      "See the caveats in the documentation: http://pandas.pydata.org/pandas-docs/stable/user_guide/indexing.html#returning-a-view-versus-a-copy\n",
      "  # This is added back by InteractiveShellApp.init_path()\n"
     ]
    }
   ],
   "source": [
    "data['rating'].value_counts()\n",
    "data_actual['rating'] = data_actual['rating'].replace('E', '2')\n",
    "data_actual['rating'] = data_actual['rating'].replace('T', '4')\n",
    "data_actual['rating'] = data_actual['rating'].replace('M', '5')\n",
    "data_actual['rating'] = data_actual['rating'].replace('E10+', '3')\n",
    "data_actual['rating'] = data_actual['rating'].replace('EC', '1')\n",
    "data_actual['rating'] = data_actual['rating'].replace('RP', '0')\n",
    "data_actual['rating'] = data_actual['rating'].replace('K-A', '2')\n",
    "data_actual['rating'] = data_actual['rating'].replace('AO', '6')\n",
    "data_actual['rating'] = data_actual['rating'].fillna(0)\n",
    "data_actual['rating'] = data_actual['rating'].astype('int')\n",
    "print(data_actual['kassa'].corr(data_actual['rating'], method = 'spearman'))"
   ]
  },
  {
   "cell_type": "code",
   "execution_count": 30,
   "metadata": {},
   "outputs": [
    {
     "name": "stdout",
     "output_type": "stream",
     "text": [
      "Северная Америка\n",
      "0.5083045490573884\n"
     ]
    }
   ],
   "source": [
    "print('Северная Америка')\n",
    "print(data_actual['na_sales'].corr(data_actual['rating'], method = 'spearman'))"
   ]
  },
  {
   "cell_type": "code",
   "execution_count": 31,
   "metadata": {},
   "outputs": [
    {
     "name": "stdout",
     "output_type": "stream",
     "text": [
      "Европа\n",
      "0.5014311254787556\n"
     ]
    }
   ],
   "source": [
    "print('Европа')\n",
    "print(data_actual['eu_sales'].corr(data_actual['rating'], method = 'spearman'))"
   ]
  },
  {
   "cell_type": "code",
   "execution_count": 32,
   "metadata": {},
   "outputs": [
    {
     "name": "stdout",
     "output_type": "stream",
     "text": [
      "Япония\n",
      "-0.2122787045480552\n"
     ]
    }
   ],
   "source": [
    "print('Япония')\n",
    "print(data_actual['jp_sales'].corr(data_actual['rating'], method = 'spearman'))"
   ]
  },
  {
   "cell_type": "markdown",
   "metadata": {},
   "source": [
    "Связь есть. При помощи коэффициента корреляции Спирмена выяснено, что в Северной Америке и Европе популярнее более \"взрослые\" игры."
   ]
  },
  {
   "cell_type": "markdown",
   "metadata": {},
   "source": [
    "Европейцам и североамериканцам нравится играть в Action и Shooter на современных видеоприставках.\n",
    "Японцам сильно отличаются от всех остальных. Им нравиться влиять на характеристики персонажа и играть на \"цветных тетрисах\" и отечественных платформах. По всей видимости популярность жанра \"Role-Playing\" связана с популярностью платформы \"3DS\".\n",
    "При помощи коэффициента корреляции Спирмена выяснено, что в Северной Америке и Европе популярнее более \"взрослые\" игры."
   ]
  },
  {
   "cell_type": "markdown",
   "metadata": {},
   "source": [
    "### Шаг 5. Проверьте гипотезы"
   ]
  },
  {
   "cell_type": "markdown",
   "metadata": {},
   "source": [
    "Нулевая гипотеза: Средние пользовательские рейтинги платформ Xbox One и PC одинаковые."
   ]
  },
  {
   "cell_type": "code",
   "execution_count": 206,
   "metadata": {},
   "outputs": [
    {
     "name": "stdout",
     "output_type": "stream",
     "text": [
      "1.8398947622754973 Xbox_One\n",
      "2.7182183688596395 PC\n",
      "p-значение: 0.4163295193897021\n",
      "Не получилось отвергнуть нулевую гипотезу\n"
     ]
    }
   ],
   "source": [
    "data_actual = data_actual.query('user_score != \"nan\"')\n",
    "data_actual_Xbox_One = data_actual.query('platform == \"XOne\"')\n",
    "data_actual_PC = data_actual.query('platform ==\"PC\"')\n",
    "\n",
    "alpha = .05\n",
    "\n",
    "Xbox_One = data_actual_Xbox_One['user_score'].tolist()\n",
    "PC = data_actual_PC['user_score'].tolist()\n",
    "\n",
    "print(np.var(Xbox_One), \"Xbox_One\")\n",
    "\n",
    "print(np.var(PC), \"PC\")\n",
    "\n",
    "results = st.ttest_ind(Xbox_One, PC)\n",
    "\n",
    "print('p-значение:', results.pvalue)\n",
    "\n",
    "if (results.pvalue < alpha):\n",
    "    print(\"Отвергаем нулевую гипотезу\")\n",
    "else:\n",
    "    print(\"Не получилось отвергнуть нулевую гипотезу\")"
   ]
  },
  {
   "cell_type": "markdown",
   "metadata": {},
   "source": [
    "Нулевая гипотеза: Средние пользовательские рейтинги жанров Action(англ.«действие») и Sports(англ.«виды спорта») одинаковые."
   ]
  },
  {
   "cell_type": "code",
   "execution_count": 207,
   "metadata": {},
   "outputs": [
    {
     "name": "stdout",
     "output_type": "stream",
     "text": [
      "1.762050048920228 Action\n",
      "3.078415582146912 Sports\n",
      "p-значение: 8.135327514933318e-25\n",
      "Отвергаем нулевую гипотезу\n"
     ]
    }
   ],
   "source": [
    "data_actual_Action = data_actual.query('genre == \"Action\"')\n",
    "data_actual_Sports = data_actual.query('genre ==\"Sports\"')\n",
    "\n",
    "alpha = .05\n",
    "\n",
    "Action = data_actual_Action['user_score'].tolist()\n",
    "Sports = data_actual_Sports['user_score'].tolist()\n",
    "\n",
    "print(np.var(Action), \"Action\")\n",
    "\n",
    "print(np.var(Sports), \"Sports\")\n",
    "\n",
    "results = st.ttest_ind(Action, Sports)\n",
    "\n",
    "print('p-значение:', results.pvalue)\n",
    "\n",
    "if (results.pvalue < alpha):\n",
    "    print(\"Отвергаем нулевую гипотезу\")\n",
    "else:\n",
    "    print(\"Не получилось отвергнуть нулевую гипотезу\")"
   ]
  },
  {
   "cell_type": "markdown",
   "metadata": {},
   "source": [
    "Одни и те же игры на разных платформах получают часто похожие рейтинги/отзывы. Рейтинги игр по жанрам разные."
   ]
  },
  {
   "cell_type": "markdown",
   "metadata": {},
   "source": [
    "### Шаг 6. Напишите общий вывод"
   ]
  },
  {
   "cell_type": "markdown",
   "metadata": {},
   "source": [
    "Правильно строить прогноз на 2017 надо на данных начиная с 2012 (2012 - 2016 это будет актуальный период). Критики гораздо чаще ставят высокие оценки успешным играм. Наиболее прибыльные жанры завязаны на получение сильных и резких эмоций, которые заставляют игрока поддерживать постоянное взаимодействие с игрой. Игры, которые не требует стремительной реакции самые неприбыльные. Японцам сильно отличаются от всех остальных. Им нравиться влиять на характеристики персонажа и играть на \"цветных тетрисах\" и отечественных платформах. По всей видимости популярность жанра \"Role-Playing\" связана с популярностью платформы \"3DS\" в Японии. При помощи коэффициента корреляции Спирмена выяснено, что в Северной Америке и Европе популярнее более \"взрослые\" игры. Одни и те же игры на разных платформах получают часто похожие рейтинги/отзывы. Рейтинги игр по жанрам разные.\n",
    "В Северной Америке и Европе популярны видеоприставки PS и Xbox, жанры - Action, Sports, Shooter. В Японии - компактные платформы 3DS и WiiU, во вторую очередь отечественный PS; жанры - Role-Playing, во вторую очередь Action."
   ]
  },
  {
   "cell_type": "code",
   "execution_count": null,
   "metadata": {},
   "outputs": [],
   "source": []
  }
 ],
 "metadata": {
  "kernelspec": {
   "display_name": "Python 3",
   "language": "python",
   "name": "python3"
  },
  "language_info": {
   "codemirror_mode": {
    "name": "ipython",
    "version": 3
   },
   "file_extension": ".py",
   "mimetype": "text/x-python",
   "name": "python",
   "nbconvert_exporter": "python",
   "pygments_lexer": "ipython3",
   "version": "3.7.3"
  }
 },
 "nbformat": 4,
 "nbformat_minor": 2
}
