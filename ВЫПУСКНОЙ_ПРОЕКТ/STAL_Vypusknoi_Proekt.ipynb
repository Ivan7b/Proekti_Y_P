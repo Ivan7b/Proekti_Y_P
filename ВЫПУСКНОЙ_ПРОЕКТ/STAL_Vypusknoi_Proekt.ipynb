{
 "cells": [
  {
   "cell_type": "markdown",
   "metadata": {},
   "source": [
    "### Решаемая задача:"
   ]
  },
  {
   "cell_type": "markdown",
   "metadata": {},
   "source": [
    "Необходимо уменьшить потребление электроэнергии на этапе обработки стали в условиях металлургического комбината. Требуется построить модель, которая предскажет температуру стали."
   ]
  },
  {
   "cell_type": "markdown",
   "metadata": {},
   "source": [
    "### Описание этапа обработки"
   ]
  },
  {
   "cell_type": "markdown",
   "metadata": {},
   "source": [
    "Несколько датасетов включают в себя данные по производственному процессу - легирование стали. Это процесс состоит из циклов: измерение температуры - нагрев и добавлением легирующих элементов - перемешивание - измерение температуры и химический анализ. Если химический анализ не показывает требуемые параметры стали, то циклов начинается снова. Один из датасетов включает в себя данные по измеренной температуре на разных этапах по партиям."
   ]
  },
  {
   "cell_type": "markdown",
   "metadata": {},
   "source": [
    "#### Целевой признак: последняя измеренная температура для партии (\"key\" - номер партии)"
   ]
  },
  {
   "cell_type": "markdown",
   "metadata": {},
   "source": [
    "#### Метрика: MAE"
   ]
  },
  {
   "cell_type": "markdown",
   "metadata": {},
   "source": [
    "# 1.Исследуем и подготавливаем данные"
   ]
  },
  {
   "cell_type": "code",
   "execution_count": 152,
   "metadata": {},
   "outputs": [],
   "source": [
    "import pandas as pd\n",
    "import numpy as np\n",
    "import time\n",
    "from datetime import date"
   ]
  },
  {
   "cell_type": "code",
   "execution_count": 153,
   "metadata": {
    "scrolled": true
   },
   "outputs": [
    {
     "name": "stdout",
     "output_type": "stream",
     "text": [
      "   key Начало нагрева дугой  Конец нагрева дугой  Активная мощность  \\\n",
      "0    1  2019-05-03 11:02:14  2019-05-03 11:06:02           0.976059   \n",
      "1    1  2019-05-03 11:07:28  2019-05-03 11:10:33           0.805607   \n",
      "2    1  2019-05-03 11:11:44  2019-05-03 11:14:36           0.744363   \n",
      "3    1  2019-05-03 11:18:14  2019-05-03 11:24:19           1.659363   \n",
      "4    1  2019-05-03 11:26:09  2019-05-03 11:28:37           0.692755   \n",
      "\n",
      "   Реактивная мощность  \n",
      "0             0.687084  \n",
      "1             0.520285  \n",
      "2             0.498805  \n",
      "3             1.062669  \n",
      "4             0.414397  \n",
      "<class 'pandas.core.frame.DataFrame'>\n",
      "RangeIndex: 14876 entries, 0 to 14875\n",
      "Data columns (total 5 columns):\n",
      "key                     14876 non-null int64\n",
      "Начало нагрева дугой    14876 non-null object\n",
      "Конец нагрева дугой     14876 non-null object\n",
      "Активная мощность       14876 non-null float64\n",
      "Реактивная мощность     14876 non-null float64\n",
      "dtypes: float64(2), int64(1), object(2)\n",
      "memory usage: 581.2+ KB\n"
     ]
    }
   ],
   "source": [
    "# данные об электродах\n",
    "data_arc = pd.read_csv('/datasets/final_steel/data_arc.csv')\n",
    "print(data_arc.head())\n",
    "data_arc.info()"
   ]
  },
  {
   "cell_type": "markdown",
   "metadata": {},
   "source": [
    "По количеству повторений значений key можно судить о количестве циклов нагрева для каждой партии."
   ]
  },
  {
   "cell_type": "code",
   "execution_count": 154,
   "metadata": {
    "scrolled": true
   },
   "outputs": [
    {
     "name": "stdout",
     "output_type": "stream",
     "text": [
      "   key  Bulk 1  Bulk 2  Bulk 3  Bulk 4  Bulk 5  Bulk 6  Bulk 7  Bulk 8  \\\n",
      "0    1     NaN     NaN     NaN    43.0     NaN     NaN     NaN     NaN   \n",
      "1    2     NaN     NaN     NaN    73.0     NaN     NaN     NaN     NaN   \n",
      "2    3     NaN     NaN     NaN    34.0     NaN     NaN     NaN     NaN   \n",
      "3    4     NaN     NaN     NaN    81.0     NaN     NaN     NaN     NaN   \n",
      "4    5     NaN     NaN     NaN    78.0     NaN     NaN     NaN     NaN   \n",
      "\n",
      "   Bulk 9  Bulk 10  Bulk 11  Bulk 12  Bulk 13  Bulk 14  Bulk 15  \n",
      "0     NaN      NaN      NaN    206.0      NaN    150.0    154.0  \n",
      "1     NaN      NaN      NaN    206.0      NaN    149.0    154.0  \n",
      "2     NaN      NaN      NaN    205.0      NaN    152.0    153.0  \n",
      "3     NaN      NaN      NaN    207.0      NaN    153.0    154.0  \n",
      "4     NaN      NaN      NaN    203.0      NaN    151.0    152.0  \n",
      "<class 'pandas.core.frame.DataFrame'>\n",
      "RangeIndex: 3129 entries, 0 to 3128\n",
      "Data columns (total 16 columns):\n",
      "key        3129 non-null int64\n",
      "Bulk 1     252 non-null float64\n",
      "Bulk 2     22 non-null float64\n",
      "Bulk 3     1298 non-null float64\n",
      "Bulk 4     1014 non-null float64\n",
      "Bulk 5     77 non-null float64\n",
      "Bulk 6     576 non-null float64\n",
      "Bulk 7     25 non-null float64\n",
      "Bulk 8     1 non-null float64\n",
      "Bulk 9     19 non-null float64\n",
      "Bulk 10    176 non-null float64\n",
      "Bulk 11    177 non-null float64\n",
      "Bulk 12    2450 non-null float64\n",
      "Bulk 13    18 non-null float64\n",
      "Bulk 14    2806 non-null float64\n",
      "Bulk 15    2248 non-null float64\n",
      "dtypes: float64(15), int64(1)\n",
      "memory usage: 391.2 KB\n"
     ]
    }
   ],
   "source": [
    "# данные о подаче сыпучих материалов (объём)\n",
    "data_bulk = pd.read_csv('/datasets/final_steel/data_bulk.csv')\n",
    "print(data_bulk.head())\n",
    "data_bulk.info()"
   ]
  },
  {
   "cell_type": "code",
   "execution_count": 155,
   "metadata": {
    "scrolled": true
   },
   "outputs": [
    {
     "name": "stdout",
     "output_type": "stream",
     "text": [
      "   key Bulk 1 Bulk 2 Bulk 3               Bulk 4 Bulk 5 Bulk 6 Bulk 7 Bulk 8  \\\n",
      "0    1    NaN    NaN    NaN  2019-05-03 11:21:30    NaN    NaN    NaN    NaN   \n",
      "1    2    NaN    NaN    NaN  2019-05-03 11:46:38    NaN    NaN    NaN    NaN   \n",
      "2    3    NaN    NaN    NaN  2019-05-03 12:31:06    NaN    NaN    NaN    NaN   \n",
      "3    4    NaN    NaN    NaN  2019-05-03 12:48:43    NaN    NaN    NaN    NaN   \n",
      "4    5    NaN    NaN    NaN  2019-05-03 13:18:50    NaN    NaN    NaN    NaN   \n",
      "\n",
      "  Bulk 9 Bulk 10 Bulk 11              Bulk 12 Bulk 13              Bulk 14  \\\n",
      "0    NaN     NaN     NaN  2019-05-03 11:03:52     NaN  2019-05-03 11:03:52   \n",
      "1    NaN     NaN     NaN  2019-05-03 11:40:20     NaN  2019-05-03 11:40:20   \n",
      "2    NaN     NaN     NaN  2019-05-03 12:09:40     NaN  2019-05-03 12:09:40   \n",
      "3    NaN     NaN     NaN  2019-05-03 12:41:24     NaN  2019-05-03 12:41:24   \n",
      "4    NaN     NaN     NaN  2019-05-03 13:12:56     NaN  2019-05-03 13:12:56   \n",
      "\n",
      "               Bulk 15  \n",
      "0  2019-05-03 11:03:52  \n",
      "1  2019-05-03 11:40:20  \n",
      "2  2019-05-03 12:09:40  \n",
      "3  2019-05-03 12:41:24  \n",
      "4  2019-05-03 13:12:56  \n",
      "<class 'pandas.core.frame.DataFrame'>\n",
      "RangeIndex: 3129 entries, 0 to 3128\n",
      "Data columns (total 16 columns):\n",
      "key        3129 non-null int64\n",
      "Bulk 1     252 non-null object\n",
      "Bulk 2     22 non-null object\n",
      "Bulk 3     1298 non-null object\n",
      "Bulk 4     1014 non-null object\n",
      "Bulk 5     77 non-null object\n",
      "Bulk 6     576 non-null object\n",
      "Bulk 7     25 non-null object\n",
      "Bulk 8     1 non-null object\n",
      "Bulk 9     19 non-null object\n",
      "Bulk 10    176 non-null object\n",
      "Bulk 11    177 non-null object\n",
      "Bulk 12    2450 non-null object\n",
      "Bulk 13    18 non-null object\n",
      "Bulk 14    2806 non-null object\n",
      "Bulk 15    2248 non-null object\n",
      "dtypes: int64(1), object(15)\n",
      "memory usage: 391.2+ KB\n"
     ]
    }
   ],
   "source": [
    "# данные о подаче сыпучих материалов (время)\n",
    "data_bulk_time = pd.read_csv('/datasets/final_steel/data_bulk_time.csv')\n",
    "print(data_bulk_time.head())\n",
    "data_bulk_time.info()"
   ]
  },
  {
   "cell_type": "code",
   "execution_count": 156,
   "metadata": {},
   "outputs": [
    {
     "name": "stdout",
     "output_type": "stream",
     "text": [
      "   key      Газ 1\n",
      "0    1  29.749986\n",
      "1    2  12.555561\n",
      "2    3  28.554793\n",
      "3    4  18.841219\n",
      "4    5   5.413692\n",
      "<class 'pandas.core.frame.DataFrame'>\n",
      "RangeIndex: 3239 entries, 0 to 3238\n",
      "Data columns (total 2 columns):\n",
      "key      3239 non-null int64\n",
      "Газ 1    3239 non-null float64\n",
      "dtypes: float64(1), int64(1)\n",
      "memory usage: 50.7 KB\n"
     ]
    }
   ],
   "source": [
    "# данные о продувке сплава газом\n",
    "data_gas = pd.read_csv('/datasets/final_steel/data_gas.csv')\n",
    "print(data_gas.head())\n",
    "data_gas.info()"
   ]
  },
  {
   "cell_type": "code",
   "execution_count": 157,
   "metadata": {
    "scrolled": true
   },
   "outputs": [
    {
     "name": "stdout",
     "output_type": "stream",
     "text": [
      "   key         Время замера  Температура\n",
      "0    1  2019-05-03 11:16:18       1571.0\n",
      "1    1  2019-05-03 11:25:53       1604.0\n",
      "2    1  2019-05-03 11:29:11       1618.0\n",
      "3    1  2019-05-03 11:30:01       1601.0\n",
      "4    1  2019-05-03 11:30:39       1613.0\n",
      "<class 'pandas.core.frame.DataFrame'>\n",
      "RangeIndex: 15907 entries, 0 to 15906\n",
      "Data columns (total 3 columns):\n",
      "key             15907 non-null int64\n",
      "Время замера    15907 non-null object\n",
      "Температура     13006 non-null float64\n",
      "dtypes: float64(1), int64(1), object(1)\n",
      "memory usage: 372.9+ KB\n"
     ]
    }
   ],
   "source": [
    "# результаты измерения температуры\n",
    "data_temp = pd.read_csv('/datasets/final_steel/data_temp.csv')\n",
    "print(data_temp.head())\n",
    "data_temp.info()"
   ]
  },
  {
   "cell_type": "code",
   "execution_count": 158,
   "metadata": {},
   "outputs": [
    {
     "data": {
      "text/plain": [
       "key                0\n",
       "Время замера       0\n",
       "Температура     2901\n",
       "dtype: int64"
      ]
     },
     "execution_count": 158,
     "metadata": {},
     "output_type": "execute_result"
    }
   ],
   "source": [
    "data_temp.isnull().sum()"
   ]
  },
  {
   "cell_type": "code",
   "execution_count": 159,
   "metadata": {},
   "outputs": [],
   "source": [
    "data_temp=data_temp.dropna()"
   ]
  },
  {
   "cell_type": "code",
   "execution_count": 160,
   "metadata": {},
   "outputs": [
    {
     "data": {
      "text/plain": [
       "<matplotlib.axes._subplots.AxesSubplot at 0x7f9af719dc10>"
      ]
     },
     "execution_count": 160,
     "metadata": {},
     "output_type": "execute_result"
    },
    {
     "data": {
      "image/png": "[encoded data removed]",
      "text/plain": [
       "<Figure size 432x288 with 1 Axes>"
      ]
     },
     "metadata": {
      "needs_background": "light"
     },
     "output_type": "display_data"
    }
   ],
   "source": [
    "data_temp['Температура'].hist(bins=50)"
   ]
  },
  {
   "cell_type": "code",
   "execution_count": 161,
   "metadata": {},
   "outputs": [
    {
     "data": {
      "text/plain": [
       "(13006,)"
      ]
     },
     "execution_count": 161,
     "metadata": {},
     "output_type": "execute_result"
    }
   ],
   "source": [
    "data_temp['Температура'].shape"
   ]
  },
  {
   "cell_type": "code",
   "execution_count": 162,
   "metadata": {},
   "outputs": [],
   "source": [
    "data_temp = data_temp.query('Температура >= 1450')"
   ]
  },
  {
   "cell_type": "code",
   "execution_count": 163,
   "metadata": {},
   "outputs": [
    {
     "name": "stdout",
     "output_type": "stream",
     "text": [
      "<class 'pandas.core.frame.DataFrame'>\n",
      "Int64Index: 12999 entries, 0 to 15902\n",
      "Data columns (total 3 columns):\n",
      "key             12999 non-null int64\n",
      "Время замера    12999 non-null object\n",
      "Температура     12999 non-null float64\n",
      "dtypes: float64(1), int64(1), object(1)\n",
      "memory usage: 406.2+ KB\n"
     ]
    }
   ],
   "source": [
    "data_temp.info()"
   ]
  },
  {
   "cell_type": "markdown",
   "metadata": {},
   "source": [
    "Исключено 7 выбросов, которые сильно не вписывались в картину нормального распределения"
   ]
  },
  {
   "cell_type": "code",
   "execution_count": 164,
   "metadata": {
    "scrolled": true
   },
   "outputs": [
    {
     "data": {
      "text/plain": [
       "<matplotlib.axes._subplots.AxesSubplot at 0x7f9ac9df7e90>"
      ]
     },
     "execution_count": 164,
     "metadata": {},
     "output_type": "execute_result"
    },
    {
     "data": {
      "image/png": "[encoded data removed]",
      "text/plain": [
       "<Figure size 432x288 with 1 Axes>"
      ]
     },
     "metadata": {
      "needs_background": "light"
     },
     "output_type": "display_data"
    }
   ],
   "source": [
    "data_temp['Температура'].hist(bins=50)"
   ]
  },
  {
   "cell_type": "code",
   "execution_count": 165,
   "metadata": {
    "scrolled": false
   },
   "outputs": [
    {
     "data": {
      "text/plain": [
       "44      16\n",
       "46      16\n",
       "1513    16\n",
       "1689    15\n",
       "2108    15\n",
       "        ..\n",
       "2870     1\n",
       "2878     1\n",
       "2886     1\n",
       "2983     1\n",
       "2543     1\n",
       "Name: key, Length: 3215, dtype: int64"
      ]
     },
     "execution_count": 165,
     "metadata": {},
     "output_type": "execute_result"
    }
   ],
   "source": [
    "data_temp['key'].value_counts()"
   ]
  },
  {
   "cell_type": "markdown",
   "metadata": {},
   "source": [
    "Температуру для некоторых партий мерили по 16 раз."
   ]
  },
  {
   "cell_type": "code",
   "execution_count": 166,
   "metadata": {
    "scrolled": true
   },
   "outputs": [
    {
     "name": "stdout",
     "output_type": "stream",
     "text": [
      "   key     Wire 1   Wire 2  Wire 3  Wire 4  Wire 5  Wire 6  Wire 7  Wire 8  \\\n",
      "0    1  60.059998      NaN     NaN     NaN     NaN     NaN     NaN     NaN   \n",
      "1    2  96.052315      NaN     NaN     NaN     NaN     NaN     NaN     NaN   \n",
      "2    3  91.160157      NaN     NaN     NaN     NaN     NaN     NaN     NaN   \n",
      "3    4  89.063515      NaN     NaN     NaN     NaN     NaN     NaN     NaN   \n",
      "4    5  89.238236  9.11456     NaN     NaN     NaN     NaN     NaN     NaN   \n",
      "\n",
      "   Wire 9  \n",
      "0     NaN  \n",
      "1     NaN  \n",
      "2     NaN  \n",
      "3     NaN  \n",
      "4     NaN  \n",
      "<class 'pandas.core.frame.DataFrame'>\n",
      "RangeIndex: 3081 entries, 0 to 3080\n",
      "Data columns (total 10 columns):\n",
      "key       3081 non-null int64\n",
      "Wire 1    3055 non-null float64\n",
      "Wire 2    1079 non-null float64\n",
      "Wire 3    63 non-null float64\n",
      "Wire 4    14 non-null float64\n",
      "Wire 5    1 non-null float64\n",
      "Wire 6    73 non-null float64\n",
      "Wire 7    11 non-null float64\n",
      "Wire 8    19 non-null float64\n",
      "Wire 9    29 non-null float64\n",
      "dtypes: float64(9), int64(1)\n",
      "memory usage: 240.8 KB\n"
     ]
    }
   ],
   "source": [
    "# данные о проволочных материалах (объём)\n",
    "data_wire = pd.read_csv('/datasets/final_steel/data_wire.csv')\n",
    "print(data_wire.head())\n",
    "data_wire.info()"
   ]
  },
  {
   "cell_type": "code",
   "execution_count": 167,
   "metadata": {
    "scrolled": true
   },
   "outputs": [
    {
     "name": "stdout",
     "output_type": "stream",
     "text": [
      "   key               Wire 1               Wire 2 Wire 3 Wire 4 Wire 5 Wire 6  \\\n",
      "0    1  2019-05-03 11:11:41                  NaN    NaN    NaN    NaN    NaN   \n",
      "1    2  2019-05-03 11:46:10                  NaN    NaN    NaN    NaN    NaN   \n",
      "2    3  2019-05-03 12:13:47                  NaN    NaN    NaN    NaN    NaN   \n",
      "3    4  2019-05-03 12:48:05                  NaN    NaN    NaN    NaN    NaN   \n",
      "4    5  2019-05-03 13:18:15  2019-05-03 13:32:06    NaN    NaN    NaN    NaN   \n",
      "5    6  2019-05-03 13:59:02  2019-05-03 13:59:54    NaN    NaN    NaN    NaN   \n",
      "6    7  2019-05-03 14:28:46                  NaN    NaN    NaN    NaN    NaN   \n",
      "7    8  2019-05-03 15:03:42                  NaN    NaN    NaN    NaN    NaN   \n",
      "8    9  2019-05-03 15:42:43  2019-05-03 15:58:12    NaN    NaN    NaN    NaN   \n",
      "9   10  2019-05-03 16:20:25  2019-05-03 16:21:02    NaN    NaN    NaN    NaN   \n",
      "\n",
      "  Wire 7 Wire 8 Wire 9  \n",
      "0    NaN    NaN    NaN  \n",
      "1    NaN    NaN    NaN  \n",
      "2    NaN    NaN    NaN  \n",
      "3    NaN    NaN    NaN  \n",
      "4    NaN    NaN    NaN  \n",
      "5    NaN    NaN    NaN  \n",
      "6    NaN    NaN    NaN  \n",
      "7    NaN    NaN    NaN  \n",
      "8    NaN    NaN    NaN  \n",
      "9    NaN    NaN    NaN  \n",
      "<class 'pandas.core.frame.DataFrame'>\n",
      "RangeIndex: 3081 entries, 0 to 3080\n",
      "Data columns (total 10 columns):\n",
      "key       3081 non-null int64\n",
      "Wire 1    3055 non-null object\n",
      "Wire 2    1079 non-null object\n",
      "Wire 3    63 non-null object\n",
      "Wire 4    14 non-null object\n",
      "Wire 5    1 non-null object\n",
      "Wire 6    73 non-null object\n",
      "Wire 7    11 non-null object\n",
      "Wire 8    19 non-null object\n",
      "Wire 9    29 non-null object\n",
      "dtypes: int64(1), object(9)\n",
      "memory usage: 240.8+ KB\n"
     ]
    }
   ],
   "source": [
    "# данные о проволочных материалах (время)\n",
    "data_wire_time = pd.read_csv('/datasets/final_steel/data_wire_time.csv')\n",
    "print(data_wire_time.head(10))\n",
    "data_wire_time.info()"
   ]
  },
  {
   "cell_type": "code",
   "execution_count": 168,
   "metadata": {},
   "outputs": [
    {
     "name": "stdout",
     "output_type": "stream",
     "text": [
      "(3214,)\n"
     ]
    }
   ],
   "source": [
    "print(data_arc['key'].value_counts().shape)"
   ]
  },
  {
   "cell_type": "code",
   "execution_count": 169,
   "metadata": {},
   "outputs": [
    {
     "name": "stdout",
     "output_type": "stream",
     "text": [
      "(3239,)\n"
     ]
    }
   ],
   "source": [
    "print(data_gas['key'].value_counts().shape)"
   ]
  },
  {
   "cell_type": "code",
   "execution_count": 170,
   "metadata": {},
   "outputs": [
    {
     "name": "stdout",
     "output_type": "stream",
     "text": [
      "(3215,)\n"
     ]
    }
   ],
   "source": [
    "print(data_temp['key'].value_counts().shape)"
   ]
  },
  {
   "cell_type": "code",
   "execution_count": 171,
   "metadata": {},
   "outputs": [
    {
     "name": "stdout",
     "output_type": "stream",
     "text": [
      "(3081,)\n"
     ]
    }
   ],
   "source": [
    "print(data_wire['key'].value_counts().shape)"
   ]
  },
  {
   "cell_type": "code",
   "execution_count": 172,
   "metadata": {},
   "outputs": [
    {
     "name": "stdout",
     "output_type": "stream",
     "text": [
      "(3081,)\n"
     ]
    }
   ],
   "source": [
    "print(data_wire_time['key'].value_counts().shape)"
   ]
  },
  {
   "cell_type": "code",
   "execution_count": 173,
   "metadata": {},
   "outputs": [
    {
     "name": "stdout",
     "output_type": "stream",
     "text": [
      "(3129,)\n"
     ]
    }
   ],
   "source": [
    "print(data_bulk['key'].value_counts().shape)"
   ]
  },
  {
   "cell_type": "code",
   "execution_count": 174,
   "metadata": {},
   "outputs": [
    {
     "name": "stdout",
     "output_type": "stream",
     "text": [
      "(3129,)\n"
     ]
    }
   ],
   "source": [
    "print(data_bulk_time['key'].value_counts().shape)"
   ]
  },
  {
   "cell_type": "markdown",
   "metadata": {},
   "source": [
    "Не по всем партиям есть все данные. В процессе сборки общей таблицы останутся данные о 2329 партиях из-за того, что по некоторым партиям в данных имеется только один замер температуры. "
   ]
  },
  {
   "cell_type": "markdown",
   "metadata": {},
   "source": [
    " "
   ]
  },
  {
   "cell_type": "markdown",
   "metadata": {},
   "source": [
    "# 2.Подготовка данных для общей таблицы для МО"
   ]
  },
  {
   "cell_type": "markdown",
   "metadata": {},
   "source": [
    "#### - Преобразования со столбцами с временем, расчёт времени нагрева дуги \"time_nagrev_sec\" "
   ]
  },
  {
   "cell_type": "code",
   "execution_count": 175,
   "metadata": {
    "scrolled": true
   },
   "outputs": [
    {
     "name": "stdout",
     "output_type": "stream",
     "text": [
      "   key Начало нагрева дугой Конец нагрева дугой  Активная мощность  \\\n",
      "0    1  2019-05-03 11:02:14 2019-05-03 11:06:02           0.976059   \n",
      "1    1  2019-05-03 11:07:28 2019-05-03 11:10:33           0.805607   \n",
      "2    1  2019-05-03 11:11:44 2019-05-03 11:14:36           0.744363   \n",
      "3    1  2019-05-03 11:18:14 2019-05-03 11:24:19           1.659363   \n",
      "4    1  2019-05-03 11:26:09 2019-05-03 11:28:37           0.692755   \n",
      "\n",
      "   Реактивная мощность time_nagrev  time_nagrev_sec  \n",
      "0             0.687084    00:03:48            228.0  \n",
      "1             0.520285    00:03:05            185.0  \n",
      "2             0.498805    00:02:52            172.0  \n",
      "3             1.062669    00:06:05            365.0  \n",
      "4             0.414397    00:02:28            148.0  \n",
      "<class 'pandas.core.frame.DataFrame'>\n",
      "RangeIndex: 14876 entries, 0 to 14875\n",
      "Data columns (total 7 columns):\n",
      "key                     14876 non-null int64\n",
      "Начало нагрева дугой    14876 non-null datetime64[ns]\n",
      "Конец нагрева дугой     14876 non-null datetime64[ns]\n",
      "Активная мощность       14876 non-null float64\n",
      "Реактивная мощность     14876 non-null float64\n",
      "time_nagrev             14876 non-null timedelta64[ns]\n",
      "time_nagrev_sec         14876 non-null float64\n",
      "dtypes: datetime64[ns](2), float64(3), int64(1), timedelta64[ns](1)\n",
      "memory usage: 813.7 KB\n"
     ]
    }
   ],
   "source": [
    "data_arc['Начало нагрева дугой'] = pd.to_datetime(data_arc['Начало нагрева дугой'], \n",
    "                                                  format='%Y-%m-%dT%H:%M:%S')\n",
    "data_arc['Конец нагрева дугой'] = pd.to_datetime(data_arc['Конец нагрева дугой'], \n",
    "                                                 format='%Y-%m-%dT%H:%M:%S')\n",
    "data_arc['time_nagrev'] = data_arc['Конец нагрева дугой'] - data_arc['Начало нагрева дугой']\n",
    "data_arc['time_nagrev_sec'] = data_arc['time_nagrev'].dt.total_seconds()\n",
    "print(data_arc.head())\n",
    "data_arc.info()"
   ]
  },
  {
   "cell_type": "markdown",
   "metadata": {},
   "source": [
    "#### - Расчёт полной мощности, которая характеризует затраты на электроэнергию"
   ]
  },
  {
   "cell_type": "code",
   "execution_count": 176,
   "metadata": {},
   "outputs": [
    {
     "data": {
      "text/html": [
       "<div>\n",
       "<style scoped>\n",
       "    .dataframe tbody tr th:only-of-type {\n",
       "        vertical-align: middle;\n",
       "    }\n",
       "\n",
       "    .dataframe tbody tr th {\n",
       "        vertical-align: top;\n",
       "    }\n",
       "\n",
       "    .dataframe thead th {\n",
       "        text-align: right;\n",
       "    }\n",
       "</style>\n",
       "<table border=\"1\" class=\"dataframe\">\n",
       "  <thead>\n",
       "    <tr style=\"text-align: right;\">\n",
       "      <th></th>\n",
       "      <th>key</th>\n",
       "      <th>Начало нагрева дугой</th>\n",
       "      <th>Конец нагрева дугой</th>\n",
       "      <th>Активная мощность</th>\n",
       "      <th>Реактивная мощность</th>\n",
       "      <th>time_nagrev</th>\n",
       "      <th>time_nagrev_sec</th>\n",
       "      <th>Power</th>\n",
       "    </tr>\n",
       "  </thead>\n",
       "  <tbody>\n",
       "    <tr>\n",
       "      <td>0</td>\n",
       "      <td>1</td>\n",
       "      <td>2019-05-03 11:02:14</td>\n",
       "      <td>2019-05-03 11:06:02</td>\n",
       "      <td>0.976059</td>\n",
       "      <td>0.687084</td>\n",
       "      <td>00:03:48</td>\n",
       "      <td>228.0</td>\n",
       "      <td>1.663142</td>\n",
       "    </tr>\n",
       "    <tr>\n",
       "      <td>1</td>\n",
       "      <td>1</td>\n",
       "      <td>2019-05-03 11:07:28</td>\n",
       "      <td>2019-05-03 11:10:33</td>\n",
       "      <td>0.805607</td>\n",
       "      <td>0.520285</td>\n",
       "      <td>00:03:05</td>\n",
       "      <td>185.0</td>\n",
       "      <td>1.325892</td>\n",
       "    </tr>\n",
       "    <tr>\n",
       "      <td>2</td>\n",
       "      <td>1</td>\n",
       "      <td>2019-05-03 11:11:44</td>\n",
       "      <td>2019-05-03 11:14:36</td>\n",
       "      <td>0.744363</td>\n",
       "      <td>0.498805</td>\n",
       "      <td>00:02:52</td>\n",
       "      <td>172.0</td>\n",
       "      <td>1.243169</td>\n",
       "    </tr>\n",
       "    <tr>\n",
       "      <td>3</td>\n",
       "      <td>1</td>\n",
       "      <td>2019-05-03 11:18:14</td>\n",
       "      <td>2019-05-03 11:24:19</td>\n",
       "      <td>1.659363</td>\n",
       "      <td>1.062669</td>\n",
       "      <td>00:06:05</td>\n",
       "      <td>365.0</td>\n",
       "      <td>2.722032</td>\n",
       "    </tr>\n",
       "    <tr>\n",
       "      <td>4</td>\n",
       "      <td>1</td>\n",
       "      <td>2019-05-03 11:26:09</td>\n",
       "      <td>2019-05-03 11:28:37</td>\n",
       "      <td>0.692755</td>\n",
       "      <td>0.414397</td>\n",
       "      <td>00:02:28</td>\n",
       "      <td>148.0</td>\n",
       "      <td>1.107152</td>\n",
       "    </tr>\n",
       "  </tbody>\n",
       "</table>\n",
       "</div>"
      ],
      "text/plain": [
       "   key Начало нагрева дугой Конец нагрева дугой  Активная мощность  \\\n",
       "0    1  2019-05-03 11:02:14 2019-05-03 11:06:02           0.976059   \n",
       "1    1  2019-05-03 11:07:28 2019-05-03 11:10:33           0.805607   \n",
       "2    1  2019-05-03 11:11:44 2019-05-03 11:14:36           0.744363   \n",
       "3    1  2019-05-03 11:18:14 2019-05-03 11:24:19           1.659363   \n",
       "4    1  2019-05-03 11:26:09 2019-05-03 11:28:37           0.692755   \n",
       "\n",
       "   Реактивная мощность time_nagrev  time_nagrev_sec     Power  \n",
       "0             0.687084    00:03:48            228.0  1.663142  \n",
       "1             0.520285    00:03:05            185.0  1.325892  \n",
       "2             0.498805    00:02:52            172.0  1.243169  \n",
       "3             1.062669    00:06:05            365.0  2.722032  \n",
       "4             0.414397    00:02:28            148.0  1.107152  "
      ]
     },
     "execution_count": 176,
     "metadata": {},
     "output_type": "execute_result"
    }
   ],
   "source": [
    "data_arc['Power'] = (((data_arc['Активная мощность'])*2) + ((data_arc['Реактивная мощность'])*2))**1/2\n",
    "\n",
    "data_arc.head()"
   ]
  },
  {
   "cell_type": "markdown",
   "metadata": {},
   "source": [
    "### Создание датасета с основными признаками, характеризующие затраты энергии"
   ]
  },
  {
   "cell_type": "code",
   "execution_count": 177,
   "metadata": {},
   "outputs": [
    {
     "data": {
      "text/html": [
       "<div>\n",
       "<style scoped>\n",
       "    .dataframe tbody tr th:only-of-type {\n",
       "        vertical-align: middle;\n",
       "    }\n",
       "\n",
       "    .dataframe tbody tr th {\n",
       "        vertical-align: top;\n",
       "    }\n",
       "\n",
       "    .dataframe thead th {\n",
       "        text-align: right;\n",
       "    }\n",
       "</style>\n",
       "<table border=\"1\" class=\"dataframe\">\n",
       "  <thead>\n",
       "    <tr style=\"text-align: right;\">\n",
       "      <th></th>\n",
       "      <th>time_nagrev_sec</th>\n",
       "      <th>Power</th>\n",
       "    </tr>\n",
       "    <tr>\n",
       "      <th>key</th>\n",
       "      <th></th>\n",
       "      <th></th>\n",
       "    </tr>\n",
       "  </thead>\n",
       "  <tbody>\n",
       "    <tr>\n",
       "      <td>1</td>\n",
       "      <td>228.0</td>\n",
       "      <td>1.663142</td>\n",
       "    </tr>\n",
       "    <tr>\n",
       "      <td>1</td>\n",
       "      <td>185.0</td>\n",
       "      <td>1.325892</td>\n",
       "    </tr>\n",
       "    <tr>\n",
       "      <td>1</td>\n",
       "      <td>172.0</td>\n",
       "      <td>1.243169</td>\n",
       "    </tr>\n",
       "    <tr>\n",
       "      <td>1</td>\n",
       "      <td>365.0</td>\n",
       "      <td>2.722032</td>\n",
       "    </tr>\n",
       "    <tr>\n",
       "      <td>1</td>\n",
       "      <td>148.0</td>\n",
       "      <td>1.107152</td>\n",
       "    </tr>\n",
       "  </tbody>\n",
       "</table>\n",
       "</div>"
      ],
      "text/plain": [
       "     time_nagrev_sec     Power\n",
       "key                           \n",
       "1              228.0  1.663142\n",
       "1              185.0  1.325892\n",
       "1              172.0  1.243169\n",
       "1              365.0  2.722032\n",
       "1              148.0  1.107152"
      ]
     },
     "execution_count": 177,
     "metadata": {},
     "output_type": "execute_result"
    }
   ],
   "source": [
    "data_arc_pivot=data_arc[['key', 'time_nagrev_sec', 'Power']]\n",
    "data_arc_pivot = data_arc_pivot.set_index('key')\n",
    "data_arc_pivot.head()"
   ]
  },
  {
   "cell_type": "markdown",
   "metadata": {},
   "source": [
    "### 2.1 Подготовка признаков из других таблиц"
   ]
  },
  {
   "cell_type": "markdown",
   "metadata": {},
   "source": [
    "#### - Температура"
   ]
  },
  {
   "cell_type": "markdown",
   "metadata": {},
   "source": [
    "##### Партии с замером температуры меньше двух раз исключаем, т.к. нам надо 2 замера температуры: первый и последний."
   ]
  },
  {
   "cell_type": "code",
   "execution_count": 178,
   "metadata": {},
   "outputs": [
    {
     "data": {
      "text/html": [
       "<div>\n",
       "<style scoped>\n",
       "    .dataframe tbody tr th:only-of-type {\n",
       "        vertical-align: middle;\n",
       "    }\n",
       "\n",
       "    .dataframe tbody tr th {\n",
       "        vertical-align: top;\n",
       "    }\n",
       "\n",
       "    .dataframe thead th {\n",
       "        text-align: right;\n",
       "    }\n",
       "</style>\n",
       "<table border=\"1\" class=\"dataframe\">\n",
       "  <thead>\n",
       "    <tr style=\"text-align: right;\">\n",
       "      <th></th>\n",
       "      <th>Время замера</th>\n",
       "      <th>Температура</th>\n",
       "    </tr>\n",
       "    <tr>\n",
       "      <th>key</th>\n",
       "      <th></th>\n",
       "      <th></th>\n",
       "    </tr>\n",
       "  </thead>\n",
       "  <tbody>\n",
       "    <tr>\n",
       "      <td>3237</td>\n",
       "      <td>1</td>\n",
       "      <td>1</td>\n",
       "    </tr>\n",
       "    <tr>\n",
       "      <td>3238</td>\n",
       "      <td>1</td>\n",
       "      <td>1</td>\n",
       "    </tr>\n",
       "    <tr>\n",
       "      <td>3239</td>\n",
       "      <td>1</td>\n",
       "      <td>1</td>\n",
       "    </tr>\n",
       "    <tr>\n",
       "      <td>3240</td>\n",
       "      <td>1</td>\n",
       "      <td>1</td>\n",
       "    </tr>\n",
       "    <tr>\n",
       "      <td>3241</td>\n",
       "      <td>1</td>\n",
       "      <td>1</td>\n",
       "    </tr>\n",
       "  </tbody>\n",
       "</table>\n",
       "</div>"
      ],
      "text/plain": [
       "      Время замера  Температура\n",
       "key                            \n",
       "3237             1            1\n",
       "3238             1            1\n",
       "3239             1            1\n",
       "3240             1            1\n",
       "3241             1            1"
      ]
     },
     "execution_count": 178,
     "metadata": {},
     "output_type": "execute_result"
    }
   ],
   "source": [
    "data_temp.groupby('key').count().tail()"
   ]
  },
  {
   "cell_type": "code",
   "execution_count": 179,
   "metadata": {},
   "outputs": [
    {
     "name": "stdout",
     "output_type": "stream",
     "text": [
      "     quantity\n",
      "key          \n",
      "1           5\n",
      "2           6\n",
      "3           5\n",
      "4           3\n",
      "5           2\n",
      "<class 'pandas.core.frame.DataFrame'>\n",
      "Int64Index: 2475 entries, 1 to 2499\n",
      "Data columns (total 1 columns):\n",
      "quantity    2475 non-null int64\n",
      "dtypes: int64(1)\n",
      "memory usage: 38.7 KB\n"
     ]
    }
   ],
   "source": [
    "df_temp = data_temp.groupby('key').count()\n",
    "df_temp['quantity'] = df_temp['Время замера']\n",
    "df_temp = df_temp.query('quantity > 1')\n",
    "df1_temp = df_temp[['quantity']]\n",
    "\n",
    "print(df1_temp.head())\n",
    "df1_temp.info()"
   ]
  },
  {
   "cell_type": "code",
   "execution_count": 180,
   "metadata": {},
   "outputs": [
    {
     "data": {
      "text/html": [
       "<div>\n",
       "<style scoped>\n",
       "    .dataframe tbody tr th:only-of-type {\n",
       "        vertical-align: middle;\n",
       "    }\n",
       "\n",
       "    .dataframe tbody tr th {\n",
       "        vertical-align: top;\n",
       "    }\n",
       "\n",
       "    .dataframe thead th {\n",
       "        text-align: right;\n",
       "    }\n",
       "</style>\n",
       "<table border=\"1\" class=\"dataframe\">\n",
       "  <thead>\n",
       "    <tr style=\"text-align: right;\">\n",
       "      <th></th>\n",
       "      <th>key</th>\n",
       "      <th>Время замера</th>\n",
       "      <th>Температура</th>\n",
       "      <th>quantity</th>\n",
       "    </tr>\n",
       "  </thead>\n",
       "  <tbody>\n",
       "    <tr>\n",
       "      <td>0</td>\n",
       "      <td>1</td>\n",
       "      <td>2019-05-03 11:16:18</td>\n",
       "      <td>1571.0</td>\n",
       "      <td>5</td>\n",
       "    </tr>\n",
       "    <tr>\n",
       "      <td>1</td>\n",
       "      <td>1</td>\n",
       "      <td>2019-05-03 11:25:53</td>\n",
       "      <td>1604.0</td>\n",
       "      <td>5</td>\n",
       "    </tr>\n",
       "    <tr>\n",
       "      <td>2</td>\n",
       "      <td>1</td>\n",
       "      <td>2019-05-03 11:29:11</td>\n",
       "      <td>1618.0</td>\n",
       "      <td>5</td>\n",
       "    </tr>\n",
       "    <tr>\n",
       "      <td>3</td>\n",
       "      <td>1</td>\n",
       "      <td>2019-05-03 11:30:01</td>\n",
       "      <td>1601.0</td>\n",
       "      <td>5</td>\n",
       "    </tr>\n",
       "    <tr>\n",
       "      <td>4</td>\n",
       "      <td>1</td>\n",
       "      <td>2019-05-03 11:30:39</td>\n",
       "      <td>1613.0</td>\n",
       "      <td>5</td>\n",
       "    </tr>\n",
       "  </tbody>\n",
       "</table>\n",
       "</div>"
      ],
      "text/plain": [
       "   key         Время замера  Температура  quantity\n",
       "0    1  2019-05-03 11:16:18       1571.0         5\n",
       "1    1  2019-05-03 11:25:53       1604.0         5\n",
       "2    1  2019-05-03 11:29:11       1618.0         5\n",
       "3    1  2019-05-03 11:30:01       1601.0         5\n",
       "4    1  2019-05-03 11:30:39       1613.0         5"
      ]
     },
     "execution_count": 180,
     "metadata": {},
     "output_type": "execute_result"
    }
   ],
   "source": [
    "df1_temp = df1_temp.reset_index(drop=False)\n",
    "data_temp=data_temp.merge(df1_temp, on='key')\n",
    "data_temp.head()"
   ]
  },
  {
   "cell_type": "code",
   "execution_count": 181,
   "metadata": {},
   "outputs": [],
   "source": [
    "data_temp_pivot = data_temp.pivot_table(index = [\"key\"], values = \"Время замера\", \n",
    "                                        aggfunc = \"first\")\n",
    "#data_temp_pivot.head()"
   ]
  },
  {
   "cell_type": "code",
   "execution_count": 182,
   "metadata": {},
   "outputs": [],
   "source": [
    "data_temp1=data_temp_pivot.merge(data_temp, on='Время замера')\n",
    "data_temp1=data_temp1.set_index('key')\n",
    "#data_temp1.head()"
   ]
  },
  {
   "cell_type": "code",
   "execution_count": 183,
   "metadata": {},
   "outputs": [],
   "source": [
    "data_temp_pivot2 = data_temp.pivot_table(index = [\"key\"], values = \"Время замера\", \n",
    "                                        aggfunc = \"last\")\n",
    "data_temp2=data_temp_pivot2.merge(data_temp, on='Время замера')\n",
    "data_temp2=data_temp2.set_index('key')\n",
    "#data_temp2.head()"
   ]
  },
  {
   "cell_type": "code",
   "execution_count": 184,
   "metadata": {},
   "outputs": [],
   "source": [
    "data_temp1['First_zamer'] = data_temp1['Температура']\n",
    "data_temp1 = data_temp1.drop(['Температура','Время замера','quantity'] , axis=1)\n",
    "#data_temp1.head()"
   ]
  },
  {
   "cell_type": "code",
   "execution_count": 185,
   "metadata": {},
   "outputs": [],
   "source": [
    "data_temp2['Last_zamer'] = data_temp2['Температура']\n",
    "data_temp2 = data_temp2.drop(['Температура','Время замера','quantity'] , axis=1)\n",
    "#data_temp2.head()"
   ]
  },
  {
   "cell_type": "code",
   "execution_count": 186,
   "metadata": {},
   "outputs": [],
   "source": [
    "data_temp1=data_temp1.merge(data_temp2, on='key')\n",
    "#data_temp1.head()"
   ]
  },
  {
   "cell_type": "code",
   "execution_count": 187,
   "metadata": {},
   "outputs": [
    {
     "data": {
      "text/html": [
       "<div>\n",
       "<style scoped>\n",
       "    .dataframe tbody tr th:only-of-type {\n",
       "        vertical-align: middle;\n",
       "    }\n",
       "\n",
       "    .dataframe tbody tr th {\n",
       "        vertical-align: top;\n",
       "    }\n",
       "\n",
       "    .dataframe thead th {\n",
       "        text-align: right;\n",
       "    }\n",
       "</style>\n",
       "<table border=\"1\" class=\"dataframe\">\n",
       "  <thead>\n",
       "    <tr style=\"text-align: right;\">\n",
       "      <th></th>\n",
       "      <th>First_zamer</th>\n",
       "      <th>Last_zamer</th>\n",
       "      <th>time_nagrev_sec</th>\n",
       "      <th>Power</th>\n",
       "    </tr>\n",
       "    <tr>\n",
       "      <th>key</th>\n",
       "      <th></th>\n",
       "      <th></th>\n",
       "      <th></th>\n",
       "      <th></th>\n",
       "    </tr>\n",
       "  </thead>\n",
       "  <tbody>\n",
       "    <tr>\n",
       "      <td>1</td>\n",
       "      <td>1571.0</td>\n",
       "      <td>1613.0</td>\n",
       "      <td>228.0</td>\n",
       "      <td>1.663142</td>\n",
       "    </tr>\n",
       "    <tr>\n",
       "      <td>1</td>\n",
       "      <td>1571.0</td>\n",
       "      <td>1613.0</td>\n",
       "      <td>185.0</td>\n",
       "      <td>1.325892</td>\n",
       "    </tr>\n",
       "    <tr>\n",
       "      <td>1</td>\n",
       "      <td>1571.0</td>\n",
       "      <td>1613.0</td>\n",
       "      <td>172.0</td>\n",
       "      <td>1.243169</td>\n",
       "    </tr>\n",
       "    <tr>\n",
       "      <td>1</td>\n",
       "      <td>1571.0</td>\n",
       "      <td>1613.0</td>\n",
       "      <td>365.0</td>\n",
       "      <td>2.722032</td>\n",
       "    </tr>\n",
       "    <tr>\n",
       "      <td>1</td>\n",
       "      <td>1571.0</td>\n",
       "      <td>1613.0</td>\n",
       "      <td>148.0</td>\n",
       "      <td>1.107152</td>\n",
       "    </tr>\n",
       "  </tbody>\n",
       "</table>\n",
       "</div>"
      ],
      "text/plain": [
       "     First_zamer  Last_zamer  time_nagrev_sec     Power\n",
       "key                                                    \n",
       "1         1571.0      1613.0            228.0  1.663142\n",
       "1         1571.0      1613.0            185.0  1.325892\n",
       "1         1571.0      1613.0            172.0  1.243169\n",
       "1         1571.0      1613.0            365.0  2.722032\n",
       "1         1571.0      1613.0            148.0  1.107152"
      ]
     },
     "execution_count": 187,
     "metadata": {},
     "output_type": "execute_result"
    }
   ],
   "source": [
    "data_for_deal=data_temp1.merge(data_arc_pivot, on='key')\n",
    "data_for_deal.head()"
   ]
  },
  {
   "cell_type": "code",
   "execution_count": 188,
   "metadata": {},
   "outputs": [
    {
     "data": {
      "text/html": [
       "<div>\n",
       "<style scoped>\n",
       "    .dataframe tbody tr th:only-of-type {\n",
       "        vertical-align: middle;\n",
       "    }\n",
       "\n",
       "    .dataframe tbody tr th {\n",
       "        vertical-align: top;\n",
       "    }\n",
       "\n",
       "    .dataframe thead th {\n",
       "        text-align: right;\n",
       "    }\n",
       "</style>\n",
       "<table border=\"1\" class=\"dataframe\">\n",
       "  <thead>\n",
       "    <tr style=\"text-align: right;\">\n",
       "      <th></th>\n",
       "      <th>First_zamer</th>\n",
       "      <th>Last_zamer</th>\n",
       "      <th>Power</th>\n",
       "      <th>time_nagrev_sec</th>\n",
       "    </tr>\n",
       "    <tr>\n",
       "      <th>key</th>\n",
       "      <th></th>\n",
       "      <th></th>\n",
       "      <th></th>\n",
       "      <th></th>\n",
       "    </tr>\n",
       "  </thead>\n",
       "  <tbody>\n",
       "    <tr>\n",
       "      <td>1</td>\n",
       "      <td>1571.0</td>\n",
       "      <td>1613.0</td>\n",
       "      <td>8.061388</td>\n",
       "      <td>1098.0</td>\n",
       "    </tr>\n",
       "    <tr>\n",
       "      <td>2</td>\n",
       "      <td>1581.0</td>\n",
       "      <td>1602.0</td>\n",
       "      <td>5.050710</td>\n",
       "      <td>811.0</td>\n",
       "    </tr>\n",
       "    <tr>\n",
       "      <td>3</td>\n",
       "      <td>1596.0</td>\n",
       "      <td>1599.0</td>\n",
       "      <td>4.124958</td>\n",
       "      <td>655.0</td>\n",
       "    </tr>\n",
       "    <tr>\n",
       "      <td>4</td>\n",
       "      <td>1601.0</td>\n",
       "      <td>1625.0</td>\n",
       "      <td>5.269548</td>\n",
       "      <td>741.0</td>\n",
       "    </tr>\n",
       "    <tr>\n",
       "      <td>5</td>\n",
       "      <td>1576.0</td>\n",
       "      <td>1602.0</td>\n",
       "      <td>5.599815</td>\n",
       "      <td>869.0</td>\n",
       "    </tr>\n",
       "  </tbody>\n",
       "</table>\n",
       "</div>"
      ],
      "text/plain": [
       "     First_zamer  Last_zamer     Power  time_nagrev_sec\n",
       "key                                                    \n",
       "1         1571.0      1613.0  8.061388           1098.0\n",
       "2         1581.0      1602.0  5.050710            811.0\n",
       "3         1596.0      1599.0  4.124958            655.0\n",
       "4         1601.0      1625.0  5.269548            741.0\n",
       "5         1576.0      1602.0  5.599815            869.0"
      ]
     },
     "execution_count": 188,
     "metadata": {},
     "output_type": "execute_result"
    }
   ],
   "source": [
    "data_for_deal = data_for_deal.pivot_table(index = ['key', 'First_zamer', 'Last_zamer'], \n",
    "                                         values = ['time_nagrev_sec', 'Power'], \n",
    "                                        aggfunc = 'sum')\n",
    "data_for_deal = data_for_deal.reset_index(drop=False)\n",
    "data_for_deal = data_for_deal.set_index('key')\n",
    "data_for_deal.head()"
   ]
  },
  {
   "cell_type": "markdown",
   "metadata": {},
   "source": [
    "#### - Газ"
   ]
  },
  {
   "cell_type": "code",
   "execution_count": 189,
   "metadata": {},
   "outputs": [],
   "source": [
    "data_for_deal=data_for_deal.merge(data_gas, on='key')\n",
    "#data_for_deal.head()"
   ]
  },
  {
   "cell_type": "markdown",
   "metadata": {},
   "source": [
    "#### - Проволока"
   ]
  },
  {
   "cell_type": "code",
   "execution_count": 190,
   "metadata": {
    "scrolled": true
   },
   "outputs": [
    {
     "name": "stdout",
     "output_type": "stream",
     "text": [
      "        Wire 1   Wire 2  Wire 3  Wire 4  Wire 5  Wire 6  Wire 7  Wire 8  \\\n",
      "key                                                                       \n",
      "1    60.059998  0.00000     0.0     0.0     0.0     0.0     0.0     0.0   \n",
      "2    96.052315  0.00000     0.0     0.0     0.0     0.0     0.0     0.0   \n",
      "3    91.160157  0.00000     0.0     0.0     0.0     0.0     0.0     0.0   \n",
      "4    89.063515  0.00000     0.0     0.0     0.0     0.0     0.0     0.0   \n",
      "5    89.238236  9.11456     0.0     0.0     0.0     0.0     0.0     0.0   \n",
      "\n",
      "     Wire 9  \n",
      "key          \n",
      "1       0.0  \n",
      "2       0.0  \n",
      "3       0.0  \n",
      "4       0.0  \n",
      "5       0.0  \n",
      "<class 'pandas.core.frame.DataFrame'>\n",
      "Int64Index: 3081 entries, 1 to 3241\n",
      "Data columns (total 9 columns):\n",
      "Wire 1    3081 non-null float64\n",
      "Wire 2    3081 non-null float64\n",
      "Wire 3    3081 non-null float64\n",
      "Wire 4    3081 non-null float64\n",
      "Wire 5    3081 non-null float64\n",
      "Wire 6    3081 non-null float64\n",
      "Wire 7    3081 non-null float64\n",
      "Wire 8    3081 non-null float64\n",
      "Wire 9    3081 non-null float64\n",
      "dtypes: float64(9)\n",
      "memory usage: 240.7 KB\n"
     ]
    }
   ],
   "source": [
    "df_wire=data_wire.fillna(0)\n",
    "df_wire_New = df_wire.set_index('key')\n",
    "print(df_wire_New.head())\n",
    "df_wire_New.info()"
   ]
  },
  {
   "cell_type": "code",
   "execution_count": 191,
   "metadata": {},
   "outputs": [],
   "source": [
    "data_for_deal=data_for_deal.merge(df_wire_New, on='key')"
   ]
  },
  {
   "cell_type": "markdown",
   "metadata": {},
   "source": [
    "#### - Сыпучие материалы"
   ]
  },
  {
   "cell_type": "code",
   "execution_count": 192,
   "metadata": {
    "scrolled": true
   },
   "outputs": [
    {
     "name": "stdout",
     "output_type": "stream",
     "text": [
      "     Bulk 1  Bulk 2  Bulk 3  Bulk 4  Bulk 5  Bulk 6  Bulk 7  Bulk 8  Bulk 9  \\\n",
      "key                                                                           \n",
      "1       0.0     0.0     0.0    43.0     0.0     0.0     0.0     0.0     0.0   \n",
      "2       0.0     0.0     0.0    73.0     0.0     0.0     0.0     0.0     0.0   \n",
      "3       0.0     0.0     0.0    34.0     0.0     0.0     0.0     0.0     0.0   \n",
      "4       0.0     0.0     0.0    81.0     0.0     0.0     0.0     0.0     0.0   \n",
      "5       0.0     0.0     0.0    78.0     0.0     0.0     0.0     0.0     0.0   \n",
      "\n",
      "     Bulk 10  Bulk 11  Bulk 12  Bulk 13  Bulk 14  Bulk 15  \n",
      "key                                                        \n",
      "1        0.0      0.0    206.0      0.0    150.0    154.0  \n",
      "2        0.0      0.0    206.0      0.0    149.0    154.0  \n",
      "3        0.0      0.0    205.0      0.0    152.0    153.0  \n",
      "4        0.0      0.0    207.0      0.0    153.0    154.0  \n",
      "5        0.0      0.0    203.0      0.0    151.0    152.0  \n",
      "<class 'pandas.core.frame.DataFrame'>\n",
      "Int64Index: 3129 entries, 1 to 3241\n",
      "Data columns (total 15 columns):\n",
      "Bulk 1     3129 non-null float64\n",
      "Bulk 2     3129 non-null float64\n",
      "Bulk 3     3129 non-null float64\n",
      "Bulk 4     3129 non-null float64\n",
      "Bulk 5     3129 non-null float64\n",
      "Bulk 6     3129 non-null float64\n",
      "Bulk 7     3129 non-null float64\n",
      "Bulk 8     3129 non-null float64\n",
      "Bulk 9     3129 non-null float64\n",
      "Bulk 10    3129 non-null float64\n",
      "Bulk 11    3129 non-null float64\n",
      "Bulk 12    3129 non-null float64\n",
      "Bulk 13    3129 non-null float64\n",
      "Bulk 14    3129 non-null float64\n",
      "Bulk 15    3129 non-null float64\n",
      "dtypes: float64(15)\n",
      "memory usage: 391.1 KB\n"
     ]
    }
   ],
   "source": [
    "df_bulk=data_bulk.fillna(0)\n",
    "df_bulk = df_bulk.set_index('key')\n",
    "print(df_bulk.head())\n",
    "df_bulk.info()"
   ]
  },
  {
   "cell_type": "code",
   "execution_count": 193,
   "metadata": {},
   "outputs": [],
   "source": [
    "data_for_deal=data_for_deal.merge(df_bulk, on='key')"
   ]
  },
  {
   "cell_type": "code",
   "execution_count": 194,
   "metadata": {
    "scrolled": true
   },
   "outputs": [
    {
     "name": "stdout",
     "output_type": "stream",
     "text": [
      "(2329, 29)\n"
     ]
    },
    {
     "data": {
      "text/html": [
       "<div>\n",
       "<style scoped>\n",
       "    .dataframe tbody tr th:only-of-type {\n",
       "        vertical-align: middle;\n",
       "    }\n",
       "\n",
       "    .dataframe tbody tr th {\n",
       "        vertical-align: top;\n",
       "    }\n",
       "\n",
       "    .dataframe thead th {\n",
       "        text-align: right;\n",
       "    }\n",
       "</style>\n",
       "<table border=\"1\" class=\"dataframe\">\n",
       "  <thead>\n",
       "    <tr style=\"text-align: right;\">\n",
       "      <th></th>\n",
       "      <th>First_zamer</th>\n",
       "      <th>Last_zamer</th>\n",
       "      <th>Power</th>\n",
       "      <th>time_nagrev_sec</th>\n",
       "      <th>Газ 1</th>\n",
       "      <th>Wire 1</th>\n",
       "      <th>Wire 2</th>\n",
       "      <th>Wire 3</th>\n",
       "      <th>Wire 4</th>\n",
       "      <th>Wire 5</th>\n",
       "      <th>...</th>\n",
       "      <th>Bulk 6</th>\n",
       "      <th>Bulk 7</th>\n",
       "      <th>Bulk 8</th>\n",
       "      <th>Bulk 9</th>\n",
       "      <th>Bulk 10</th>\n",
       "      <th>Bulk 11</th>\n",
       "      <th>Bulk 12</th>\n",
       "      <th>Bulk 13</th>\n",
       "      <th>Bulk 14</th>\n",
       "      <th>Bulk 15</th>\n",
       "    </tr>\n",
       "    <tr>\n",
       "      <th>key</th>\n",
       "      <th></th>\n",
       "      <th></th>\n",
       "      <th></th>\n",
       "      <th></th>\n",
       "      <th></th>\n",
       "      <th></th>\n",
       "      <th></th>\n",
       "      <th></th>\n",
       "      <th></th>\n",
       "      <th></th>\n",
       "      <th></th>\n",
       "      <th></th>\n",
       "      <th></th>\n",
       "      <th></th>\n",
       "      <th></th>\n",
       "      <th></th>\n",
       "      <th></th>\n",
       "      <th></th>\n",
       "      <th></th>\n",
       "      <th></th>\n",
       "      <th></th>\n",
       "    </tr>\n",
       "  </thead>\n",
       "  <tbody>\n",
       "    <tr>\n",
       "      <td>1</td>\n",
       "      <td>1571.0</td>\n",
       "      <td>1613.0</td>\n",
       "      <td>8.061388</td>\n",
       "      <td>1098.0</td>\n",
       "      <td>29.749986</td>\n",
       "      <td>60.059998</td>\n",
       "      <td>0.00000</td>\n",
       "      <td>0.0</td>\n",
       "      <td>0.0</td>\n",
       "      <td>0.0</td>\n",
       "      <td>...</td>\n",
       "      <td>0.0</td>\n",
       "      <td>0.0</td>\n",
       "      <td>0.0</td>\n",
       "      <td>0.0</td>\n",
       "      <td>0.0</td>\n",
       "      <td>0.0</td>\n",
       "      <td>206.0</td>\n",
       "      <td>0.0</td>\n",
       "      <td>150.0</td>\n",
       "      <td>154.0</td>\n",
       "    </tr>\n",
       "    <tr>\n",
       "      <td>2</td>\n",
       "      <td>1581.0</td>\n",
       "      <td>1602.0</td>\n",
       "      <td>5.050710</td>\n",
       "      <td>811.0</td>\n",
       "      <td>12.555561</td>\n",
       "      <td>96.052315</td>\n",
       "      <td>0.00000</td>\n",
       "      <td>0.0</td>\n",
       "      <td>0.0</td>\n",
       "      <td>0.0</td>\n",
       "      <td>...</td>\n",
       "      <td>0.0</td>\n",
       "      <td>0.0</td>\n",
       "      <td>0.0</td>\n",
       "      <td>0.0</td>\n",
       "      <td>0.0</td>\n",
       "      <td>0.0</td>\n",
       "      <td>206.0</td>\n",
       "      <td>0.0</td>\n",
       "      <td>149.0</td>\n",
       "      <td>154.0</td>\n",
       "    </tr>\n",
       "    <tr>\n",
       "      <td>3</td>\n",
       "      <td>1596.0</td>\n",
       "      <td>1599.0</td>\n",
       "      <td>4.124958</td>\n",
       "      <td>655.0</td>\n",
       "      <td>28.554793</td>\n",
       "      <td>91.160157</td>\n",
       "      <td>0.00000</td>\n",
       "      <td>0.0</td>\n",
       "      <td>0.0</td>\n",
       "      <td>0.0</td>\n",
       "      <td>...</td>\n",
       "      <td>0.0</td>\n",
       "      <td>0.0</td>\n",
       "      <td>0.0</td>\n",
       "      <td>0.0</td>\n",
       "      <td>0.0</td>\n",
       "      <td>0.0</td>\n",
       "      <td>205.0</td>\n",
       "      <td>0.0</td>\n",
       "      <td>152.0</td>\n",
       "      <td>153.0</td>\n",
       "    </tr>\n",
       "    <tr>\n",
       "      <td>4</td>\n",
       "      <td>1601.0</td>\n",
       "      <td>1625.0</td>\n",
       "      <td>5.269548</td>\n",
       "      <td>741.0</td>\n",
       "      <td>18.841219</td>\n",
       "      <td>89.063515</td>\n",
       "      <td>0.00000</td>\n",
       "      <td>0.0</td>\n",
       "      <td>0.0</td>\n",
       "      <td>0.0</td>\n",
       "      <td>...</td>\n",
       "      <td>0.0</td>\n",
       "      <td>0.0</td>\n",
       "      <td>0.0</td>\n",
       "      <td>0.0</td>\n",
       "      <td>0.0</td>\n",
       "      <td>0.0</td>\n",
       "      <td>207.0</td>\n",
       "      <td>0.0</td>\n",
       "      <td>153.0</td>\n",
       "      <td>154.0</td>\n",
       "    </tr>\n",
       "    <tr>\n",
       "      <td>5</td>\n",
       "      <td>1576.0</td>\n",
       "      <td>1602.0</td>\n",
       "      <td>5.599815</td>\n",
       "      <td>869.0</td>\n",
       "      <td>5.413692</td>\n",
       "      <td>89.238236</td>\n",
       "      <td>9.11456</td>\n",
       "      <td>0.0</td>\n",
       "      <td>0.0</td>\n",
       "      <td>0.0</td>\n",
       "      <td>...</td>\n",
       "      <td>0.0</td>\n",
       "      <td>0.0</td>\n",
       "      <td>0.0</td>\n",
       "      <td>0.0</td>\n",
       "      <td>0.0</td>\n",
       "      <td>0.0</td>\n",
       "      <td>203.0</td>\n",
       "      <td>0.0</td>\n",
       "      <td>151.0</td>\n",
       "      <td>152.0</td>\n",
       "    </tr>\n",
       "  </tbody>\n",
       "</table>\n",
       "<p>5 rows × 29 columns</p>\n",
       "</div>"
      ],
      "text/plain": [
       "     First_zamer  Last_zamer     Power  time_nagrev_sec      Газ 1     Wire 1  \\\n",
       "key                                                                             \n",
       "1         1571.0      1613.0  8.061388           1098.0  29.749986  60.059998   \n",
       "2         1581.0      1602.0  5.050710            811.0  12.555561  96.052315   \n",
       "3         1596.0      1599.0  4.124958            655.0  28.554793  91.160157   \n",
       "4         1601.0      1625.0  5.269548            741.0  18.841219  89.063515   \n",
       "5         1576.0      1602.0  5.599815            869.0   5.413692  89.238236   \n",
       "\n",
       "      Wire 2  Wire 3  Wire 4  Wire 5  ...  Bulk 6  Bulk 7  Bulk 8  Bulk 9  \\\n",
       "key                                   ...                                   \n",
       "1    0.00000     0.0     0.0     0.0  ...     0.0     0.0     0.0     0.0   \n",
       "2    0.00000     0.0     0.0     0.0  ...     0.0     0.0     0.0     0.0   \n",
       "3    0.00000     0.0     0.0     0.0  ...     0.0     0.0     0.0     0.0   \n",
       "4    0.00000     0.0     0.0     0.0  ...     0.0     0.0     0.0     0.0   \n",
       "5    9.11456     0.0     0.0     0.0  ...     0.0     0.0     0.0     0.0   \n",
       "\n",
       "     Bulk 10  Bulk 11  Bulk 12  Bulk 13  Bulk 14  Bulk 15  \n",
       "key                                                        \n",
       "1        0.0      0.0    206.0      0.0    150.0    154.0  \n",
       "2        0.0      0.0    206.0      0.0    149.0    154.0  \n",
       "3        0.0      0.0    205.0      0.0    152.0    153.0  \n",
       "4        0.0      0.0    207.0      0.0    153.0    154.0  \n",
       "5        0.0      0.0    203.0      0.0    151.0    152.0  \n",
       "\n",
       "[5 rows x 29 columns]"
      ]
     },
     "execution_count": 194,
     "metadata": {},
     "output_type": "execute_result"
    }
   ],
   "source": [
    "data_for_deal = data_for_deal.set_index('key')\n",
    "print(data_for_deal.shape)\n",
    "data_for_deal.head(5)"
   ]
  },
  {
   "cell_type": "markdown",
   "metadata": {},
   "source": [
    "По данным о газе было 3239 партии. Но не было адекватных замеров температуры, либо их не было вообще. Таким образом, остались данных только по 2329 партиям."
   ]
  },
  {
   "cell_type": "markdown",
   "metadata": {},
   "source": [
    " "
   ]
  },
  {
   "cell_type": "markdown",
   "metadata": {},
   "source": [
    "### 3.Разделение выборок на обучающую и тестовую"
   ]
  },
  {
   "cell_type": "code",
   "execution_count": 195,
   "metadata": {},
   "outputs": [],
   "source": [
    "from sklearn.model_selection import train_test_split\n",
    "from sklearn.metrics import mean_absolute_error\n",
    "\n",
    "df_train, df_valid = train_test_split(data_for_deal, test_size=0.25, random_state=12345)\n",
    "\n",
    "features_train = df_train.drop(['Last_zamer'], axis=1)\n",
    "target_train = df_train['Last_zamer']\n",
    "\n",
    "features_valid = df_valid.drop(['Last_zamer'], axis=1)\n",
    "target_valid = df_valid['Last_zamer']"
   ]
  },
  {
   "cell_type": "code",
   "execution_count": null,
   "metadata": {},
   "outputs": [],
   "source": []
  },
  {
   "cell_type": "markdown",
   "metadata": {},
   "source": [
    "### 4. Обучение модели, предсказание, расчёт метрики MAE"
   ]
  },
  {
   "cell_type": "markdown",
   "metadata": {},
   "source": [
    "#### DecisionTreeRegressor"
   ]
  },
  {
   "cell_type": "code",
   "execution_count": 196,
   "metadata": {},
   "outputs": [
    {
     "name": "stdout",
     "output_type": "stream",
     "text": [
      "max_depth: 20\n",
      "MAE_train: 0.19486675981521365\n",
      "MAE_test: 8.88854855835988\n",
      "max_depth: 23\n",
      "MAE_train: 0.04191456373586983\n",
      "MAE_test: 8.779650709496336\n",
      "max_depth: 26\n",
      "MAE_train: 0.0\n",
      "MAE_test: 8.915951972555746\n",
      "max_depth: 29\n",
      "MAE_train: 0.0\n",
      "MAE_test: 8.915951972555746\n"
     ]
    }
   ],
   "source": [
    "from sklearn.tree import DecisionTreeRegressor\n",
    "\n",
    "for m in range(20, 30, 3):\n",
    "    model = DecisionTreeRegressor(random_state=12345, max_depth=m)\n",
    "\n",
    "    model.fit(features_train, target_train)\n",
    "    train_predictions = model.predict(features_train)\n",
    "    valid_predictions = model.predict(features_valid)\n",
    "    mae_train = mean_absolute_error(target_train, train_predictions)\n",
    "    mae_valid= mean_absolute_error(target_valid, valid_predictions)\n",
    "    print(\"max_depth:\", m)\n",
    "    print(\"MAE_train:\", mae_train)\n",
    "    print(\"MAE_test:\", mae_valid)"
   ]
  },
  {
   "cell_type": "code",
   "execution_count": 197,
   "metadata": {},
   "outputs": [
    {
     "name": "stdout",
     "output_type": "stream",
     "text": [
      "MAE_train: 0.19486675981521365\n",
      "MAE_test: 8.88854855835988\n"
     ]
    }
   ],
   "source": [
    "model = DecisionTreeRegressor(random_state=12345, max_depth=20)\n",
    "\n",
    "model.fit(features_train, target_train)\n",
    "train_predictions = model.predict(features_train)\n",
    "valid_predictions = model.predict(features_valid)\n",
    "mae_train = mean_absolute_error(target_train, train_predictions)\n",
    "mae_valid= mean_absolute_error(target_valid, valid_predictions)\n",
    "\n",
    "print(\"MAE_train:\", mae_train)\n",
    "print(\"MAE_test:\", mae_valid)"
   ]
  },
  {
   "cell_type": "markdown",
   "metadata": {},
   "source": [
    "#### CatBoostRegressor"
   ]
  },
  {
   "cell_type": "code",
   "execution_count": 198,
   "metadata": {},
   "outputs": [
    {
     "name": "stdout",
     "output_type": "stream",
     "text": [
      "max_depth: 2\n",
      "MAE_train: 5.331635599699535\n",
      "MAE_test: 6.294744665618465\n",
      "max_depth: 3\n",
      "MAE_train: 4.940474019012294\n",
      "MAE_test: 6.166300091675394\n",
      "max_depth: 4\n",
      "MAE_train: 4.569601861867028\n",
      "MAE_test: 6.1001035082100845\n",
      "max_depth: 5\n",
      "MAE_train: 4.178828359709897\n",
      "MAE_test: 6.1692584367732906\n"
     ]
    }
   ],
   "source": [
    "from catboost import CatBoostRegressor\n",
    "\n",
    "for n in range(2,6,1):\n",
    "    modelCatBoost = CatBoostRegressor(loss_function=\"MAE\", iterations=300,  learning_rate = 0.08,\n",
    "                                      max_depth=n, verbose = False)\n",
    "    \n",
    "    modelCatBoost = modelCatBoost.fit(features_train, target_train)\n",
    "    \n",
    "    train_predictions = modelCatBoost.predict(features_train)\n",
    "    valid_predictions = modelCatBoost.predict(features_valid)\n",
    "    mae_train = mean_absolute_error(target_train, train_predictions)\n",
    "    mae_valid = mean_absolute_error(target_valid, valid_predictions)\n",
    "    print(\"max_depth:\", n)\n",
    "    print(\"MAE_train:\", mae_train)\n",
    "    print(\"MAE_test:\", mae_valid)"
   ]
  },
  {
   "cell_type": "code",
   "execution_count": 199,
   "metadata": {},
   "outputs": [
    {
     "name": "stdout",
     "output_type": "stream",
     "text": [
      "MAE_train: 4.569601861867028\n",
      "MAE_test: 6.1001035082100845\n",
      "CPU times: user 3.05 s, sys: 295 ms, total: 3.34 s\n",
      "Wall time: 6.66 s\n"
     ]
    }
   ],
   "source": [
    "%%time\n",
    "\n",
    "modelCatBoost = CatBoostRegressor(loss_function=\"MAE\", iterations=300, learning_rate = 0.08,\n",
    "                                  max_depth=4, verbose = False)\n",
    "modelCatBoost = modelCatBoost.fit(features_train, target_train)\n",
    "    \n",
    "train_predictions = modelCatBoost.predict(features_train)\n",
    "valid_predictions = modelCatBoost.predict(features_valid)\n",
    "mae_train = mean_absolute_error(target_train, train_predictions)\n",
    "mae_valid = mean_absolute_error(target_valid, valid_predictions)\n",
    "print(\"MAE_train:\", mae_train)\n",
    "print(\"MAE_test:\", mae_valid)"
   ]
  },
  {
   "cell_type": "code",
   "execution_count": 200,
   "metadata": {
    "scrolled": false
   },
   "outputs": [
    {
     "data": {
      "image/png": "[encoded data removed]",
      "text/plain": [
       "<Figure size 1080x360 with 1 Axes>"
      ]
     },
     "metadata": {
      "needs_background": "light"
     },
     "output_type": "display_data"
    },
    {
     "name": "stdout",
     "output_type": "stream",
     "text": [
      "                     Влияние признаков на модель\n"
     ]
    }
   ],
   "source": [
    "import matplotlib.pyplot as plt\n",
    "importances = modelCatBoost.feature_importances_\n",
    "importances=importances.tolist()\n",
    "featurs=features_train.columns.tolist()\n",
    "\n",
    "importanc=pd.DataFrame({'importances': importances, 'featurs': featurs})\n",
    "\n",
    "importanc = importanc.sort_values('importances', ascending=False)\n",
    "\n",
    "importanc.plot(kind = 'bar', x='featurs', y='importances', \n",
    "                figsize=(15,5), sharex=False)\n",
    "plt.show()\n",
    "print('                     Влияние признаков на модель')"
   ]
  },
  {
   "cell_type": "markdown",
   "metadata": {},
   "source": [
    "### 5.Выводы:"
   ]
  },
  {
   "cell_type": "markdown",
   "metadata": {},
   "source": [
    "### - Модель DecisionTreeRegressor\n",
    "#### Модель DecisionTreeRegressor с параметром max_depth=20 имеет:\n",
    "- MAE_train: 0.19486675981521365\n",
    "- MAE_test: 8.88854855835988\n",
    "#### Эта модель склонна к переобучению."
   ]
  },
  {
   "cell_type": "markdown",
   "metadata": {},
   "source": [
    "###  - Модель CatBoostRegressor\n",
    "#### На модели обученной с помощью CatBoostRegressor (с параметрами iterations=300, learning_rate = 0.08, max_depth=4) на тестовой выборке поличили метрику:\n",
    "#### MAE = 6.1 на тестовой выборке"
   ]
  },
  {
   "cell_type": "markdown",
   "metadata": {},
   "source": [
    "С помощью машинного обучения можно предсказывать температуру стали. Для этого пришлось использовать все доступные признаки/параметры от заказчика за исключением времени подачи легированных добавок. Если бы были более корректно собранные данные (треть откинули из замеров температуры) и было бы больше признаков/параметров от заказчика, модель могла бы быть точнее, а также можно было исследовать и предсказывать не только температуру нагрева стали."
   ]
  },
  {
   "cell_type": "markdown",
   "metadata": {},
   "source": [
    "# Вопросы тимлиду\n",
    "\n",
    "1) Для всех ли партий применяли нагрев сплава в ковше?\n",
    "\n",
    "2) Всегда ли добавляли легирующие добавки или, как вариант, сплав случайным образом при первых замерах уже имел необходимый целевой химический состав?\n",
    "\n",
    "3) Есть ли \"первичные данные\" по температуре (может по хим. анализу тоже есть данные и первичные и дальнейшие?) до ввода легирующих добавок?\n",
    "\n",
    "4) Существуют ли данные о весе/объёме партий первоначальных сплавов (сразу после того, как они оказались в ковше) до легирования или каждая партия весит одинаково (примерно 100 тонн), и на выходе должна получиться низколегированная сталь и поэтому влияние добавок на температуру практически нет?\n",
    "\n",
    "5) Будет ли уместно сделать ещё столбцы по округлённым значениям (до первого знака после запятой) по времени нагрева дуги (разница между началом нагрева и концом) с помощью One-Hot Encoding?\n",
    "\n",
    "6) Есть ли смысл в масштабировании данных?\n",
    "\n",
    "7) Существует противоречие между тем, как описан один полный цикл для одной партии (измерение - нагрев и добавлением легирующих элементов - перемешивание - измерение) и наличием данных по измерениям температуры. Исходя из описания цикла складывается впечатление, что первое измерение температуры для первой партии должно быть хронологически раньше первого нагрева, а в данных таблицы data_time представлен первый замер температуры только после третьего нагрева дуги. Без этих данных по температуре можно строить адекватную \"модель, которая предскажет температуру стали\"? Я может что-то не правильно понимаю?"
   ]
  },
  {
   "cell_type": "markdown",
   "metadata": {},
   "source": [
    "# План v1.0\n",
    "\n",
    "1) Сначало надо избавиться от всяких редкостей, аномалий, выбросов по партиям (key), по которым имеется недостаток информации (К примеру, исходя из разницы в количестве key в data_gas и data_arc можно сделать вывод, что не все партии нагревали в ковше, но инертным газом пользовались)\n",
    "\n",
    "2) Оставить выборку из партий, количество итераций (циклов) нагрева по которым находится в диапазоне между 3 и 6 (этот диапазон представляет большинство признаков)\n",
    "\n",
    "3) Посчитать общую мощность S = (P+Q)**1/2; посчитать время нагрева (разница между началом нагрева и концом); заменить все NaN на нули.\n",
    "\n",
    "4) Наверно объеденить все таблицы по \"key\".\n",
    "\n",
    "5) Наверно назначить температуру из data_temp целевым признаком. Обучить модель несколькими способами. Сравнить."
   ]
  },
  {
   "cell_type": "markdown",
   "metadata": {},
   "source": [
    "# Отчёт тимлиду\n",
    "\n",
    "- Какие пункты плана были выполнены, а какие — нет (поясните почему)?\n",
    "\n",
    "Не выполнен п.2, потому что это ещё сильнее сократилобы количество данных, что могло бы привести к неадекватной модели.\n",
    "\n",
    "\n",
    "- Какие трудности возникли и как вы их преодолели?\n",
    "\n",
    "Аномалии, выбросы... Инструменты предобработки данных позволили их преодолеть.\n",
    "\n",
    "\n",
    "- Какие ключевые шаги в решении задачи выделили?\n",
    "\n",
    "Исследование, Предобработка, Расчёт дополнительных признаков, Подготовка данных к МО, Построение моделей МО, Сравнение по метрике\n",
    "\n",
    "\n",
    "- Какая ваша итоговая модель и какое у неё качество?\n",
    "\n",
    "CatBoostRegressor (с параметрами iterations=300, learning_rate = 0.08, max_depth=4).\n",
    "Метрика MAE = 6.1"
   ]
  },
  {
   "cell_type": "code",
   "execution_count": null,
   "metadata": {},
   "outputs": [],
   "source": []
  }
 ],
 "metadata": {
  "kernelspec": {
   "display_name": "Python 3",
   "language": "python",
   "name": "python3"
  },
  "language_info": {
   "codemirror_mode": {
    "name": "ipython",
    "version": 3
   },
   "file_extension": ".py",
   "mimetype": "text/x-python",
   "name": "python",
   "nbconvert_exporter": "python",
   "pygments_lexer": "ipython3",
   "version": "3.7.3"
  }
 },
 "nbformat": 4,
 "nbformat_minor": 2
}
