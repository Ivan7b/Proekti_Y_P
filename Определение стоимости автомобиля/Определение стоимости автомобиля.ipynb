{
 "cells": [
  {
   "cell_type": "markdown",
   "metadata": {},
   "source": [
    "### Cтоимость автомобиля\n",
    "Нужно построить модель, которая поможет быстро узнать рыночную стоимость автомобиля. "
   ]
  },
  {
   "cell_type": "code",
   "execution_count": 582,
   "metadata": {},
   "outputs": [],
   "source": [
    "import pandas as pd"
   ]
  },
  {
   "cell_type": "code",
   "execution_count": 583,
   "metadata": {},
   "outputs": [],
   "source": [
    "import matplotlib.pyplot as plt\n",
    "import numpy as np\n",
    "from sklearn.model_selection import train_test_split\n",
    "from sklearn.metrics import mean_squared_error\n",
    "from sklearn.linear_model import LinearRegression"
   ]
  },
  {
   "cell_type": "markdown",
   "metadata": {},
   "source": [
    "# 1. Подготовка данных"
   ]
  },
  {
   "cell_type": "code",
   "execution_count": 584,
   "metadata": {},
   "outputs": [
    {
     "name": "stdout",
     "output_type": "stream",
     "text": [
      "<class 'pandas.core.frame.DataFrame'>\n",
      "RangeIndex: 354369 entries, 0 to 354368\n",
      "Data columns (total 16 columns):\n",
      "DateCrawled          354369 non-null object\n",
      "Price                354369 non-null int64\n",
      "VehicleType          316879 non-null object\n",
      "RegistrationYear     354369 non-null int64\n",
      "Gearbox              334536 non-null object\n",
      "Power                354369 non-null int64\n",
      "Model                334664 non-null object\n",
      "Kilometer            354369 non-null int64\n",
      "RegistrationMonth    354369 non-null int64\n",
      "FuelType             321474 non-null object\n",
      "Brand                354369 non-null object\n",
      "NotRepaired          283215 non-null object\n",
      "DateCreated          354369 non-null object\n",
      "NumberOfPictures     354369 non-null int64\n",
      "PostalCode           354369 non-null int64\n",
      "LastSeen             354369 non-null object\n",
      "dtypes: int64(7), object(9)\n",
      "memory usage: 43.3+ MB\n",
      "None\n"
     ]
    },
    {
     "data": {
      "text/html": [
       "<div>\n",
       "<style scoped>\n",
       "    .dataframe tbody tr th:only-of-type {\n",
       "        vertical-align: middle;\n",
       "    }\n",
       "\n",
       "    .dataframe tbody tr th {\n",
       "        vertical-align: top;\n",
       "    }\n",
       "\n",
       "    .dataframe thead th {\n",
       "        text-align: right;\n",
       "    }\n",
       "</style>\n",
       "<table border=\"1\" class=\"dataframe\">\n",
       "  <thead>\n",
       "    <tr style=\"text-align: right;\">\n",
       "      <th></th>\n",
       "      <th>DateCrawled</th>\n",
       "      <th>Price</th>\n",
       "      <th>VehicleType</th>\n",
       "      <th>RegistrationYear</th>\n",
       "      <th>Gearbox</th>\n",
       "      <th>Power</th>\n",
       "      <th>Model</th>\n",
       "      <th>Kilometer</th>\n",
       "      <th>RegistrationMonth</th>\n",
       "      <th>FuelType</th>\n",
       "      <th>Brand</th>\n",
       "      <th>NotRepaired</th>\n",
       "      <th>DateCreated</th>\n",
       "      <th>NumberOfPictures</th>\n",
       "      <th>PostalCode</th>\n",
       "      <th>LastSeen</th>\n",
       "    </tr>\n",
       "  </thead>\n",
       "  <tbody>\n",
       "    <tr>\n",
       "      <td>0</td>\n",
       "      <td>2016-03-24 11:52:17</td>\n",
       "      <td>480</td>\n",
       "      <td>NaN</td>\n",
       "      <td>1993</td>\n",
       "      <td>manual</td>\n",
       "      <td>0</td>\n",
       "      <td>golf</td>\n",
       "      <td>150000</td>\n",
       "      <td>0</td>\n",
       "      <td>petrol</td>\n",
       "      <td>volkswagen</td>\n",
       "      <td>NaN</td>\n",
       "      <td>2016-03-24 00:00:00</td>\n",
       "      <td>0</td>\n",
       "      <td>70435</td>\n",
       "      <td>2016-04-07 03:16:57</td>\n",
       "    </tr>\n",
       "    <tr>\n",
       "      <td>1</td>\n",
       "      <td>2016-03-24 10:58:45</td>\n",
       "      <td>18300</td>\n",
       "      <td>coupe</td>\n",
       "      <td>2011</td>\n",
       "      <td>manual</td>\n",
       "      <td>190</td>\n",
       "      <td>NaN</td>\n",
       "      <td>125000</td>\n",
       "      <td>5</td>\n",
       "      <td>gasoline</td>\n",
       "      <td>audi</td>\n",
       "      <td>yes</td>\n",
       "      <td>2016-03-24 00:00:00</td>\n",
       "      <td>0</td>\n",
       "      <td>66954</td>\n",
       "      <td>2016-04-07 01:46:50</td>\n",
       "    </tr>\n",
       "    <tr>\n",
       "      <td>2</td>\n",
       "      <td>2016-03-14 12:52:21</td>\n",
       "      <td>9800</td>\n",
       "      <td>suv</td>\n",
       "      <td>2004</td>\n",
       "      <td>auto</td>\n",
       "      <td>163</td>\n",
       "      <td>grand</td>\n",
       "      <td>125000</td>\n",
       "      <td>8</td>\n",
       "      <td>gasoline</td>\n",
       "      <td>jeep</td>\n",
       "      <td>NaN</td>\n",
       "      <td>2016-03-14 00:00:00</td>\n",
       "      <td>0</td>\n",
       "      <td>90480</td>\n",
       "      <td>2016-04-05 12:47:46</td>\n",
       "    </tr>\n",
       "    <tr>\n",
       "      <td>3</td>\n",
       "      <td>2016-03-17 16:54:04</td>\n",
       "      <td>1500</td>\n",
       "      <td>small</td>\n",
       "      <td>2001</td>\n",
       "      <td>manual</td>\n",
       "      <td>75</td>\n",
       "      <td>golf</td>\n",
       "      <td>150000</td>\n",
       "      <td>6</td>\n",
       "      <td>petrol</td>\n",
       "      <td>volkswagen</td>\n",
       "      <td>no</td>\n",
       "      <td>2016-03-17 00:00:00</td>\n",
       "      <td>0</td>\n",
       "      <td>91074</td>\n",
       "      <td>2016-03-17 17:40:17</td>\n",
       "    </tr>\n",
       "    <tr>\n",
       "      <td>4</td>\n",
       "      <td>2016-03-31 17:25:20</td>\n",
       "      <td>3600</td>\n",
       "      <td>small</td>\n",
       "      <td>2008</td>\n",
       "      <td>manual</td>\n",
       "      <td>69</td>\n",
       "      <td>fabia</td>\n",
       "      <td>90000</td>\n",
       "      <td>7</td>\n",
       "      <td>gasoline</td>\n",
       "      <td>skoda</td>\n",
       "      <td>no</td>\n",
       "      <td>2016-03-31 00:00:00</td>\n",
       "      <td>0</td>\n",
       "      <td>60437</td>\n",
       "      <td>2016-04-06 10:17:21</td>\n",
       "    </tr>\n",
       "  </tbody>\n",
       "</table>\n",
       "</div>"
      ],
      "text/plain": [
       "           DateCrawled  Price VehicleType  RegistrationYear Gearbox  Power  \\\n",
       "0  2016-03-24 11:52:17    480         NaN              1993  manual      0   \n",
       "1  2016-03-24 10:58:45  18300       coupe              2011  manual    190   \n",
       "2  2016-03-14 12:52:21   9800         suv              2004    auto    163   \n",
       "3  2016-03-17 16:54:04   1500       small              2001  manual     75   \n",
       "4  2016-03-31 17:25:20   3600       small              2008  manual     69   \n",
       "\n",
       "   Model  Kilometer  RegistrationMonth  FuelType       Brand NotRepaired  \\\n",
       "0   golf     150000                  0    petrol  volkswagen         NaN   \n",
       "1    NaN     125000                  5  gasoline        audi         yes   \n",
       "2  grand     125000                  8  gasoline        jeep         NaN   \n",
       "3   golf     150000                  6    petrol  volkswagen          no   \n",
       "4  fabia      90000                  7  gasoline       skoda          no   \n",
       "\n",
       "           DateCreated  NumberOfPictures  PostalCode             LastSeen  \n",
       "0  2016-03-24 00:00:00                 0       70435  2016-04-07 03:16:57  \n",
       "1  2016-03-24 00:00:00                 0       66954  2016-04-07 01:46:50  \n",
       "2  2016-03-14 00:00:00                 0       90480  2016-04-05 12:47:46  \n",
       "3  2016-03-17 00:00:00                 0       91074  2016-03-17 17:40:17  \n",
       "4  2016-03-31 00:00:00                 0       60437  2016-04-06 10:17:21  "
      ]
     },
     "execution_count": 584,
     "metadata": {},
     "output_type": "execute_result"
    }
   ],
   "source": [
    "df = pd.read_csv('/datasets/autos.csv')\n",
    "print(df.info())\n",
    "df.head()"
   ]
  },
  {
   "cell_type": "code",
   "execution_count": 585,
   "metadata": {},
   "outputs": [
    {
     "name": "stdout",
     "output_type": "stream",
     "text": [
      "<class 'pandas.core.frame.DataFrame'>\n",
      "Int64Index: 245814 entries, 3 to 354367\n",
      "Data columns (total 16 columns):\n",
      "DateCrawled          245814 non-null object\n",
      "Price                245814 non-null int64\n",
      "VehicleType          245814 non-null object\n",
      "RegistrationYear     245814 non-null int64\n",
      "Gearbox              245814 non-null object\n",
      "Power                245814 non-null int64\n",
      "Model                245814 non-null object\n",
      "Kilometer            245814 non-null int64\n",
      "RegistrationMonth    245814 non-null int64\n",
      "FuelType             245814 non-null object\n",
      "Brand                245814 non-null object\n",
      "NotRepaired          245814 non-null object\n",
      "DateCreated          245814 non-null object\n",
      "NumberOfPictures     245814 non-null int64\n",
      "PostalCode           245814 non-null int64\n",
      "LastSeen             245814 non-null object\n",
      "dtypes: int64(7), object(9)\n",
      "memory usage: 31.9+ MB\n",
      "None\n"
     ]
    }
   ],
   "source": [
    "df = df.dropna()\n",
    "print(df.info())"
   ]
  },
  {
   "cell_type": "markdown",
   "metadata": {},
   "source": [
    "Было удалено меньше трети выборки. Датасет и после этого все равно огромен, врядли будут утрачены какие-то важные закономерности, скорость обучения будет выше."
   ]
  },
  {
   "cell_type": "code",
   "execution_count": 586,
   "metadata": {},
   "outputs": [],
   "source": [
    "df = df.reset_index(drop = True)"
   ]
  },
  {
   "cell_type": "code",
   "execution_count": 587,
   "metadata": {},
   "outputs": [
    {
     "data": {
      "text/plain": [
       "4"
      ]
     },
     "execution_count": 587,
     "metadata": {},
     "output_type": "execute_result"
    }
   ],
   "source": [
    "df.duplicated().sum()"
   ]
  },
  {
   "cell_type": "code",
   "execution_count": 588,
   "metadata": {},
   "outputs": [],
   "source": [
    "df = df.drop_duplicates().reset_index(drop = True)"
   ]
  },
  {
   "cell_type": "markdown",
   "metadata": {},
   "source": [
    "Удаляем бесполезные столбцы"
   ]
  },
  {
   "cell_type": "code",
   "execution_count": 589,
   "metadata": {},
   "outputs": [
    {
     "data": {
      "text/html": [
       "<div>\n",
       "<style scoped>\n",
       "    .dataframe tbody tr th:only-of-type {\n",
       "        vertical-align: middle;\n",
       "    }\n",
       "\n",
       "    .dataframe tbody tr th {\n",
       "        vertical-align: top;\n",
       "    }\n",
       "\n",
       "    .dataframe thead th {\n",
       "        text-align: right;\n",
       "    }\n",
       "</style>\n",
       "<table border=\"1\" class=\"dataframe\">\n",
       "  <thead>\n",
       "    <tr style=\"text-align: right;\">\n",
       "      <th></th>\n",
       "      <th>Price</th>\n",
       "      <th>VehicleType</th>\n",
       "      <th>RegistrationYear</th>\n",
       "      <th>Gearbox</th>\n",
       "      <th>Power</th>\n",
       "      <th>Model</th>\n",
       "      <th>Kilometer</th>\n",
       "      <th>RegistrationMonth</th>\n",
       "      <th>FuelType</th>\n",
       "      <th>Brand</th>\n",
       "      <th>NotRepaired</th>\n",
       "    </tr>\n",
       "  </thead>\n",
       "  <tbody>\n",
       "    <tr>\n",
       "      <td>0</td>\n",
       "      <td>1500</td>\n",
       "      <td>small</td>\n",
       "      <td>2001</td>\n",
       "      <td>manual</td>\n",
       "      <td>75</td>\n",
       "      <td>golf</td>\n",
       "      <td>150000</td>\n",
       "      <td>6</td>\n",
       "      <td>petrol</td>\n",
       "      <td>volkswagen</td>\n",
       "      <td>no</td>\n",
       "    </tr>\n",
       "    <tr>\n",
       "      <td>1</td>\n",
       "      <td>3600</td>\n",
       "      <td>small</td>\n",
       "      <td>2008</td>\n",
       "      <td>manual</td>\n",
       "      <td>69</td>\n",
       "      <td>fabia</td>\n",
       "      <td>90000</td>\n",
       "      <td>7</td>\n",
       "      <td>gasoline</td>\n",
       "      <td>skoda</td>\n",
       "      <td>no</td>\n",
       "    </tr>\n",
       "    <tr>\n",
       "      <td>2</td>\n",
       "      <td>650</td>\n",
       "      <td>sedan</td>\n",
       "      <td>1995</td>\n",
       "      <td>manual</td>\n",
       "      <td>102</td>\n",
       "      <td>3er</td>\n",
       "      <td>150000</td>\n",
       "      <td>10</td>\n",
       "      <td>petrol</td>\n",
       "      <td>bmw</td>\n",
       "      <td>yes</td>\n",
       "    </tr>\n",
       "    <tr>\n",
       "      <td>3</td>\n",
       "      <td>2200</td>\n",
       "      <td>convertible</td>\n",
       "      <td>2004</td>\n",
       "      <td>manual</td>\n",
       "      <td>109</td>\n",
       "      <td>2_reihe</td>\n",
       "      <td>150000</td>\n",
       "      <td>8</td>\n",
       "      <td>petrol</td>\n",
       "      <td>peugeot</td>\n",
       "      <td>no</td>\n",
       "    </tr>\n",
       "    <tr>\n",
       "      <td>4</td>\n",
       "      <td>0</td>\n",
       "      <td>sedan</td>\n",
       "      <td>1980</td>\n",
       "      <td>manual</td>\n",
       "      <td>50</td>\n",
       "      <td>other</td>\n",
       "      <td>40000</td>\n",
       "      <td>7</td>\n",
       "      <td>petrol</td>\n",
       "      <td>volkswagen</td>\n",
       "      <td>no</td>\n",
       "    </tr>\n",
       "  </tbody>\n",
       "</table>\n",
       "</div>"
      ],
      "text/plain": [
       "   Price  VehicleType  RegistrationYear Gearbox  Power    Model  Kilometer  \\\n",
       "0   1500        small              2001  manual     75     golf     150000   \n",
       "1   3600        small              2008  manual     69    fabia      90000   \n",
       "2    650        sedan              1995  manual    102      3er     150000   \n",
       "3   2200  convertible              2004  manual    109  2_reihe     150000   \n",
       "4      0        sedan              1980  manual     50    other      40000   \n",
       "\n",
       "   RegistrationMonth  FuelType       Brand NotRepaired  \n",
       "0                  6    petrol  volkswagen          no  \n",
       "1                  7  gasoline       skoda          no  \n",
       "2                 10    petrol         bmw         yes  \n",
       "3                  8    petrol     peugeot          no  \n",
       "4                  7    petrol  volkswagen          no  "
      ]
     },
     "execution_count": 589,
     "metadata": {},
     "output_type": "execute_result"
    }
   ],
   "source": [
    "df1 = df.drop(['DateCrawled', 'DateCreated', 'PostalCode', 'LastSeen', 'NumberOfPictures'], axis=1)\n",
    "df1.head(5)"
   ]
  },
  {
   "cell_type": "code",
   "execution_count": 590,
   "metadata": {},
   "outputs": [
    {
     "name": "stdout",
     "output_type": "stream",
     "text": [
      "<class 'pandas.core.frame.DataFrame'>\n",
      "RangeIndex: 245810 entries, 0 to 245809\n",
      "Data columns (total 11 columns):\n",
      "Price                245810 non-null int64\n",
      "VehicleType          245810 non-null object\n",
      "RegistrationYear     245810 non-null int64\n",
      "Gearbox              245810 non-null object\n",
      "Power                245810 non-null int64\n",
      "Model                245810 non-null object\n",
      "Kilometer            245810 non-null int64\n",
      "RegistrationMonth    245810 non-null int64\n",
      "FuelType             245810 non-null object\n",
      "Brand                245810 non-null object\n",
      "NotRepaired          245810 non-null bool\n",
      "dtypes: bool(1), int64(5), object(5)\n",
      "memory usage: 19.0+ MB\n",
      "None\n"
     ]
    }
   ],
   "source": [
    "df1['NotRepaired'] = df1['NotRepaired'].replace('yes', 'True')\n",
    "df1['NotRepaired'] = df1['NotRepaired'].replace('no', 'False')\n",
    "df1['NotRepaired'] = df1['NotRepaired'].astype('bool')\n",
    "print(df1.info())"
   ]
  },
  {
   "cell_type": "markdown",
   "metadata": {},
   "source": [
    "Были удалены строки, которые в основном не содержали важного признака NotRepaired, который в свою очередь должен сильно влиять на цену (целевой признак). Т.е. отсутствие информации на этот счёт негативно повлияет на обучение модели. Ниже приведены графики до и после удаления строк с Nan, также \"срезаны\" артефакты."
   ]
  },
  {
   "cell_type": "code",
   "execution_count": 591,
   "metadata": {},
   "outputs": [
    {
     "name": "stdout",
     "output_type": "stream",
     "text": [
      "20000\n"
     ]
    },
    {
     "data": {
      "text/plain": [
       "<matplotlib.axes._subplots.AxesSubplot at 0x7ff764710910>"
      ]
     },
     "execution_count": 591,
     "metadata": {},
     "output_type": "execute_result"
    },
    {
     "data": {
      "image/png": "[encoded data removed]",
      "text/plain": [
       "<Figure size 1440x360 with 1 Axes>"
      ]
     },
     "metadata": {
      "needs_background": "light"
     },
     "output_type": "display_data"
    }
   ],
   "source": [
    "print(df['Price'].max())\n",
    "df['Price'].hist(bins=100, figsize=(20,5))"
   ]
  },
  {
   "cell_type": "code",
   "execution_count": 592,
   "metadata": {},
   "outputs": [],
   "source": [
    "df1 = df1.query('0 < Price')"
   ]
  },
  {
   "cell_type": "code",
   "execution_count": 593,
   "metadata": {},
   "outputs": [
    {
     "name": "stdout",
     "output_type": "stream",
     "text": [
      "20000\n"
     ]
    },
    {
     "data": {
      "text/plain": [
       "<matplotlib.axes._subplots.AxesSubplot at 0x7ff75829ff10>"
      ]
     },
     "execution_count": 593,
     "metadata": {},
     "output_type": "execute_result"
    },
    {
     "data": {
      "image/png": "[encoded data removed]",
      "text/plain": [
       "<Figure size 1440x360 with 1 Axes>"
      ]
     },
     "metadata": {
      "needs_background": "light"
     },
     "output_type": "display_data"
    }
   ],
   "source": [
    "print(df1['Price'].max())\n",
    "df1['Price'].hist(bins=100, figsize=(20,5))"
   ]
  },
  {
   "cell_type": "code",
   "execution_count": 594,
   "metadata": {},
   "outputs": [
    {
     "name": "stdout",
     "output_type": "stream",
     "text": [
      "2018\n"
     ]
    },
    {
     "data": {
      "text/plain": [
       "<matplotlib.axes._subplots.AxesSubplot at 0x7ff800e63e10>"
      ]
     },
     "execution_count": 594,
     "metadata": {},
     "output_type": "execute_result"
    },
    {
     "data": {
      "image/png": "[encoded data removed]",
      "text/plain": [
       "<Figure size 1440x360 with 1 Axes>"
      ]
     },
     "metadata": {
      "needs_background": "light"
     },
     "output_type": "display_data"
    }
   ],
   "source": [
    "print(df['RegistrationYear'].max())\n",
    "df['RegistrationYear'].hist(bins=100, figsize=(20,5))"
   ]
  },
  {
   "cell_type": "code",
   "execution_count": 595,
   "metadata": {},
   "outputs": [],
   "source": [
    "df1 = df1.query('1960 < RegistrationYear')"
   ]
  },
  {
   "cell_type": "code",
   "execution_count": 596,
   "metadata": {},
   "outputs": [
    {
     "name": "stdout",
     "output_type": "stream",
     "text": [
      "2018\n"
     ]
    },
    {
     "data": {
      "text/plain": [
       "<matplotlib.axes._subplots.AxesSubplot at 0x7ff757f3c110>"
      ]
     },
     "execution_count": 596,
     "metadata": {},
     "output_type": "execute_result"
    },
    {
     "data": {
      "image/png": "[encoded data removed]",
      "text/plain": [
       "<Figure size 1440x360 with 1 Axes>"
      ]
     },
     "metadata": {
      "needs_background": "light"
     },
     "output_type": "display_data"
    }
   ],
   "source": [
    "print(df1['RegistrationYear'].max())\n",
    "df1['RegistrationYear'].hist(bins=100, figsize=(20,5))"
   ]
  },
  {
   "cell_type": "code",
   "execution_count": 597,
   "metadata": {},
   "outputs": [
    {
     "name": "stdout",
     "output_type": "stream",
     "text": [
      "20000\n"
     ]
    },
    {
     "data": {
      "text/plain": [
       "<matplotlib.axes._subplots.AxesSubplot at 0x7ff757dd79d0>"
      ]
     },
     "execution_count": 597,
     "metadata": {},
     "output_type": "execute_result"
    },
    {
     "data": {
      "image/png": "[encoded data removed]",
      "text/plain": [
       "<Figure size 1440x360 with 1 Axes>"
      ]
     },
     "metadata": {
      "needs_background": "light"
     },
     "output_type": "display_data"
    }
   ],
   "source": [
    "print(df['Power'].max())\n",
    "df['Power'].hist(bins=100, figsize=(20,5))"
   ]
  },
  {
   "cell_type": "code",
   "execution_count": 598,
   "metadata": {},
   "outputs": [],
   "source": [
    "df1 = df1.query('600 > Power > 0')"
   ]
  },
  {
   "cell_type": "code",
   "execution_count": 599,
   "metadata": {},
   "outputs": [
    {
     "name": "stdout",
     "output_type": "stream",
     "text": [
      "585\n"
     ]
    },
    {
     "data": {
      "text/plain": [
       "<matplotlib.axes._subplots.AxesSubplot at 0x7ff757c59750>"
      ]
     },
     "execution_count": 599,
     "metadata": {},
     "output_type": "execute_result"
    },
    {
     "data": {
      "image/png": "[encoded data removed]",
      "text/plain": [
       "<Figure size 1440x360 with 1 Axes>"
      ]
     },
     "metadata": {
      "needs_background": "light"
     },
     "output_type": "display_data"
    }
   ],
   "source": [
    "print(df1['Power'].max())\n",
    "df1['Power'].hist(bins=100, figsize=(20,5))"
   ]
  },
  {
   "cell_type": "code",
   "execution_count": 600,
   "metadata": {},
   "outputs": [
    {
     "name": "stdout",
     "output_type": "stream",
     "text": [
      "150000\n"
     ]
    },
    {
     "data": {
      "text/plain": [
       "<matplotlib.axes._subplots.AxesSubplot at 0x7ff757a7eb50>"
      ]
     },
     "execution_count": 600,
     "metadata": {},
     "output_type": "execute_result"
    },
    {
     "data": {
      "image/png": "[encoded data removed]",
      "text/plain": [
       "<Figure size 1440x360 with 1 Axes>"
      ]
     },
     "metadata": {
      "needs_background": "light"
     },
     "output_type": "display_data"
    }
   ],
   "source": [
    "print(df['Kilometer'].max())\n",
    "df['Kilometer'].hist(bins=100, figsize=(20,5))"
   ]
  },
  {
   "cell_type": "code",
   "execution_count": 601,
   "metadata": {},
   "outputs": [
    {
     "name": "stdout",
     "output_type": "stream",
     "text": [
      "150000\n"
     ]
    },
    {
     "data": {
      "text/plain": [
       "<matplotlib.axes._subplots.AxesSubplot at 0x7ff757973190>"
      ]
     },
     "execution_count": 601,
     "metadata": {},
     "output_type": "execute_result"
    },
    {
     "data": {
      "image/png": "[encoded data removed]",
      "text/plain": [
       "<Figure size 1440x360 with 1 Axes>"
      ]
     },
     "metadata": {
      "needs_background": "light"
     },
     "output_type": "display_data"
    }
   ],
   "source": [
    "print(df1['Kilometer'].max())\n",
    "df1['Kilometer'].hist(bins=100, figsize=(20,5))"
   ]
  },
  {
   "cell_type": "code",
   "execution_count": 602,
   "metadata": {},
   "outputs": [
    {
     "name": "stdout",
     "output_type": "stream",
     "text": [
      "12\n"
     ]
    },
    {
     "data": {
      "text/plain": [
       "<matplotlib.axes._subplots.AxesSubplot at 0x7ff75777e950>"
      ]
     },
     "execution_count": 602,
     "metadata": {},
     "output_type": "execute_result"
    },
    {
     "data": {
      "image/png": "[encoded data removed]",
      "text/plain": [
       "<Figure size 1440x360 with 1 Axes>"
      ]
     },
     "metadata": {
      "needs_background": "light"
     },
     "output_type": "display_data"
    }
   ],
   "source": [
    "print(df['RegistrationMonth'].max())\n",
    "df['RegistrationMonth'].hist(bins=100, figsize=(20,5))"
   ]
  },
  {
   "cell_type": "code",
   "execution_count": 603,
   "metadata": {},
   "outputs": [],
   "source": [
    "df1 = df1.query('RegistrationMonth > 0')"
   ]
  },
  {
   "cell_type": "code",
   "execution_count": 604,
   "metadata": {},
   "outputs": [
    {
     "name": "stdout",
     "output_type": "stream",
     "text": [
      "12\n"
     ]
    },
    {
     "data": {
      "text/plain": [
       "<matplotlib.axes._subplots.AxesSubplot at 0x7ff757677e90>"
      ]
     },
     "execution_count": 604,
     "metadata": {},
     "output_type": "execute_result"
    },
    {
     "data": {
      "image/png": "[encoded data removed]",
      "text/plain": [
       "<Figure size 1440x360 with 1 Axes>"
      ]
     },
     "metadata": {
      "needs_background": "light"
     },
     "output_type": "display_data"
    }
   ],
   "source": [
    "print(df1['RegistrationMonth'].max())\n",
    "df1['RegistrationMonth'].hist(bins=100, figsize=(20,5))"
   ]
  },
  {
   "cell_type": "markdown",
   "metadata": {},
   "source": [
    "### object"
   ]
  },
  {
   "cell_type": "code",
   "execution_count": 605,
   "metadata": {},
   "outputs": [
    {
     "name": "stdout",
     "output_type": "stream",
     "text": [
      "sedan          67355\n",
      "small          53291\n",
      "wagon          47618\n",
      "bus            22186\n",
      "convertible    15359\n",
      "coupe          11214\n",
      "suv             9064\n",
      "other           1368\n",
      "Name: VehicleType, dtype: int64\n"
     ]
    }
   ],
   "source": [
    "print(df1['VehicleType'].value_counts())"
   ]
  },
  {
   "cell_type": "code",
   "execution_count": 606,
   "metadata": {},
   "outputs": [
    {
     "name": "stdout",
     "output_type": "stream",
     "text": [
      "manual    179661\n",
      "auto       47794\n",
      "Name: Gearbox, dtype: int64\n"
     ]
    }
   ],
   "source": [
    "print(df1['Gearbox'].value_counts())"
   ]
  },
  {
   "cell_type": "code",
   "execution_count": 607,
   "metadata": {},
   "outputs": [
    {
     "name": "stdout",
     "output_type": "stream",
     "text": [
      "golf                  18871\n",
      "other                 16740\n",
      "3er                   13841\n",
      "polo                   7976\n",
      "corsa                  7400\n",
      "                      ...  \n",
      "serie_3                   3\n",
      "serie_2                   3\n",
      "range_rover_evoque        2\n",
      "samara                    2\n",
      "rangerover                1\n",
      "Name: Model, Length: 249, dtype: int64\n"
     ]
    }
   ],
   "source": [
    "print(df1['Model'].value_counts())"
   ]
  },
  {
   "cell_type": "code",
   "execution_count": 608,
   "metadata": {},
   "outputs": [
    {
     "name": "stdout",
     "output_type": "stream",
     "text": [
      "petrol      148792\n",
      "gasoline     74399\n",
      "lpg           3580\n",
      "cng            423\n",
      "hybrid         167\n",
      "other           48\n",
      "electric        46\n",
      "Name: FuelType, dtype: int64\n"
     ]
    }
   ],
   "source": [
    "print(df1['FuelType'].value_counts())"
   ]
  },
  {
   "cell_type": "code",
   "execution_count": 609,
   "metadata": {
    "scrolled": true
   },
   "outputs": [
    {
     "name": "stdout",
     "output_type": "stream",
     "text": [
      "volkswagen       48118\n",
      "bmw              25614\n",
      "opel             23697\n",
      "mercedes_benz    22248\n",
      "audi             20339\n",
      "ford             15549\n",
      "renault          10328\n",
      "peugeot           7257\n",
      "fiat              5750\n",
      "seat              4602\n",
      "skoda             4221\n",
      "mazda             3669\n",
      "toyota            3417\n",
      "citroen           3394\n",
      "nissan            3189\n",
      "smart             3145\n",
      "mini              2621\n",
      "hyundai           2582\n",
      "volvo             2311\n",
      "mitsubishi        1857\n",
      "honda             1781\n",
      "kia               1739\n",
      "suzuki            1564\n",
      "alfa_romeo        1549\n",
      "chevrolet         1152\n",
      "chrysler           915\n",
      "dacia              686\n",
      "porsche            522\n",
      "subaru             488\n",
      "daihatsu           462\n",
      "jeep               459\n",
      "saab               392\n",
      "land_rover         391\n",
      "jaguar             367\n",
      "daewoo             296\n",
      "lancia             283\n",
      "rover              236\n",
      "trabant            142\n",
      "lada               123\n",
      "Name: Brand, dtype: int64\n"
     ]
    }
   ],
   "source": [
    "print(df1['Brand'].value_counts())"
   ]
  },
  {
   "cell_type": "markdown",
   "metadata": {},
   "source": [
    "# 2. Обучение моделей"
   ]
  },
  {
   "cell_type": "markdown",
   "metadata": {},
   "source": [
    "### CatBoostRegressor"
   ]
  },
  {
   "cell_type": "code",
   "execution_count": 610,
   "metadata": {},
   "outputs": [
    {
     "name": "stdout",
     "output_type": "stream",
     "text": [
      "train\n",
      "(163767, 10)\n",
      "(163767,)\n",
      "\n",
      "valid\n",
      "(40942, 10)\n",
      "(40942,)\n",
      "\n",
      "test\n",
      "(22746, 10)\n",
      "(22746,)\n"
     ]
    }
   ],
   "source": [
    "df_learn, df_test = train_test_split(df1, test_size=0.10, random_state=12345)\n",
    "\n",
    "df_train, df_valid = train_test_split(df_learn, test_size=0.20, random_state=12345)\n",
    "\n",
    "\n",
    "features_train = df_train.drop(['Price'], axis=1)\n",
    "target_train = df_train['Price']\n",
    "\n",
    "features_valid = df_valid.drop(['Price'], axis=1)\n",
    "target_valid = df_valid['Price']\n",
    "\n",
    "features_test = df_test.drop(['Price'], axis=1)\n",
    "target_test = df_test['Price']\n",
    "\n",
    "print('train')\n",
    "print(features_train.shape)\n",
    "print(target_train.shape)\n",
    "print()\n",
    "print('valid')\n",
    "print(features_valid.shape)\n",
    "print(target_valid.shape)\n",
    "print()\n",
    "print('test')\n",
    "print(features_test.shape)\n",
    "print(target_test.shape)"
   ]
  },
  {
   "cell_type": "code",
   "execution_count": 611,
   "metadata": {
    "scrolled": true
   },
   "outputs": [
    {
     "name": "stdout",
     "output_type": "stream",
     "text": [
      "0:\tlearn: 3646.7124722\ttotal: 14.6ms\tremaining: 422ms\n",
      "1:\tlearn: 3238.1861664\ttotal: 24.9ms\tremaining: 349ms\n",
      "2:\tlearn: 3075.5600125\ttotal: 123ms\tremaining: 1.1s\n",
      "3:\tlearn: 2988.2816856\ttotal: 312ms\tremaining: 2.03s\n",
      "4:\tlearn: 2906.9986335\ttotal: 323ms\tremaining: 1.61s\n",
      "5:\tlearn: 2833.4277196\ttotal: 418ms\tremaining: 1.67s\n",
      "6:\tlearn: 2774.1292150\ttotal: 517ms\tremaining: 1.7s\n",
      "7:\tlearn: 2706.6096474\ttotal: 620ms\tremaining: 1.7s\n",
      "8:\tlearn: 2680.1529903\ttotal: 717ms\tremaining: 1.67s\n",
      "9:\tlearn: 2651.9843957\ttotal: 815ms\tremaining: 1.63s\n",
      "10:\tlearn: 2604.5972660\ttotal: 910ms\tremaining: 1.57s\n",
      "11:\tlearn: 2580.7159847\ttotal: 1.01s\tremaining: 1.52s\n",
      "12:\tlearn: 2557.7016842\ttotal: 1.11s\tremaining: 1.45s\n",
      "13:\tlearn: 2521.4603889\ttotal: 1.21s\tremaining: 1.38s\n",
      "14:\tlearn: 2499.6672568\ttotal: 1.31s\tremaining: 1.31s\n",
      "15:\tlearn: 2483.2493894\ttotal: 1.4s\tremaining: 1.23s\n",
      "16:\tlearn: 2453.2744611\ttotal: 1.41s\tremaining: 1.08s\n",
      "17:\tlearn: 2438.9816364\ttotal: 1.51s\tremaining: 1.01s\n",
      "18:\tlearn: 2425.9805409\ttotal: 1.6s\tremaining: 930ms\n",
      "19:\tlearn: 2409.4672220\ttotal: 1.71s\tremaining: 853ms\n",
      "20:\tlearn: 2399.3638018\ttotal: 1.8s\tremaining: 772ms\n",
      "21:\tlearn: 2390.8531009\ttotal: 1.9s\tremaining: 691ms\n",
      "22:\tlearn: 2378.3051112\ttotal: 2s\tremaining: 608ms\n",
      "23:\tlearn: 2368.2380171\ttotal: 2.1s\tremaining: 525ms\n",
      "24:\tlearn: 2358.4232539\ttotal: 2.2s\tremaining: 440ms\n",
      "25:\tlearn: 2343.1997495\ttotal: 2.3s\tremaining: 353ms\n",
      "26:\tlearn: 2337.0619862\ttotal: 2.4s\tremaining: 266ms\n",
      "27:\tlearn: 2330.5224363\ttotal: 2.49s\tremaining: 178ms\n",
      "28:\tlearn: 2324.0925313\ttotal: 2.5s\tremaining: 86.3ms\n",
      "29:\tlearn: 2319.1606646\ttotal: 2.6s\tremaining: 0us\n",
      "max_depth : 1\n",
      "RMSE train: 2316.482982887085\n",
      "RMSE valid: 2312.7831035114677\n",
      "RMSE test: 2336.9527650521754\n",
      "0:\tlearn: 3001.2318005\ttotal: 75.3ms\tremaining: 2.18s\n",
      "1:\tlearn: 2718.7882316\ttotal: 272ms\tremaining: 3.81s\n",
      "2:\tlearn: 2549.6875400\ttotal: 467ms\tremaining: 4.2s\n",
      "3:\tlearn: 2441.2256043\ttotal: 569ms\tremaining: 3.7s\n",
      "4:\tlearn: 2351.7461170\ttotal: 762ms\tremaining: 3.81s\n",
      "5:\tlearn: 2291.5944000\ttotal: 867ms\tremaining: 3.47s\n",
      "6:\tlearn: 2255.8430429\ttotal: 971ms\tremaining: 3.19s\n",
      "7:\tlearn: 2216.0083137\ttotal: 1.16s\tremaining: 3.2s\n",
      "8:\tlearn: 2183.2631401\ttotal: 1.27s\tremaining: 2.96s\n",
      "9:\tlearn: 2154.8164553\ttotal: 1.47s\tremaining: 2.93s\n",
      "10:\tlearn: 2127.3960799\ttotal: 1.66s\tremaining: 2.86s\n",
      "11:\tlearn: 2099.2831027\ttotal: 1.76s\tremaining: 2.65s\n",
      "12:\tlearn: 2078.3834664\ttotal: 1.96s\tremaining: 2.56s\n",
      "13:\tlearn: 2061.1824710\ttotal: 2.06s\tremaining: 2.35s\n",
      "14:\tlearn: 2042.1993727\ttotal: 2.17s\tremaining: 2.17s\n",
      "15:\tlearn: 2032.4900351\ttotal: 2.36s\tremaining: 2.06s\n",
      "16:\tlearn: 2024.8942209\ttotal: 2.45s\tremaining: 1.88s\n",
      "17:\tlearn: 2013.4666133\ttotal: 2.65s\tremaining: 1.76s\n",
      "18:\tlearn: 2006.3631000\ttotal: 2.75s\tremaining: 1.59s\n",
      "19:\tlearn: 1998.1913775\ttotal: 2.95s\tremaining: 1.47s\n",
      "20:\tlearn: 1992.4317775\ttotal: 3.05s\tremaining: 1.31s\n",
      "21:\tlearn: 1983.0366486\ttotal: 3.24s\tremaining: 1.18s\n",
      "22:\tlearn: 1976.6753340\ttotal: 3.35s\tremaining: 1.02s\n",
      "23:\tlearn: 1971.1464547\ttotal: 3.54s\tremaining: 885ms\n",
      "24:\tlearn: 1965.1824467\ttotal: 3.65s\tremaining: 730ms\n",
      "25:\tlearn: 1955.7331915\ttotal: 3.84s\tremaining: 590ms\n",
      "26:\tlearn: 1951.5597107\ttotal: 3.95s\tremaining: 438ms\n",
      "27:\tlearn: 1946.8978209\ttotal: 4.14s\tremaining: 296ms\n",
      "28:\tlearn: 1940.8647636\ttotal: 4.24s\tremaining: 146ms\n",
      "29:\tlearn: 1935.5308705\ttotal: 4.43s\tremaining: 0us\n",
      "max_depth : 3\n",
      "RMSE train: 1946.5002102725678\n",
      "RMSE valid: 1950.5961084078133\n",
      "RMSE test: 1987.7121099548121\n",
      "0:\tlearn: 2739.1238694\ttotal: 196ms\tremaining: 5.69s\n",
      "1:\tlearn: 2427.4932223\ttotal: 490ms\tremaining: 6.86s\n",
      "2:\tlearn: 2297.3885303\ttotal: 692ms\tremaining: 6.22s\n",
      "3:\tlearn: 2200.6576291\ttotal: 895ms\tremaining: 5.82s\n",
      "4:\tlearn: 2120.2145575\ttotal: 1.09s\tremaining: 5.47s\n",
      "5:\tlearn: 2090.9970764\ttotal: 1.29s\tremaining: 5.17s\n",
      "6:\tlearn: 2058.0619100\ttotal: 1.49s\tremaining: 4.9s\n",
      "7:\tlearn: 2042.6450474\ttotal: 1.69s\tremaining: 4.65s\n",
      "8:\tlearn: 2016.6434805\ttotal: 1.89s\tremaining: 4.41s\n",
      "9:\tlearn: 1995.9037446\ttotal: 2.09s\tremaining: 4.19s\n",
      "10:\tlearn: 1974.8746184\ttotal: 2.29s\tremaining: 3.96s\n",
      "11:\tlearn: 1959.9891967\ttotal: 2.49s\tremaining: 3.74s\n",
      "12:\tlearn: 1947.3221438\ttotal: 2.69s\tremaining: 3.52s\n",
      "13:\tlearn: 1932.8980733\ttotal: 2.89s\tremaining: 3.31s\n",
      "14:\tlearn: 1923.7870884\ttotal: 3.09s\tremaining: 3.09s\n",
      "15:\tlearn: 1916.9429952\ttotal: 3.29s\tremaining: 2.88s\n",
      "16:\tlearn: 1906.4247944\ttotal: 3.49s\tremaining: 2.67s\n",
      "17:\tlearn: 1896.8823143\ttotal: 3.69s\tremaining: 2.46s\n",
      "18:\tlearn: 1886.4692805\ttotal: 3.89s\tremaining: 2.25s\n",
      "19:\tlearn: 1880.7175705\ttotal: 4.08s\tremaining: 2.04s\n",
      "20:\tlearn: 1874.3147063\ttotal: 4.38s\tremaining: 1.88s\n",
      "21:\tlearn: 1872.5177295\ttotal: 4.49s\tremaining: 1.63s\n",
      "22:\tlearn: 1864.0649539\ttotal: 4.69s\tremaining: 1.43s\n",
      "23:\tlearn: 1856.4778616\ttotal: 4.88s\tremaining: 1.22s\n",
      "24:\tlearn: 1851.1699158\ttotal: 5.08s\tremaining: 1.02s\n",
      "25:\tlearn: 1841.7559414\ttotal: 5.37s\tremaining: 826ms\n",
      "26:\tlearn: 1834.0869282\ttotal: 5.48s\tremaining: 609ms\n",
      "27:\tlearn: 1828.1918950\ttotal: 5.68s\tremaining: 406ms\n",
      "28:\tlearn: 1823.7420371\ttotal: 5.88s\tremaining: 203ms\n",
      "29:\tlearn: 1820.9123215\ttotal: 6.08s\tremaining: 0us\n",
      "max_depth : 5\n",
      "RMSE train: 1809.1754677323988\n",
      "RMSE valid: 1829.741073386081\n",
      "RMSE test: 1854.311734429682\n",
      "0:\tlearn: 2583.3778388\ttotal: 154ms\tremaining: 4.47s\n",
      "1:\tlearn: 2259.9180656\ttotal: 454ms\tremaining: 6.35s\n",
      "2:\tlearn: 2160.0565077\ttotal: 750ms\tremaining: 6.75s\n",
      "3:\tlearn: 2076.0362610\ttotal: 1.04s\tremaining: 6.78s\n",
      "4:\tlearn: 2027.0174990\ttotal: 1.25s\tremaining: 6.26s\n",
      "5:\tlearn: 1997.1487213\ttotal: 1.54s\tremaining: 6.18s\n",
      "6:\tlearn: 1951.9256583\ttotal: 1.84s\tremaining: 6.04s\n",
      "7:\tlearn: 1924.5843677\ttotal: 2.05s\tremaining: 5.63s\n",
      "8:\tlearn: 1903.8417759\ttotal: 2.35s\tremaining: 5.48s\n",
      "9:\tlearn: 1884.2395186\ttotal: 2.64s\tremaining: 5.28s\n",
      "10:\tlearn: 1871.1522780\ttotal: 2.85s\tremaining: 4.92s\n",
      "11:\tlearn: 1862.1433052\ttotal: 3.14s\tremaining: 4.71s\n",
      "12:\tlearn: 1848.0912186\ttotal: 3.44s\tremaining: 4.5s\n",
      "13:\tlearn: 1836.0578691\ttotal: 3.65s\tremaining: 4.17s\n",
      "14:\tlearn: 1826.4591532\ttotal: 3.94s\tremaining: 3.94s\n",
      "15:\tlearn: 1819.6332098\ttotal: 4.23s\tremaining: 3.7s\n",
      "16:\tlearn: 1808.4259757\ttotal: 4.44s\tremaining: 3.39s\n",
      "17:\tlearn: 1797.1595220\ttotal: 4.73s\tremaining: 3.15s\n",
      "18:\tlearn: 1790.3539651\ttotal: 4.94s\tremaining: 2.86s\n",
      "19:\tlearn: 1783.9545433\ttotal: 5.23s\tremaining: 2.62s\n",
      "20:\tlearn: 1777.4726790\ttotal: 5.53s\tremaining: 2.37s\n",
      "21:\tlearn: 1768.7257047\ttotal: 5.83s\tremaining: 2.12s\n",
      "22:\tlearn: 1760.5325800\ttotal: 6.03s\tremaining: 1.84s\n",
      "23:\tlearn: 1754.8519865\ttotal: 6.33s\tremaining: 1.58s\n",
      "24:\tlearn: 1747.6097532\ttotal: 6.53s\tremaining: 1.31s\n",
      "25:\tlearn: 1743.8975131\ttotal: 6.83s\tremaining: 1.05s\n",
      "26:\tlearn: 1738.9165860\ttotal: 7.12s\tremaining: 792ms\n",
      "27:\tlearn: 1736.6775584\ttotal: 7.42s\tremaining: 530ms\n",
      "28:\tlearn: 1732.2321144\ttotal: 7.63s\tremaining: 263ms\n",
      "29:\tlearn: 1727.6863870\ttotal: 7.93s\tremaining: 0us\n",
      "max_depth : 7\n",
      "RMSE train: 1720.618603748445\n",
      "RMSE valid: 1767.8505314455329\n",
      "RMSE test: 1792.1583007222362\n",
      "0:\tlearn: 2424.7009267\ttotal: 220ms\tremaining: 6.39s\n",
      "1:\tlearn: 2140.4524912\ttotal: 617ms\tremaining: 8.63s\n",
      "2:\tlearn: 2047.7491575\ttotal: 1.01s\tremaining: 9.11s\n",
      "3:\tlearn: 1974.9146565\ttotal: 1.31s\tremaining: 8.55s\n",
      "4:\tlearn: 1938.8836962\ttotal: 1.71s\tremaining: 8.55s\n",
      "5:\tlearn: 1905.5215105\ttotal: 2.01s\tremaining: 8.04s\n",
      "6:\tlearn: 1887.8613577\ttotal: 2.32s\tremaining: 7.62s\n",
      "7:\tlearn: 1864.7262971\ttotal: 2.71s\tremaining: 7.45s\n",
      "8:\tlearn: 1839.0857912\ttotal: 3.02s\tremaining: 7.04s\n",
      "9:\tlearn: 1816.8542255\ttotal: 3.41s\tremaining: 6.83s\n",
      "10:\tlearn: 1801.5657868\ttotal: 3.71s\tremaining: 6.41s\n",
      "11:\tlearn: 1794.0536446\ttotal: 4.1s\tremaining: 6.15s\n",
      "12:\tlearn: 1782.4605891\ttotal: 4.41s\tremaining: 5.77s\n",
      "13:\tlearn: 1764.5207341\ttotal: 4.8s\tremaining: 5.49s\n",
      "14:\tlearn: 1754.6406071\ttotal: 5.11s\tremaining: 5.11s\n",
      "15:\tlearn: 1732.1402089\ttotal: 5.5s\tremaining: 4.81s\n",
      "16:\tlearn: 1717.9776462\ttotal: 5.8s\tremaining: 4.44s\n",
      "17:\tlearn: 1712.2932752\ttotal: 6.2s\tremaining: 4.13s\n",
      "18:\tlearn: 1703.1711980\ttotal: 6.5s\tremaining: 3.77s\n",
      "19:\tlearn: 1693.0702874\ttotal: 6.9s\tremaining: 3.45s\n",
      "20:\tlearn: 1684.1355094\ttotal: 7.2s\tremaining: 3.09s\n",
      "21:\tlearn: 1675.4073797\ttotal: 7.6s\tremaining: 2.76s\n",
      "22:\tlearn: 1669.1496361\ttotal: 7.9s\tremaining: 2.4s\n",
      "23:\tlearn: 1665.5106242\ttotal: 8.21s\tremaining: 2.05s\n",
      "24:\tlearn: 1662.6831626\ttotal: 8.6s\tremaining: 1.72s\n",
      "25:\tlearn: 1658.4160074\ttotal: 8.9s\tremaining: 1.37s\n",
      "26:\tlearn: 1649.3711241\ttotal: 9.29s\tremaining: 1.03s\n",
      "27:\tlearn: 1643.7800816\ttotal: 9.6s\tremaining: 686ms\n",
      "28:\tlearn: 1637.9180196\ttotal: 9.99s\tremaining: 345ms\n",
      "29:\tlearn: 1633.9917455\ttotal: 10.3s\tremaining: 0us\n",
      "max_depth : 9\n",
      "RMSE train: 1632.1703106480682\n",
      "RMSE valid: 1726.799502173355\n",
      "RMSE test: 1754.527287359832\n",
      "0:\tlearn: 2369.3089091\ttotal: 322ms\tremaining: 9.35s\n",
      "1:\tlearn: 2087.6336643\ttotal: 812ms\tremaining: 11.4s\n",
      "2:\tlearn: 1996.3189858\ttotal: 1.23s\tremaining: 11s\n",
      "3:\tlearn: 1916.1473430\ttotal: 1.7s\tremaining: 11s\n",
      "4:\tlearn: 1882.1812240\ttotal: 2.1s\tremaining: 10.5s\n",
      "5:\tlearn: 1839.0986374\ttotal: 2.5s\tremaining: 10s\n",
      "6:\tlearn: 1815.9896044\ttotal: 2.9s\tremaining: 9.54s\n",
      "7:\tlearn: 1790.7447777\ttotal: 3.31s\tremaining: 9.09s\n",
      "8:\tlearn: 1763.0167609\ttotal: 3.7s\tremaining: 8.64s\n",
      "9:\tlearn: 1747.3066490\ttotal: 4.1s\tremaining: 8.2s\n",
      "10:\tlearn: 1729.8209969\ttotal: 4.5s\tremaining: 7.78s\n",
      "11:\tlearn: 1706.5018316\ttotal: 4.91s\tremaining: 7.36s\n",
      "12:\tlearn: 1693.3114488\ttotal: 5.39s\tremaining: 7.05s\n",
      "13:\tlearn: 1677.1053788\ttotal: 5.79s\tremaining: 6.62s\n",
      "14:\tlearn: 1660.6947466\ttotal: 6.19s\tremaining: 6.19s\n",
      "15:\tlearn: 1651.4239739\ttotal: 6.6s\tremaining: 5.77s\n",
      "16:\tlearn: 1640.7481236\ttotal: 7.08s\tremaining: 5.42s\n",
      "17:\tlearn: 1623.5490387\ttotal: 7.49s\tremaining: 4.99s\n",
      "18:\tlearn: 1616.9563987\ttotal: 7.89s\tremaining: 4.57s\n",
      "19:\tlearn: 1608.6478595\ttotal: 8.3s\tremaining: 4.15s\n",
      "20:\tlearn: 1598.3118378\ttotal: 8.78s\tremaining: 3.76s\n",
      "21:\tlearn: 1589.3060753\ttotal: 9.19s\tremaining: 3.34s\n",
      "22:\tlearn: 1576.3170837\ttotal: 9.59s\tremaining: 2.92s\n",
      "23:\tlearn: 1568.7436657\ttotal: 9.99s\tremaining: 2.5s\n",
      "24:\tlearn: 1562.1755100\ttotal: 10.4s\tremaining: 2.08s\n",
      "25:\tlearn: 1557.1407736\ttotal: 10.9s\tremaining: 1.67s\n",
      "26:\tlearn: 1547.3561943\ttotal: 11.3s\tremaining: 1.25s\n",
      "27:\tlearn: 1539.8692995\ttotal: 11.7s\tremaining: 835ms\n",
      "28:\tlearn: 1534.6043520\ttotal: 12.1s\tremaining: 417ms\n",
      "29:\tlearn: 1526.9618044\ttotal: 12.6s\tremaining: 0us\n",
      "max_depth : 11\n",
      "RMSE train: 1541.5282217499184\n",
      "RMSE valid: 1703.6874622623423\n",
      "RMSE test: 1736.664519933521\n"
     ]
    }
   ],
   "source": [
    "from catboost import CatBoostRegressor\n",
    "\n",
    "catfeatures = ['VehicleType', 'Gearbox', 'Model',\n",
    "                'FuelType', 'Brand', 'NotRepaired']\n",
    "\n",
    "for n in range(1,12,2):\n",
    "\n",
    "    modelCatBoost = CatBoostRegressor(loss_function=\"RMSE\", iterations=30, learning_rate = 1,\n",
    "                                  max_depth=n)\n",
    "    modelCatBoost = modelCatBoost.fit(features_train, target_train, cat_features=catfeatures)\n",
    "    \n",
    "    train_modelCatBoost_predictions = modelCatBoost.predict(features_train)   \n",
    "    valid_modelCatBoost_predictions = modelCatBoost.predict(features_valid)    \n",
    "    test_modelCatBoost_predictions = modelCatBoost.predict(features_test)\n",
    "    print('max_depth :', n)\n",
    "    print(\"RMSE train:\", (mean_squared_error(target_train, train_modelCatBoost_predictions))** 0.5)\n",
    "    print(\"RMSE valid:\", (mean_squared_error(target_valid, valid_modelCatBoost_predictions))** 0.5)\n",
    "    print(\"RMSE test:\", (mean_squared_error(target_test, test_modelCatBoost_predictions))** 0.5)"
   ]
  },
  {
   "cell_type": "code",
   "execution_count": 612,
   "metadata": {
    "scrolled": false
   },
   "outputs": [
    {
     "name": "stdout",
     "output_type": "stream",
     "text": [
      "max_depth : 11\n",
      "RMSE train: 1541.5282217499184\n",
      "RMSE valid: 1703.6874622623423\n",
      "RMSE test: 1736.664519933521\n",
      "CPU times: user 13.8 s, sys: 1.69 s, total: 15.5 s\n",
      "Wall time: 18.4 s\n"
     ]
    }
   ],
   "source": [
    "%%time\n",
    "\n",
    "modelCatBoost = CatBoostRegressor(loss_function=\"RMSE\", iterations=30, learning_rate = 1,\n",
    "                                  max_depth=11, verbose = False)\n",
    "modelCatBoost = modelCatBoost.fit(features_train, target_train, cat_features=catfeatures)\n",
    "train_modelCatBoost_predictions = modelCatBoost.predict(features_train)   \n",
    "valid_modelCatBoost_predictions = modelCatBoost.predict(features_valid)\n",
    "test_modelCatBoost_predictions = modelCatBoost.predict(features_test)\n",
    "print('max_depth :', n)\n",
    "print(\"RMSE train:\", (mean_squared_error(target_train, train_modelCatBoost_predictions))** 0.5)\n",
    "print(\"RMSE valid:\", (mean_squared_error(target_valid, valid_modelCatBoost_predictions))** 0.5)\n",
    "print(\"RMSE test:\", (mean_squared_error(target_test, test_modelCatBoost_predictions))** 0.5)"
   ]
  },
  {
   "cell_type": "markdown",
   "metadata": {},
   "source": [
    "### LGBMRegressor"
   ]
  },
  {
   "cell_type": "markdown",
   "metadata": {},
   "source": [
    "Чтоб получилось равное количество столбцов у выборок удаляем редко повторяющиеся строчки "
   ]
  },
  {
   "cell_type": "code",
   "execution_count": 613,
   "metadata": {
    "scrolled": true
   },
   "outputs": [
    {
     "name": "stdout",
     "output_type": "stream",
     "text": [
      "terios                25\n",
      "b_max                 24\n",
      "delta                 23\n",
      "9000                  19\n",
      "musa                  17\n",
      "charade               13\n",
      "materia               12\n",
      "200                   11\n",
      "q3                    11\n",
      "amarok                11\n",
      "gl                    10\n",
      "kappa                 10\n",
      "kalina                 5\n",
      "elefantino             4\n",
      "i3                     4\n",
      "serie_3                3\n",
      "serie_2                3\n",
      "range_rover_evoque     2\n",
      "samara                 2\n",
      "rangerover             1\n",
      "Name: Model, dtype: int64\n"
     ]
    }
   ],
   "source": [
    "print(df1['Model'].value_counts().tail(20))"
   ]
  },
  {
   "cell_type": "code",
   "execution_count": 614,
   "metadata": {},
   "outputs": [],
   "source": [
    "stolbci = df1['Model'].value_counts().tail(20).reset_index(drop=False)['index'].tolist()"
   ]
  },
  {
   "cell_type": "code",
   "execution_count": 615,
   "metadata": {},
   "outputs": [],
   "source": [
    "df1 = df1.query('Model != @stolbci')"
   ]
  },
  {
   "cell_type": "code",
   "execution_count": 616,
   "metadata": {
    "scrolled": true
   },
   "outputs": [
    {
     "name": "stdout",
     "output_type": "stream",
     "text": [
      "kalos                67\n",
      "g_klasse             67\n",
      "discovery            65\n",
      "r19                  64\n",
      "range_rover          59\n",
      "cx_reihe             54\n",
      "glk                  53\n",
      "crossfire            52\n",
      "defender             51\n",
      "90                   50\n",
      "range_rover_sport    49\n",
      "lanos                41\n",
      "nubira               40\n",
      "911                  39\n",
      "v60                  38\n",
      "croma                32\n",
      "lybra                32\n",
      "lodgy                29\n",
      "145                  26\n",
      "move                 25\n",
      "Name: Model, dtype: int64\n"
     ]
    }
   ],
   "source": [
    "print(df1['Model'].value_counts().tail(20))"
   ]
  },
  {
   "cell_type": "markdown",
   "metadata": {},
   "source": [
    "### pd.get_dummies"
   ]
  },
  {
   "cell_type": "code",
   "execution_count": 617,
   "metadata": {},
   "outputs": [
    {
     "name": "stdout",
     "output_type": "stream",
     "text": [
      "(227245, 285)\n"
     ]
    }
   ],
   "source": [
    "cols =  ['VehicleType','Gearbox', 'Model', 'FuelType', 'Brand', 'NotRepaired']\n",
    "\n",
    "df1 = pd.get_dummies(df1, columns=cols, drop_first=True)\n",
    "print(df1.shape)"
   ]
  },
  {
   "cell_type": "code",
   "execution_count": 618,
   "metadata": {},
   "outputs": [
    {
     "name": "stdout",
     "output_type": "stream",
     "text": [
      "train\n",
      "(163616, 284)\n",
      "(163616,)\n",
      "\n",
      "valid\n",
      "(40904, 284)\n",
      "(40904,)\n",
      "\n",
      "test\n",
      "(22725, 284)\n",
      "(22725,)\n"
     ]
    }
   ],
   "source": [
    "df_learn, df_test = train_test_split(df1, test_size=0.10, random_state=12345)\n",
    "\n",
    "df_train, df_valid = train_test_split(df_learn, test_size=0.20, random_state=12345)\n",
    "\n",
    "\n",
    "features_train = df_train.drop(['Price'], axis=1)\n",
    "target_train = df_train['Price']\n",
    "\n",
    "features_valid = df_valid.drop(['Price'], axis=1)\n",
    "target_valid = df_valid['Price']\n",
    "\n",
    "features_test = df_test.drop(['Price'], axis=1)\n",
    "target_test = df_test['Price']\n",
    "\n",
    "print('train')\n",
    "print(features_train.shape)\n",
    "print(target_train.shape)\n",
    "print()\n",
    "print('valid')\n",
    "print(features_valid.shape)\n",
    "print(target_valid.shape)\n",
    "print()\n",
    "print('test')\n",
    "print(features_test.shape)\n",
    "print(target_test.shape)"
   ]
  },
  {
   "cell_type": "code",
   "execution_count": 619,
   "metadata": {},
   "outputs": [],
   "source": [
    "import lightgbm as lgb\n"
   ]
  },
  {
   "cell_type": "code",
   "execution_count": 620,
   "metadata": {
    "scrolled": true
   },
   "outputs": [
    {
     "name": "stdout",
     "output_type": "stream",
     "text": [
      "n_estimators= 10\n",
      "RMSE train: 1816.8528322773036\n",
      "RMSE valid: 1834.8902032187002\n",
      "RMSE  test: 1844.1085982935779\n",
      "n_estimators= 20\n",
      "RMSE train: 1721.4038446961501\n",
      "RMSE valid: 1771.8685811406815\n",
      "RMSE  test: 1782.7889142550268\n",
      "n_estimators= 30\n",
      "RMSE train: 1666.0598910725596\n",
      "RMSE valid: 1731.4395481074037\n",
      "RMSE  test: 1742.6662410802178\n",
      "n_estimators= 40\n",
      "RMSE train: 1626.7078389152439\n",
      "RMSE valid: 1705.915710938817\n",
      "RMSE  test: 1725.0311957533893\n",
      "n_estimators= 50\n",
      "RMSE train: 1593.9634073724435\n",
      "RMSE valid: 1697.9712822260628\n",
      "RMSE  test: 1716.3311925504286\n",
      "n_estimators= 60\n",
      "RMSE train: 1573.314826228909\n",
      "RMSE valid: 1693.7449572348858\n",
      "RMSE  test: 1713.361084079051\n",
      "n_estimators= 70\n",
      "RMSE train: 1552.7762970114304\n",
      "RMSE valid: 1690.6825561651565\n",
      "RMSE  test: 1707.1123589865206\n",
      "n_estimators= 80\n",
      "RMSE train: 1535.2575617725697\n",
      "RMSE valid: 1689.747592650922\n",
      "RMSE  test: 1704.553671096756\n",
      "n_estimators= 90\n",
      "RMSE train: 1517.511613590869\n",
      "RMSE valid: 1687.1557462650621\n",
      "RMSE  test: 1704.582025729481\n",
      "n_estimators= 100\n",
      "RMSE train: 1503.655579811963\n",
      "RMSE valid: 1688.097502523778\n",
      "RMSE  test: 1704.0727897911452\n",
      "n_estimators= 110\n",
      "RMSE train: 1489.1762144916484\n",
      "RMSE valid: 1686.7064542268397\n",
      "RMSE  test: 1700.2390029054945\n",
      "n_estimators= 120\n",
      "RMSE train: 1475.5126320133381\n",
      "RMSE valid: 1683.1641775249807\n",
      "RMSE  test: 1694.837189527693\n",
      "n_estimators= 130\n",
      "RMSE train: 1466.308207037111\n",
      "RMSE valid: 1683.8345029007637\n",
      "RMSE  test: 1699.7447108049457\n",
      "n_estimators= 140\n",
      "RMSE train: 1455.6352457921919\n",
      "RMSE valid: 1681.702621780789\n",
      "RMSE  test: 1699.3480881666828\n"
     ]
    }
   ],
   "source": [
    "\n",
    "for n in range(10,150,10):\n",
    "\n",
    "    modelgbm = lgb.LGBMRegressor(silent = False, loss_function=\"RMSE\", iterations=10, n_estimators=n,\n",
    "                             learning_rate=1)\n",
    "    modelgbm.fit(features_train, target_train, eval_metric='RMSE')\n",
    "\n",
    "    print('n_estimators=', n)\n",
    "    pred_train = modelgbm.predict(features_train)\n",
    "    mse = mean_squared_error(target_train, pred_train)\n",
    "    rmse = mse ** 0.5\n",
    "    print(\"RMSE train:\", rmse)\n",
    "\n",
    "    pred_valid = modelgbm.predict(features_valid)\n",
    "    mse = mean_squared_error(target_valid, pred_valid)\n",
    "    rmse = mse ** 0.5\n",
    "    print(\"RMSE valid:\", rmse)\n",
    "\n",
    "    pred_test = modelgbm.predict(features_test)\n",
    "    mse = mean_squared_error(target_test, pred_test)\n",
    "    rmse = mse ** 0.5\n",
    "    print(\"RMSE  test:\", rmse)"
   ]
  },
  {
   "cell_type": "code",
   "execution_count": 622,
   "metadata": {},
   "outputs": [
    {
     "name": "stdout",
     "output_type": "stream",
     "text": [
      "RMSE train: 1443.5392212254478\n",
      "RMSE valid: 1683.874281603735\n",
      "RMSE test: 1699.0093751056963\n",
      "CPU times: user 13.9 s, sys: 509 ms, total: 14.4 s\n",
      "Wall time: 14.5 s\n"
     ]
    }
   ],
   "source": [
    "%%time\n",
    "modelgbm = lgb.LGBMRegressor(silent = False, loss_function=\"RMSE\", iterations=10, n_estimators=150,\n",
    "                             learning_rate=1)\n",
    "modelgbm.fit(features_train, target_train, eval_metric='RMSE')\n",
    "\n",
    "pred_train = modelgbm.predict(features_train)\n",
    "mse = mean_squared_error(target_train, pred_train)\n",
    "rmse = mse ** 0.5\n",
    "print(\"RMSE train:\", rmse)\n",
    "\n",
    "pred_valid = modelgbm.predict(features_valid)\n",
    "mse = mean_squared_error(target_valid, pred_valid)\n",
    "rmse = mse ** 0.5\n",
    "print(\"RMSE valid:\", rmse)\n",
    "pred_test = modelgbm.predict(features_test)\n",
    "mse = mean_squared_error(target_test, pred_test)\n",
    "rmse = mse ** 0.5\n",
    "print(\"RMSE test:\", rmse)"
   ]
  },
  {
   "cell_type": "markdown",
   "metadata": {},
   "source": [
    "# 3. Анализ моделей"
   ]
  },
  {
   "cell_type": "markdown",
   "metadata": {},
   "source": [
    "##### LGBMRegressor по всей видимости работает быстрее и качество показывает выше."
   ]
  },
  {
   "cell_type": "markdown",
   "metadata": {},
   "source": [
    "### CatBoostRegressor\n",
    "* iterations=30\n",
    "* learning_rate = 1\n",
    "* max_depth : 11\n",
    "* RMSE test: 1736.664519933521\n",
    "* CPU times: user 12.9 s, sys: 1.43 s, total: 14.3 s\n",
    "* Wall time: 17.6 s"
   ]
  },
  {
   "cell_type": "markdown",
   "metadata": {},
   "source": [
    "### LGBMRegressor\n",
    "* iterations=10\n",
    "* n_estimators=150\n",
    "* learning_rate=1\n",
    "* RMSE test: 1699.0093751056963\n",
    "* CPU times: user 7.95 s, sys: 261 ms, total: 8.21 s\n",
    "* Wall time: 8.39 s"
   ]
  }
 ],
 "metadata": {
  "kernelspec": {
   "display_name": "Python 3",
   "language": "python",
   "name": "python3"
  },
  "language_info": {
   "codemirror_mode": {
    "name": "ipython",
    "version": 3
   },
   "file_extension": ".py",
   "mimetype": "text/x-python",
   "name": "python",
   "nbconvert_exporter": "python",
   "pygments_lexer": "ipython3",
   "version": "3.7.3"
  }
 },
 "nbformat": 4,
 "nbformat_minor": 2
}
