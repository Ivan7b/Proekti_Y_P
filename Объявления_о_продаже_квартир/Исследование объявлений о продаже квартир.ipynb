{
 "cells": [
  {
   "cell_type": "markdown",
   "metadata": {},
   "source": [
    "## Исследование объявлений о продаже квартир\n",
    "\n",
    "Представлен архив объявлений о продаже квартир в Санкт-Петербурге и соседних населённых пунктов за несколько лет. Нужно научиться определять рыночную стоимость объектов недвижимости. Задача — установить параметры, которые позволят построить автоматизированную систему, которая отследит аномалии и мошенническую деятельность. "
   ]
  },
  {
   "cell_type": "markdown",
   "metadata": {},
   "source": [
    "### Шаг 1. Откройте файл с данными и изучите общую информацию. "
   ]
  },
  {
   "cell_type": "code",
   "execution_count": 387,
   "metadata": {},
   "outputs": [
    {
     "name": "stdout",
     "output_type": "stream",
     "text": [
      "   total_images  last_price  total_area first_day_exposition  rooms  \\\n",
      "0            20  13000000.0       108.0  2019-03-07T00:00:00      3   \n",
      "1             7   3350000.0        40.4  2018-12-04T00:00:00      1   \n",
      "2            10   5196000.0        56.0  2015-08-20T00:00:00      2   \n",
      "3             0  64900000.0       159.0  2015-07-24T00:00:00      3   \n",
      "4             2  10000000.0       100.0  2018-06-19T00:00:00      2   \n",
      "\n",
      "   ceiling_height  floors_total  living_area  floor is_apartment  ...  \\\n",
      "0            2.70          16.0         51.0      8          NaN  ...   \n",
      "1             NaN          11.0         18.6      1          NaN  ...   \n",
      "2             NaN           5.0         34.3      4          NaN  ...   \n",
      "3             NaN          14.0          NaN      9          NaN  ...   \n",
      "4            3.03          14.0         32.0     13          NaN  ...   \n",
      "\n",
      "   kitchen_area  balcony    locality_name  airports_nearest  \\\n",
      "0          25.0      NaN  Санкт-Петербург           18863.0   \n",
      "1          11.0      2.0   посёлок Шушары           12817.0   \n",
      "2           8.3      0.0  Санкт-Петербург           21741.0   \n",
      "3           NaN      0.0  Санкт-Петербург           28098.0   \n",
      "4          41.0      NaN  Санкт-Петербург           31856.0   \n",
      "\n",
      "  cityCenters_nearest  parks_around3000  parks_nearest  ponds_around3000  \\\n",
      "0             16028.0               1.0          482.0               2.0   \n",
      "1             18603.0               0.0            NaN               0.0   \n",
      "2             13933.0               1.0           90.0               2.0   \n",
      "3              6800.0               2.0           84.0               3.0   \n",
      "4              8098.0               2.0          112.0               1.0   \n",
      "\n",
      "   ponds_nearest  days_exposition  \n",
      "0          755.0              NaN  \n",
      "1            NaN             81.0  \n",
      "2          574.0            558.0  \n",
      "3          234.0            424.0  \n",
      "4           48.0            121.0  \n",
      "\n",
      "[5 rows x 22 columns]\n",
      "<class 'pandas.core.frame.DataFrame'>\n",
      "RangeIndex: 23699 entries, 0 to 23698\n",
      "Data columns (total 22 columns):\n",
      "total_images            23699 non-null int64\n",
      "last_price              23699 non-null float64\n",
      "total_area              23699 non-null float64\n",
      "first_day_exposition    23699 non-null object\n",
      "rooms                   23699 non-null int64\n",
      "ceiling_height          14504 non-null float64\n",
      "floors_total            23613 non-null float64\n",
      "living_area             21796 non-null float64\n",
      "floor                   23699 non-null int64\n",
      "is_apartment            2775 non-null object\n",
      "studio                  23699 non-null bool\n",
      "open_plan               23699 non-null bool\n",
      "kitchen_area            21421 non-null float64\n",
      "balcony                 12180 non-null float64\n",
      "locality_name           23650 non-null object\n",
      "airports_nearest        18157 non-null float64\n",
      "cityCenters_nearest     18180 non-null float64\n",
      "parks_around3000        18181 non-null float64\n",
      "parks_nearest           8079 non-null float64\n",
      "ponds_around3000        18181 non-null float64\n",
      "ponds_nearest           9110 non-null float64\n",
      "days_exposition         20518 non-null float64\n",
      "dtypes: bool(2), float64(14), int64(3), object(3)\n",
      "memory usage: 3.7+ MB\n"
     ]
    }
   ],
   "source": [
    "import pandas as pd\n",
    "data = pd.read_csv('/datasets/real_estate_data.csv', sep=\"\\t\")\n",
    "print(data.head())\n",
    "data.info()"
   ]
  },
  {
   "cell_type": "markdown",
   "metadata": {},
   "source": [
    "### Вывод"
   ]
  },
  {
   "cell_type": "markdown",
   "metadata": {},
   "source": [
    "Исходный датасет состоит из 22 столбцов и 23699 строк (записей). 15 столбцов содержат в себе пропуски, которые можно разделить на три группы. 1.Больше всего (т.е. более 30 %) имеют пропуски столбцы: принадлежности недвижимости к апартаментам, расстояние до ближайших парка и водоёма, количества балконов, высота потолков. 2.Менее 30 %, но более 20%: расстояния до аэропорта, до центра, количество парков и водоёмов в радиусе 3000 м. 3. Менее 15 %: площади кухни и жилой площади, количества этажей и балконов, населённый пункт, сколько обявление весИт."
   ]
  },
  {
   "cell_type": "markdown",
   "metadata": {},
   "source": [
    "### Шаг 2. Предобработка данных"
   ]
  },
  {
   "cell_type": "markdown",
   "metadata": {},
   "source": [
    "1. Предобработка данных по высоте потолка квартир, площади кухонь, жилой площади"
   ]
  },
  {
   "cell_type": "code",
   "execution_count": 388,
   "metadata": {},
   "outputs": [],
   "source": [
    "data_CH = data.query('2.4 <= ceiling_height <= 4')\n",
    "const_ceiling_height_median = data_CH['ceiling_height'].median()\n",
    "data['ceiling_height'] = data['ceiling_height'].fillna(const_ceiling_height_median)\n",
    "data = data.query('2.4 <= ceiling_height <= 4')\n",
    "\n",
    "\n",
    "data_KA = data.query('4.9 <= kitchen_area <= 40')\n",
    "const_kitchen_area_median = data_KA['kitchen_area'].median()\n",
    "data['kitchen_area'] = data['kitchen_area'].fillna(const_kitchen_area_median)\n",
    "data = data.query('4.9 <= kitchen_area <= 40')\n",
    "\n",
    "\n",
    "data_LA = data.query('9 <= living_area <= 180')\n",
    "const_living_area_median = data_LA['living_area'].median()\n",
    "data['living_area'] = data['living_area'].fillna(const_living_area_median)\n",
    "data = data.query('9 <= living_area <= 180')\n"
   ]
  },
  {
   "cell_type": "markdown",
   "metadata": {},
   "source": [
    "  По всей видимости эти поля являются необязательными для заполнения и пользователи не утруждают себя,считая эти параметры неважными."
   ]
  },
  {
   "cell_type": "markdown",
   "metadata": {},
   "source": [
    "  В итоге по высоте потолка менее 1 % (96 записей из 14504) было отвергнуто как аномалия (или редкое явление), даже если среди них есть реальные данные - их отсутствие не повлияет на общую картину.\n",
    "  Аналогично поступим с площадями кухонь - ~ 1 % (224 записей из 21421) было отвергнуто как аномалия (или редкое явление).\n",
    "  Аналогично поступим с жилой площадью - менее 1 % (67 записей из 21796) было отвергнуто как аномалия (или редкое явление)."
   ]
  },
  {
   "cell_type": "markdown",
   "metadata": {},
   "source": [
    "Пропуски по потолкам, жилой площади и кухни заменяем на значения медианы, полученной после отвержения аномалий."
   ]
  },
  {
   "cell_type": "markdown",
   "metadata": {},
   "source": [
    "2. Предобработка данных по количеству этажей"
   ]
  },
  {
   "cell_type": "code",
   "execution_count": 389,
   "metadata": {},
   "outputs": [
    {
     "name": "stdout",
     "output_type": "stream",
     "text": [
      "85 пропусков\n"
     ]
    }
   ],
   "source": [
    "print(data['floors_total'].isna().sum(), 'пропусков')\n",
    "data.dropna(subset = ['floors_total'], inplace = True)"
   ]
  },
  {
   "cell_type": "markdown",
   "metadata": {},
   "source": [
    "  Количество этажей важный критерий (в контексте того, на каком этаже сама квартира), пропусков менее 1 % - удаляем все строки с пропущенными значениями в этом столбце.\n",
    "  Всего 1% - наверно просто забыли вписать, скорее всего необязательное для заполнения."
   ]
  },
  {
   "cell_type": "markdown",
   "metadata": {},
   "source": [
    "3. Предобработка данных по принадлежности к понятию 'апартаменты'"
   ]
  },
  {
   "cell_type": "code",
   "execution_count": 390,
   "metadata": {},
   "outputs": [
    {
     "name": "stdout",
     "output_type": "stream",
     "text": [
      "20530 пропусков\n",
      "False    2681\n",
      "True       42\n",
      "Name: is_apartment, dtype: int64\n"
     ]
    }
   ],
   "source": [
    "print(data['is_apartment'].isna().sum(), 'пропусков')\n",
    "print(data['is_apartment'].value_counts())\n",
    "data['is_apartment'] = data['is_apartment'].fillna(False)\n",
    "data = data.query('is_apartment == False')"
   ]
  },
  {
   "cell_type": "markdown",
   "metadata": {},
   "source": [
    "Предлагается апартаменты рассматривать отдельно, делать отдельные исследования, \n",
    "потомучто это другой тип недвижимости https://journal.tinkoff.ru/opasnosti-apartamentov/, соответственно и цены будут другие. При этом оставшихся 42 записей (до начала предобработки 50) категорически мало, чтобы делать эти исследования. Нужно больше данных! Поэтому исключаем их."
   ]
  },
  {
   "cell_type": "markdown",
   "metadata": {},
   "source": [
    "4. Предобработка данных по количеству балконов."
   ]
  },
  {
   "cell_type": "code",
   "execution_count": 391,
   "metadata": {},
   "outputs": [
    {
     "name": "stdout",
     "output_type": "stream",
     "text": [
      "11275 пропусков\n"
     ]
    }
   ],
   "source": [
    "print(data['balcony'].isna().sum(), 'пропусков')\n",
    "data['balcony'] = data['balcony'].fillna(0)"
   ]
  },
  {
   "cell_type": "markdown",
   "metadata": {},
   "source": [
    "Eсли человек не указал число балконов — скорее всего, их нет.Такие пропуски правильно заменить на 0."
   ]
  },
  {
   "cell_type": "markdown",
   "metadata": {},
   "source": [
    "5. Название населённого пункта является очень важным критерием в рамках задачи."
   ]
  },
  {
   "cell_type": "code",
   "execution_count": 392,
   "metadata": {},
   "outputs": [
    {
     "name": "stdout",
     "output_type": "stream",
     "text": [
      "47 пропусков\n"
     ]
    }
   ],
   "source": [
    "print(data['locality_name'].isna().sum(), 'пропусков')\n",
    "data.dropna(subset = ['locality_name'], inplace = True)"
   ]
  },
  {
   "cell_type": "markdown",
   "metadata": {},
   "source": [
    "Исключаем из сета ещё объявления без названия населённого пункта, т.к. присутствие такой записи в рамках поставленной задачи не имеет смысла и даже вредна. К счастью их меньше 0,5 процента."
   ]
  },
  {
   "cell_type": "markdown",
   "metadata": {},
   "source": [
    "6. Пропущенные данные по расстоянию до аэропорта и центра, по количеству парков и озёр"
   ]
  },
  {
   "cell_type": "code",
   "execution_count": 393,
   "metadata": {},
   "outputs": [
    {
     "name": "stdout",
     "output_type": "stream",
     "text": [
      "посёлок Мурино     514\n",
      "Всеволожск         395\n",
      "Гатчина            303\n",
      "деревня Кудрово    299\n",
      "Выборг             231\n",
      "Name: locality_name, dtype: int64\n",
      "Санкт-Петербург    15346\n",
      "посёлок Мурино       514\n",
      "посёлок Шушары       437\n",
      "Всеволожск           395\n",
      "Пушкин               360\n",
      "Name: locality_name, dtype: int64\n",
      "посёлок Мурино     514\n",
      "Всеволожск         395\n",
      "Гатчина            303\n",
      "деревня Кудрово    299\n",
      "Выборг             231\n",
      "Name: locality_name, dtype: int64\n",
      "Санкт-Петербург    15346\n",
      "посёлок Мурино       514\n",
      "посёлок Шушары       437\n",
      "Всеволожск           395\n",
      "Пушкин               360\n",
      "Name: locality_name, dtype: int64\n"
     ]
    }
   ],
   "source": [
    "data_qf = data.query('airports_nearest == \"NaN\"')\n",
    "print(data_qf['locality_name'].value_counts().head())\n",
    "print(data['locality_name'].value_counts().head())\n",
    "\n",
    "data_qp = data.query('cityCenters_nearest == \"NaN\"') \n",
    "print(data_qp['locality_name'].value_counts().head())\n",
    "print(data['locality_name'].value_counts().head())"
   ]
  },
  {
   "cell_type": "markdown",
   "metadata": {},
   "source": [
    "Пропущенны данные по расстоянию до аэропорта и центра, по количеству парков и озёр - по определённым населённым пунктам. Система (автоматическая) расчёта расстояния несовершенна. Возможно основная причина пропусков связана с особенностями написания названий населённых пунктов. Такие выводы сделаны на основе очерёдной проверки по столбцам 'airports_nearest', 'cityCenters_nearest', 'parks_around3000', 'ponds_around3000'. Данные пропуски не касаются Санкт-Петербурга, что хорошо, потому что эти параметры больше актуальны для большого города, нежели для посёлков и деревень."
   ]
  },
  {
   "cell_type": "markdown",
   "metadata": {},
   "source": [
    "7. Данные по расстоянию до парков и озёр"
   ]
  },
  {
   "cell_type": "code",
   "execution_count": 394,
   "metadata": {},
   "outputs": [
    {
     "name": "stdout",
     "output_type": "stream",
     "text": [
      "count    7858.000000\n",
      "mean      491.630568\n",
      "std       341.668664\n",
      "min         1.000000\n",
      "25%       288.000000\n",
      "50%       455.000000\n",
      "75%       613.000000\n",
      "max      3190.000000\n",
      "Name: parks_nearest, dtype: float64\n",
      "Санкт-Петербург      8251\n",
      "посёлок Мурино        514\n",
      "посёлок Шушары        437\n",
      "Всеволожск            395\n",
      "посёлок Парголово     317\n",
      "Name: locality_name, dtype: int64\n",
      "Санкт-Петербург    15346\n",
      "посёлок Мурино       514\n",
      "посёлок Шушары       437\n",
      "Всеволожск           395\n",
      "Пушкин               360\n",
      "Name: locality_name, dtype: int64\n",
      "count    8824.000000\n",
      "mean      519.602788\n",
      "std       277.841042\n",
      "min        13.000000\n",
      "25%       295.000000\n",
      "50%       503.000000\n",
      "75%       731.000000\n",
      "max      1344.000000\n",
      "Name: ponds_nearest, dtype: float64\n",
      "Санкт-Петербург    7604\n",
      "посёлок Мурино      514\n",
      "Всеволожск          395\n",
      "Гатчина             303\n",
      "деревня Кудрово     299\n",
      "Name: locality_name, dtype: int64\n",
      "Санкт-Петербург    15346\n",
      "посёлок Мурино       514\n",
      "посёлок Шушары       437\n",
      "Всеволожск           395\n",
      "Пушкин               360\n",
      "Name: locality_name, dtype: int64\n"
     ]
    }
   ],
   "source": [
    "print(data['parks_nearest'].describe())\n",
    "data_PAN = data.query('parks_nearest == \"NaN\"')\n",
    "print(data_PAN['locality_name'].value_counts().head())\n",
    "print(data['locality_name'].value_counts().head())\n",
    "\n",
    "print(data['ponds_nearest'].describe())\n",
    "data_PON = data.query('ponds_nearest == \"NaN\"')\n",
    "print(data_PON['locality_name'].value_counts().head())\n",
    "print(data['locality_name'].value_counts().head())"
   ]
  },
  {
   "cell_type": "markdown",
   "metadata": {},
   "source": [
    "По всей видимости автоматическая система не ищет дальше определённого расстояния, а именно для парков - 3190 м, для озёр - 1400 м. (К сожалению, данные пропуски касаются Санкт-Петербурга, что плохо, потому что эти параметры актуальны для большого города, НО, к счастью, не касаются задания)"
   ]
  },
  {
   "cell_type": "markdown",
   "metadata": {},
   "source": [
    "8. Пропущенные данные по параметру - количество дней \"от публикации до снятия\""
   ]
  },
  {
   "cell_type": "code",
   "execution_count": 395,
   "metadata": {},
   "outputs": [
    {
     "name": "stdout",
     "output_type": "stream",
     "text": [
      "5550000.0 Медианное значение по пропущенным данным\n",
      "4600000.0 Медианное значение по всем данным\n",
      "7901999.137540453 Среднее значение по пропущенным данным\n",
      "6184361.542048005 Среднее значение по всем данным\n"
     ]
    }
   ],
   "source": [
    "data_DE = data.query('days_exposition == \"NaN\"')\n",
    "print(data_DE['last_price'].median(), 'Медианное значение по пропущенным данным')\n",
    "print(data['last_price'].median(), 'Медианное значение по всем данным')\n",
    "print(data_DE['last_price'].mean(), 'Среднее значение по пропущенным данным')\n",
    "print(data['last_price'].mean(), 'Среднее значение по всем данным')"
   ]
  },
  {
   "cell_type": "markdown",
   "metadata": {},
   "source": [
    "По всей видимости эти объявления висят до сих пор, так как выборка по пропущенным значениям в days_exposition имеет бОльшие и по среднему и по медиане значения по столбцу last_price."
   ]
  },
  {
   "cell_type": "markdown",
   "metadata": {},
   "source": [
    "Цены выставили этим квартирам выше, чем в среднем."
   ]
  },
  {
   "cell_type": "code",
   "execution_count": 396,
   "metadata": {},
   "outputs": [],
   "source": [
    "data.dropna(subset = ['days_exposition'], inplace = True)"
   ]
  },
  {
   "cell_type": "markdown",
   "metadata": {},
   "source": [
    "Можно исключить эти объявления, потомучто, по всей видимости, цены у них завышены, а значит для нашего исследования они не нужны."
   ]
  },
  {
   "cell_type": "markdown",
   "metadata": {},
   "source": [
    "9. Изменение типов данных."
   ]
  },
  {
   "cell_type": "code",
   "execution_count": 397,
   "metadata": {},
   "outputs": [],
   "source": [
    "data['is_apartment'] = data['is_apartment'].astype('bool')\n",
    "#is_apartment подразумевает только два варианта True или False, но это было записано как object\n",
    "\n",
    "data['floors_total'] = data['floors_total'].astype('int')\n",
    "data['balcony'] = data['balcony'].astype('int')\n",
    "# количество этажей и балконов может быть только целочисленным\n",
    "\n",
    "data['days_exposition'] = data['days_exposition'].astype('int')\n",
    "# для наглядности и анализа нет необходимости знать вплоть до часа и минуты сколько висело объявление"
   ]
  },
  {
   "cell_type": "code",
   "execution_count": 398,
   "metadata": {},
   "outputs": [
    {
     "name": "stdout",
     "output_type": "stream",
     "text": [
      "<class 'pandas.core.frame.DataFrame'>\n",
      "Int64Index: 20074 entries, 1 to 23697\n",
      "Data columns (total 22 columns):\n",
      "total_images            20074 non-null int64\n",
      "last_price              20074 non-null float64\n",
      "total_area              20074 non-null float64\n",
      "first_day_exposition    20074 non-null object\n",
      "rooms                   20074 non-null int64\n",
      "ceiling_height          20074 non-null float64\n",
      "floors_total            20074 non-null int64\n",
      "living_area             20074 non-null float64\n",
      "floor                   20074 non-null int64\n",
      "is_apartment            20074 non-null bool\n",
      "studio                  20074 non-null bool\n",
      "open_plan               20074 non-null bool\n",
      "kitchen_area            20074 non-null float64\n",
      "balcony                 20074 non-null int64\n",
      "locality_name           20074 non-null object\n",
      "airports_nearest        15469 non-null float64\n",
      "cityCenters_nearest     15488 non-null float64\n",
      "parks_around3000        15488 non-null float64\n",
      "parks_nearest           6743 non-null float64\n",
      "ponds_around3000        15488 non-null float64\n",
      "ponds_nearest           7650 non-null float64\n",
      "days_exposition         20074 non-null int64\n",
      "dtypes: bool(3), float64(11), int64(6), object(2)\n",
      "memory usage: 3.1+ MB\n"
     ]
    }
   ],
   "source": [
    "data.info()"
   ]
  },
  {
   "cell_type": "markdown",
   "metadata": {},
   "source": [
    "По результатам предобработки данных было отвергнуто/удалено 3625 записей, что состовляет 15 % от всего датасета. Это не мало, но они содержали аномалии, которые негативно влияют на общую статистику."
   ]
  },
  {
   "cell_type": "markdown",
   "metadata": {},
   "source": [
    "### Шаг 3. Посчитайте и добавьте в таблицу"
   ]
  },
  {
   "cell_type": "markdown",
   "metadata": {},
   "source": [
    "Цена квадратного метра"
   ]
  },
  {
   "cell_type": "code",
   "execution_count": 399,
   "metadata": {},
   "outputs": [],
   "source": [
    "data['pr_m2'] = data['last_price'] / data['total_area']\n",
    "data['pr_m2'] = data['pr_m2'].astype('int')"
   ]
  },
  {
   "cell_type": "markdown",
   "metadata": {},
   "source": [
    "День недели, месяц и год публикации объявления"
   ]
  },
  {
   "cell_type": "code",
   "execution_count": 400,
   "metadata": {},
   "outputs": [],
   "source": [
    "data['time'] = pd.to_datetime(data['first_day_exposition'], format='%Y-%m-%dT%H:%M:%S')\n",
    "data['year'] = pd.DatetimeIndex(data['time']).year\n",
    "data['month'] = pd.DatetimeIndex(data['time']).month\n",
    "data['weekday'] = data['time'].dt.weekday"
   ]
  },
  {
   "cell_type": "markdown",
   "metadata": {},
   "source": [
    "Этаж квартиры; варианты — первый, последний, другой"
   ]
  },
  {
   "cell_type": "code",
   "execution_count": 401,
   "metadata": {},
   "outputs": [],
   "source": [
    "def whats_floor(floor):\n",
    "    if  floor['floor'] == 1:\n",
    "        return 'первый'\n",
    "    elif floor['floor'] == floor['floors_total']:\n",
    "        return 'последний'\n",
    "    else:\n",
    "        return 'другой' \n",
    "data['stage'] = data.apply(whats_floor, axis = 1) \n",
    "\n",
    "\n",
    "# Функция для того чтобы выполнить инструкции в шаге 4 по проверке зависимости\n",
    "def whats_floor2(floor):\n",
    "    if  floor['floor'] == 1:\n",
    "        return '1'\n",
    "    elif floor['floor'] == floor['floors_total']:\n",
    "        return '3'\n",
    "    else:\n",
    "        return '2' \n",
    "data['stage2'] = data.apply(whats_floor2, axis = 1)\n",
    "data['stage2'] = data['stage2'].astype('int')"
   ]
  },
  {
   "cell_type": "markdown",
   "metadata": {},
   "source": [
    "Соотношение жилой и общей площади"
   ]
  },
  {
   "cell_type": "code",
   "execution_count": 402,
   "metadata": {},
   "outputs": [],
   "source": [
    "data['dolya_giloy'] = data['living_area'] / data['total_area']"
   ]
  },
  {
   "cell_type": "markdown",
   "metadata": {},
   "source": [
    "Отношение площади кухни к общей"
   ]
  },
  {
   "cell_type": "code",
   "execution_count": 403,
   "metadata": {},
   "outputs": [],
   "source": [
    "data['dolya_kuhni'] = data['kitchen_area'] / data['total_area']"
   ]
  },
  {
   "cell_type": "markdown",
   "metadata": {},
   "source": [
    "### Шаг 4. Проведите исследовательский анализ данных и выполните инструкции:"
   ]
  },
  {
   "cell_type": "markdown",
   "metadata": {},
   "source": [
    "Изучение параметров: площадь, цена, число комнат, высота потолков. Построение гистограммы для каждого параметра."
   ]
  },
  {
   "cell_type": "code",
   "execution_count": 404,
   "metadata": {},
   "outputs": [],
   "source": [
    "import matplotlib.pyplot as plt"
   ]
  },
  {
   "cell_type": "code",
   "execution_count": 405,
   "metadata": {},
   "outputs": [
    {
     "name": "stdout",
     "output_type": "stream",
     "text": [
      "площадь\n",
      "count    20074.000000\n",
      "mean        57.741310\n",
      "std         29.037673\n",
      "min         12.000000\n",
      "25%         39.500000\n",
      "50%         50.600000\n",
      "75%         67.200000\n",
      "max        500.000000\n",
      "Name: total_area, dtype: float64\n",
      "AxesSubplot(0.125,0.125;0.775x0.755)\n"
     ]
    },
    {
     "data": {
      "image/png": "[encoded data removed]",
      "text/plain": [
       "<Figure size 1440x360 with 1 Axes>"
      ]
     },
     "metadata": {
      "needs_background": "light"
     },
     "output_type": "display_data"
    },
    {
     "name": "stdout",
     "output_type": "stream",
     "text": [
      "цена\n",
      "count    2.007400e+04\n",
      "mean     5.919965e+06\n",
      "std      7.013473e+06\n",
      "min      4.300000e+05\n",
      "25%      3.400000e+06\n",
      "50%      4.500000e+06\n",
      "75%      6.450000e+06\n",
      "max      3.300000e+08\n",
      "Name: last_price, dtype: float64\n",
      "AxesSubplot(0.125,0.125;0.775x0.755)\n"
     ]
    },
    {
     "data": {
      "image/png": "[encoded data removed]",
      "text/plain": [
       "<Figure size 1440x360 with 1 Axes>"
      ]
     },
     "metadata": {
      "needs_background": "light"
     },
     "output_type": "display_data"
    },
    {
     "name": "stdout",
     "output_type": "stream",
     "text": [
      "число комнат\n",
      "count    20074.000000\n",
      "mean         2.009166\n",
      "std          1.014180\n",
      "min          0.000000\n",
      "25%          1.000000\n",
      "50%          2.000000\n",
      "75%          3.000000\n",
      "max         16.000000\n",
      "Name: rooms, dtype: float64\n",
      "AxesSubplot(0.125,0.125;0.775x0.755)\n"
     ]
    },
    {
     "data": {
      "image/png": "[encoded data removed]",
      "text/plain": [
       "<Figure size 1440x360 with 1 Axes>"
      ]
     },
     "metadata": {
      "needs_background": "light"
     },
     "output_type": "display_data"
    },
    {
     "name": "stdout",
     "output_type": "stream",
     "text": [
      "высота потолков\n",
      "count    20074.000000\n",
      "mean         2.685605\n",
      "std          0.189637\n",
      "min          2.400000\n",
      "25%          2.600000\n",
      "50%          2.650000\n",
      "75%          2.700000\n",
      "max          4.000000\n",
      "Name: ceiling_height, dtype: float64\n",
      "AxesSubplot(0.125,0.125;0.775x0.755)\n"
     ]
    },
    {
     "data": {
      "image/png": "[encoded data removed]",
      "text/plain": [
       "<Figure size 1440x360 with 1 Axes>"
      ]
     },
     "metadata": {
      "needs_background": "light"
     },
     "output_type": "display_data"
    }
   ],
   "source": [
    "print('площадь')\n",
    "print(data['total_area'].describe())\n",
    "print(data['total_area'].hist(bins=100, figsize=(20,5)))\n",
    "plt.show()\n",
    "print('цена')\n",
    "print(data['last_price'].describe())\n",
    "print(data['last_price'].hist(bins=100, figsize=(20,5)))\n",
    "plt.show()\n",
    "print('число комнат')\n",
    "print(data['rooms'].describe())\n",
    "print(data['rooms'].hist(bins=100, figsize=(20,5)))\n",
    "plt.show()\n",
    "print('высота потолков')\n",
    "print(data['ceiling_height'].describe())\n",
    "print(data['ceiling_height'].hist(bins=100, figsize=(20,5)))\n",
    "plt.show()"
   ]
  },
  {
   "cell_type": "markdown",
   "metadata": {},
   "source": [
    "Изучение время продажи квартиры. Построение гистограммы. Расчёт среднего и медианы. Описание того, сколько обычно занимает продажа, и, когда можно считать, что продажи прошли очень быстро, а когда необычно долго?"
   ]
  },
  {
   "cell_type": "code",
   "execution_count": 406,
   "metadata": {},
   "outputs": [
    {
     "name": "stdout",
     "output_type": "stream",
     "text": [
      "count    20074.000000\n",
      "mean       180.042742\n",
      "std        218.690988\n",
      "min          1.000000\n",
      "25%         45.000000\n",
      "50%         95.000000\n",
      "75%        230.000000\n",
      "max       1580.000000\n",
      "Name: days_exposition, dtype: float64\n",
      "AxesSubplot(0.125,0.125;0.775x0.755)\n"
     ]
    },
    {
     "data": {
      "image/png": "[encoded data removed]",
      "text/plain": [
       "<Figure size 432x288 with 1 Axes>"
      ]
     },
     "metadata": {
      "needs_background": "light"
     },
     "output_type": "display_data"
    },
    {
     "name": "stdout",
     "output_type": "stream",
     "text": [
      "count    12818.000000\n",
      "mean        72.448744\n",
      "std         45.875623\n",
      "min          9.000000\n",
      "25%         36.000000\n",
      "50%         60.000000\n",
      "75%        104.000000\n",
      "max        180.000000\n",
      "Name: days_exposition, dtype: float64\n",
      "AxesSubplot(0.125,0.125;0.775x0.755)\n"
     ]
    },
    {
     "data": {
      "image/png": "[encoded data removed]",
      "text/plain": [
       "<Figure size 1440x360 with 1 Axes>"
      ]
     },
     "metadata": {
      "needs_background": "light"
     },
     "output_type": "display_data"
    }
   ],
   "source": [
    "print(data['days_exposition'].describe())\n",
    "print(data['days_exposition'].hist(bins=100))\n",
    "plt.show()\n",
    "\n",
    "data = data.query('9 <= days_exposition <= 180')\n",
    "print(data['days_exposition'].describe())\n",
    "print(data['days_exposition'].hist(bins=100, figsize=(20,5)))\n",
    "plt.show()"
   ]
  },
  {
   "cell_type": "markdown",
   "metadata": {},
   "source": [
    "Редкие и выбивающиеся значения - меньше 9 и больше 180.\n",
    "Особенно часто квартиры продаются примерно на 45 и 60 день после объявления."
   ]
  },
  {
   "cell_type": "markdown",
   "metadata": {},
   "source": [
    "Описание того, какие факторы больше всего влияют на стоимость квартиры? Изучение того, зависит ли цена от квадратного метра, числа комнат, этажа (первого или последнего), удалённости от центра. Изучение зависимости от даты размещения: дня недели, месяца и года."
   ]
  },
  {
   "cell_type": "code",
   "execution_count": 407,
   "metadata": {},
   "outputs": [
    {
     "name": "stdout",
     "output_type": "stream",
     "text": [
      "Корреляция общей площади и цены за м2\n",
      "0.20296520329294987\n",
      "\n",
      "Корреляция общей площади и общая цена \n",
      "0.6978342422453138\n",
      "\n",
      "Корреляция цена за м2 и количество комнат\n",
      "-0.02405316674958322\n",
      "\n",
      "Корреляция цена за м2 и этажа\n",
      "0.04150328621547086\n",
      "\n",
      "Корреляция цена за м2 и центра\n",
      "-0.35958541198950494\n",
      "\n",
      "Корреляция цена за м2 и год\n",
      "0.04752244144281207\n",
      "\n",
      "Корреляция цена за м2 и месяц\n",
      "0.00923261286604927\n",
      "\n",
      "Корреляция цена за м2 и день недели\n",
      "0.004000060572977308\n",
      "\n"
     ]
    }
   ],
   "source": [
    "print(\"Корреляция общей площади и цены за м2\")\n",
    "print(data['pr_m2'].corr(data['total_area']))\n",
    "print()\n",
    "\n",
    "print(\"Корреляция общей площади и общая цена \")\n",
    "print(data['total_area'].corr(data['last_price']))\n",
    "print()\n",
    "\n",
    "print(\"Корреляция цена за м2 и количество комнат\")\n",
    "print(data['pr_m2'].corr(data['rooms']))\n",
    "print()\n",
    "\n",
    "print(\"Корреляция цена за м2 и этажа\")\n",
    "print(data['pr_m2'].corr(data['stage2']))\n",
    "print()\n",
    "\n",
    "print(\"Корреляция цена за м2 и центра\")\n",
    "print(data['pr_m2'].corr(data['cityCenters_nearest']))\n",
    "print()\n",
    "\n",
    "print(\"Корреляция цена за м2 и год\")\n",
    "print(data['pr_m2'].corr(data['year']))\n",
    "print()\n",
    "\n",
    "print(\"Корреляция цена за м2 и месяц\")\n",
    "print(data['pr_m2'].corr(data['month']))\n",
    "print()\n",
    "\n",
    "print(\"Корреляция цена за м2 и день недели\")\n",
    "print(data['pr_m2'].corr(data['weekday']))\n",
    "print()"
   ]
  },
  {
   "cell_type": "markdown",
   "metadata": {},
   "source": [
    "Выводы:\n",
    "чем больше общая площадь, тем дороже квадратный метр;\n",
    "чем дальше от центра, тем меньше цена за квадратный метр;\n",
    "больше площадь - больше цена;\n",
    "со временем цена растёт."
   ]
  },
  {
   "cell_type": "markdown",
   "metadata": {},
   "source": [
    "10 населённых пунктов с наибольшим числом объявлений."
   ]
  },
  {
   "cell_type": "code",
   "execution_count": 408,
   "metadata": {},
   "outputs": [
    {
     "name": "stdout",
     "output_type": "stream",
     "text": [
      "Населённый пункт с самой высокой стоимостью жилья: посёлок Лисий Нос\n",
      "Населённый пункт с самой низкой стоимостью жилья: поселок Тельмана\n",
      "       locality_name          pr_m2\n",
      "0  посёлок Лисий Нос  168706.000000\n",
      "1        Зеленогорск  127192.090909\n",
      "2    Санкт-Петербург  109845.858388\n",
      "3  деревня Мистолово  103216.000000\n",
      "4         Сестрорецк  102856.457447\n",
      "5             Пушкин   99261.830303\n",
      "6            Кудрово   99110.290909\n",
      "7   посёлок Левашово   96997.000000\n",
      "8   посёлок Песочный   96345.000000\n",
      "9   поселок Тельмана   93093.000000\n"
     ]
    }
   ],
   "source": [
    "data_pivot_10locat = data.pivot_table(index='locality_name', values = 'pr_m2', aggfunc='mean')\n",
    "N = data_pivot_10locat.sort_values('pr_m2', ascending = False).head(10)\n",
    "N = N.reset_index()\n",
    "print('Населённый пункт с самой высокой стоимостью жилья:', N.loc[0, 'locality_name'])\n",
    "print('Населённый пункт с самой низкой стоимостью жилья:', N.loc[9, 'locality_name'])\n",
    "print(N)"
   ]
  },
  {
   "cell_type": "markdown",
   "metadata": {},
   "source": [
    "Исследование по Санкт-Петербургу и его центру"
   ]
  },
  {
   "cell_type": "code",
   "execution_count": 409,
   "metadata": {},
   "outputs": [
    {
     "name": "stderr",
     "output_type": "stream",
     "text": [
      "/opt/conda/lib/python3.7/site-packages/ipykernel_launcher.py:2: SettingWithCopyWarning: \n",
      "A value is trying to be set on a copy of a slice from a DataFrame.\n",
      "Try using .loc[row_indexer,col_indexer] = value instead\n",
      "\n",
      "See the caveats in the documentation: http://pandas.pydata.org/pandas-docs/stable/user_guide/indexing.html#returning-a-view-versus-a-copy\n",
      "  \n",
      "/opt/conda/lib/python3.7/site-packages/ipykernel_launcher.py:3: SettingWithCopyWarning: \n",
      "A value is trying to be set on a copy of a slice from a DataFrame.\n",
      "Try using .loc[row_indexer,col_indexer] = value instead\n",
      "\n",
      "See the caveats in the documentation: http://pandas.pydata.org/pandas-docs/stable/user_guide/indexing.html#returning-a-view-versus-a-copy\n",
      "  This is separate from the ipykernel package so we can avoid doing imports until\n",
      "/opt/conda/lib/python3.7/site-packages/ipykernel_launcher.py:4: SettingWithCopyWarning: \n",
      "A value is trying to be set on a copy of a slice from a DataFrame.\n",
      "Try using .loc[row_indexer,col_indexer] = value instead\n",
      "\n",
      "See the caveats in the documentation: http://pandas.pydata.org/pandas-docs/stable/user_guide/indexing.html#returning-a-view-versus-a-copy\n",
      "  after removing the cwd from sys.path.\n"
     ]
    },
    {
     "data": {
      "image/png": "[encoded data removed]",
      "text/plain": [
       "<Figure size 1440x360 with 1 Axes>"
      ]
     },
     "metadata": {
      "needs_background": "light"
     },
     "output_type": "display_data"
    },
    {
     "name": "stdout",
     "output_type": "stream",
     "text": [
      "               График \"Как цена зависит от удалённости от центра\"\n"
     ]
    }
   ],
   "source": [
    "data_qS = data.query('locality_name == \"Санкт-Петербург\"')\n",
    "data_qS['cityCenters_nearest'] = data_qS['cityCenters_nearest'].fillna(0)\n",
    "data_qS['KM'] = 1000\n",
    "data_qS['cityCenters_nearest_KM'] = (data_qS['cityCenters_nearest'] / data_qS['KM']).astype('int')\n",
    "data_pivot_centr = data_qS.pivot_table(index='cityCenters_nearest_KM', \n",
    "                                       values = 'last_price', aggfunc='median')\n",
    "\n",
    "data_pivot_centr = data_pivot_centr.reset_index()\n",
    "data_pivot_centr.plot(x = 'cityCenters_nearest_KM', y = 'last_price', style = 'o-',\n",
    "                      xlim=(0,30), ylim=(3000000, 12000000), figsize=(20,5), sharex=False)\n",
    "plt.show()\n",
    "print('               График \"Как цена зависит от удалённости от центра\"')"
   ]
  },
  {
   "cell_type": "markdown",
   "metadata": {},
   "source": [
    "На 9 км будем считать заканчивается центр города, потому что на графике в этой точке встречаются 2 разнохарактерных тренда"
   ]
  },
  {
   "cell_type": "markdown",
   "metadata": {},
   "source": [
    "Анализ центра и его параметры: площадь, цена, число комнат, высота потолков."
   ]
  },
  {
   "cell_type": "code",
   "execution_count": 410,
   "metadata": {},
   "outputs": [
    {
     "name": "stdout",
     "output_type": "stream",
     "text": [
      "площадь\n",
      "count    2382.000000\n",
      "mean       72.337750\n",
      "std        39.921294\n",
      "min        13.000000\n",
      "25%        45.277500\n",
      "50%        62.900000\n",
      "75%        86.575000\n",
      "max       500.000000\n",
      "Name: total_area, dtype: float64 Центр Санкт-Петербурга\n",
      "count    8488.000000\n",
      "mean       58.271496\n",
      "std        28.859278\n",
      "min        13.000000\n",
      "25%        40.000000\n",
      "50%        51.000000\n",
      "75%        67.800000\n",
      "max       500.000000\n",
      "Name: total_area, dtype: float64 Санкт-Петербург в целом\n",
      "цена\n",
      "count    2.382000e+03\n",
      "mean     9.705338e+06\n",
      "std      1.082168e+07\n",
      "min      1.686000e+06\n",
      "25%      5.100000e+06\n",
      "50%      7.101396e+06\n",
      "75%      1.070000e+07\n",
      "max      2.300000e+08\n",
      "Name: last_price, dtype: float64 Центр Санкт-Петербурга\n",
      "count    8.488000e+03\n",
      "mean     6.624965e+06\n",
      "std      6.485082e+06\n",
      "min      1.200000e+06\n",
      "25%      4.000000e+06\n",
      "50%      5.100000e+06\n",
      "75%      7.150000e+06\n",
      "max      2.300000e+08\n",
      "Name: last_price, dtype: float64 Санкт-Петербург в целом\n",
      "количество комнат\n",
      "count    2382.000000\n",
      "mean        2.381612\n",
      "std         1.206888\n",
      "min         0.000000\n",
      "25%         2.000000\n",
      "50%         2.000000\n",
      "75%         3.000000\n",
      "max        14.000000\n",
      "Name: rooms, dtype: float64 Центр Санкт-Петербурга\n",
      "count    8488.000000\n",
      "mean        2.023916\n",
      "std         1.017124\n",
      "min         0.000000\n",
      "25%         1.000000\n",
      "50%         2.000000\n",
      "75%         3.000000\n",
      "max        14.000000\n",
      "Name: rooms, dtype: float64 Санкт-Петербург в целом\n",
      "высота потолков\n",
      "count    2382.000000\n",
      "mean        2.815235\n",
      "std         0.285134\n",
      "min         2.400000\n",
      "25%         2.650000\n",
      "50%         2.650000\n",
      "75%         3.000000\n",
      "max         4.000000\n",
      "Name: ceiling_height, dtype: float64 Центр Санкт-Петербурга\n",
      "count    8488.000000\n",
      "mean        2.691522\n",
      "std         0.195504\n",
      "min         2.400000\n",
      "25%         2.600000\n",
      "50%         2.650000\n",
      "75%         2.700000\n",
      "max         4.000000\n",
      "Name: ceiling_height, dtype: float64 Санкт-Петербург в целом\n"
     ]
    }
   ],
   "source": [
    "data_qCenter = data_qS.query('cityCenters_nearest_KM <= 9')\n",
    "print('площадь')\n",
    "print(data_qCenter['total_area'].describe(), 'Центр Санкт-Петербурга')\n",
    "print(data_qS['total_area'].describe(), 'Санкт-Петербург в целом')\n",
    "print('цена')\n",
    "print(data_qCenter['last_price'].describe(), 'Центр Санкт-Петербурга')\n",
    "print(data_qS['last_price'].describe(), 'Санкт-Петербург в целом')\n",
    "print('количество комнат')\n",
    "print(data_qCenter['rooms'].describe(), 'Центр Санкт-Петербурга')\n",
    "print(data_qS['rooms'].describe(), 'Санкт-Петербург в целом')\n",
    "print('высота потолков')\n",
    "print(data_qCenter['ceiling_height'].describe(), 'Центр Санкт-Петербурга')\n",
    "print(data_qS['ceiling_height'].describe(), 'Санкт-Петербург в целом')"
   ]
  },
  {
   "cell_type": "markdown",
   "metadata": {},
   "source": [
    "Квартиры в центре больше, дороже, часто высота потолков выше."
   ]
  },
  {
   "cell_type": "markdown",
   "metadata": {},
   "source": [
    "Факторы, которые влияют на стоимость квартиры (число комнат, этаж, удалённость от центра, дата размещения объявления)."
   ]
  },
  {
   "cell_type": "code",
   "execution_count": 411,
   "metadata": {},
   "outputs": [
    {
     "name": "stdout",
     "output_type": "stream",
     "text": [
      "Корреляция цена  и количество комнат\n",
      "0.389519321468404 Центр\n",
      "0.41352693238057986 Санкт-Петербург\n"
     ]
    },
    {
     "data": {
      "image/png": "[encoded data removed]",
      "text/plain": [
       "<Figure size 432x288 with 1 Axes>"
      ]
     },
     "metadata": {
      "needs_background": "light"
     },
     "output_type": "display_data"
    },
    {
     "name": "stdout",
     "output_type": "stream",
     "text": [
      "\n",
      "Корреляция цена  и этаж\n",
      "0.06468874619410885 Центр\n",
      "0.0549225798627367 Санкт-Петербург\n"
     ]
    },
    {
     "data": {
      "image/png": "[encoded data removed]",
      "text/plain": [
       "<Figure size 432x288 with 1 Axes>"
      ]
     },
     "metadata": {
      "needs_background": "light"
     },
     "output_type": "display_data"
    },
    {
     "name": "stdout",
     "output_type": "stream",
     "text": [
      "\n",
      "Корреляция цена  и расстояние от центра\n",
      "-0.22336497714645187 Центр\n",
      "-0.31602774077309337 Санкт-Петербург\n"
     ]
    },
    {
     "data": {
      "image/png": "[encoded data removed]",
      "text/plain": [
       "<Figure size 432x288 with 1 Axes>"
      ]
     },
     "metadata": {
      "needs_background": "light"
     },
     "output_type": "display_data"
    },
    {
     "name": "stdout",
     "output_type": "stream",
     "text": [
      "\n",
      "Корреляция цена  и дата размещения\n",
      "-0.03818837143901486 Центр\n",
      "-0.01206794827412627 Санкт-Петербург\n",
      "Центр\n"
     ]
    },
    {
     "data": {
      "image/png": "[encoded data removed]",
      "text/plain": [
       "<Figure size 1440x360 with 1 Axes>"
      ]
     },
     "metadata": {
      "needs_background": "light"
     },
     "output_type": "display_data"
    },
    {
     "name": "stdout",
     "output_type": "stream",
     "text": [
      "Санкт-Петербург\n"
     ]
    },
    {
     "data": {
      "image/png": "[encoded data removed]",
      "text/plain": [
       "<Figure size 1440x360 with 1 Axes>"
      ]
     },
     "metadata": {
      "needs_background": "light"
     },
     "output_type": "display_data"
    },
    {
     "name": "stdout",
     "output_type": "stream",
     "text": [
      "\n"
     ]
    }
   ],
   "source": [
    "print(\"Корреляция цена  и количество комнат\")\n",
    "print(data_qCenter['last_price'].corr(data_qCenter['rooms']), 'Центр')\n",
    "print(data_qS['last_price'].corr(data_qS['rooms']), 'Санкт-Петербург')\n",
    "data_qS.plot(y='last_price', x='rooms', kind='scatter', alpha=0.03)\n",
    "plt.show()\n",
    "print()\n",
    "\n",
    "print(\"Корреляция цена  и этаж\")\n",
    "print(data_qCenter['last_price'].corr(data_qCenter['stage2']), 'Центр')\n",
    "print(data_qS['last_price'].corr(data_qS['stage2']), 'Санкт-Петербург')\n",
    "data_qS.plot(y='last_price', x='stage2', kind='scatter', alpha=0.03)\n",
    "plt.show()\n",
    "print()\n",
    "\n",
    "print(\"Корреляция цена  и расстояние от центра\")\n",
    "print(data_qCenter['last_price'].corr(data_qCenter['cityCenters_nearest']), 'Центр')\n",
    "print(data_qS['last_price'].corr(data_qS['cityCenters_nearest']), 'Санкт-Петербург')\n",
    "data_qS.plot(y='last_price', x='cityCenters_nearest', kind='scatter', alpha=0.03)\n",
    "plt.show()\n",
    "print()\n",
    "\n",
    "print(\"Корреляция цена  и дата размещения\")\n",
    "print(data_qCenter['last_price'].corr(data_qCenter['year']), 'Центр')\n",
    "print(data_qS['last_price'].corr(data_qS['year']), 'Санкт-Петербург')\n",
    "print('Центр')\n",
    "data_qCenter.plot(x='last_price', y='year', kind='scatter', alpha=0.03, figsize=(20,5))\n",
    "plt.show()\n",
    "print('Санкт-Петербург')\n",
    "data_qS.plot(x='last_price', y='year', kind='scatter', alpha=0.03, figsize=(20,5))\n",
    "plt.show()\n",
    "print()"
   ]
  },
  {
   "cell_type": "markdown",
   "metadata": {},
   "source": [
    "Цена сильно зависит в первую очередь от количества комнат(из рассматриваемых зависимостей)\n",
    "во вторую - расстояние от центра, в третью - от этажа, во четвёртую - от даты размещения.\n",
    "\n",
    "Если сравненивать по выше указанным параметрам, можно сделать следующий вывод:\n",
    "Связь цены и даты размещения в центре в три раза сильнее, чем в Санкт-Петербург вцелом. Корреляция отрицательная, но чем дата ближе к сегодняшнему дню, тем цифра больше. Соответственно в центре цены на квартиры дорожают в три раза медленее. По остальным параметрам зависимости от цены мало отличаются."
   ]
  },
  {
   "cell_type": "markdown",
   "metadata": {},
   "source": [
    "### Шаг 5. Общий вывод"
   ]
  },
  {
   "cell_type": "markdown",
   "metadata": {},
   "source": [
    "В среднем квартиры продаются до полугода, чаще в середине-в конце второго месяца. Цена за квадратный метр тем больше, чем больше общая площадь квартиры и близость к центру. В центре цены на квартиры дорожают в три раза медленее (последнее время).\n",
    "Автоматическую систему определения расстояния до парков и озёр надо совершенствовать (встраивать лемматизацию и т.п.)"
   ]
  }
 ],
 "metadata": {
  "celltoolbar": "Raw Cell Format",
  "kernelspec": {
   "display_name": "Python 3",
   "language": "python",
   "name": "python3"
  },
  "language_info": {
   "codemirror_mode": {
    "name": "ipython",
    "version": 3
   },
   "file_extension": ".py",
   "mimetype": "text/x-python",
   "name": "python",
   "nbconvert_exporter": "python",
   "pygments_lexer": "ipython3",
   "version": "3.7.3"
  }
 },
 "nbformat": 4,
 "nbformat_minor": 2
}
