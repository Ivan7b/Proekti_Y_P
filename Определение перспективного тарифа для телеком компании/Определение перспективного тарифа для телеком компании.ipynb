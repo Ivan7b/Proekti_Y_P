{
 "cells": [
  {
   "cell_type": "markdown",
   "metadata": {},
   "source": [
    "# Определение перспективного тарифа для телеком компании"
   ]
  },
  {
   "cell_type": "markdown",
   "metadata": {},
   "source": [
    "Необходимо выяснить - какой тариф из двух приносит больше денег."
   ]
  },
  {
   "cell_type": "markdown",
   "metadata": {},
   "source": [
    "### Шаг 1. Открытие файла с данными и изучение общей информации"
   ]
  },
  {
   "cell_type": "code",
   "execution_count": 49,
   "metadata": {},
   "outputs": [],
   "source": [
    "import pandas as pd\n",
    "import matplotlib.pyplot as plt\n",
    "import math\n",
    "from scipy import stats as st\n",
    "import numpy as np"
   ]
  },
  {
   "cell_type": "code",
   "execution_count": 50,
   "metadata": {},
   "outputs": [],
   "source": [
    "data_U = pd.read_csv('/datasets/users.csv') #  (информация о пользователях)\n",
    "data_I = pd.read_csv('/datasets/internet.csv') # (информация о звонках)\n",
    "data_C = pd.read_csv('/datasets/calls.csv') # (информация о сообщениях)\n",
    "data_M = pd.read_csv('/datasets/messages.csv') # (информация об интернет-сессиях)\n",
    "data_T = pd.read_csv('/datasets/tariffs.csv') # (информация о тарифах)"
   ]
  },
  {
   "cell_type": "markdown",
   "metadata": {},
   "source": [
    "### Шаг 2. Подготовка данных"
   ]
  },
  {
   "cell_type": "code",
   "execution_count": 51,
   "metadata": {},
   "outputs": [
    {
     "name": "stdout",
     "output_type": "stream",
     "text": [
      "<class 'pandas.core.frame.DataFrame'>\n",
      "RangeIndex: 500 entries, 0 to 499\n",
      "Data columns (total 8 columns):\n",
      "user_id       500 non-null int64\n",
      "age           500 non-null int64\n",
      "churn_date    38 non-null object\n",
      "city          500 non-null object\n",
      "first_name    500 non-null object\n",
      "last_name     500 non-null object\n",
      "reg_date      500 non-null object\n",
      "tariff        500 non-null object\n",
      "dtypes: int64(2), object(6)\n",
      "memory usage: 31.4+ KB\n",
      "<class 'pandas.core.frame.DataFrame'>\n",
      "Int64Index: 462 entries, 0 to 499\n",
      "Data columns (total 9 columns):\n",
      "user_id       462 non-null int64\n",
      "age           462 non-null int64\n",
      "churn_date    462 non-null object\n",
      "city          462 non-null object\n",
      "first_name    462 non-null object\n",
      "last_name     462 non-null object\n",
      "reg_date      462 non-null object\n",
      "tariff        462 non-null object\n",
      "month         462 non-null int64\n",
      "dtypes: int64(3), object(6)\n",
      "memory usage: 36.1+ KB\n",
      "   user_id  age churn_date         city first_name  last_name    reg_date  \\\n",
      "0     1000   52          1    Краснодар     Рафаил  Верещагин  2018-05-25   \n",
      "1     1001   41          1       Москва       Иван       Ежов  2018-11-01   \n",
      "2     1002   59          1  Стерлитамак    Евгений  Абрамович  2018-06-17   \n",
      "3     1003   23          1       Москва      Белла   Белякова  2018-08-17   \n",
      "4     1004   68          1  Новокузнецк    Татьяна   Авдеенко  2018-05-14   \n",
      "\n",
      "  tariff  month  \n",
      "0  ultra      5  \n",
      "1  smart     11  \n",
      "2  smart      6  \n",
      "3  ultra      8  \n",
      "4  ultra      5  \n"
     ]
    },
    {
     "name": "stderr",
     "output_type": "stream",
     "text": [
      "/opt/conda/lib/python3.7/site-packages/ipykernel_launcher.py:4: SettingWithCopyWarning: \n",
      "A value is trying to be set on a copy of a slice from a DataFrame.\n",
      "Try using .loc[row_indexer,col_indexer] = value instead\n",
      "\n",
      "See the caveats in the documentation: http://pandas.pydata.org/pandas-docs/stable/user_guide/indexing.html#returning-a-view-versus-a-copy\n",
      "  after removing the cwd from sys.path.\n"
     ]
    }
   ],
   "source": [
    "data_U.info()\n",
    "data_U['churn_date'] = data_U['churn_date'].fillna(1)\n",
    "data_U_N = data_U.query('churn_date == 1')\n",
    "data_U_N['month'] = pd.DatetimeIndex(data_U_N['reg_date']).month\n",
    "data_U_N.info()\n",
    "print(data_U_N.head())"
   ]
  },
  {
   "cell_type": "markdown",
   "metadata": {},
   "source": [
    "38 пользователей (8%) отказались от услуг Мегалайн. Удалим их из общей выборки. smart потерял 23 (6%), ultra потерял 15 (10%). К тарифу подороже требования выше."
   ]
  },
  {
   "cell_type": "code",
   "execution_count": 52,
   "metadata": {},
   "outputs": [
    {
     "name": "stdout",
     "output_type": "stream",
     "text": [
      "       id  mb_used session_date  user_id\n",
      "0  1000_0   112.95   2018-11-25     1000\n",
      "1  1000_1  1052.81   2018-09-07     1000\n",
      "2  1000_2  1197.26   2018-06-25     1000\n",
      "3  1000_3   550.27   2018-08-22     1000\n",
      "4  1000_4   302.56   2018-09-24     1000\n",
      "<class 'pandas.core.frame.DataFrame'>\n",
      "RangeIndex: 149396 entries, 0 to 149395\n",
      "Data columns (total 4 columns):\n",
      "id              149396 non-null object\n",
      "mb_used         149396 non-null float64\n",
      "session_date    149396 non-null object\n",
      "user_id         149396 non-null int64\n",
      "dtypes: float64(1), int64(1), object(2)\n",
      "memory usage: 4.6+ MB\n",
      "       id  mb_used session_date  user_id  month\n",
      "0  1000_0   112.95   2018-11-25     1000     11\n",
      "1  1000_1  1052.81   2018-09-07     1000      9\n",
      "2  1000_2  1197.26   2018-06-25     1000      6\n",
      "3  1000_3   550.27   2018-08-22     1000      8\n",
      "4  1000_4   302.56   2018-09-24     1000      9\n"
     ]
    },
    {
     "name": "stderr",
     "output_type": "stream",
     "text": [
      "/opt/conda/lib/python3.7/site-packages/ipykernel_launcher.py:4: SettingWithCopyWarning: \n",
      "A value is trying to be set on a copy of a slice from a DataFrame.\n",
      "Try using .loc[row_indexer,col_indexer] = value instead\n",
      "\n",
      "See the caveats in the documentation: http://pandas.pydata.org/pandas-docs/stable/user_guide/indexing.html#returning-a-view-versus-a-copy\n",
      "  after removing the cwd from sys.path.\n"
     ]
    },
    {
     "name": "stdout",
     "output_type": "stream",
     "text": [
      "<class 'pandas.core.frame.DataFrame'>\n",
      "Int64Index: 129798 entries, 0 to 149395\n",
      "Data columns (total 5 columns):\n",
      "id              129798 non-null object\n",
      "mb_used         129798 non-null float64\n",
      "session_date    129798 non-null object\n",
      "user_id         129798 non-null int64\n",
      "month           129798 non-null int64\n",
      "dtypes: float64(1), int64(2), object(2)\n",
      "memory usage: 5.9+ MB\n"
     ]
    }
   ],
   "source": [
    "print(data_I.head())\n",
    "data_I.info()\n",
    "data_I_mb = data_I.query('mb_used > 0.00')\n",
    "data_I_mb['month'] = pd.DatetimeIndex(data_I_mb['session_date']).month\n",
    "print(data_I_mb.head())\n",
    "data_I_mb.info()"
   ]
  },
  {
   "cell_type": "markdown",
   "metadata": {},
   "source": [
    "13% записей имеют значение трафика ноль. Удаляем их - не берём их в расчёт."
   ]
  },
  {
   "cell_type": "code",
   "execution_count": 53,
   "metadata": {},
   "outputs": [
    {
     "name": "stdout",
     "output_type": "stream",
     "text": [
      "       id   call_date  duration  user_id\n",
      "0  1000_0  2018-07-25      0.00     1000\n",
      "1  1000_1  2018-08-17      0.00     1000\n",
      "2  1000_2  2018-06-11      2.85     1000\n",
      "3  1000_3  2018-09-21     13.80     1000\n",
      "4  1000_4  2018-12-15      5.18     1000\n",
      "<class 'pandas.core.frame.DataFrame'>\n",
      "RangeIndex: 202607 entries, 0 to 202606\n",
      "Data columns (total 4 columns):\n",
      "id           202607 non-null object\n",
      "call_date    202607 non-null object\n",
      "duration     202607 non-null float64\n",
      "user_id      202607 non-null int64\n",
      "dtypes: float64(1), int64(1), object(2)\n",
      "memory usage: 6.2+ MB\n",
      "       id   call_date  duration  user_id  month\n",
      "2  1000_2  2018-06-11      2.85     1000      6\n",
      "3  1000_3  2018-09-21     13.80     1000      9\n",
      "4  1000_4  2018-12-15      5.18     1000     12\n",
      "7  1000_7  2018-08-22     18.31     1000      8\n",
      "8  1000_8  2018-09-15     18.44     1000      9\n",
      "<class 'pandas.core.frame.DataFrame'>\n",
      "Int64Index: 162994 entries, 2 to 202606\n",
      "Data columns (total 5 columns):\n",
      "id           162994 non-null object\n",
      "call_date    162994 non-null object\n",
      "duration     162994 non-null float64\n",
      "user_id      162994 non-null int64\n",
      "month        162994 non-null int64\n",
      "dtypes: float64(1), int64(2), object(2)\n",
      "memory usage: 7.5+ MB\n"
     ]
    },
    {
     "name": "stderr",
     "output_type": "stream",
     "text": [
      "/opt/conda/lib/python3.7/site-packages/ipykernel_launcher.py:4: SettingWithCopyWarning: \n",
      "A value is trying to be set on a copy of a slice from a DataFrame.\n",
      "Try using .loc[row_indexer,col_indexer] = value instead\n",
      "\n",
      "See the caveats in the documentation: http://pandas.pydata.org/pandas-docs/stable/user_guide/indexing.html#returning-a-view-versus-a-copy\n",
      "  after removing the cwd from sys.path.\n"
     ]
    }
   ],
   "source": [
    "print(data_C.head())\n",
    "data_C.info()\n",
    "data_C_d = data_C.query('duration > 0')\n",
    "data_C_d['month'] = pd.DatetimeIndex(data_C_d['call_date']).month\n",
    "print(data_C_d.head())\n",
    "data_C_d.info()"
   ]
  },
  {
   "cell_type": "markdown",
   "metadata": {},
   "source": [
    "20% звонков фиксирует ноль времени соединения. По всей видимости - эти звонки остались без ответа. Удаляем их."
   ]
  },
  {
   "cell_type": "code",
   "execution_count": 54,
   "metadata": {},
   "outputs": [
    {
     "name": "stdout",
     "output_type": "stream",
     "text": [
      "       id message_date  user_id  month\n",
      "0  1000_0   2018-06-27     1000      6\n",
      "1  1000_1   2018-10-08     1000     10\n",
      "2  1000_2   2018-08-04     1000      8\n",
      "3  1000_3   2018-06-16     1000      6\n",
      "4  1000_4   2018-12-05     1000     12\n",
      "<class 'pandas.core.frame.DataFrame'>\n",
      "RangeIndex: 123036 entries, 0 to 123035\n",
      "Data columns (total 4 columns):\n",
      "id              123036 non-null object\n",
      "message_date    123036 non-null object\n",
      "user_id         123036 non-null int64\n",
      "month           123036 non-null int64\n",
      "dtypes: int64(2), object(2)\n",
      "memory usage: 3.8+ MB\n"
     ]
    }
   ],
   "source": [
    "\n",
    "data_M['month'] = pd.DatetimeIndex(data_M['message_date']).month\n",
    "print(data_M.head())\n",
    "data_M.info()"
   ]
  },
  {
   "cell_type": "code",
   "execution_count": 55,
   "metadata": {},
   "outputs": [
    {
     "data": {
      "text/html": [
       "<div>\n",
       "<style scoped>\n",
       "    .dataframe tbody tr th:only-of-type {\n",
       "        vertical-align: middle;\n",
       "    }\n",
       "\n",
       "    .dataframe tbody tr th {\n",
       "        vertical-align: top;\n",
       "    }\n",
       "\n",
       "    .dataframe thead th {\n",
       "        text-align: right;\n",
       "    }\n",
       "</style>\n",
       "<table border=\"1\" class=\"dataframe\">\n",
       "  <thead>\n",
       "    <tr style=\"text-align: right;\">\n",
       "      <th></th>\n",
       "      <th>messages_included</th>\n",
       "      <th>mg_per_month_included</th>\n",
       "      <th>minutes_included</th>\n",
       "      <th>rub_monthly_fee</th>\n",
       "      <th>rub_per_gb</th>\n",
       "      <th>rub_per_message</th>\n",
       "      <th>rub_per_minute</th>\n",
       "      <th>tariff_name</th>\n",
       "    </tr>\n",
       "  </thead>\n",
       "  <tbody>\n",
       "    <tr>\n",
       "      <td>0</td>\n",
       "      <td>50</td>\n",
       "      <td>15360</td>\n",
       "      <td>500</td>\n",
       "      <td>550</td>\n",
       "      <td>200</td>\n",
       "      <td>3</td>\n",
       "      <td>3</td>\n",
       "      <td>smart</td>\n",
       "    </tr>\n",
       "    <tr>\n",
       "      <td>1</td>\n",
       "      <td>1000</td>\n",
       "      <td>30720</td>\n",
       "      <td>3000</td>\n",
       "      <td>1950</td>\n",
       "      <td>150</td>\n",
       "      <td>1</td>\n",
       "      <td>1</td>\n",
       "      <td>ultra</td>\n",
       "    </tr>\n",
       "  </tbody>\n",
       "</table>\n",
       "</div>"
      ],
      "text/plain": [
       "   messages_included  mg_per_month_included  minutes_included  \\\n",
       "0                 50                  15360               500   \n",
       "1               1000                  30720              3000   \n",
       "\n",
       "   rub_monthly_fee  rub_per_gb  rub_per_message  rub_per_minute tariff_name  \n",
       "0              550         200                3               3       smart  \n",
       "1             1950         150                1               1       ultra  "
      ]
     },
     "execution_count": 55,
     "metadata": {},
     "output_type": "execute_result"
    }
   ],
   "source": [
    "data_T.head()"
   ]
  },
  {
   "cell_type": "markdown",
   "metadata": {},
   "source": [
    "Подсчёт для каждого пользователя:"
   ]
  },
  {
   "cell_type": "markdown",
   "metadata": {},
   "source": [
    " - количество сделанных звонков"
   ]
  },
  {
   "cell_type": "code",
   "execution_count": 56,
   "metadata": {},
   "outputs": [
    {
     "name": "stdout",
     "output_type": "stream",
     "text": [
      "   user_id  month  duration\n",
      "0     1000      5        17\n",
      "1     1000      6        28\n",
      "2     1000      7        41\n",
      "3     1000      8        42\n",
      "4     1000      9        46\n"
     ]
    },
    {
     "data": {
      "text/html": [
       "<div>\n",
       "<style scoped>\n",
       "    .dataframe tbody tr th:only-of-type {\n",
       "        vertical-align: middle;\n",
       "    }\n",
       "\n",
       "    .dataframe tbody tr th {\n",
       "        vertical-align: top;\n",
       "    }\n",
       "\n",
       "    .dataframe thead th {\n",
       "        text-align: right;\n",
       "    }\n",
       "</style>\n",
       "<table border=\"1\" class=\"dataframe\">\n",
       "  <thead>\n",
       "    <tr style=\"text-align: right;\">\n",
       "      <th></th>\n",
       "      <th>user_id</th>\n",
       "      <th>month</th>\n",
       "      <th>duration</th>\n",
       "      <th>tariff</th>\n",
       "    </tr>\n",
       "  </thead>\n",
       "  <tbody>\n",
       "    <tr>\n",
       "      <td>0</td>\n",
       "      <td>1000</td>\n",
       "      <td>5</td>\n",
       "      <td>17</td>\n",
       "      <td>ultra</td>\n",
       "    </tr>\n",
       "    <tr>\n",
       "      <td>1</td>\n",
       "      <td>1000</td>\n",
       "      <td>6</td>\n",
       "      <td>28</td>\n",
       "      <td>ultra</td>\n",
       "    </tr>\n",
       "    <tr>\n",
       "      <td>2</td>\n",
       "      <td>1000</td>\n",
       "      <td>7</td>\n",
       "      <td>41</td>\n",
       "      <td>ultra</td>\n",
       "    </tr>\n",
       "    <tr>\n",
       "      <td>3</td>\n",
       "      <td>1000</td>\n",
       "      <td>8</td>\n",
       "      <td>42</td>\n",
       "      <td>ultra</td>\n",
       "    </tr>\n",
       "    <tr>\n",
       "      <td>4</td>\n",
       "      <td>1000</td>\n",
       "      <td>9</td>\n",
       "      <td>46</td>\n",
       "      <td>ultra</td>\n",
       "    </tr>\n",
       "  </tbody>\n",
       "</table>\n",
       "</div>"
      ],
      "text/plain": [
       "   user_id  month  duration tariff\n",
       "0     1000      5        17  ultra\n",
       "1     1000      6        28  ultra\n",
       "2     1000      7        41  ultra\n",
       "3     1000      8        42  ultra\n",
       "4     1000      9        46  ultra"
      ]
     },
     "execution_count": 56,
     "metadata": {},
     "output_type": "execute_result"
    }
   ],
   "source": [
    "df_users = data_U_N[['user_id', 'tariff']]\n",
    "df_users = df_users.set_index(['user_id'])\n",
    "data_C_d_pivotTNcalls = data_C_d.pivot_table(index = ['user_id', 'month'], \n",
    "                                             values = 'duration', aggfunc = 'count')\n",
    "data_C_d_pivotTNcalls = data_C_d_pivotTNcalls.reset_index()\n",
    "print(data_C_d_pivotTNcalls.head())\n",
    "data_Cal_Tariff = data_C_d_pivotTNcalls.merge(df_users, on = 'user_id')\n",
    "data_Cal_Tariff.head()"
   ]
  },
  {
   "cell_type": "markdown",
   "metadata": {},
   "source": [
    "Любое значение больше нуля будем считать за минуту и за мегабайт, т.к. «Мегалайн» всегда округляет вверх значения минут и мегабайтов. Если пользователь проговорил всего 1 секунду, в тарифе засчитывается целая минута."
   ]
  },
  {
   "cell_type": "code",
   "execution_count": 57,
   "metadata": {},
   "outputs": [
    {
     "name": "stdout",
     "output_type": "stream",
     "text": [
      "<class 'pandas.core.frame.DataFrame'>\n",
      "Int64Index: 162994 entries, 2 to 202606\n",
      "Data columns (total 6 columns):\n",
      "id           162994 non-null object\n",
      "call_date    162994 non-null object\n",
      "duration     162994 non-null float64\n",
      "user_id      162994 non-null int64\n",
      "month        162994 non-null int64\n",
      "duration1    162994 non-null int64\n",
      "dtypes: float64(1), int64(3), object(2)\n",
      "memory usage: 8.7+ MB\n"
     ]
    },
    {
     "name": "stderr",
     "output_type": "stream",
     "text": [
      "/opt/conda/lib/python3.7/site-packages/ipykernel_launcher.py:6: SettingWithCopyWarning: \n",
      "A value is trying to be set on a copy of a slice from a DataFrame.\n",
      "Try using .loc[row_indexer,col_indexer] = value instead\n",
      "\n",
      "See the caveats in the documentation: http://pandas.pydata.org/pandas-docs/stable/user_guide/indexing.html#returning-a-view-versus-a-copy\n",
      "  \n"
     ]
    },
    {
     "data": {
      "text/html": [
       "<div>\n",
       "<style scoped>\n",
       "    .dataframe tbody tr th:only-of-type {\n",
       "        vertical-align: middle;\n",
       "    }\n",
       "\n",
       "    .dataframe tbody tr th {\n",
       "        vertical-align: top;\n",
       "    }\n",
       "\n",
       "    .dataframe thead th {\n",
       "        text-align: right;\n",
       "    }\n",
       "</style>\n",
       "<table border=\"1\" class=\"dataframe\">\n",
       "  <thead>\n",
       "    <tr style=\"text-align: right;\">\n",
       "      <th></th>\n",
       "      <th>id</th>\n",
       "      <th>call_date</th>\n",
       "      <th>duration</th>\n",
       "      <th>user_id</th>\n",
       "      <th>month</th>\n",
       "      <th>duration1</th>\n",
       "    </tr>\n",
       "  </thead>\n",
       "  <tbody>\n",
       "    <tr>\n",
       "      <td>2</td>\n",
       "      <td>1000_2</td>\n",
       "      <td>2018-06-11</td>\n",
       "      <td>2.85</td>\n",
       "      <td>1000</td>\n",
       "      <td>6</td>\n",
       "      <td>3</td>\n",
       "    </tr>\n",
       "    <tr>\n",
       "      <td>3</td>\n",
       "      <td>1000_3</td>\n",
       "      <td>2018-09-21</td>\n",
       "      <td>13.80</td>\n",
       "      <td>1000</td>\n",
       "      <td>9</td>\n",
       "      <td>14</td>\n",
       "    </tr>\n",
       "    <tr>\n",
       "      <td>4</td>\n",
       "      <td>1000_4</td>\n",
       "      <td>2018-12-15</td>\n",
       "      <td>5.18</td>\n",
       "      <td>1000</td>\n",
       "      <td>12</td>\n",
       "      <td>6</td>\n",
       "    </tr>\n",
       "    <tr>\n",
       "      <td>7</td>\n",
       "      <td>1000_7</td>\n",
       "      <td>2018-08-22</td>\n",
       "      <td>18.31</td>\n",
       "      <td>1000</td>\n",
       "      <td>8</td>\n",
       "      <td>19</td>\n",
       "    </tr>\n",
       "    <tr>\n",
       "      <td>8</td>\n",
       "      <td>1000_8</td>\n",
       "      <td>2018-09-15</td>\n",
       "      <td>18.44</td>\n",
       "      <td>1000</td>\n",
       "      <td>9</td>\n",
       "      <td>19</td>\n",
       "    </tr>\n",
       "  </tbody>\n",
       "</table>\n",
       "</div>"
      ],
      "text/plain": [
       "       id   call_date  duration  user_id  month  duration1\n",
       "2  1000_2  2018-06-11      2.85     1000      6          3\n",
       "3  1000_3  2018-09-21     13.80     1000      9         14\n",
       "4  1000_4  2018-12-15      5.18     1000     12          6\n",
       "7  1000_7  2018-08-22     18.31     1000      8         19\n",
       "8  1000_8  2018-09-15     18.44     1000      9         19"
      ]
     },
     "execution_count": 57,
     "metadata": {},
     "output_type": "execute_result"
    }
   ],
   "source": [
    "def func(row):\n",
    "    if row['duration'] > 0:\n",
    "        return math.ceil(row['duration'])\n",
    "    return row['duration']\n",
    "\n",
    "data_C_d['duration1'] = data_C_d.apply(func, axis=1)\n",
    "\n",
    "data_C_d.info()\n",
    "data_C_d.head()"
   ]
  },
  {
   "cell_type": "markdown",
   "metadata": {},
   "source": [
    "(duration1 столбец для бухгалтерии \"Мегалайна\")"
   ]
  },
  {
   "cell_type": "markdown",
   "metadata": {},
   "source": [
    " - и израсходованных минут разговора по месяцам;"
   ]
  },
  {
   "cell_type": "code",
   "execution_count": 58,
   "metadata": {},
   "outputs": [
    {
     "data": {
      "text/html": [
       "<div>\n",
       "<style scoped>\n",
       "    .dataframe tbody tr th:only-of-type {\n",
       "        vertical-align: middle;\n",
       "    }\n",
       "\n",
       "    .dataframe tbody tr th {\n",
       "        vertical-align: top;\n",
       "    }\n",
       "\n",
       "    .dataframe thead th {\n",
       "        text-align: right;\n",
       "    }\n",
       "</style>\n",
       "<table border=\"1\" class=\"dataframe\">\n",
       "  <thead>\n",
       "    <tr style=\"text-align: right;\">\n",
       "      <th></th>\n",
       "      <th>user_id</th>\n",
       "      <th>month</th>\n",
       "      <th>duration1</th>\n",
       "      <th>tariff</th>\n",
       "    </tr>\n",
       "  </thead>\n",
       "  <tbody>\n",
       "    <tr>\n",
       "      <td>0</td>\n",
       "      <td>1000</td>\n",
       "      <td>5</td>\n",
       "      <td>159</td>\n",
       "      <td>ultra</td>\n",
       "    </tr>\n",
       "    <tr>\n",
       "      <td>1</td>\n",
       "      <td>1000</td>\n",
       "      <td>6</td>\n",
       "      <td>172</td>\n",
       "      <td>ultra</td>\n",
       "    </tr>\n",
       "    <tr>\n",
       "      <td>2</td>\n",
       "      <td>1000</td>\n",
       "      <td>7</td>\n",
       "      <td>340</td>\n",
       "      <td>ultra</td>\n",
       "    </tr>\n",
       "    <tr>\n",
       "      <td>3</td>\n",
       "      <td>1000</td>\n",
       "      <td>8</td>\n",
       "      <td>408</td>\n",
       "      <td>ultra</td>\n",
       "    </tr>\n",
       "    <tr>\n",
       "      <td>4</td>\n",
       "      <td>1000</td>\n",
       "      <td>9</td>\n",
       "      <td>466</td>\n",
       "      <td>ultra</td>\n",
       "    </tr>\n",
       "  </tbody>\n",
       "</table>\n",
       "</div>"
      ],
      "text/plain": [
       "   user_id  month  duration1 tariff\n",
       "0     1000      5        159  ultra\n",
       "1     1000      6        172  ultra\n",
       "2     1000      7        340  ultra\n",
       "3     1000      8        408  ultra\n",
       "4     1000      9        466  ultra"
      ]
     },
     "execution_count": 58,
     "metadata": {},
     "output_type": "execute_result"
    }
   ],
   "source": [
    "data_C_d_pivotTsumM = data_C_d.pivot_table(index = ['user_id', 'month'],\n",
    "                                           values = 'duration1', aggfunc = 'sum')\n",
    "\n",
    "\n",
    "data_C_d_pivotTsumM = data_C_d_pivotTsumM.reset_index()\n",
    "data_MiN_Tariff = data_C_d_pivotTsumM.merge(df_users, on = 'user_id')\n",
    "data_MiN_Tariff.head()"
   ]
  },
  {
   "cell_type": "markdown",
   "metadata": {},
   "source": [
    " - количество отправленных сообщений по месяцам;"
   ]
  },
  {
   "cell_type": "code",
   "execution_count": 59,
   "metadata": {},
   "outputs": [
    {
     "data": {
      "text/html": [
       "<div>\n",
       "<style scoped>\n",
       "    .dataframe tbody tr th:only-of-type {\n",
       "        vertical-align: middle;\n",
       "    }\n",
       "\n",
       "    .dataframe tbody tr th {\n",
       "        vertical-align: top;\n",
       "    }\n",
       "\n",
       "    .dataframe thead th {\n",
       "        text-align: right;\n",
       "    }\n",
       "</style>\n",
       "<table border=\"1\" class=\"dataframe\">\n",
       "  <thead>\n",
       "    <tr style=\"text-align: right;\">\n",
       "      <th></th>\n",
       "      <th>user_id</th>\n",
       "      <th>month</th>\n",
       "      <th>id</th>\n",
       "      <th>tariff</th>\n",
       "    </tr>\n",
       "  </thead>\n",
       "  <tbody>\n",
       "    <tr>\n",
       "      <td>0</td>\n",
       "      <td>1000</td>\n",
       "      <td>5</td>\n",
       "      <td>22</td>\n",
       "      <td>ultra</td>\n",
       "    </tr>\n",
       "    <tr>\n",
       "      <td>1</td>\n",
       "      <td>1000</td>\n",
       "      <td>6</td>\n",
       "      <td>60</td>\n",
       "      <td>ultra</td>\n",
       "    </tr>\n",
       "    <tr>\n",
       "      <td>2</td>\n",
       "      <td>1000</td>\n",
       "      <td>7</td>\n",
       "      <td>75</td>\n",
       "      <td>ultra</td>\n",
       "    </tr>\n",
       "    <tr>\n",
       "      <td>3</td>\n",
       "      <td>1000</td>\n",
       "      <td>8</td>\n",
       "      <td>81</td>\n",
       "      <td>ultra</td>\n",
       "    </tr>\n",
       "    <tr>\n",
       "      <td>4</td>\n",
       "      <td>1000</td>\n",
       "      <td>9</td>\n",
       "      <td>57</td>\n",
       "      <td>ultra</td>\n",
       "    </tr>\n",
       "  </tbody>\n",
       "</table>\n",
       "</div>"
      ],
      "text/plain": [
       "   user_id  month  id tariff\n",
       "0     1000      5  22  ultra\n",
       "1     1000      6  60  ultra\n",
       "2     1000      7  75  ultra\n",
       "3     1000      8  81  ultra\n",
       "4     1000      9  57  ultra"
      ]
     },
     "execution_count": 59,
     "metadata": {},
     "output_type": "execute_result"
    }
   ],
   "source": [
    "data_M_pivot = data_M.pivot_table(index = ['user_id', 'month'], \n",
    "                                       values = 'id', aggfunc = 'count')\n",
    "\n",
    "\n",
    "data_M_Tariff = data_M_pivot.reset_index()\n",
    "data_M_Tariff = data_M_Tariff.merge(df_users, on = 'user_id')\n",
    "data_M_Tariff.head()"
   ]
  },
  {
   "cell_type": "markdown",
   "metadata": {},
   "source": [
    " - объем израсходованного интернет-трафика по месяцам;"
   ]
  },
  {
   "cell_type": "code",
   "execution_count": 60,
   "metadata": {},
   "outputs": [
    {
     "name": "stderr",
     "output_type": "stream",
     "text": [
      "/opt/conda/lib/python3.7/site-packages/ipykernel_launcher.py:6: SettingWithCopyWarning: \n",
      "A value is trying to be set on a copy of a slice from a DataFrame.\n",
      "Try using .loc[row_indexer,col_indexer] = value instead\n",
      "\n",
      "See the caveats in the documentation: http://pandas.pydata.org/pandas-docs/stable/user_guide/indexing.html#returning-a-view-versus-a-copy\n",
      "  \n"
     ]
    },
    {
     "data": {
      "text/html": [
       "<div>\n",
       "<style scoped>\n",
       "    .dataframe tbody tr th:only-of-type {\n",
       "        vertical-align: middle;\n",
       "    }\n",
       "\n",
       "    .dataframe tbody tr th {\n",
       "        vertical-align: top;\n",
       "    }\n",
       "\n",
       "    .dataframe thead th {\n",
       "        text-align: right;\n",
       "    }\n",
       "</style>\n",
       "<table border=\"1\" class=\"dataframe\">\n",
       "  <thead>\n",
       "    <tr style=\"text-align: right;\">\n",
       "      <th></th>\n",
       "      <th>id</th>\n",
       "      <th>mb_used</th>\n",
       "      <th>session_date</th>\n",
       "      <th>user_id</th>\n",
       "      <th>month</th>\n",
       "      <th>mb_used1</th>\n",
       "    </tr>\n",
       "  </thead>\n",
       "  <tbody>\n",
       "    <tr>\n",
       "      <td>0</td>\n",
       "      <td>1000_0</td>\n",
       "      <td>112.95</td>\n",
       "      <td>2018-11-25</td>\n",
       "      <td>1000</td>\n",
       "      <td>11</td>\n",
       "      <td>113</td>\n",
       "    </tr>\n",
       "    <tr>\n",
       "      <td>1</td>\n",
       "      <td>1000_1</td>\n",
       "      <td>1052.81</td>\n",
       "      <td>2018-09-07</td>\n",
       "      <td>1000</td>\n",
       "      <td>9</td>\n",
       "      <td>1053</td>\n",
       "    </tr>\n",
       "    <tr>\n",
       "      <td>2</td>\n",
       "      <td>1000_2</td>\n",
       "      <td>1197.26</td>\n",
       "      <td>2018-06-25</td>\n",
       "      <td>1000</td>\n",
       "      <td>6</td>\n",
       "      <td>1198</td>\n",
       "    </tr>\n",
       "    <tr>\n",
       "      <td>3</td>\n",
       "      <td>1000_3</td>\n",
       "      <td>550.27</td>\n",
       "      <td>2018-08-22</td>\n",
       "      <td>1000</td>\n",
       "      <td>8</td>\n",
       "      <td>551</td>\n",
       "    </tr>\n",
       "    <tr>\n",
       "      <td>4</td>\n",
       "      <td>1000_4</td>\n",
       "      <td>302.56</td>\n",
       "      <td>2018-09-24</td>\n",
       "      <td>1000</td>\n",
       "      <td>9</td>\n",
       "      <td>303</td>\n",
       "    </tr>\n",
       "  </tbody>\n",
       "</table>\n",
       "</div>"
      ],
      "text/plain": [
       "       id  mb_used session_date  user_id  month  mb_used1\n",
       "0  1000_0   112.95   2018-11-25     1000     11       113\n",
       "1  1000_1  1052.81   2018-09-07     1000      9      1053\n",
       "2  1000_2  1197.26   2018-06-25     1000      6      1198\n",
       "3  1000_3   550.27   2018-08-22     1000      8       551\n",
       "4  1000_4   302.56   2018-09-24     1000      9       303"
      ]
     },
     "execution_count": 60,
     "metadata": {},
     "output_type": "execute_result"
    }
   ],
   "source": [
    "def func(row):\n",
    "    if row['mb_used'] > 0:\n",
    "        return math.ceil(row['mb_used'])\n",
    "    return row['mb_used']\n",
    "\n",
    "data_I_mb['mb_used1'] = data_I_mb.apply(func, axis=1)\n",
    "\n",
    "\n",
    "data_I_mb.head()"
   ]
  },
  {
   "cell_type": "markdown",
   "metadata": {},
   "source": [
    "- помесячную выручку с каждого пользователя"
   ]
  },
  {
   "cell_type": "code",
   "execution_count": 61,
   "metadata": {
    "scrolled": false
   },
   "outputs": [
    {
     "data": {
      "text/html": [
       "<div>\n",
       "<style scoped>\n",
       "    .dataframe tbody tr th:only-of-type {\n",
       "        vertical-align: middle;\n",
       "    }\n",
       "\n",
       "    .dataframe tbody tr th {\n",
       "        vertical-align: top;\n",
       "    }\n",
       "\n",
       "    .dataframe thead th {\n",
       "        text-align: right;\n",
       "    }\n",
       "</style>\n",
       "<table border=\"1\" class=\"dataframe\">\n",
       "  <thead>\n",
       "    <tr style=\"text-align: right;\">\n",
       "      <th></th>\n",
       "      <th>user_id</th>\n",
       "      <th>month</th>\n",
       "      <th>duration1</th>\n",
       "      <th>tariff</th>\n",
       "      <th>id</th>\n",
       "      <th>mb_used1</th>\n",
       "      <th>messages_included</th>\n",
       "      <th>mg_per_month_included</th>\n",
       "      <th>minutes_included</th>\n",
       "      <th>rub_monthly_fee</th>\n",
       "      <th>rub_per_gb</th>\n",
       "      <th>rub_per_message</th>\n",
       "      <th>rub_per_minute</th>\n",
       "      <th>tariff_name</th>\n",
       "      <th>SUMmin</th>\n",
       "      <th>SUMsoob</th>\n",
       "      <th>SUMmb</th>\n",
       "      <th>SUM</th>\n",
       "    </tr>\n",
       "  </thead>\n",
       "  <tbody>\n",
       "    <tr>\n",
       "      <td>0</td>\n",
       "      <td>1000</td>\n",
       "      <td>5</td>\n",
       "      <td>159.0</td>\n",
       "      <td>ultra</td>\n",
       "      <td>22.0</td>\n",
       "      <td>2256.0</td>\n",
       "      <td>1000</td>\n",
       "      <td>30720</td>\n",
       "      <td>3000</td>\n",
       "      <td>1950</td>\n",
       "      <td>150</td>\n",
       "      <td>1</td>\n",
       "      <td>1</td>\n",
       "      <td>ultra</td>\n",
       "      <td>0.0</td>\n",
       "      <td>0.0</td>\n",
       "      <td>0.000000</td>\n",
       "      <td>1950.000000</td>\n",
       "    </tr>\n",
       "    <tr>\n",
       "      <td>1</td>\n",
       "      <td>1000</td>\n",
       "      <td>6</td>\n",
       "      <td>172.0</td>\n",
       "      <td>ultra</td>\n",
       "      <td>60.0</td>\n",
       "      <td>23257.0</td>\n",
       "      <td>1000</td>\n",
       "      <td>30720</td>\n",
       "      <td>3000</td>\n",
       "      <td>1950</td>\n",
       "      <td>150</td>\n",
       "      <td>1</td>\n",
       "      <td>1</td>\n",
       "      <td>ultra</td>\n",
       "      <td>0.0</td>\n",
       "      <td>0.0</td>\n",
       "      <td>0.000000</td>\n",
       "      <td>1950.000000</td>\n",
       "    </tr>\n",
       "    <tr>\n",
       "      <td>2</td>\n",
       "      <td>1000</td>\n",
       "      <td>7</td>\n",
       "      <td>340.0</td>\n",
       "      <td>ultra</td>\n",
       "      <td>75.0</td>\n",
       "      <td>14016.0</td>\n",
       "      <td>1000</td>\n",
       "      <td>30720</td>\n",
       "      <td>3000</td>\n",
       "      <td>1950</td>\n",
       "      <td>150</td>\n",
       "      <td>1</td>\n",
       "      <td>1</td>\n",
       "      <td>ultra</td>\n",
       "      <td>0.0</td>\n",
       "      <td>0.0</td>\n",
       "      <td>0.000000</td>\n",
       "      <td>1950.000000</td>\n",
       "    </tr>\n",
       "    <tr>\n",
       "      <td>3</td>\n",
       "      <td>1000</td>\n",
       "      <td>8</td>\n",
       "      <td>408.0</td>\n",
       "      <td>ultra</td>\n",
       "      <td>81.0</td>\n",
       "      <td>14070.0</td>\n",
       "      <td>1000</td>\n",
       "      <td>30720</td>\n",
       "      <td>3000</td>\n",
       "      <td>1950</td>\n",
       "      <td>150</td>\n",
       "      <td>1</td>\n",
       "      <td>1</td>\n",
       "      <td>ultra</td>\n",
       "      <td>0.0</td>\n",
       "      <td>0.0</td>\n",
       "      <td>0.000000</td>\n",
       "      <td>1950.000000</td>\n",
       "    </tr>\n",
       "    <tr>\n",
       "      <td>4</td>\n",
       "      <td>1000</td>\n",
       "      <td>9</td>\n",
       "      <td>466.0</td>\n",
       "      <td>ultra</td>\n",
       "      <td>57.0</td>\n",
       "      <td>14581.0</td>\n",
       "      <td>1000</td>\n",
       "      <td>30720</td>\n",
       "      <td>3000</td>\n",
       "      <td>1950</td>\n",
       "      <td>150</td>\n",
       "      <td>1</td>\n",
       "      <td>1</td>\n",
       "      <td>ultra</td>\n",
       "      <td>0.0</td>\n",
       "      <td>0.0</td>\n",
       "      <td>0.000000</td>\n",
       "      <td>1950.000000</td>\n",
       "    </tr>\n",
       "    <tr>\n",
       "      <td>...</td>\n",
       "      <td>...</td>\n",
       "      <td>...</td>\n",
       "      <td>...</td>\n",
       "      <td>...</td>\n",
       "      <td>...</td>\n",
       "      <td>...</td>\n",
       "      <td>...</td>\n",
       "      <td>...</td>\n",
       "      <td>...</td>\n",
       "      <td>...</td>\n",
       "      <td>...</td>\n",
       "      <td>...</td>\n",
       "      <td>...</td>\n",
       "      <td>...</td>\n",
       "      <td>...</td>\n",
       "      <td>...</td>\n",
       "      <td>...</td>\n",
       "      <td>...</td>\n",
       "    </tr>\n",
       "    <tr>\n",
       "      <td>995</td>\n",
       "      <td>1015</td>\n",
       "      <td>5</td>\n",
       "      <td>401.0</td>\n",
       "      <td>smart</td>\n",
       "      <td>73.0</td>\n",
       "      <td>17170.0</td>\n",
       "      <td>50</td>\n",
       "      <td>15360</td>\n",
       "      <td>500</td>\n",
       "      <td>550</td>\n",
       "      <td>200</td>\n",
       "      <td>3</td>\n",
       "      <td>3</td>\n",
       "      <td>smart</td>\n",
       "      <td>0.0</td>\n",
       "      <td>69.0</td>\n",
       "      <td>353.515625</td>\n",
       "      <td>972.515625</td>\n",
       "    </tr>\n",
       "    <tr>\n",
       "      <td>996</td>\n",
       "      <td>1015</td>\n",
       "      <td>6</td>\n",
       "      <td>430.0</td>\n",
       "      <td>smart</td>\n",
       "      <td>80.0</td>\n",
       "      <td>26926.0</td>\n",
       "      <td>50</td>\n",
       "      <td>15360</td>\n",
       "      <td>500</td>\n",
       "      <td>550</td>\n",
       "      <td>200</td>\n",
       "      <td>3</td>\n",
       "      <td>3</td>\n",
       "      <td>smart</td>\n",
       "      <td>0.0</td>\n",
       "      <td>90.0</td>\n",
       "      <td>2258.984375</td>\n",
       "      <td>2898.984375</td>\n",
       "    </tr>\n",
       "    <tr>\n",
       "      <td>997</td>\n",
       "      <td>1015</td>\n",
       "      <td>7</td>\n",
       "      <td>556.0</td>\n",
       "      <td>smart</td>\n",
       "      <td>90.0</td>\n",
       "      <td>19933.0</td>\n",
       "      <td>50</td>\n",
       "      <td>15360</td>\n",
       "      <td>500</td>\n",
       "      <td>550</td>\n",
       "      <td>200</td>\n",
       "      <td>3</td>\n",
       "      <td>3</td>\n",
       "      <td>smart</td>\n",
       "      <td>168.0</td>\n",
       "      <td>120.0</td>\n",
       "      <td>893.164062</td>\n",
       "      <td>1731.164062</td>\n",
       "    </tr>\n",
       "    <tr>\n",
       "      <td>998</td>\n",
       "      <td>1015</td>\n",
       "      <td>8</td>\n",
       "      <td>394.0</td>\n",
       "      <td>smart</td>\n",
       "      <td>68.0</td>\n",
       "      <td>27436.0</td>\n",
       "      <td>50</td>\n",
       "      <td>15360</td>\n",
       "      <td>500</td>\n",
       "      <td>550</td>\n",
       "      <td>200</td>\n",
       "      <td>3</td>\n",
       "      <td>3</td>\n",
       "      <td>smart</td>\n",
       "      <td>0.0</td>\n",
       "      <td>54.0</td>\n",
       "      <td>2358.593750</td>\n",
       "      <td>2962.593750</td>\n",
       "    </tr>\n",
       "    <tr>\n",
       "      <td>999</td>\n",
       "      <td>1015</td>\n",
       "      <td>9</td>\n",
       "      <td>486.0</td>\n",
       "      <td>smart</td>\n",
       "      <td>68.0</td>\n",
       "      <td>16798.0</td>\n",
       "      <td>50</td>\n",
       "      <td>15360</td>\n",
       "      <td>500</td>\n",
       "      <td>550</td>\n",
       "      <td>200</td>\n",
       "      <td>3</td>\n",
       "      <td>3</td>\n",
       "      <td>smart</td>\n",
       "      <td>0.0</td>\n",
       "      <td>54.0</td>\n",
       "      <td>280.859375</td>\n",
       "      <td>884.859375</td>\n",
       "    </tr>\n",
       "  </tbody>\n",
       "</table>\n",
       "<p>1000 rows × 18 columns</p>\n",
       "</div>"
      ],
      "text/plain": [
       "     user_id  month  duration1 tariff    id  mb_used1  messages_included  \\\n",
       "0       1000      5      159.0  ultra  22.0    2256.0               1000   \n",
       "1       1000      6      172.0  ultra  60.0   23257.0               1000   \n",
       "2       1000      7      340.0  ultra  75.0   14016.0               1000   \n",
       "3       1000      8      408.0  ultra  81.0   14070.0               1000   \n",
       "4       1000      9      466.0  ultra  57.0   14581.0               1000   \n",
       "..       ...    ...        ...    ...   ...       ...                ...   \n",
       "995     1015      5      401.0  smart  73.0   17170.0                 50   \n",
       "996     1015      6      430.0  smart  80.0   26926.0                 50   \n",
       "997     1015      7      556.0  smart  90.0   19933.0                 50   \n",
       "998     1015      8      394.0  smart  68.0   27436.0                 50   \n",
       "999     1015      9      486.0  smart  68.0   16798.0                 50   \n",
       "\n",
       "     mg_per_month_included  minutes_included  rub_monthly_fee  rub_per_gb  \\\n",
       "0                    30720              3000             1950         150   \n",
       "1                    30720              3000             1950         150   \n",
       "2                    30720              3000             1950         150   \n",
       "3                    30720              3000             1950         150   \n",
       "4                    30720              3000             1950         150   \n",
       "..                     ...               ...              ...         ...   \n",
       "995                  15360               500              550         200   \n",
       "996                  15360               500              550         200   \n",
       "997                  15360               500              550         200   \n",
       "998                  15360               500              550         200   \n",
       "999                  15360               500              550         200   \n",
       "\n",
       "     rub_per_message  rub_per_minute tariff_name  SUMmin  SUMsoob  \\\n",
       "0                  1               1       ultra     0.0      0.0   \n",
       "1                  1               1       ultra     0.0      0.0   \n",
       "2                  1               1       ultra     0.0      0.0   \n",
       "3                  1               1       ultra     0.0      0.0   \n",
       "4                  1               1       ultra     0.0      0.0   \n",
       "..               ...             ...         ...     ...      ...   \n",
       "995                3               3       smart     0.0     69.0   \n",
       "996                3               3       smart     0.0     90.0   \n",
       "997                3               3       smart   168.0    120.0   \n",
       "998                3               3       smart     0.0     54.0   \n",
       "999                3               3       smart     0.0     54.0   \n",
       "\n",
       "           SUMmb          SUM  \n",
       "0       0.000000  1950.000000  \n",
       "1       0.000000  1950.000000  \n",
       "2       0.000000  1950.000000  \n",
       "3       0.000000  1950.000000  \n",
       "4       0.000000  1950.000000  \n",
       "..           ...          ...  \n",
       "995   353.515625   972.515625  \n",
       "996  2258.984375  2898.984375  \n",
       "997   893.164062  1731.164062  \n",
       "998  2358.593750  2962.593750  \n",
       "999   280.859375   884.859375  \n",
       "\n",
       "[1000 rows x 18 columns]"
      ]
     },
     "execution_count": 61,
     "metadata": {},
     "output_type": "execute_result"
    }
   ],
   "source": [
    "data_I_mb_pivot = data_I_mb.pivot_table(index = ['user_id', 'month'],\n",
    "                                        values = 'mb_used1', aggfunc = 'sum')\n",
    "\n",
    "\n",
    "data_MB_Tariff = data_I_mb_pivot.reset_index()\n",
    "\n",
    "\n",
    "data_MB_Tariff = data_MB_Tariff.merge(df_users, on = 'user_id')\n",
    "\n",
    "\n",
    "\n",
    "\n",
    "data_S_Tariff = data_MiN_Tariff.merge(data_M_Tariff,\n",
    "                                      on = ['user_id','tariff', 'month'], how='outer')\n",
    "\n",
    "data_V_Tariff = data_S_Tariff.merge(data_MB_Tariff,\n",
    "                                      on = ['user_id','tariff', 'month'], how='outer')\n",
    "\n",
    "data_T['tariff'] = data_T['tariff_name']\n",
    "\n",
    "data_U_Tariff = data_V_Tariff.merge(data_T, on = 'tariff')\n",
    "\n",
    "data_U_Tariff = data_U_Tariff.fillna(0)\n",
    "\n",
    "\n",
    "def function1(data):\n",
    "    data['SUMmin'] = (data['duration1'] - data['minutes_included']) * data['rub_per_minute']\n",
    "    if data['SUMmin'] > 0:\n",
    "        return data['SUMmin']\n",
    "    return 0\n",
    "\n",
    "def function2(data):\n",
    "    data['SUMsoob'] = (data['id'] - data['messages_included']) * data['rub_per_message']\n",
    "    if data['SUMsoob'] > 0:\n",
    "        return data['SUMsoob']\n",
    "    return 0\n",
    "\n",
    "def function3(data):\n",
    "    data['SUMmb'] = ((data['mb_used1'] - data['mg_per_month_included']) / 1024) * data['rub_per_gb']\n",
    "    if data['SUMmb'] > 0:\n",
    "        return data['SUMmb']\n",
    "    return 0\n",
    "\n",
    "\n",
    "data_U_Tariff['SUMmin'] = data_U_Tariff.apply(function1, axis=1)\n",
    "\n",
    "data_U_Tariff['SUMsoob'] = data_U_Tariff.apply(function2, axis=1)\n",
    "\n",
    "data_U_Tariff['SUMmb'] = data_U_Tariff.apply(function3, axis=1)\n",
    "\n",
    "data_U_Tariff['SUM'] = (data_U_Tariff['SUMmin'] + data_U_Tariff['SUMsoob'] + data_U_Tariff['SUMmb'] +\n",
    "                        data_U_Tariff['rub_monthly_fee'])\n",
    "\n",
    "data_U_Tariff.head(1000)"
   ]
  },
  {
   "cell_type": "markdown",
   "metadata": {},
   "source": [
    "Для наглядности продемонстрированы фрагменты таблицы с разными тарифами."
   ]
  },
  {
   "cell_type": "markdown",
   "metadata": {},
   "source": [
    "### Шаг 3.Анализ данных\n",
    "Опишите поведение клиентов оператора, исходя из выборки. Сколько минут разговора, сколько сообщений и какой объём интернет-трафика требуется пользователям каждого тарифа в месяц?"
   ]
  },
  {
   "cell_type": "code",
   "execution_count": 62,
   "metadata": {},
   "outputs": [
    {
     "name": "stdout",
     "output_type": "stream",
     "text": [
      "Статистические показатели\n",
      " - по количеству затраченных минут разговора за месяц\n",
      "\n",
      "ULTRA\n",
      "count     909.000000\n",
      "mean      531.930693\n",
      "std       320.472257\n",
      "min         0.000000\n",
      "25%       286.000000\n",
      "50%       523.000000\n",
      "75%       753.000000\n",
      "max      1673.000000\n",
      "Name: duration1, dtype: float64\n",
      "AxesSubplot(0.125,0.125;0.775x0.755)\n"
     ]
    },
    {
     "data": {
      "image/png": "[encoded data removed]",
      "text/plain": [
       "<Figure size 432x288 with 1 Axes>"
      ]
     },
     "metadata": {
      "needs_background": "light"
     },
     "output_type": "display_data"
    },
    {
     "name": "stdout",
     "output_type": "stream",
     "text": [
      "\n",
      "SMART\n",
      "count    2118.000000\n",
      "mean      422.773843\n",
      "std       191.203948\n",
      "min         0.000000\n",
      "25%       287.250000\n",
      "50%       430.000000\n",
      "75%       550.000000\n",
      "max      1435.000000\n",
      "Name: duration1, dtype: float64\n",
      "AxesSubplot(0.125,0.125;0.775x0.755)\n"
     ]
    },
    {
     "data": {
      "image/png": "[encoded data removed]",
      "text/plain": [
       "<Figure size 432x288 with 1 Axes>"
      ]
     },
     "metadata": {
      "needs_background": "light"
     },
     "output_type": "display_data"
    }
   ],
   "source": [
    "data_U_Tariff_ULTRA = data_U_Tariff.query('tariff_name == \"ultra\"')\n",
    "data_U_Tariff_SMART = data_U_Tariff.query('tariff_name == \"smart\"')\n",
    "print('Статистические показатели')\n",
    "print(' - по количеству затраченных минут разговора за месяц')\n",
    "print()\n",
    "print('ULTRA')\n",
    "print(data_U_Tariff_ULTRA['duration1'].describe())\n",
    "print(data_U_Tariff_ULTRA['duration1'].hist())\n",
    "plt.show()\n",
    "print()\n",
    "print('SMART')\n",
    "print(data_U_Tariff_SMART['duration1'].describe())\n",
    "print(data_U_Tariff_SMART['duration1'].hist())\n",
    "plt.show()"
   ]
  },
  {
   "cell_type": "markdown",
   "metadata": {},
   "source": [
    "Гистограмма по тарифу \"Смарт\" демонстрирует распределение более похожее на нормальное. Кажется, что мало данных... Превышение лимита по тарифу \"Смарт\" частое явление."
   ]
  },
  {
   "cell_type": "code",
   "execution_count": 63,
   "metadata": {},
   "outputs": [
    {
     "name": "stdout",
     "output_type": "stream",
     "text": [
      " - по количеству сообщений за месяц\n",
      "\n",
      "ULTRA\n",
      "count    909.000000\n",
      "mean      51.218922\n",
      "std       48.344162\n",
      "min        0.000000\n",
      "25%        9.000000\n",
      "50%       40.000000\n",
      "75%       80.000000\n",
      "max      224.000000\n",
      "Name: id, dtype: float64\n",
      "AxesSubplot(0.125,0.125;0.775x0.755)\n"
     ]
    },
    {
     "data": {
      "image/png": "[encoded data removed]",
      "text/plain": [
       "<Figure size 432x288 with 1 Axes>"
      ]
     },
     "metadata": {
      "needs_background": "light"
     },
     "output_type": "display_data"
    },
    {
     "name": "stdout",
     "output_type": "stream",
     "text": [
      "\n",
      "SMART\n",
      "count    2118.000000\n",
      "mean       33.587819\n",
      "std        28.440087\n",
      "min         0.000000\n",
      "25%        10.000000\n",
      "50%        28.000000\n",
      "75%        51.000000\n",
      "max       143.000000\n",
      "Name: id, dtype: float64\n",
      "AxesSubplot(0.125,0.125;0.775x0.755)\n"
     ]
    },
    {
     "data": {
      "image/png": "[encoded data removed]",
      "text/plain": [
       "<Figure size 432x288 with 1 Axes>"
      ]
     },
     "metadata": {
      "needs_background": "light"
     },
     "output_type": "display_data"
    }
   ],
   "source": [
    "print(' - по количеству сообщений за месяц')\n",
    "print()\n",
    "print('ULTRA')\n",
    "print(data_U_Tariff_ULTRA['id'].describe())\n",
    "print(data_U_Tariff_ULTRA['id'].hist())\n",
    "plt.show()\n",
    "print()\n",
    "print('SMART')\n",
    "print(data_U_Tariff_SMART['id'].describe())\n",
    "print(data_U_Tariff_SMART['id'].hist())\n",
    "plt.show()"
   ]
  },
  {
   "cell_type": "markdown",
   "metadata": {},
   "source": [
    "Обе гистограмма демонстрируют классический вид распределения Пуасона со скосом вправо. Также говорит, что маловато данных. 1000 сообщений в месяц пользователям тарифа \"Ультра\" не нужно."
   ]
  },
  {
   "cell_type": "code",
   "execution_count": 64,
   "metadata": {},
   "outputs": [
    {
     "name": "stdout",
     "output_type": "stream",
     "text": [
      " - по объёму интернет-трафика за месяц\n",
      "\n",
      "ULTRA\n",
      "count      909.00000\n",
      "mean     19608.79758\n",
      "std       9990.02500\n",
      "min          0.00000\n",
      "25%      11876.00000\n",
      "50%      19374.00000\n",
      "75%      27170.00000\n",
      "max      49789.00000\n",
      "Name: mb_used1, dtype: float64\n",
      "AxesSubplot(0.125,0.125;0.775x0.755)\n"
     ]
    },
    {
     "data": {
      "image/png": "[encoded data removed]",
      "text/plain": [
       "<Figure size 432x288 with 1 Axes>"
      ]
     },
     "metadata": {
      "needs_background": "light"
     },
     "output_type": "display_data"
    },
    {
     "name": "stdout",
     "output_type": "stream",
     "text": [
      "\n",
      "SMART\n",
      "count     2118.000000\n",
      "mean     16294.444287\n",
      "std       5842.884783\n",
      "min          0.000000\n",
      "25%      12753.750000\n",
      "50%      16566.500000\n",
      "75%      20068.000000\n",
      "max      38610.000000\n",
      "Name: mb_used1, dtype: float64\n",
      "AxesSubplot(0.125,0.125;0.775x0.755)\n"
     ]
    },
    {
     "data": {
      "image/png": "[encoded data removed]",
      "text/plain": [
       "<Figure size 432x288 with 1 Axes>"
      ]
     },
     "metadata": {
      "needs_background": "light"
     },
     "output_type": "display_data"
    }
   ],
   "source": [
    "print(' - по объёму интернет-трафика за месяц')\n",
    "print()\n",
    "print('ULTRA')\n",
    "print(data_U_Tariff_ULTRA['mb_used1'].describe())\n",
    "print(data_U_Tariff_ULTRA['mb_used1'].hist())\n",
    "plt.show()\n",
    "print()\n",
    "print('SMART')\n",
    "print(data_U_Tariff_SMART['mb_used1'].describe())\n",
    "print(data_U_Tariff_SMART['mb_used1'].hist())\n",
    "plt.show()"
   ]
  },
  {
   "cell_type": "markdown",
   "metadata": {},
   "source": [
    "Гистограмма по тарифу \"Смарт\" демонстрирует распределение более похожее на нормальное. Кажется, что мало данных...Пользователи тарифа \"Смарт\" часто превышают лимит трафика по тарифу."
   ]
  },
  {
   "cell_type": "markdown",
   "metadata": {},
   "source": [
    "# Шаг 4. Проверьте гипотезы\n",
    "средняя выручка пользователей тарифов «Ультра» и «Смарт» различается;\n",
    "средняя выручка пользователей из Москвы отличается от выручки пользователей из других регионов;\n",
    "Пороговое значение alpha задайте самостоятельно.\n",
    "Поясните:\n",
    "как вы формулировали нулевую и альтернативную гипотезы;\n",
    "какой критерий использовали для проверки гипотез и почему."
   ]
  },
  {
   "cell_type": "code",
   "execution_count": 65,
   "metadata": {},
   "outputs": [
    {
     "name": "stdout",
     "output_type": "stream",
     "text": [
      "Средняя выручка пользователей тарифов «Ультра»\n",
      "count     909.000000\n",
      "mean     2057.306492\n",
      "std       348.828733\n",
      "min      1950.000000\n",
      "25%      1950.000000\n",
      "50%      1950.000000\n",
      "75%      1950.000000\n",
      "max      4743.310547\n",
      "Name: SUM, dtype: float64\n",
      "\n",
      "Средняя выручка пользователей тарифов «Смарт»\n",
      "count    2118.000000\n",
      "mean     1242.613746\n",
      "std       791.565987\n",
      "min       550.000000\n",
      "25%       562.000000\n",
      "50%       974.777344\n",
      "75%      1674.267578\n",
      "max      6711.015625\n",
      "Name: SUM, dtype: float64\n",
      "\n",
      "Cредняя выручка пользователей из Москвы\n",
      "count      90.000000\n",
      "mean     2164.934896\n",
      "std       509.912966\n",
      "min      1950.000000\n",
      "25%      1950.000000\n",
      "50%      1950.000000\n",
      "75%      1950.000000\n",
      "max      3945.263672\n",
      "Name: SUM, dtype: float64\n",
      "\n",
      "Cредняя выручка пользователей из других регионов России\n",
      "count    2937.000000\n",
      "mean     1466.497574\n",
      "std       781.547905\n",
      "min       550.000000\n",
      "25%       690.234375\n",
      "50%      1480.726562\n",
      "75%      1950.000000\n",
      "max      6711.015625\n",
      "Name: SUM, dtype: float64\n"
     ]
    }
   ],
   "source": [
    "print('Средняя выручка пользователей тарифов «Ультра»')\n",
    "print(data_U_Tariff_ULTRA['SUM'].describe())\n",
    "print()\n",
    "print('Средняя выручка пользователей тарифов «Смарт»')\n",
    "print(data_U_Tariff_SMART['SUM'].describe())\n",
    "\n",
    "data_U_Tariff['city'] = data_U_N['city']\n",
    "print()\n",
    "print('Cредняя выручка пользователей из Москвы')\n",
    "data_U_Tariff_Moskva = data_U_Tariff.query('city == \"Москва\"')\n",
    "print(data_U_Tariff_Moskva['SUM'].describe())\n",
    "print()\n",
    "print('Cредняя выручка пользователей из других регионов России')\n",
    "data_U_Tariff_Ostalnaia_Russia = data_U_Tariff.query('city != \"Москва\"')\n",
    "print(data_U_Tariff_Ostalnaia_Russia['SUM'].describe())"
   ]
  },
  {
   "cell_type": "markdown",
   "metadata": {},
   "source": [
    "### Москва и другие регионы"
   ]
  },
  {
   "cell_type": "markdown",
   "metadata": {},
   "source": [
    "Нулевая гипотеза: средняя выручка пользователей из Москвы не отличается от выручки пользователей из других регионов"
   ]
  },
  {
   "cell_type": "code",
   "execution_count": 93,
   "metadata": {},
   "outputs": [
    {
     "name": "stdout",
     "output_type": "stream",
     "text": [
      "p-значение: 5.616096438913594e-17\n",
      "Отвергаем нулевую гипотезу\n"
     ]
    }
   ],
   "source": [
    "alpha = .05\n",
    "\n",
    "Moskva = data_U_Tariff_Moskva['SUM'].tolist()\n",
    "Ostalnaia_Russia = data_U_Tariff_Ostalnaia_Russia['SUM'].tolist()\n",
    "\n",
    "results = st.ttest_ind(Ostalnaia_Russia, Moskva)\n",
    "\n",
    "print('p-значение:', results.pvalue)\n",
    "\n",
    "if (results.pvalue < alpha):\n",
    "    print(\"Отвергаем нулевую гипотезу\")\n",
    "else:\n",
    "    print(\"Не получилось отвергнуть нулевую гипотезу\")"
   ]
  },
  {
   "cell_type": "markdown",
   "metadata": {},
   "source": [
    "Средняя выручка пользователей из Москвы отличается от выручки пользователей из других регионов"
   ]
  },
  {
   "cell_type": "markdown",
   "metadata": {},
   "source": [
    "### «Ультра» и  «Смарт»"
   ]
  },
  {
   "cell_type": "markdown",
   "metadata": {},
   "source": [
    "Нулевая гипотеза: средняя выручка пользователей тарифов «Ультра» и средняя выручка пользователей тарифов «Смарт» одинаковые."
   ]
  },
  {
   "cell_type": "code",
   "execution_count": 72,
   "metadata": {},
   "outputs": [
    {
     "name": "stdout",
     "output_type": "stream",
     "text": [
      "p-значение: 1.966126159965563e-171\n",
      "Отвергаем нулевую гипотезу\n"
     ]
    }
   ],
   "source": [
    "alpha = .05\n",
    "\n",
    "ULTRA = data_U_Tariff_ULTRA['SUM'].tolist()\n",
    "SMART = data_U_Tariff_SMART['SUM'].tolist()\n",
    "\n",
    "results = st.ttest_ind(ULTRA, SMART)\n",
    "\n",
    "print('p-значение:', results.pvalue)\n",
    "\n",
    "if (results.pvalue < alpha):\n",
    "    print(\"Отвергаем нулевую гипотезу\")\n",
    "else:\n",
    "    print(\"Не получилось отвергнуть нулевую гипотезу\")"
   ]
  },
  {
   "cell_type": "markdown",
   "metadata": {},
   "source": [
    "Средняя выручка пользователей тарифов «Ультра» и средняя выручка пользователей тарифов «Смарт» отличаются."
   ]
  },
  {
   "cell_type": "markdown",
   "metadata": {},
   "source": [
    "# Шаг 5. Напишите общий вывод"
   ]
  },
  {
   "cell_type": "code",
   "execution_count": 92,
   "metadata": {},
   "outputs": [
    {
     "name": "stdout",
     "output_type": "stream",
     "text": [
      "Тарифные предпочтения пользователей из Москвы ultra    90\n",
      "Name: tariff, dtype: int64\n"
     ]
    },
    {
     "data": {
      "text/html": [
       "<div>\n",
       "<style scoped>\n",
       "    .dataframe tbody tr th:only-of-type {\n",
       "        vertical-align: middle;\n",
       "    }\n",
       "\n",
       "    .dataframe tbody tr th {\n",
       "        vertical-align: top;\n",
       "    }\n",
       "\n",
       "    .dataframe thead th {\n",
       "        text-align: right;\n",
       "    }\n",
       "</style>\n",
       "<table border=\"1\" class=\"dataframe\">\n",
       "  <thead>\n",
       "    <tr style=\"text-align: right;\">\n",
       "      <th></th>\n",
       "      <th>Тариф</th>\n",
       "      <th>Человекомесяцы</th>\n",
       "      <th>Выручка от тарифа</th>\n",
       "      <th>Удельная выручка c одного человекомесяца</th>\n",
       "    </tr>\n",
       "  </thead>\n",
       "  <tbody>\n",
       "    <tr>\n",
       "      <td>0</td>\n",
       "      <td>SMART</td>\n",
       "      <td>2118</td>\n",
       "      <td>2631855</td>\n",
       "      <td>1242</td>\n",
       "    </tr>\n",
       "    <tr>\n",
       "      <td>1</td>\n",
       "      <td>ULTRA</td>\n",
       "      <td>909</td>\n",
       "      <td>1870091</td>\n",
       "      <td>2057</td>\n",
       "    </tr>\n",
       "  </tbody>\n",
       "</table>\n",
       "</div>"
      ],
      "text/plain": [
       "   Тариф  Человекомесяцы  Выручка от тарифа  \\\n",
       "0  SMART            2118            2631855   \n",
       "1  ULTRA             909            1870091   \n",
       "\n",
       "   Удельная выручка c одного человекомесяца   \n",
       "0                                       1242  \n",
       "1                                       2057  "
      ]
     },
     "execution_count": 92,
     "metadata": {},
     "output_type": "execute_result"
    }
   ],
   "source": [
    "ULTRAsum = data_U_Tariff_ULTRA['SUM'].sum()\n",
    "ULTRAcount = data_U_Tariff_ULTRA['SUM'].count()\n",
    "SMARTsum = data_U_Tariff_SMART['SUM'].sum()\n",
    "SMARTcount = data_U_Tariff_SMART['SUM'].count()\n",
    "\n",
    "print('Тарифные предпочтения пользователей из Москвы', data_U_Tariff_Moskva['tariff'].value_counts())\n",
    "\n",
    "data = [['SMART', SMARTcount, int(SMARTsum), int(int(SMARTsum)/ SMARTcount)], \n",
    "       ['ULTRA', ULTRAcount, int(ULTRAsum), int(int(ULTRAsum)/ ULTRAcount)]] \n",
    "columns = ['Тариф','Человекомесяцы','Выручка от тарифа','Удельная выручка c одного человекомесяца '] \n",
    "Tarif = pd.DataFrame(data = data, columns = columns) \n",
    "\n",
    "Tarif"
   ]
  },
  {
   "cell_type": "markdown",
   "metadata": {},
   "source": [
    "Комерческому департаменту сказать, что бы тратили деньги на рекламу тарифа \"Ультра\" в Москве. Суммарная выручка от тарифа \"Смарт\" выше, чем от тарифа \"Ультра\". Несмотря на то, что человекомесяцев в 2 раза больше у Смарта, тем не менее у него только в 1,5 раза больше выручка."
   ]
  },
  {
   "cell_type": "code",
   "execution_count": null,
   "metadata": {},
   "outputs": [],
   "source": []
  }
 ],
 "metadata": {
  "kernelspec": {
   "display_name": "Python 3",
   "language": "python",
   "name": "python3"
  },
  "language_info": {
   "codemirror_mode": {
    "name": "ipython",
    "version": 3
   },
   "file_extension": ".py",
   "mimetype": "text/x-python",
   "name": "python",
   "nbconvert_exporter": "python",
   "pygments_lexer": "ipython3",
   "version": "3.7.3"
  }
 },
 "nbformat": 4,
 "nbformat_minor": 2
}
