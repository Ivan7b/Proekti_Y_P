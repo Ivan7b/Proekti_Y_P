{
 "cells": [
  {
   "cell_type": "markdown",
   "metadata": {},
   "source": [
    "# Цель\n",
    "\n",
    "\n",
    "Нужно получить модель, которая предскажет коэффициент восстановления золота из золотосодержащей руды. В распоряжении данные с параметрами добычи и очистки. \n",
    "\n",
    "Модель поможет оптимизировать производство, чтобы не запускать предприятие с убыточными характеристиками."
   ]
  },
  {
   "cell_type": "code",
   "execution_count": 1,
   "metadata": {},
   "outputs": [],
   "source": [
    "import pandas as pd\n",
    "import matplotlib.pyplot as plt\n",
    "import numpy as np\n",
    "from sklearn.metrics import mean_absolute_error\n",
    "from sklearn.linear_model import LinearRegression\n",
    "from sklearn.model_selection import cross_val_score\n",
    "from sklearn.tree import DecisionTreeRegressor\n",
    "from sklearn.ensemble import RandomForestRegressor\n",
    "from sklearn.metrics import make_scorer"
   ]
  },
  {
   "cell_type": "markdown",
   "metadata": {},
   "source": [
    "# 1. Подготовка данных"
   ]
  },
  {
   "cell_type": "code",
   "execution_count": 2,
   "metadata": {
    "scrolled": true
   },
   "outputs": [
    {
     "name": "stdout",
     "output_type": "stream",
     "text": [
      "<class 'pandas.core.frame.DataFrame'>\n",
      "RangeIndex: 16860 entries, 0 to 16859\n",
      "Data columns (total 87 columns):\n",
      "date                                                  16860 non-null object\n",
      "final.output.concentrate_ag                           16788 non-null float64\n",
      "final.output.concentrate_pb                           16788 non-null float64\n",
      "final.output.concentrate_sol                          16490 non-null float64\n",
      "final.output.concentrate_au                           16789 non-null float64\n",
      "final.output.recovery                                 15339 non-null float64\n",
      "final.output.tail_ag                                  16794 non-null float64\n",
      "final.output.tail_pb                                  16677 non-null float64\n",
      "final.output.tail_sol                                 16715 non-null float64\n",
      "final.output.tail_au                                  16794 non-null float64\n",
      "primary_cleaner.input.sulfate                         15553 non-null float64\n",
      "primary_cleaner.input.depressant                      15598 non-null float64\n",
      "primary_cleaner.input.feed_size                       16860 non-null float64\n",
      "primary_cleaner.input.xanthate                        15875 non-null float64\n",
      "primary_cleaner.output.concentrate_ag                 16778 non-null float64\n",
      "primary_cleaner.output.concentrate_pb                 16502 non-null float64\n",
      "primary_cleaner.output.concentrate_sol                16224 non-null float64\n",
      "primary_cleaner.output.concentrate_au                 16778 non-null float64\n",
      "primary_cleaner.output.tail_ag                        16777 non-null float64\n",
      "primary_cleaner.output.tail_pb                        16761 non-null float64\n",
      "primary_cleaner.output.tail_sol                       16579 non-null float64\n",
      "primary_cleaner.output.tail_au                        16777 non-null float64\n",
      "primary_cleaner.state.floatbank8_a_air                16820 non-null float64\n",
      "primary_cleaner.state.floatbank8_a_level              16827 non-null float64\n",
      "primary_cleaner.state.floatbank8_b_air                16820 non-null float64\n",
      "primary_cleaner.state.floatbank8_b_level              16833 non-null float64\n",
      "primary_cleaner.state.floatbank8_c_air                16822 non-null float64\n",
      "primary_cleaner.state.floatbank8_c_level              16833 non-null float64\n",
      "primary_cleaner.state.floatbank8_d_air                16821 non-null float64\n",
      "primary_cleaner.state.floatbank8_d_level              16833 non-null float64\n",
      "rougher.calculation.sulfate_to_au_concentrate         16833 non-null float64\n",
      "rougher.calculation.floatbank10_sulfate_to_au_feed    16833 non-null float64\n",
      "rougher.calculation.floatbank11_sulfate_to_au_feed    16833 non-null float64\n",
      "rougher.calculation.au_pb_ratio                       15618 non-null float64\n",
      "rougher.input.feed_ag                                 16778 non-null float64\n",
      "rougher.input.feed_pb                                 16632 non-null float64\n",
      "rougher.input.feed_rate                               16347 non-null float64\n",
      "rougher.input.feed_size                               16443 non-null float64\n",
      "rougher.input.feed_sol                                16568 non-null float64\n",
      "rougher.input.feed_au                                 16777 non-null float64\n",
      "rougher.input.floatbank10_sulfate                     15816 non-null float64\n",
      "rougher.input.floatbank10_xanthate                    16514 non-null float64\n",
      "rougher.input.floatbank11_sulfate                     16237 non-null float64\n",
      "rougher.input.floatbank11_xanthate                    14956 non-null float64\n",
      "rougher.output.concentrate_ag                         16778 non-null float64\n",
      "rougher.output.concentrate_pb                         16778 non-null float64\n",
      "rougher.output.concentrate_sol                        16698 non-null float64\n",
      "rougher.output.concentrate_au                         16778 non-null float64\n",
      "rougher.output.recovery                               14287 non-null float64\n",
      "rougher.output.tail_ag                                14610 non-null float64\n",
      "rougher.output.tail_pb                                16778 non-null float64\n",
      "rougher.output.tail_sol                               14611 non-null float64\n",
      "rougher.output.tail_au                                14611 non-null float64\n",
      "rougher.state.floatbank10_a_air                       16807 non-null float64\n",
      "rougher.state.floatbank10_a_level                     16807 non-null float64\n",
      "rougher.state.floatbank10_b_air                       16807 non-null float64\n",
      "rougher.state.floatbank10_b_level                     16807 non-null float64\n",
      "rougher.state.floatbank10_c_air                       16807 non-null float64\n",
      "rougher.state.floatbank10_c_level                     16814 non-null float64\n",
      "rougher.state.floatbank10_d_air                       16802 non-null float64\n",
      "rougher.state.floatbank10_d_level                     16809 non-null float64\n",
      "rougher.state.floatbank10_e_air                       16257 non-null float64\n",
      "rougher.state.floatbank10_e_level                     16809 non-null float64\n",
      "rougher.state.floatbank10_f_air                       16802 non-null float64\n",
      "rougher.state.floatbank10_f_level                     16802 non-null float64\n",
      "secondary_cleaner.output.tail_ag                      16776 non-null float64\n",
      "secondary_cleaner.output.tail_pb                      16764 non-null float64\n",
      "secondary_cleaner.output.tail_sol                     14874 non-null float64\n",
      "secondary_cleaner.output.tail_au                      16778 non-null float64\n",
      "secondary_cleaner.state.floatbank2_a_air              16497 non-null float64\n",
      "secondary_cleaner.state.floatbank2_a_level            16751 non-null float64\n",
      "secondary_cleaner.state.floatbank2_b_air              16705 non-null float64\n",
      "secondary_cleaner.state.floatbank2_b_level            16748 non-null float64\n",
      "secondary_cleaner.state.floatbank3_a_air              16763 non-null float64\n",
      "secondary_cleaner.state.floatbank3_a_level            16747 non-null float64\n",
      "secondary_cleaner.state.floatbank3_b_air              16752 non-null float64\n",
      "secondary_cleaner.state.floatbank3_b_level            16750 non-null float64\n",
      "secondary_cleaner.state.floatbank4_a_air              16731 non-null float64\n",
      "secondary_cleaner.state.floatbank4_a_level            16747 non-null float64\n",
      "secondary_cleaner.state.floatbank4_b_air              16768 non-null float64\n",
      "secondary_cleaner.state.floatbank4_b_level            16767 non-null float64\n",
      "secondary_cleaner.state.floatbank5_a_air              16775 non-null float64\n",
      "secondary_cleaner.state.floatbank5_a_level            16775 non-null float64\n",
      "secondary_cleaner.state.floatbank5_b_air              16775 non-null float64\n",
      "secondary_cleaner.state.floatbank5_b_level            16776 non-null float64\n",
      "secondary_cleaner.state.floatbank6_a_air              16757 non-null float64\n",
      "secondary_cleaner.state.floatbank6_a_level            16775 non-null float64\n",
      "dtypes: float64(86), object(1)\n",
      "memory usage: 11.2+ MB\n",
      "None\n",
      "<class 'pandas.core.frame.DataFrame'>\n",
      "RangeIndex: 5856 entries, 0 to 5855\n",
      "Data columns (total 53 columns):\n",
      "date                                          5856 non-null object\n",
      "primary_cleaner.input.sulfate                 5554 non-null float64\n",
      "primary_cleaner.input.depressant              5572 non-null float64\n",
      "primary_cleaner.input.feed_size               5856 non-null float64\n",
      "primary_cleaner.input.xanthate                5690 non-null float64\n",
      "primary_cleaner.state.floatbank8_a_air        5840 non-null float64\n",
      "primary_cleaner.state.floatbank8_a_level      5840 non-null float64\n",
      "primary_cleaner.state.floatbank8_b_air        5840 non-null float64\n",
      "primary_cleaner.state.floatbank8_b_level      5840 non-null float64\n",
      "primary_cleaner.state.floatbank8_c_air        5840 non-null float64\n",
      "primary_cleaner.state.floatbank8_c_level      5840 non-null float64\n",
      "primary_cleaner.state.floatbank8_d_air        5840 non-null float64\n",
      "primary_cleaner.state.floatbank8_d_level      5840 non-null float64\n",
      "rougher.input.feed_ag                         5840 non-null float64\n",
      "rougher.input.feed_pb                         5840 non-null float64\n",
      "rougher.input.feed_rate                       5816 non-null float64\n",
      "rougher.input.feed_size                       5834 non-null float64\n",
      "rougher.input.feed_sol                        5789 non-null float64\n",
      "rougher.input.feed_au                         5840 non-null float64\n",
      "rougher.input.floatbank10_sulfate             5599 non-null float64\n",
      "rougher.input.floatbank10_xanthate            5733 non-null float64\n",
      "rougher.input.floatbank11_sulfate             5801 non-null float64\n",
      "rougher.input.floatbank11_xanthate            5503 non-null float64\n",
      "rougher.state.floatbank10_a_air               5839 non-null float64\n",
      "rougher.state.floatbank10_a_level             5840 non-null float64\n",
      "rougher.state.floatbank10_b_air               5839 non-null float64\n",
      "rougher.state.floatbank10_b_level             5840 non-null float64\n",
      "rougher.state.floatbank10_c_air               5839 non-null float64\n",
      "rougher.state.floatbank10_c_level             5840 non-null float64\n",
      "rougher.state.floatbank10_d_air               5839 non-null float64\n",
      "rougher.state.floatbank10_d_level             5840 non-null float64\n",
      "rougher.state.floatbank10_e_air               5839 non-null float64\n",
      "rougher.state.floatbank10_e_level             5840 non-null float64\n",
      "rougher.state.floatbank10_f_air               5839 non-null float64\n",
      "rougher.state.floatbank10_f_level             5840 non-null float64\n",
      "secondary_cleaner.state.floatbank2_a_air      5836 non-null float64\n",
      "secondary_cleaner.state.floatbank2_a_level    5840 non-null float64\n",
      "secondary_cleaner.state.floatbank2_b_air      5833 non-null float64\n",
      "secondary_cleaner.state.floatbank2_b_level    5840 non-null float64\n",
      "secondary_cleaner.state.floatbank3_a_air      5822 non-null float64\n",
      "secondary_cleaner.state.floatbank3_a_level    5840 non-null float64\n",
      "secondary_cleaner.state.floatbank3_b_air      5840 non-null float64\n",
      "secondary_cleaner.state.floatbank3_b_level    5840 non-null float64\n",
      "secondary_cleaner.state.floatbank4_a_air      5840 non-null float64\n",
      "secondary_cleaner.state.floatbank4_a_level    5840 non-null float64\n",
      "secondary_cleaner.state.floatbank4_b_air      5840 non-null float64\n",
      "secondary_cleaner.state.floatbank4_b_level    5840 non-null float64\n",
      "secondary_cleaner.state.floatbank5_a_air      5840 non-null float64\n",
      "secondary_cleaner.state.floatbank5_a_level    5840 non-null float64\n",
      "secondary_cleaner.state.floatbank5_b_air      5840 non-null float64\n",
      "secondary_cleaner.state.floatbank5_b_level    5840 non-null float64\n",
      "secondary_cleaner.state.floatbank6_a_air      5840 non-null float64\n",
      "secondary_cleaner.state.floatbank6_a_level    5840 non-null float64\n",
      "dtypes: float64(52), object(1)\n",
      "memory usage: 2.4+ MB\n",
      "None\n",
      "<class 'pandas.core.frame.DataFrame'>\n",
      "RangeIndex: 22716 entries, 0 to 22715\n",
      "Data columns (total 87 columns):\n",
      "date                                                  22716 non-null object\n",
      "final.output.concentrate_ag                           22627 non-null float64\n",
      "final.output.concentrate_pb                           22629 non-null float64\n",
      "final.output.concentrate_sol                          22331 non-null float64\n",
      "final.output.concentrate_au                           22630 non-null float64\n",
      "final.output.recovery                                 20753 non-null float64\n",
      "final.output.tail_ag                                  22633 non-null float64\n",
      "final.output.tail_pb                                  22516 non-null float64\n",
      "final.output.tail_sol                                 22445 non-null float64\n",
      "final.output.tail_au                                  22635 non-null float64\n",
      "primary_cleaner.input.sulfate                         21107 non-null float64\n",
      "primary_cleaner.input.depressant                      21170 non-null float64\n",
      "primary_cleaner.input.feed_size                       22716 non-null float64\n",
      "primary_cleaner.input.xanthate                        21565 non-null float64\n",
      "primary_cleaner.output.concentrate_ag                 22618 non-null float64\n",
      "primary_cleaner.output.concentrate_pb                 22268 non-null float64\n",
      "primary_cleaner.output.concentrate_sol                21918 non-null float64\n",
      "primary_cleaner.output.concentrate_au                 22618 non-null float64\n",
      "primary_cleaner.output.tail_ag                        22614 non-null float64\n",
      "primary_cleaner.output.tail_pb                        22594 non-null float64\n",
      "primary_cleaner.output.tail_sol                       22365 non-null float64\n",
      "primary_cleaner.output.tail_au                        22617 non-null float64\n",
      "primary_cleaner.state.floatbank8_a_air                22660 non-null float64\n",
      "primary_cleaner.state.floatbank8_a_level              22667 non-null float64\n",
      "primary_cleaner.state.floatbank8_b_air                22660 non-null float64\n",
      "primary_cleaner.state.floatbank8_b_level              22673 non-null float64\n",
      "primary_cleaner.state.floatbank8_c_air                22662 non-null float64\n",
      "primary_cleaner.state.floatbank8_c_level              22673 non-null float64\n",
      "primary_cleaner.state.floatbank8_d_air                22661 non-null float64\n",
      "primary_cleaner.state.floatbank8_d_level              22673 non-null float64\n",
      "rougher.calculation.sulfate_to_au_concentrate         22672 non-null float64\n",
      "rougher.calculation.floatbank10_sulfate_to_au_feed    22672 non-null float64\n",
      "rougher.calculation.floatbank11_sulfate_to_au_feed    22672 non-null float64\n",
      "rougher.calculation.au_pb_ratio                       21089 non-null float64\n",
      "rougher.input.feed_ag                                 22618 non-null float64\n",
      "rougher.input.feed_pb                                 22472 non-null float64\n",
      "rougher.input.feed_rate                               22163 non-null float64\n",
      "rougher.input.feed_size                               22277 non-null float64\n",
      "rougher.input.feed_sol                                22357 non-null float64\n",
      "rougher.input.feed_au                                 22617 non-null float64\n",
      "rougher.input.floatbank10_sulfate                     21415 non-null float64\n",
      "rougher.input.floatbank10_xanthate                    22247 non-null float64\n",
      "rougher.input.floatbank11_sulfate                     22038 non-null float64\n",
      "rougher.input.floatbank11_xanthate                    20459 non-null float64\n",
      "rougher.output.concentrate_ag                         22618 non-null float64\n",
      "rougher.output.concentrate_pb                         22618 non-null float64\n",
      "rougher.output.concentrate_sol                        22526 non-null float64\n",
      "rougher.output.concentrate_au                         22618 non-null float64\n",
      "rougher.output.recovery                               19597 non-null float64\n",
      "rougher.output.tail_ag                                19979 non-null float64\n",
      "rougher.output.tail_pb                                22618 non-null float64\n",
      "rougher.output.tail_sol                               19980 non-null float64\n",
      "rougher.output.tail_au                                19980 non-null float64\n",
      "rougher.state.floatbank10_a_air                       22646 non-null float64\n",
      "rougher.state.floatbank10_a_level                     22647 non-null float64\n",
      "rougher.state.floatbank10_b_air                       22646 non-null float64\n",
      "rougher.state.floatbank10_b_level                     22647 non-null float64\n",
      "rougher.state.floatbank10_c_air                       22646 non-null float64\n",
      "rougher.state.floatbank10_c_level                     22654 non-null float64\n",
      "rougher.state.floatbank10_d_air                       22641 non-null float64\n",
      "rougher.state.floatbank10_d_level                     22649 non-null float64\n",
      "rougher.state.floatbank10_e_air                       22096 non-null float64\n",
      "rougher.state.floatbank10_e_level                     22649 non-null float64\n",
      "rougher.state.floatbank10_f_air                       22641 non-null float64\n",
      "rougher.state.floatbank10_f_level                     22642 non-null float64\n",
      "secondary_cleaner.output.tail_ag                      22616 non-null float64\n",
      "secondary_cleaner.output.tail_pb                      22600 non-null float64\n",
      "secondary_cleaner.output.tail_sol                     20501 non-null float64\n",
      "secondary_cleaner.output.tail_au                      22618 non-null float64\n",
      "secondary_cleaner.state.floatbank2_a_air              22333 non-null float64\n",
      "secondary_cleaner.state.floatbank2_a_level            22591 non-null float64\n",
      "secondary_cleaner.state.floatbank2_b_air              22538 non-null float64\n",
      "secondary_cleaner.state.floatbank2_b_level            22588 non-null float64\n",
      "secondary_cleaner.state.floatbank3_a_air              22585 non-null float64\n",
      "secondary_cleaner.state.floatbank3_a_level            22587 non-null float64\n",
      "secondary_cleaner.state.floatbank3_b_air              22592 non-null float64\n",
      "secondary_cleaner.state.floatbank3_b_level            22590 non-null float64\n",
      "secondary_cleaner.state.floatbank4_a_air              22571 non-null float64\n",
      "secondary_cleaner.state.floatbank4_a_level            22587 non-null float64\n",
      "secondary_cleaner.state.floatbank4_b_air              22608 non-null float64\n",
      "secondary_cleaner.state.floatbank4_b_level            22607 non-null float64\n",
      "secondary_cleaner.state.floatbank5_a_air              22615 non-null float64\n",
      "secondary_cleaner.state.floatbank5_a_level            22615 non-null float64\n",
      "secondary_cleaner.state.floatbank5_b_air              22615 non-null float64\n",
      "secondary_cleaner.state.floatbank5_b_level            22616 non-null float64\n",
      "secondary_cleaner.state.floatbank6_a_air              22597 non-null float64\n",
      "secondary_cleaner.state.floatbank6_a_level            22615 non-null float64\n",
      "dtypes: float64(86), object(1)\n",
      "memory usage: 15.1+ MB\n",
      "None\n"
     ]
    },
    {
     "data": {
      "text/html": [
       "<div>\n",
       "<style scoped>\n",
       "    .dataframe tbody tr th:only-of-type {\n",
       "        vertical-align: middle;\n",
       "    }\n",
       "\n",
       "    .dataframe tbody tr th {\n",
       "        vertical-align: top;\n",
       "    }\n",
       "\n",
       "    .dataframe thead th {\n",
       "        text-align: right;\n",
       "    }\n",
       "</style>\n",
       "<table border=\"1\" class=\"dataframe\">\n",
       "  <thead>\n",
       "    <tr style=\"text-align: right;\">\n",
       "      <th></th>\n",
       "      <th>date</th>\n",
       "      <th>final.output.concentrate_ag</th>\n",
       "      <th>final.output.concentrate_pb</th>\n",
       "      <th>final.output.concentrate_sol</th>\n",
       "      <th>final.output.concentrate_au</th>\n",
       "      <th>final.output.recovery</th>\n",
       "      <th>final.output.tail_ag</th>\n",
       "      <th>final.output.tail_pb</th>\n",
       "      <th>final.output.tail_sol</th>\n",
       "      <th>final.output.tail_au</th>\n",
       "      <th>...</th>\n",
       "      <th>secondary_cleaner.state.floatbank4_a_air</th>\n",
       "      <th>secondary_cleaner.state.floatbank4_a_level</th>\n",
       "      <th>secondary_cleaner.state.floatbank4_b_air</th>\n",
       "      <th>secondary_cleaner.state.floatbank4_b_level</th>\n",
       "      <th>secondary_cleaner.state.floatbank5_a_air</th>\n",
       "      <th>secondary_cleaner.state.floatbank5_a_level</th>\n",
       "      <th>secondary_cleaner.state.floatbank5_b_air</th>\n",
       "      <th>secondary_cleaner.state.floatbank5_b_level</th>\n",
       "      <th>secondary_cleaner.state.floatbank6_a_air</th>\n",
       "      <th>secondary_cleaner.state.floatbank6_a_level</th>\n",
       "    </tr>\n",
       "  </thead>\n",
       "  <tbody>\n",
       "    <tr>\n",
       "      <td>0</td>\n",
       "      <td>2016-01-15 00:00:00</td>\n",
       "      <td>6.055403</td>\n",
       "      <td>9.889648</td>\n",
       "      <td>5.507324</td>\n",
       "      <td>42.192020</td>\n",
       "      <td>70.541216</td>\n",
       "      <td>10.411962</td>\n",
       "      <td>0.895447</td>\n",
       "      <td>16.904297</td>\n",
       "      <td>2.143149</td>\n",
       "      <td>...</td>\n",
       "      <td>14.016835</td>\n",
       "      <td>-502.488007</td>\n",
       "      <td>12.099931</td>\n",
       "      <td>-504.715942</td>\n",
       "      <td>9.925633</td>\n",
       "      <td>-498.310211</td>\n",
       "      <td>8.079666</td>\n",
       "      <td>-500.470978</td>\n",
       "      <td>14.151341</td>\n",
       "      <td>-605.841980</td>\n",
       "    </tr>\n",
       "    <tr>\n",
       "      <td>1</td>\n",
       "      <td>2016-01-15 01:00:00</td>\n",
       "      <td>6.029369</td>\n",
       "      <td>9.968944</td>\n",
       "      <td>5.257781</td>\n",
       "      <td>42.701629</td>\n",
       "      <td>69.266198</td>\n",
       "      <td>10.462676</td>\n",
       "      <td>0.927452</td>\n",
       "      <td>16.634514</td>\n",
       "      <td>2.224930</td>\n",
       "      <td>...</td>\n",
       "      <td>13.992281</td>\n",
       "      <td>-505.503262</td>\n",
       "      <td>11.950531</td>\n",
       "      <td>-501.331529</td>\n",
       "      <td>10.039245</td>\n",
       "      <td>-500.169983</td>\n",
       "      <td>7.984757</td>\n",
       "      <td>-500.582168</td>\n",
       "      <td>13.998353</td>\n",
       "      <td>-599.787184</td>\n",
       "    </tr>\n",
       "    <tr>\n",
       "      <td>2</td>\n",
       "      <td>2016-01-15 02:00:00</td>\n",
       "      <td>6.055926</td>\n",
       "      <td>10.213995</td>\n",
       "      <td>5.383759</td>\n",
       "      <td>42.657501</td>\n",
       "      <td>68.116445</td>\n",
       "      <td>10.507046</td>\n",
       "      <td>0.953716</td>\n",
       "      <td>16.208849</td>\n",
       "      <td>2.257889</td>\n",
       "      <td>...</td>\n",
       "      <td>14.015015</td>\n",
       "      <td>-502.520901</td>\n",
       "      <td>11.912783</td>\n",
       "      <td>-501.133383</td>\n",
       "      <td>10.070913</td>\n",
       "      <td>-500.129135</td>\n",
       "      <td>8.013877</td>\n",
       "      <td>-500.517572</td>\n",
       "      <td>14.028663</td>\n",
       "      <td>-601.427363</td>\n",
       "    </tr>\n",
       "    <tr>\n",
       "      <td>3</td>\n",
       "      <td>2016-01-15 03:00:00</td>\n",
       "      <td>6.047977</td>\n",
       "      <td>9.977019</td>\n",
       "      <td>4.858634</td>\n",
       "      <td>42.689819</td>\n",
       "      <td>68.347543</td>\n",
       "      <td>10.422762</td>\n",
       "      <td>0.883763</td>\n",
       "      <td>16.532835</td>\n",
       "      <td>2.146849</td>\n",
       "      <td>...</td>\n",
       "      <td>14.036510</td>\n",
       "      <td>-500.857308</td>\n",
       "      <td>11.999550</td>\n",
       "      <td>-501.193686</td>\n",
       "      <td>9.970366</td>\n",
       "      <td>-499.201640</td>\n",
       "      <td>7.977324</td>\n",
       "      <td>-500.255908</td>\n",
       "      <td>14.005551</td>\n",
       "      <td>-599.996129</td>\n",
       "    </tr>\n",
       "    <tr>\n",
       "      <td>4</td>\n",
       "      <td>2016-01-15 04:00:00</td>\n",
       "      <td>6.148599</td>\n",
       "      <td>10.142511</td>\n",
       "      <td>4.939416</td>\n",
       "      <td>42.774141</td>\n",
       "      <td>66.927016</td>\n",
       "      <td>10.360302</td>\n",
       "      <td>0.792826</td>\n",
       "      <td>16.525686</td>\n",
       "      <td>2.055292</td>\n",
       "      <td>...</td>\n",
       "      <td>14.027298</td>\n",
       "      <td>-499.838632</td>\n",
       "      <td>11.953070</td>\n",
       "      <td>-501.053894</td>\n",
       "      <td>9.925709</td>\n",
       "      <td>-501.686727</td>\n",
       "      <td>7.894242</td>\n",
       "      <td>-500.356035</td>\n",
       "      <td>13.996647</td>\n",
       "      <td>-601.496691</td>\n",
       "    </tr>\n",
       "  </tbody>\n",
       "</table>\n",
       "<p>5 rows × 87 columns</p>\n",
       "</div>"
      ],
      "text/plain": [
       "                  date  final.output.concentrate_ag  \\\n",
       "0  2016-01-15 00:00:00                     6.055403   \n",
       "1  2016-01-15 01:00:00                     6.029369   \n",
       "2  2016-01-15 02:00:00                     6.055926   \n",
       "3  2016-01-15 03:00:00                     6.047977   \n",
       "4  2016-01-15 04:00:00                     6.148599   \n",
       "\n",
       "   final.output.concentrate_pb  final.output.concentrate_sol  \\\n",
       "0                     9.889648                      5.507324   \n",
       "1                     9.968944                      5.257781   \n",
       "2                    10.213995                      5.383759   \n",
       "3                     9.977019                      4.858634   \n",
       "4                    10.142511                      4.939416   \n",
       "\n",
       "   final.output.concentrate_au  final.output.recovery  final.output.tail_ag  \\\n",
       "0                    42.192020              70.541216             10.411962   \n",
       "1                    42.701629              69.266198             10.462676   \n",
       "2                    42.657501              68.116445             10.507046   \n",
       "3                    42.689819              68.347543             10.422762   \n",
       "4                    42.774141              66.927016             10.360302   \n",
       "\n",
       "   final.output.tail_pb  final.output.tail_sol  final.output.tail_au  ...  \\\n",
       "0              0.895447              16.904297              2.143149  ...   \n",
       "1              0.927452              16.634514              2.224930  ...   \n",
       "2              0.953716              16.208849              2.257889  ...   \n",
       "3              0.883763              16.532835              2.146849  ...   \n",
       "4              0.792826              16.525686              2.055292  ...   \n",
       "\n",
       "   secondary_cleaner.state.floatbank4_a_air  \\\n",
       "0                                 14.016835   \n",
       "1                                 13.992281   \n",
       "2                                 14.015015   \n",
       "3                                 14.036510   \n",
       "4                                 14.027298   \n",
       "\n",
       "   secondary_cleaner.state.floatbank4_a_level  \\\n",
       "0                                 -502.488007   \n",
       "1                                 -505.503262   \n",
       "2                                 -502.520901   \n",
       "3                                 -500.857308   \n",
       "4                                 -499.838632   \n",
       "\n",
       "   secondary_cleaner.state.floatbank4_b_air  \\\n",
       "0                                 12.099931   \n",
       "1                                 11.950531   \n",
       "2                                 11.912783   \n",
       "3                                 11.999550   \n",
       "4                                 11.953070   \n",
       "\n",
       "   secondary_cleaner.state.floatbank4_b_level  \\\n",
       "0                                 -504.715942   \n",
       "1                                 -501.331529   \n",
       "2                                 -501.133383   \n",
       "3                                 -501.193686   \n",
       "4                                 -501.053894   \n",
       "\n",
       "   secondary_cleaner.state.floatbank5_a_air  \\\n",
       "0                                  9.925633   \n",
       "1                                 10.039245   \n",
       "2                                 10.070913   \n",
       "3                                  9.970366   \n",
       "4                                  9.925709   \n",
       "\n",
       "   secondary_cleaner.state.floatbank5_a_level  \\\n",
       "0                                 -498.310211   \n",
       "1                                 -500.169983   \n",
       "2                                 -500.129135   \n",
       "3                                 -499.201640   \n",
       "4                                 -501.686727   \n",
       "\n",
       "   secondary_cleaner.state.floatbank5_b_air  \\\n",
       "0                                  8.079666   \n",
       "1                                  7.984757   \n",
       "2                                  8.013877   \n",
       "3                                  7.977324   \n",
       "4                                  7.894242   \n",
       "\n",
       "   secondary_cleaner.state.floatbank5_b_level  \\\n",
       "0                                 -500.470978   \n",
       "1                                 -500.582168   \n",
       "2                                 -500.517572   \n",
       "3                                 -500.255908   \n",
       "4                                 -500.356035   \n",
       "\n",
       "   secondary_cleaner.state.floatbank6_a_air  \\\n",
       "0                                 14.151341   \n",
       "1                                 13.998353   \n",
       "2                                 14.028663   \n",
       "3                                 14.005551   \n",
       "4                                 13.996647   \n",
       "\n",
       "   secondary_cleaner.state.floatbank6_a_level  \n",
       "0                                 -605.841980  \n",
       "1                                 -599.787184  \n",
       "2                                 -601.427363  \n",
       "3                                 -599.996129  \n",
       "4                                 -601.496691  \n",
       "\n",
       "[5 rows x 87 columns]"
      ]
     },
     "execution_count": 2,
     "metadata": {},
     "output_type": "execute_result"
    }
   ],
   "source": [
    "df_train = pd.read_csv('/datasets/gold_recovery_train.csv')\n",
    "df_test = pd.read_csv('/datasets/gold_recovery_test.csv')\n",
    "df_full = pd.read_csv('/datasets/gold_recovery_full.csv')\n",
    "print(df_train.info())\n",
    "df_train.head()\n",
    "print(df_test.info())\n",
    "df_test.head()\n",
    "print(df_full.info())\n",
    "df_full.head()"
   ]
  },
  {
   "cell_type": "markdown",
   "metadata": {},
   "source": [
    "1.2. Проверьте, что эффективность обогащения рассчитана правильно. Вычислите её на обучающей выборке для признака rougher.output.recovery. Найдите MAE между вашими расчётами и значением признака. Опишите выводы."
   ]
  },
  {
   "cell_type": "code",
   "execution_count": 3,
   "metadata": {},
   "outputs": [
    {
     "name": "stdout",
     "output_type": "stream",
     "text": [
      "MAE: 1.1015161834408401e-14\n"
     ]
    }
   ],
   "source": [
    "df_train_dropna = df_train.dropna()\n",
    "\n",
    "C = df_train_dropna['rougher.output.concentrate_au']\n",
    "F = df_train_dropna['rougher.input.feed_au']\n",
    "T = df_train_dropna['rougher.output.tail_au']\n",
    "\n",
    "ROR = (C * (F - T) * 100) / (F * (C - T))\n",
    "\n",
    "I = df_train_dropna['rougher.output.recovery']\n",
    "MAE = mean_absolute_error(I, ROR)\n",
    "\n",
    "print(\"MAE:\", MAE)"
   ]
  },
  {
   "cell_type": "markdown",
   "metadata": {},
   "source": [
    "### Вывод:"
   ]
  },
  {
   "cell_type": "markdown",
   "metadata": {},
   "source": [
    "MAE стремится к нулю. Эффективность обогащения рассчитана правильно."
   ]
  },
  {
   "cell_type": "markdown",
   "metadata": {},
   "source": [
    "1.3. Проанализируйте признаки, недоступные в тестовой выборке. Что это за параметры? К какому типу относятся?"
   ]
  },
  {
   "cell_type": "code",
   "execution_count": 4,
   "metadata": {
    "scrolled": true
   },
   "outputs": [
    {
     "name": "stdout",
     "output_type": "stream",
     "text": [
      "Index(['date', 'primary_cleaner.input.sulfate',\n",
      "       'primary_cleaner.input.depressant', 'primary_cleaner.input.feed_size',\n",
      "       'primary_cleaner.input.xanthate',\n",
      "       'primary_cleaner.state.floatbank8_a_air',\n",
      "       'primary_cleaner.state.floatbank8_a_level',\n",
      "       'primary_cleaner.state.floatbank8_b_air',\n",
      "       'primary_cleaner.state.floatbank8_b_level',\n",
      "       'primary_cleaner.state.floatbank8_c_air',\n",
      "       'primary_cleaner.state.floatbank8_c_level',\n",
      "       'primary_cleaner.state.floatbank8_d_air',\n",
      "       'primary_cleaner.state.floatbank8_d_level', 'rougher.input.feed_ag',\n",
      "       'rougher.input.feed_pb', 'rougher.input.feed_rate',\n",
      "       'rougher.input.feed_size', 'rougher.input.feed_sol',\n",
      "       'rougher.input.feed_au', 'rougher.input.floatbank10_sulfate',\n",
      "       'rougher.input.floatbank10_xanthate',\n",
      "       'rougher.input.floatbank11_sulfate',\n",
      "       'rougher.input.floatbank11_xanthate', 'rougher.state.floatbank10_a_air',\n",
      "       'rougher.state.floatbank10_a_level', 'rougher.state.floatbank10_b_air',\n",
      "       'rougher.state.floatbank10_b_level', 'rougher.state.floatbank10_c_air',\n",
      "       'rougher.state.floatbank10_c_level', 'rougher.state.floatbank10_d_air',\n",
      "       'rougher.state.floatbank10_d_level', 'rougher.state.floatbank10_e_air',\n",
      "       'rougher.state.floatbank10_e_level', 'rougher.state.floatbank10_f_air',\n",
      "       'rougher.state.floatbank10_f_level',\n",
      "       'secondary_cleaner.state.floatbank2_a_air',\n",
      "       'secondary_cleaner.state.floatbank2_a_level',\n",
      "       'secondary_cleaner.state.floatbank2_b_air',\n",
      "       'secondary_cleaner.state.floatbank2_b_level',\n",
      "       'secondary_cleaner.state.floatbank3_a_air',\n",
      "       'secondary_cleaner.state.floatbank3_a_level',\n",
      "       'secondary_cleaner.state.floatbank3_b_air',\n",
      "       'secondary_cleaner.state.floatbank3_b_level',\n",
      "       'secondary_cleaner.state.floatbank4_a_air',\n",
      "       'secondary_cleaner.state.floatbank4_a_level',\n",
      "       'secondary_cleaner.state.floatbank4_b_air',\n",
      "       'secondary_cleaner.state.floatbank4_b_level',\n",
      "       'secondary_cleaner.state.floatbank5_a_air',\n",
      "       'secondary_cleaner.state.floatbank5_a_level',\n",
      "       'secondary_cleaner.state.floatbank5_b_air',\n",
      "       'secondary_cleaner.state.floatbank5_b_level',\n",
      "       'secondary_cleaner.state.floatbank6_a_air',\n",
      "       'secondary_cleaner.state.floatbank6_a_level'],\n",
      "      dtype='object')\n",
      "Index(['date', 'final.output.concentrate_ag', 'final.output.concentrate_pb',\n",
      "       'final.output.concentrate_sol', 'final.output.concentrate_au',\n",
      "       'final.output.recovery', 'final.output.tail_ag', 'final.output.tail_pb',\n",
      "       'final.output.tail_sol', 'final.output.tail_au',\n",
      "       'primary_cleaner.input.sulfate', 'primary_cleaner.input.depressant',\n",
      "       'primary_cleaner.input.feed_size', 'primary_cleaner.input.xanthate',\n",
      "       'primary_cleaner.output.concentrate_ag',\n",
      "       'primary_cleaner.output.concentrate_pb',\n",
      "       'primary_cleaner.output.concentrate_sol',\n",
      "       'primary_cleaner.output.concentrate_au',\n",
      "       'primary_cleaner.output.tail_ag', 'primary_cleaner.output.tail_pb',\n",
      "       'primary_cleaner.output.tail_sol', 'primary_cleaner.output.tail_au',\n",
      "       'primary_cleaner.state.floatbank8_a_air',\n",
      "       'primary_cleaner.state.floatbank8_a_level',\n",
      "       'primary_cleaner.state.floatbank8_b_air',\n",
      "       'primary_cleaner.state.floatbank8_b_level',\n",
      "       'primary_cleaner.state.floatbank8_c_air',\n",
      "       'primary_cleaner.state.floatbank8_c_level',\n",
      "       'primary_cleaner.state.floatbank8_d_air',\n",
      "       'primary_cleaner.state.floatbank8_d_level',\n",
      "       'rougher.calculation.sulfate_to_au_concentrate',\n",
      "       'rougher.calculation.floatbank10_sulfate_to_au_feed',\n",
      "       'rougher.calculation.floatbank11_sulfate_to_au_feed',\n",
      "       'rougher.calculation.au_pb_ratio', 'rougher.input.feed_ag',\n",
      "       'rougher.input.feed_pb', 'rougher.input.feed_rate',\n",
      "       'rougher.input.feed_size', 'rougher.input.feed_sol',\n",
      "       'rougher.input.feed_au', 'rougher.input.floatbank10_sulfate',\n",
      "       'rougher.input.floatbank10_xanthate',\n",
      "       'rougher.input.floatbank11_sulfate',\n",
      "       'rougher.input.floatbank11_xanthate', 'rougher.output.concentrate_ag',\n",
      "       'rougher.output.concentrate_pb', 'rougher.output.concentrate_sol',\n",
      "       'rougher.output.concentrate_au', 'rougher.output.recovery',\n",
      "       'rougher.output.tail_ag', 'rougher.output.tail_pb',\n",
      "       'rougher.output.tail_sol', 'rougher.output.tail_au',\n",
      "       'rougher.state.floatbank10_a_air', 'rougher.state.floatbank10_a_level',\n",
      "       'rougher.state.floatbank10_b_air', 'rougher.state.floatbank10_b_level',\n",
      "       'rougher.state.floatbank10_c_air', 'rougher.state.floatbank10_c_level',\n",
      "       'rougher.state.floatbank10_d_air', 'rougher.state.floatbank10_d_level',\n",
      "       'rougher.state.floatbank10_e_air', 'rougher.state.floatbank10_e_level',\n",
      "       'rougher.state.floatbank10_f_air', 'rougher.state.floatbank10_f_level',\n",
      "       'secondary_cleaner.output.tail_ag', 'secondary_cleaner.output.tail_pb',\n",
      "       'secondary_cleaner.output.tail_sol', 'secondary_cleaner.output.tail_au',\n",
      "       'secondary_cleaner.state.floatbank2_a_air',\n",
      "       'secondary_cleaner.state.floatbank2_a_level',\n",
      "       'secondary_cleaner.state.floatbank2_b_air',\n",
      "       'secondary_cleaner.state.floatbank2_b_level',\n",
      "       'secondary_cleaner.state.floatbank3_a_air',\n",
      "       'secondary_cleaner.state.floatbank3_a_level',\n",
      "       'secondary_cleaner.state.floatbank3_b_air',\n",
      "       'secondary_cleaner.state.floatbank3_b_level',\n",
      "       'secondary_cleaner.state.floatbank4_a_air',\n",
      "       'secondary_cleaner.state.floatbank4_a_level',\n",
      "       'secondary_cleaner.state.floatbank4_b_air',\n",
      "       'secondary_cleaner.state.floatbank4_b_level',\n",
      "       'secondary_cleaner.state.floatbank5_a_air',\n",
      "       'secondary_cleaner.state.floatbank5_a_level',\n",
      "       'secondary_cleaner.state.floatbank5_b_air',\n",
      "       'secondary_cleaner.state.floatbank5_b_level',\n",
      "       'secondary_cleaner.state.floatbank6_a_air',\n",
      "       'secondary_cleaner.state.floatbank6_a_level'],\n",
      "      dtype='object')\n"
     ]
    }
   ],
   "source": [
    "print(df_test.columns)\n",
    "print(df_full.columns)"
   ]
  },
  {
   "cell_type": "markdown",
   "metadata": {},
   "source": [
    "### Вывод: "
   ]
  },
  {
   "cell_type": "markdown",
   "metadata": {},
   "source": [
    "Очевидно), в названиях столбцов тестовой выборки отсутствуют такие термины как: 'final', 'output', 'calculation'. Соответственно в тестовой выборке не представлены расчётные и выходные параметры, что логично для тестовой выборки."
   ]
  },
  {
   "cell_type": "markdown",
   "metadata": {},
   "source": [
    "1.4. Проведите предобработку данных."
   ]
  },
  {
   "cell_type": "code",
   "execution_count": 5,
   "metadata": {},
   "outputs": [
    {
     "name": "stdout",
     "output_type": "stream",
     "text": [
      "Количество дубликатов: 0\n"
     ]
    }
   ],
   "source": [
    "print(\"Количество дубликатов:\", df_full.duplicated().sum())"
   ]
  },
  {
   "cell_type": "code",
   "execution_count": 6,
   "metadata": {
    "scrolled": true
   },
   "outputs": [
    {
     "name": "stdout",
     "output_type": "stream",
     "text": [
      "<class 'pandas.core.frame.DataFrame'>\n",
      "RangeIndex: 22716 entries, 0 to 22715\n",
      "Data columns (total 87 columns):\n",
      "date                                                  22716 non-null object\n",
      "final.output.concentrate_ag                           22716 non-null float64\n",
      "final.output.concentrate_pb                           22716 non-null float64\n",
      "final.output.concentrate_sol                          22716 non-null float64\n",
      "final.output.concentrate_au                           22716 non-null float64\n",
      "final.output.recovery                                 22716 non-null float64\n",
      "final.output.tail_ag                                  22716 non-null float64\n",
      "final.output.tail_pb                                  22716 non-null float64\n",
      "final.output.tail_sol                                 22716 non-null float64\n",
      "final.output.tail_au                                  22716 non-null float64\n",
      "primary_cleaner.input.sulfate                         22716 non-null float64\n",
      "primary_cleaner.input.depressant                      22716 non-null float64\n",
      "primary_cleaner.input.feed_size                       22716 non-null float64\n",
      "primary_cleaner.input.xanthate                        22716 non-null float64\n",
      "primary_cleaner.output.concentrate_ag                 22716 non-null float64\n",
      "primary_cleaner.output.concentrate_pb                 22716 non-null float64\n",
      "primary_cleaner.output.concentrate_sol                22716 non-null float64\n",
      "primary_cleaner.output.concentrate_au                 22716 non-null float64\n",
      "primary_cleaner.output.tail_ag                        22716 non-null float64\n",
      "primary_cleaner.output.tail_pb                        22716 non-null float64\n",
      "primary_cleaner.output.tail_sol                       22716 non-null float64\n",
      "primary_cleaner.output.tail_au                        22716 non-null float64\n",
      "primary_cleaner.state.floatbank8_a_air                22716 non-null float64\n",
      "primary_cleaner.state.floatbank8_a_level              22716 non-null float64\n",
      "primary_cleaner.state.floatbank8_b_air                22716 non-null float64\n",
      "primary_cleaner.state.floatbank8_b_level              22716 non-null float64\n",
      "primary_cleaner.state.floatbank8_c_air                22716 non-null float64\n",
      "primary_cleaner.state.floatbank8_c_level              22716 non-null float64\n",
      "primary_cleaner.state.floatbank8_d_air                22716 non-null float64\n",
      "primary_cleaner.state.floatbank8_d_level              22716 non-null float64\n",
      "rougher.calculation.sulfate_to_au_concentrate         22716 non-null float64\n",
      "rougher.calculation.floatbank10_sulfate_to_au_feed    22716 non-null float64\n",
      "rougher.calculation.floatbank11_sulfate_to_au_feed    22716 non-null float64\n",
      "rougher.calculation.au_pb_ratio                       22716 non-null float64\n",
      "rougher.input.feed_ag                                 22716 non-null float64\n",
      "rougher.input.feed_pb                                 22716 non-null float64\n",
      "rougher.input.feed_rate                               22716 non-null float64\n",
      "rougher.input.feed_size                               22716 non-null float64\n",
      "rougher.input.feed_sol                                22716 non-null float64\n",
      "rougher.input.feed_au                                 22716 non-null float64\n",
      "rougher.input.floatbank10_sulfate                     22716 non-null float64\n",
      "rougher.input.floatbank10_xanthate                    22716 non-null float64\n",
      "rougher.input.floatbank11_sulfate                     22716 non-null float64\n",
      "rougher.input.floatbank11_xanthate                    22716 non-null float64\n",
      "rougher.output.concentrate_ag                         22716 non-null float64\n",
      "rougher.output.concentrate_pb                         22716 non-null float64\n",
      "rougher.output.concentrate_sol                        22716 non-null float64\n",
      "rougher.output.concentrate_au                         22716 non-null float64\n",
      "rougher.output.recovery                               22716 non-null float64\n",
      "rougher.output.tail_ag                                22716 non-null float64\n",
      "rougher.output.tail_pb                                22716 non-null float64\n",
      "rougher.output.tail_sol                               22716 non-null float64\n",
      "rougher.output.tail_au                                22716 non-null float64\n",
      "rougher.state.floatbank10_a_air                       22716 non-null float64\n",
      "rougher.state.floatbank10_a_level                     22716 non-null float64\n",
      "rougher.state.floatbank10_b_air                       22716 non-null float64\n",
      "rougher.state.floatbank10_b_level                     22716 non-null float64\n",
      "rougher.state.floatbank10_c_air                       22716 non-null float64\n",
      "rougher.state.floatbank10_c_level                     22716 non-null float64\n",
      "rougher.state.floatbank10_d_air                       22716 non-null float64\n",
      "rougher.state.floatbank10_d_level                     22716 non-null float64\n",
      "rougher.state.floatbank10_e_air                       22716 non-null float64\n",
      "rougher.state.floatbank10_e_level                     22716 non-null float64\n",
      "rougher.state.floatbank10_f_air                       22716 non-null float64\n",
      "rougher.state.floatbank10_f_level                     22716 non-null float64\n",
      "secondary_cleaner.output.tail_ag                      22716 non-null float64\n",
      "secondary_cleaner.output.tail_pb                      22716 non-null float64\n",
      "secondary_cleaner.output.tail_sol                     22716 non-null float64\n",
      "secondary_cleaner.output.tail_au                      22716 non-null float64\n",
      "secondary_cleaner.state.floatbank2_a_air              22716 non-null float64\n",
      "secondary_cleaner.state.floatbank2_a_level            22716 non-null float64\n",
      "secondary_cleaner.state.floatbank2_b_air              22716 non-null float64\n",
      "secondary_cleaner.state.floatbank2_b_level            22716 non-null float64\n",
      "secondary_cleaner.state.floatbank3_a_air              22716 non-null float64\n",
      "secondary_cleaner.state.floatbank3_a_level            22716 non-null float64\n",
      "secondary_cleaner.state.floatbank3_b_air              22716 non-null float64\n",
      "secondary_cleaner.state.floatbank3_b_level            22716 non-null float64\n",
      "secondary_cleaner.state.floatbank4_a_air              22716 non-null float64\n",
      "secondary_cleaner.state.floatbank4_a_level            22716 non-null float64\n",
      "secondary_cleaner.state.floatbank4_b_air              22716 non-null float64\n",
      "secondary_cleaner.state.floatbank4_b_level            22716 non-null float64\n",
      "secondary_cleaner.state.floatbank5_a_air              22716 non-null float64\n",
      "secondary_cleaner.state.floatbank5_a_level            22716 non-null float64\n",
      "secondary_cleaner.state.floatbank5_b_air              22716 non-null float64\n",
      "secondary_cleaner.state.floatbank5_b_level            22716 non-null float64\n",
      "secondary_cleaner.state.floatbank6_a_air              22716 non-null float64\n",
      "secondary_cleaner.state.floatbank6_a_level            22716 non-null float64\n",
      "dtypes: float64(86), object(1)\n",
      "memory usage: 15.1+ MB\n"
     ]
    }
   ],
   "source": [
    "df_train = df_train.fillna(method='ffill')\n",
    "df_test = df_test.fillna(method='ffill')\n",
    "df_full = df_full.fillna(method='ffill')\n",
    "df_full.info()"
   ]
  },
  {
   "cell_type": "markdown",
   "metadata": {},
   "source": [
    "### Вывод:"
   ]
  },
  {
   "cell_type": "markdown",
   "metadata": {},
   "source": [
    "Все пропуски заполнены на \"верхнее\" значение."
   ]
  },
  {
   "cell_type": "markdown",
   "metadata": {},
   "source": [
    "# 2. Анализ данных"
   ]
  },
  {
   "cell_type": "markdown",
   "metadata": {},
   "source": [
    "2.1. Посмотрите, как меняется концентрация металлов (Au, Ag, Pb) на различных этапах очистки. Опишите выводы."
   ]
  },
  {
   "cell_type": "code",
   "execution_count": 8,
   "metadata": {},
   "outputs": [
    {
     "data": {
      "text/plain": [
       "final.output.concentrate_au                              44.639019\n",
       "final.output.tail_au                                      2.910336\n",
       "primary_cleaner.output.concentrate_au                    32.345542\n",
       "primary_cleaner.output.tail_au                            3.509141\n",
       "rougher.calculation.sulfate_to_au_concentrate         44061.596105\n",
       "rougher.calculation.floatbank10_sulfate_to_au_feed     2940.838046\n",
       "rougher.calculation.floatbank11_sulfate_to_au_feed     2897.014497\n",
       "rougher.calculation.au_pb_ratio                           2.280603\n",
       "rougher.input.feed_au                                     7.879193\n",
       "rougher.output.concentrate_au                            19.995513\n",
       "rougher.output.tail_au                                    1.826631\n",
       "secondary_cleaner.output.tail_au                          3.950543\n",
       "dtype: float64"
      ]
     },
     "execution_count": 8,
     "metadata": {},
     "output_type": "execute_result"
    }
   ],
   "source": [
    "list_au = []\n",
    "for query in df_full.columns.tolist():\n",
    "    if 'au' in query:\n",
    "        list_au.append(query)\n",
    "MED_au = df_full[list_au].median()\n",
    "MED_au"
   ]
  },
  {
   "cell_type": "code",
   "execution_count": 9,
   "metadata": {},
   "outputs": [
    {
     "data": {
      "text/plain": [
       "final.output.concentrate_ag               4.949959\n",
       "final.output.tail_ag                      9.477554\n",
       "primary_cleaner.output.concentrate_ag     8.256062\n",
       "primary_cleaner.output.tail_ag           15.592513\n",
       "rougher.input.feed_ag                     8.295898\n",
       "rougher.output.concentrate_ag            11.774115\n",
       "rougher.output.tail_ag                    5.737042\n",
       "secondary_cleaner.output.tail_ag         15.206375\n",
       "dtype: float64"
      ]
     },
     "execution_count": 9,
     "metadata": {},
     "output_type": "execute_result"
    }
   ],
   "source": [
    "list_ag = []\n",
    "for query in df_full.columns.tolist():\n",
    "    if 'ag' in query:\n",
    "        list_ag.append(query)\n",
    "MED_ag = df_full[list_ag].median()\n",
    "MED_ag"
   ]
  },
  {
   "cell_type": "code",
   "execution_count": 10,
   "metadata": {},
   "outputs": [
    {
     "data": {
      "text/plain": [
       "final.output.concentrate_pb              9.910363\n",
       "final.output.tail_pb                     2.643964\n",
       "primary_cleaner.output.concentrate_pb    9.882876\n",
       "primary_cleaner.output.tail_pb           3.149221\n",
       "rougher.calculation.au_pb_ratio          2.280603\n",
       "rougher.input.feed_pb                    3.419915\n",
       "rougher.output.concentrate_pb            7.570890\n",
       "rougher.output.tail_pb                   0.589703\n",
       "secondary_cleaner.output.tail_pb         5.061211\n",
       "dtype: float64"
      ]
     },
     "execution_count": 10,
     "metadata": {},
     "output_type": "execute_result"
    }
   ],
   "source": [
    "list_pb = []\n",
    "for query in df_full.columns.tolist():\n",
    "    if 'pb' in query:\n",
    "        list_pb.append(query)\n",
    "MED_pb = df_full[list_pb].median()\n",
    "MED_pb"
   ]
  },
  {
   "cell_type": "markdown",
   "metadata": {},
   "source": [
    "### Вывод:"
   ]
  },
  {
   "cell_type": "markdown",
   "metadata": {},
   "source": [
    " От первой до финальной стадии присутствие золота в концентрате растёт, как и свинца (но не так резко). Концентрация серебра на начальном этапе растёт (по всей видимости первые этапы очистки связаны со схожими свойствами золота и серебра), на финальном этапе присутствие серебра в концентрате падает (соответственно финальный этап очистки скорее всего связан со свойствами, которыми эти два металла резко отличаются)."
   ]
  },
  {
   "cell_type": "markdown",
   "metadata": {},
   "source": [
    "2.2. Сравните распределения размеров гранул сырья на обучающей и тестовой выборках. Если распределения сильно отличаются друг от друга, оценка модели будет неправильной."
   ]
  },
  {
   "cell_type": "code",
   "execution_count": 11,
   "metadata": {},
   "outputs": [
    {
     "data": {
      "text/html": [
       "<div>\n",
       "<style scoped>\n",
       "    .dataframe tbody tr th:only-of-type {\n",
       "        vertical-align: middle;\n",
       "    }\n",
       "\n",
       "    .dataframe tbody tr th {\n",
       "        vertical-align: top;\n",
       "    }\n",
       "\n",
       "    .dataframe thead th {\n",
       "        text-align: right;\n",
       "    }\n",
       "</style>\n",
       "<table border=\"1\" class=\"dataframe\">\n",
       "  <thead>\n",
       "    <tr style=\"text-align: right;\">\n",
       "      <th></th>\n",
       "      <th>primary_cleaner.input.feed_size</th>\n",
       "      <th>rougher.input.feed_size</th>\n",
       "    </tr>\n",
       "  </thead>\n",
       "  <tbody>\n",
       "    <tr>\n",
       "      <td>count</td>\n",
       "      <td>16860.000000</td>\n",
       "      <td>16860.000000</td>\n",
       "    </tr>\n",
       "    <tr>\n",
       "      <td>mean</td>\n",
       "      <td>7.297285</td>\n",
       "      <td>60.188595</td>\n",
       "    </tr>\n",
       "    <tr>\n",
       "      <td>std</td>\n",
       "      <td>0.619166</td>\n",
       "      <td>30.522242</td>\n",
       "    </tr>\n",
       "    <tr>\n",
       "      <td>min</td>\n",
       "      <td>1.080000</td>\n",
       "      <td>9.659576</td>\n",
       "    </tr>\n",
       "    <tr>\n",
       "      <td>25%</td>\n",
       "      <td>6.940000</td>\n",
       "      <td>47.548897</td>\n",
       "    </tr>\n",
       "    <tr>\n",
       "      <td>50%</td>\n",
       "      <td>7.285000</td>\n",
       "      <td>54.066003</td>\n",
       "    </tr>\n",
       "    <tr>\n",
       "      <td>75%</td>\n",
       "      <td>7.700000</td>\n",
       "      <td>65.397249</td>\n",
       "    </tr>\n",
       "    <tr>\n",
       "      <td>max</td>\n",
       "      <td>10.470000</td>\n",
       "      <td>484.967466</td>\n",
       "    </tr>\n",
       "  </tbody>\n",
       "</table>\n",
       "</div>"
      ],
      "text/plain": [
       "       primary_cleaner.input.feed_size  rougher.input.feed_size\n",
       "count                     16860.000000             16860.000000\n",
       "mean                          7.297285                60.188595\n",
       "std                           0.619166                30.522242\n",
       "min                           1.080000                 9.659576\n",
       "25%                           6.940000                47.548897\n",
       "50%                           7.285000                54.066003\n",
       "75%                           7.700000                65.397249\n",
       "max                          10.470000               484.967466"
      ]
     },
     "execution_count": 11,
     "metadata": {},
     "output_type": "execute_result"
    }
   ],
   "source": [
    "feed_size_train = []\n",
    "for query in df_train.columns.tolist():\n",
    "    if 'feed_size' in query:\n",
    "        feed_size_train.append(query)\n",
    "MED_train = df_train[feed_size_train].describe()\n",
    "MED_train"
   ]
  },
  {
   "cell_type": "code",
   "execution_count": 12,
   "metadata": {},
   "outputs": [
    {
     "data": {
      "text/html": [
       "<div>\n",
       "<style scoped>\n",
       "    .dataframe tbody tr th:only-of-type {\n",
       "        vertical-align: middle;\n",
       "    }\n",
       "\n",
       "    .dataframe tbody tr th {\n",
       "        vertical-align: top;\n",
       "    }\n",
       "\n",
       "    .dataframe thead th {\n",
       "        text-align: right;\n",
       "    }\n",
       "</style>\n",
       "<table border=\"1\" class=\"dataframe\">\n",
       "  <thead>\n",
       "    <tr style=\"text-align: right;\">\n",
       "      <th></th>\n",
       "      <th>primary_cleaner.input.feed_size</th>\n",
       "      <th>rougher.input.feed_size</th>\n",
       "    </tr>\n",
       "  </thead>\n",
       "  <tbody>\n",
       "    <tr>\n",
       "      <td>count</td>\n",
       "      <td>5856.000000</td>\n",
       "      <td>5856.000000</td>\n",
       "    </tr>\n",
       "    <tr>\n",
       "      <td>mean</td>\n",
       "      <td>7.264651</td>\n",
       "      <td>55.898866</td>\n",
       "    </tr>\n",
       "    <tr>\n",
       "      <td>std</td>\n",
       "      <td>0.611526</td>\n",
       "      <td>22.707969</td>\n",
       "    </tr>\n",
       "    <tr>\n",
       "      <td>min</td>\n",
       "      <td>5.650000</td>\n",
       "      <td>0.046369</td>\n",
       "    </tr>\n",
       "    <tr>\n",
       "      <td>25%</td>\n",
       "      <td>6.885625</td>\n",
       "      <td>43.852884</td>\n",
       "    </tr>\n",
       "    <tr>\n",
       "      <td>50%</td>\n",
       "      <td>7.259333</td>\n",
       "      <td>49.964796</td>\n",
       "    </tr>\n",
       "    <tr>\n",
       "      <td>75%</td>\n",
       "      <td>7.650000</td>\n",
       "      <td>61.628003</td>\n",
       "    </tr>\n",
       "    <tr>\n",
       "      <td>max</td>\n",
       "      <td>15.500000</td>\n",
       "      <td>477.445473</td>\n",
       "    </tr>\n",
       "  </tbody>\n",
       "</table>\n",
       "</div>"
      ],
      "text/plain": [
       "       primary_cleaner.input.feed_size  rougher.input.feed_size\n",
       "count                      5856.000000              5856.000000\n",
       "mean                          7.264651                55.898866\n",
       "std                           0.611526                22.707969\n",
       "min                           5.650000                 0.046369\n",
       "25%                           6.885625                43.852884\n",
       "50%                           7.259333                49.964796\n",
       "75%                           7.650000                61.628003\n",
       "max                          15.500000               477.445473"
      ]
     },
     "execution_count": 12,
     "metadata": {},
     "output_type": "execute_result"
    }
   ],
   "source": [
    "feed_size_test = []\n",
    "for query in df_test.columns.tolist():\n",
    "    if 'feed_size' in query:\n",
    "        feed_size_test.append(query)\n",
    "MED_test = df_test[feed_size_test].describe()\n",
    "MED_test"
   ]
  },
  {
   "cell_type": "markdown",
   "metadata": {},
   "source": [
    "### Вывод:"
   ]
  },
  {
   "cell_type": "markdown",
   "metadata": {},
   "source": [
    " Разница меньше 10 процентов. На оценку модели не сильно повлияет."
   ]
  },
  {
   "cell_type": "markdown",
   "metadata": {},
   "source": [
    "2.3. Исследуйте суммарную концентрацию всех веществ на разных стадиях: в сырье, в черновом и финальном концентратах. Заметили аномальные значения в суммарном распределении или нет? Если они есть, стоит ли их удалять из обеих выборок? Опишите выводы и удалите аномалии."
   ]
  },
  {
   "cell_type": "code",
   "execution_count": 14,
   "metadata": {},
   "outputs": [],
   "source": [
    "df_train['sum_conc_input'] = (df_train['rougher.input.feed_au'] + df_train['rougher.input.feed_ag'] \n",
    "                              + df_train['rougher.input.feed_pb'])\n",
    "\n",
    "df_train['sum_conc_rougher'] = (df_train['rougher.output.concentrate_au'] \n",
    "                                + df_train['rougher.output.concentrate_ag'] \n",
    "                                + df_train['rougher.output.concentrate_pb'])\n",
    "\n",
    "df_train['sum_conc_final'] = (df_train['final.output.concentrate_au'] \n",
    "                              + df_train['final.output.concentrate_ag'] \n",
    "                              + df_train['final.output.concentrate_pb'])\n",
    "\n",
    "df_test['sum_conc_input'] = (df_test['rougher.input.feed_au'] + df_test['rougher.input.feed_ag'] \n",
    "                             + df_test['rougher.input.feed_pb'])"
   ]
  },
  {
   "cell_type": "code",
   "execution_count": 15,
   "metadata": {},
   "outputs": [
    {
     "data": {
      "text/plain": [
       "<matplotlib.axes._subplots.AxesSubplot at 0x7f251fb7b650>"
      ]
     },
     "execution_count": 15,
     "metadata": {},
     "output_type": "execute_result"
    },
    {
     "data": {
      "image/png": "[encoded data removed]",
      "text/plain": [
       "<Figure size 432x288 with 1 Axes>"
      ]
     },
     "metadata": {
      "needs_background": "light"
     },
     "output_type": "display_data"
    }
   ],
   "source": [
    "df_train['sum_conc_input'].hist()"
   ]
  },
  {
   "cell_type": "code",
   "execution_count": 16,
   "metadata": {},
   "outputs": [
    {
     "data": {
      "text/plain": [
       "<matplotlib.axes._subplots.AxesSubplot at 0x7f251fd7a150>"
      ]
     },
     "execution_count": 16,
     "metadata": {},
     "output_type": "execute_result"
    },
    {
     "data": {
      "image/png": "[encoded data removed]",
      "text/plain": [
       "<Figure size 432x288 with 1 Axes>"
      ]
     },
     "metadata": {
      "needs_background": "light"
     },
     "output_type": "display_data"
    }
   ],
   "source": [
    "df_train = df_train.query('sum_conc_input > 5')\n",
    "df_train['sum_conc_input'].hist()"
   ]
  },
  {
   "cell_type": "code",
   "execution_count": 17,
   "metadata": {},
   "outputs": [
    {
     "data": {
      "text/plain": [
       "<matplotlib.axes._subplots.AxesSubplot at 0x7f251fca8510>"
      ]
     },
     "execution_count": 17,
     "metadata": {},
     "output_type": "execute_result"
    },
    {
     "data": {
      "image/png": "[encoded data removed]",
      "text/plain": [
       "<Figure size 432x288 with 1 Axes>"
      ]
     },
     "metadata": {
      "needs_background": "light"
     },
     "output_type": "display_data"
    }
   ],
   "source": [
    "df_train['sum_conc_rougher'].hist()"
   ]
  },
  {
   "cell_type": "code",
   "execution_count": 18,
   "metadata": {},
   "outputs": [
    {
     "data": {
      "text/plain": [
       "<matplotlib.axes._subplots.AxesSubplot at 0x7f251fc36810>"
      ]
     },
     "execution_count": 18,
     "metadata": {},
     "output_type": "execute_result"
    },
    {
     "data": {
      "image/png": "[encoded data removed]",
      "text/plain": [
       "<Figure size 432x288 with 1 Axes>"
      ]
     },
     "metadata": {
      "needs_background": "light"
     },
     "output_type": "display_data"
    }
   ],
   "source": [
    "df_train = df_train.query('sum_conc_rougher > 10')\n",
    "df_train['sum_conc_rougher'].hist()"
   ]
  },
  {
   "cell_type": "code",
   "execution_count": 19,
   "metadata": {},
   "outputs": [
    {
     "data": {
      "text/plain": [
       "<matplotlib.axes._subplots.AxesSubplot at 0x7f251fc81650>"
      ]
     },
     "execution_count": 19,
     "metadata": {},
     "output_type": "execute_result"
    },
    {
     "data": {
      "image/png": "[encoded data removed]",
      "text/plain": [
       "<Figure size 432x288 with 1 Axes>"
      ]
     },
     "metadata": {
      "needs_background": "light"
     },
     "output_type": "display_data"
    }
   ],
   "source": [
    "df_train['sum_conc_final'].hist()"
   ]
  },
  {
   "cell_type": "code",
   "execution_count": 20,
   "metadata": {},
   "outputs": [
    {
     "data": {
      "text/plain": [
       "<matplotlib.axes._subplots.AxesSubplot at 0x7f251fd2d510>"
      ]
     },
     "execution_count": 20,
     "metadata": {},
     "output_type": "execute_result"
    },
    {
     "data": {
      "image/png": "[encoded data removed]",
      "text/plain": [
       "<Figure size 432x288 with 1 Axes>"
      ]
     },
     "metadata": {
      "needs_background": "light"
     },
     "output_type": "display_data"
    }
   ],
   "source": [
    "df_train = df_train.query('sum_conc_final > 30')\n",
    "df_train['sum_conc_final'].hist()"
   ]
  },
  {
   "cell_type": "code",
   "execution_count": 21,
   "metadata": {},
   "outputs": [
    {
     "data": {
      "text/plain": [
       "<matplotlib.axes._subplots.AxesSubplot at 0x7f251fab5590>"
      ]
     },
     "execution_count": 21,
     "metadata": {},
     "output_type": "execute_result"
    },
    {
     "data": {
      "image/png": "[encoded data removed]",
      "text/plain": [
       "<Figure size 432x288 with 1 Axes>"
      ]
     },
     "metadata": {
      "needs_background": "light"
     },
     "output_type": "display_data"
    }
   ],
   "source": [
    "df_test['sum_conc_input'].hist()"
   ]
  },
  {
   "cell_type": "code",
   "execution_count": 22,
   "metadata": {},
   "outputs": [
    {
     "data": {
      "text/plain": [
       "<matplotlib.axes._subplots.AxesSubplot at 0x7f251fa798d0>"
      ]
     },
     "execution_count": 22,
     "metadata": {},
     "output_type": "execute_result"
    },
    {
     "data": {
      "image/png": "[encoded data removed]",
      "text/plain": [
       "<Figure size 432x288 with 1 Axes>"
      ]
     },
     "metadata": {
      "needs_background": "light"
     },
     "output_type": "display_data"
    }
   ],
   "source": [
    "df_test = df_test.query('sum_conc_input > 8')\n",
    "df_test['sum_conc_input'].hist()"
   ]
  },
  {
   "cell_type": "markdown",
   "metadata": {},
   "source": [
    "### Вывод:"
   ]
  },
  {
   "cell_type": "markdown",
   "metadata": {},
   "source": [
    "Проведена обрезка аномалий, которые плохо вписываются в нормальное распределение."
   ]
  },
  {
   "cell_type": "markdown",
   "metadata": {},
   "source": [
    "# 3. Модель"
   ]
  },
  {
   "cell_type": "markdown",
   "metadata": {},
   "source": [
    "3.1. Напишите функцию для вычисления итоговой sMAPE."
   ]
  },
  {
   "cell_type": "code",
   "execution_count": 24,
   "metadata": {},
   "outputs": [],
   "source": [
    "def smape(y_true, y_pred):\n",
    "    \n",
    "    sMAPE = ((((abs(y_true - y_pred)) * 200)/(abs(y_true) + abs(y_pred))).sum()) / len(y_true)\n",
    "    \n",
    "    return sMAPE\n",
    "\n",
    "smape_score = make_scorer(smape, greater_is_better = False) "
   ]
  },
  {
   "cell_type": "markdown",
   "metadata": {},
   "source": [
    "3.2. Обучите разные модели и оцените их качество кросс-валидацией."
   ]
  },
  {
   "cell_type": "markdown",
   "metadata": {},
   "source": [
    "Нужно спрогнозировать сразу две величины:\n",
    "- эффективность обогащения чернового концентрата rougher.output.recovery;\n",
    "- эффективность обогащения финального концентрата final.output.recovery."
   ]
  },
  {
   "cell_type": "code",
   "execution_count": 25,
   "metadata": {},
   "outputs": [],
   "source": [
    "features1 = df_train[df_test.columns].drop('date', axis=1)\n",
    "target1 = df_train['rougher.output.recovery']\n",
    "target2 = df_train['final.output.recovery']"
   ]
  },
  {
   "cell_type": "code",
   "execution_count": 26,
   "metadata": {},
   "outputs": [
    {
     "name": "stdout",
     "output_type": "stream",
     "text": [
      "Средняя оценка качества модели: -9.828951354617288\n"
     ]
    }
   ],
   "source": [
    "model = DecisionTreeRegressor(random_state=12345, max_depth=3)\n",
    "cross_val = cross_val_score(model, features1, target1, scoring = smape_score, cv=10)\n",
    "final_score1 = cross_val.mean()\n",
    "cross_val = cross_val_score(model, features1, target2, scoring = smape_score, cv=10)\n",
    "final_score2 = cross_val.mean()\n",
    "final_score = 0.25 * final_score1 + 0.75 * final_score2\n",
    "print('Средняя оценка качества модели:', final_score)"
   ]
  },
  {
   "cell_type": "code",
   "execution_count": 27,
   "metadata": {},
   "outputs": [
    {
     "name": "stdout",
     "output_type": "stream",
     "text": [
      "Средняя оценка качества модели: -9.880281137976139\n"
     ]
    }
   ],
   "source": [
    "model = RandomForestRegressor(random_state=12345, n_estimators=8, max_depth=10)\n",
    "cross_val = cross_val_score(model, features1, target1, scoring = smape_score, cv=10)\n",
    "final_score1 = cross_val.mean()\n",
    "cross_val = cross_val_score(model, features1, target2, scoring = smape_score, cv=10)\n",
    "final_score2 = cross_val.mean()\n",
    "final_score = 0.25 * final_score1 + 0.75 * final_score2\n",
    "print('Средняя оценка качества модели:', final_score)"
   ]
  },
  {
   "cell_type": "code",
   "execution_count": 28,
   "metadata": {},
   "outputs": [
    {
     "name": "stdout",
     "output_type": "stream",
     "text": [
      "Средняя оценка качества модели: -10.113339904283517\n"
     ]
    }
   ],
   "source": [
    "model = LinearRegression()\n",
    "cross_val = cross_val_score(model, features1, target1, scoring = smape_score, cv=10)\n",
    "final_score1 = cross_val.mean()\n",
    "cross_val = cross_val_score(model, features1, target2, scoring = smape_score, cv=10)\n",
    "final_score2 = cross_val.mean()\n",
    "final_score = 0.25 * final_score1 + 0.75 * final_score2\n",
    "print('Средняя оценка качества модели:', final_score)"
   ]
  },
  {
   "cell_type": "markdown",
   "metadata": {},
   "source": [
    " Выберите лучшую модель и проверьте её на тестовой выборке. Опишите выводы."
   ]
  },
  {
   "cell_type": "code",
   "execution_count": 29,
   "metadata": {},
   "outputs": [],
   "source": [
    "df_test.set_index(\"date\", inplace = True)\n",
    "df_full.set_index(\"date\", inplace = True)"
   ]
  },
  {
   "cell_type": "code",
   "execution_count": 30,
   "metadata": {},
   "outputs": [],
   "source": [
    "features = df_test\n",
    "target_test_1 = pd.Series(df_full['rougher.output.recovery'], index=df_test.index)\n",
    "target_test_2 = pd.Series(df_full['final.output.recovery'], index=df_test.index)"
   ]
  },
  {
   "cell_type": "code",
   "execution_count": 31,
   "metadata": {},
   "outputs": [
    {
     "name": "stdout",
     "output_type": "stream",
     "text": [
      "Средняя оценка качества модели: -11.524230741561444\n"
     ]
    }
   ],
   "source": [
    "model = LinearRegression()\n",
    "\n",
    "cross_val = cross_val_score(model, features, target_test_1, scoring = smape_score, cv=10)\n",
    "final_score1 = cross_val.mean()\n",
    "\n",
    "cross_val = cross_val_score(model, features, target_test_2, scoring = smape_score, cv=10)\n",
    "final_score2 = cross_val.mean()\n",
    "\n",
    "final_score = 0.25 * final_score1 + 0.75 * final_score2\n",
    "print('Средняя оценка качества модели:', final_score)"
   ]
  },
  {
   "cell_type": "markdown",
   "metadata": {},
   "source": [
    "### Вывод: "
   ]
  },
  {
   "cell_type": "markdown",
   "metadata": {},
   "source": [
    "LinearRegression() демонстрирует самое приемлемое значение метрики."
   ]
  },
  {
   "cell_type": "code",
   "execution_count": null,
   "metadata": {},
   "outputs": [],
   "source": []
  }
 ],
 "metadata": {
  "kernelspec": {
   "display_name": "Python 3",
   "language": "python",
   "name": "python3"
  },
  "language_info": {
   "codemirror_mode": {
    "name": "ipython",
    "version": 3
   },
   "file_extension": ".py",
   "mimetype": "text/x-python",
   "name": "python",
   "nbconvert_exporter": "python",
   "pygments_lexer": "ipython3",
   "version": "3.7.3"
  }
 },
 "nbformat": 4,
 "nbformat_minor": 2
}
