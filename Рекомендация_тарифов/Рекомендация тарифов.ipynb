{
 "cells": [
  {
   "cell_type": "markdown",
   "metadata": {},
   "source": [
    "# Рекомендация тарифов"
   ]
  },
  {
   "cell_type": "markdown",
   "metadata": {},
   "source": [
    "Представлены данные о поведении клиентов, которые уже перешли на эти тарифы. Цель: построить модель для задачи классификации, которая выберет подходящий тариф."
   ]
  },
  {
   "cell_type": "code",
   "execution_count": 78,
   "metadata": {},
   "outputs": [],
   "source": [
    "import pandas as pd\n",
    "import numpy as np\n",
    "import matplotlib.pyplot as plt\n",
    "from sklearn.model_selection import train_test_split\n",
    "from sklearn.tree import DecisionTreeClassifier\n",
    "from sklearn.ensemble import RandomForestClassifier\n",
    "from sklearn.linear_model import LogisticRegression\n",
    "from sklearn.metrics import accuracy_score"
   ]
  },
  {
   "cell_type": "markdown",
   "metadata": {},
   "source": [
    "## 1. Откройте и изучите файл"
   ]
  },
  {
   "cell_type": "code",
   "execution_count": 79,
   "metadata": {},
   "outputs": [
    {
     "name": "stdout",
     "output_type": "stream",
     "text": [
      "<class 'pandas.core.frame.DataFrame'>\n",
      "RangeIndex: 3214 entries, 0 to 3213\n",
      "Data columns (total 5 columns):\n",
      "calls       3214 non-null float64\n",
      "minutes     3214 non-null float64\n",
      "messages    3214 non-null float64\n",
      "mb_used     3214 non-null float64\n",
      "is_ultra    3214 non-null int64\n",
      "dtypes: float64(4), int64(1)\n",
      "memory usage: 125.7 KB\n",
      "None\n"
     ]
    },
    {
     "data": {
      "text/html": [
       "<div>\n",
       "<style scoped>\n",
       "    .dataframe tbody tr th:only-of-type {\n",
       "        vertical-align: middle;\n",
       "    }\n",
       "\n",
       "    .dataframe tbody tr th {\n",
       "        vertical-align: top;\n",
       "    }\n",
       "\n",
       "    .dataframe thead th {\n",
       "        text-align: right;\n",
       "    }\n",
       "</style>\n",
       "<table border=\"1\" class=\"dataframe\">\n",
       "  <thead>\n",
       "    <tr style=\"text-align: right;\">\n",
       "      <th></th>\n",
       "      <th>calls</th>\n",
       "      <th>minutes</th>\n",
       "      <th>messages</th>\n",
       "      <th>mb_used</th>\n",
       "      <th>is_ultra</th>\n",
       "    </tr>\n",
       "  </thead>\n",
       "  <tbody>\n",
       "    <tr>\n",
       "      <td>0</td>\n",
       "      <td>40.0</td>\n",
       "      <td>311.90</td>\n",
       "      <td>83.0</td>\n",
       "      <td>19915.42</td>\n",
       "      <td>0</td>\n",
       "    </tr>\n",
       "    <tr>\n",
       "      <td>1</td>\n",
       "      <td>85.0</td>\n",
       "      <td>516.75</td>\n",
       "      <td>56.0</td>\n",
       "      <td>22696.96</td>\n",
       "      <td>0</td>\n",
       "    </tr>\n",
       "    <tr>\n",
       "      <td>2</td>\n",
       "      <td>77.0</td>\n",
       "      <td>467.66</td>\n",
       "      <td>86.0</td>\n",
       "      <td>21060.45</td>\n",
       "      <td>0</td>\n",
       "    </tr>\n",
       "    <tr>\n",
       "      <td>3</td>\n",
       "      <td>106.0</td>\n",
       "      <td>745.53</td>\n",
       "      <td>81.0</td>\n",
       "      <td>8437.39</td>\n",
       "      <td>1</td>\n",
       "    </tr>\n",
       "    <tr>\n",
       "      <td>4</td>\n",
       "      <td>66.0</td>\n",
       "      <td>418.74</td>\n",
       "      <td>1.0</td>\n",
       "      <td>14502.75</td>\n",
       "      <td>0</td>\n",
       "    </tr>\n",
       "  </tbody>\n",
       "</table>\n",
       "</div>"
      ],
      "text/plain": [
       "   calls  minutes  messages   mb_used  is_ultra\n",
       "0   40.0   311.90      83.0  19915.42         0\n",
       "1   85.0   516.75      56.0  22696.96         0\n",
       "2   77.0   467.66      86.0  21060.45         0\n",
       "3  106.0   745.53      81.0   8437.39         1\n",
       "4   66.0   418.74       1.0  14502.75         0"
      ]
     },
     "execution_count": 79,
     "metadata": {},
     "output_type": "execute_result"
    }
   ],
   "source": [
    "df = pd.read_csv('/datasets/users_behavior.csv')\n",
    "print(df.info())\n",
    "df.head()"
   ]
  },
  {
   "cell_type": "markdown",
   "metadata": {},
   "source": [
    "## 2. Разбейте данные на выборки"
   ]
  },
  {
   "cell_type": "code",
   "execution_count": 80,
   "metadata": {},
   "outputs": [
    {
     "name": "stdout",
     "output_type": "stream",
     "text": [
      "train\n",
      "(1928, 4)\n",
      "(1928,)\n",
      "\n",
      "valid\n",
      "(643, 4)\n",
      "(643,)\n",
      "\n",
      "test\n",
      "(643, 4)\n",
      "(643,)\n"
     ]
    }
   ],
   "source": [
    "df_learn, df_test = train_test_split(df, test_size=0.20, random_state=12345)\n",
    "\n",
    "df_train, df_valid = train_test_split(df_learn, test_size=0.25, random_state=12345)\n",
    "\n",
    "\n",
    "features_train = df_train.drop(['is_ultra'], axis=1)\n",
    "target_train = df_train['is_ultra']\n",
    "\n",
    "features_valid = df_valid.drop(['is_ultra'], axis=1)\n",
    "target_valid = df_valid['is_ultra']\n",
    "\n",
    "features_test = df_test.drop(['is_ultra'], axis=1)\n",
    "target_test = df_test['is_ultra']\n",
    "\n",
    "print('train')\n",
    "print(features_train.shape)\n",
    "print(target_train.shape)\n",
    "print()\n",
    "print('valid')\n",
    "print(features_valid.shape)\n",
    "print(target_valid.shape)\n",
    "print()\n",
    "print('test')\n",
    "print(features_test.shape)\n",
    "print(target_test.shape)"
   ]
  },
  {
   "cell_type": "markdown",
   "metadata": {},
   "source": [
    "## 3. Исследуйте модели"
   ]
  },
  {
   "cell_type": "markdown",
   "metadata": {},
   "source": [
    " - Модель дерева решений"
   ]
  },
  {
   "cell_type": "code",
   "execution_count": 81,
   "metadata": {},
   "outputs": [
    {
     "name": "stdout",
     "output_type": "stream",
     "text": [
      "max_depth = 1 Accuracy тренировочной выборки: 0.758298755186722\n",
      "max_depth = 1 Accuracy валидационной выборки: 0.7387247278382582\n",
      "max_depth = 2 Accuracy тренировочной выборки: 0.79201244813278\n",
      "max_depth = 2 Accuracy валидационной выборки: 0.7573872472783826\n",
      "max_depth = 3 Accuracy тренировочной выборки: 0.8117219917012448\n",
      "max_depth = 3 Accuracy валидационной выборки: 0.7651632970451011\n",
      "max_depth = 4 Accuracy тренировочной выборки: 0.8205394190871369\n",
      "max_depth = 4 Accuracy валидационной выборки: 0.7636080870917574\n",
      "max_depth = 5 Accuracy тренировочной выборки: 0.8272821576763485\n",
      "max_depth = 5 Accuracy валидационной выборки: 0.7589424572317263\n",
      "max_depth = 6 Accuracy тренировочной выборки: 0.8335062240663901\n",
      "max_depth = 6 Accuracy валидационной выборки: 0.7573872472783826\n",
      "max_depth = 7 Accuracy тренировочной выборки: 0.8506224066390041\n",
      "max_depth = 7 Accuracy валидационной выборки: 0.7744945567651633\n",
      "max_depth = 8 Accuracy тренировочной выборки: 0.8661825726141079\n",
      "max_depth = 8 Accuracy валидационной выборки: 0.7667185069984448\n",
      "max_depth = 9 Accuracy тренировочной выборки: 0.875\n",
      "max_depth = 9 Accuracy валидационной выборки: 0.7620528771384136\n"
     ]
    }
   ],
   "source": [
    "\n",
    "maxdepth = []\n",
    "tDTpredictions = []\n",
    "vDTpredictions = []\n",
    "\n",
    "for n in range(1,10):\n",
    "    \n",
    "    model_DecisionTree = DecisionTreeClassifier(random_state=12345, max_depth=n)\n",
    "\n",
    "    model_DecisionTree.fit(features_train, target_train) \n",
    "\n",
    "    valid_DecisionTree_predictions = model_DecisionTree.predict(features_valid)\n",
    "    \n",
    "    train_DecisionTree_predictions = model_DecisionTree.predict(features_train)\n",
    "    \n",
    "    maxdepth.append(n)\n",
    "    tDTpredictions.append(accuracy_score(target_train, train_DecisionTree_predictions))\n",
    "    vDTpredictions.append(accuracy_score(target_valid, valid_DecisionTree_predictions))\n",
    "    \n",
    "    print('max_depth =', n, 'Accuracy тренировочной выборки:', \n",
    "          accuracy_score(target_train, train_DecisionTree_predictions))\n",
    "    \n",
    "    print('max_depth =', n, 'Accuracy валидационной выборки:', \n",
    "          accuracy_score(target_valid, valid_DecisionTree_predictions))"
   ]
  },
  {
   "cell_type": "code",
   "execution_count": 82,
   "metadata": {},
   "outputs": [
    {
     "data": {
      "image/png": "[encoded data removed]",
      "text/plain": [
       "<Figure size 720x360 with 1 Axes>"
      ]
     },
     "metadata": {
      "needs_background": "light"
     },
     "output_type": "display_data"
    }
   ],
   "source": [
    "plt.figure(figsize = (10, 5))\n",
    "plt.title('DecisionTree')\n",
    "plt.xlabel('max_depth')\n",
    "plt.ylabel('Accuracy')\n",
    "plt.grid()\n",
    "plt.plot(maxdepth, tDTpredictions, label = 'train')\n",
    "plt.plot(maxdepth, vDTpredictions, label = 'valid')\n",
    "plt.legend()\n",
    "plt.show()"
   ]
  },
  {
   "cell_type": "markdown",
   "metadata": {},
   "source": [
    "- Модель случайного леса"
   ]
  },
  {
   "cell_type": "code",
   "execution_count": 83,
   "metadata": {},
   "outputs": [
    {
     "name": "stdout",
     "output_type": "stream",
     "text": [
      "Accuracy при estim 1 :\n",
      "Тренировочная выборка: 0.8630705394190872\n",
      "Валидационная выборка: 0.76049766718507\n",
      "Accuracy при estim 3 :\n",
      "Тренировочная выборка: 0.8801867219917012\n",
      "Валидационная выборка: 0.7869362363919129\n",
      "Accuracy при estim 5 :\n",
      "Тренировочная выборка: 0.8801867219917012\n",
      "Валидационная выборка: 0.7962674961119751\n",
      "Accuracy при estim 7 :\n",
      "Тренировочная выборка: 0.8910788381742739\n",
      "Валидационная выборка: 0.7947122861586314\n",
      "Accuracy при estim 9 :\n",
      "Тренировочная выборка: 0.8874481327800829\n",
      "Валидационная выборка: 0.7962674961119751\n",
      "Accuracy при estim 11 :\n",
      "Тренировочная выборка: 0.8900414937759336\n",
      "Валидационная выборка: 0.7900466562986003\n"
     ]
    }
   ],
   "source": [
    "\n",
    "estimators = []\n",
    "tRFpredictions = []\n",
    "vRFpredictions = []\n",
    "\n",
    "for estim in range(1,12,2):\n",
    "    model_RandomForest = RandomForestClassifier(n_estimators=estim, random_state=12345, max_depth=10)\n",
    "    \n",
    "    model_RandomForest = model_RandomForest.fit(features_train, target_train)\n",
    "    \n",
    "    valid_RandomForest_predictions = model_RandomForest.predict(features_valid)\n",
    "    \n",
    "    train_RandomForest_predictions = model_RandomForest.predict(features_train)\n",
    "    \n",
    "    estimators.append(estim)\n",
    "    tRFpredictions.append(accuracy_score(target_train, train_RandomForest_predictions))\n",
    "    vRFpredictions.append(accuracy_score(target_valid, valid_RandomForest_predictions))\n",
    "    \n",
    "    print(\"Accuracy при estim\", estim, \":\")\n",
    "    print(\"Тренировочная выборка:\", accuracy_score(target_train, train_RandomForest_predictions))\n",
    "    print(\"Валидационная выборка:\", accuracy_score(target_valid, valid_RandomForest_predictions))"
   ]
  },
  {
   "cell_type": "code",
   "execution_count": 84,
   "metadata": {},
   "outputs": [
    {
     "data": {
      "image/png": "[encoded data removed]",
      "text/plain": [
       "<Figure size 720x360 with 1 Axes>"
      ]
     },
     "metadata": {
      "needs_background": "light"
     },
     "output_type": "display_data"
    }
   ],
   "source": [
    "plt.figure(figsize = (10, 5))\n",
    "plt.title('RandomForest')\n",
    "plt.xlabel('estimators')\n",
    "plt.ylabel('Accuracy')\n",
    "plt.grid()\n",
    "plt.plot(estimators, tRFpredictions, label = 'train')\n",
    "plt.plot(estimators, vRFpredictions, label = 'valid')\n",
    "plt.legend()\n",
    "plt.show()"
   ]
  },
  {
   "cell_type": "markdown",
   "metadata": {},
   "source": [
    " - Модель логистической регрессии"
   ]
  },
  {
   "cell_type": "code",
   "execution_count": 85,
   "metadata": {},
   "outputs": [
    {
     "name": "stdout",
     "output_type": "stream",
     "text": [
      "0.703838174273859\n",
      "0.6967340590979783\n"
     ]
    },
    {
     "name": "stderr",
     "output_type": "stream",
     "text": [
      "/opt/conda/lib/python3.7/site-packages/sklearn/linear_model/logistic.py:432: FutureWarning: Default solver will be changed to 'lbfgs' in 0.22. Specify a solver to silence this warning.\n",
      "  FutureWarning)\n"
     ]
    }
   ],
   "source": [
    "model_LogisticRegression = LogisticRegression(random_state=12345)\n",
    "\n",
    "model_LogisticRegression.fit(features_train, target_train)\n",
    "\n",
    "print(model_LogisticRegression.score(features_train, target_train))\n",
    "print(model_LogisticRegression.score(features_valid, target_valid))"
   ]
  },
  {
   "cell_type": "markdown",
   "metadata": {},
   "source": [
    "### Выводы: "
   ]
  },
  {
   "cell_type": "markdown",
   "metadata": {},
   "source": [
    "1)Для Модели дерева решений влияние проблемы переобучения тем сильнее, чем больше параметр max_depth; для Модели случайного леса это утверждение также верно, влияние параметра n_estimators гораздо слабее; Модель логистической регрессии менее всего подвержена проблеме переобучения.\n",
    "\n",
    "2)Модель RandomForestClassifier показала наиболее качественные показатели на валидационной выборке. Наиболее желательные значения из рассматриваемых гиперпараметров: n_estimators=5 и max_depth=10.\n",
    "Модель при этих гиперпараметрах даёт accuracy почти 0,8. Очевидно успешность этой модели обеспечено гибкостью алгоритма её обучения, т.е. возможностью настройки бОльшим количеством гиперпараметров, кроме того небольшим (относительно) объёмом датасета. "
   ]
  },
  {
   "cell_type": "markdown",
   "metadata": {},
   "source": [
    "## 4. Проверьте модель на тестовой выборке"
   ]
  },
  {
   "cell_type": "code",
   "execution_count": 86,
   "metadata": {},
   "outputs": [
    {
     "name": "stdout",
     "output_type": "stream",
     "text": [
      "Тренировочная выборка: 0.8801867219917012\n",
      "Тестовая выборка: 0.7853810264385692\n"
     ]
    }
   ],
   "source": [
    "model_RandomForest = RandomForestClassifier(n_estimators=5, random_state=12345, max_depth=10)\n",
    "    \n",
    "model_RandomForest = model_RandomForest.fit(features_train, target_train)\n",
    "\n",
    "train_predictions = model_RandomForest.predict(features_train)\n",
    "\n",
    "print(\"Тренировочная выборка:\", accuracy_score(target_train, train_predictions))\n",
    "\n",
    "test_predictions = model_RandomForest.predict(features_test)\n",
    "    \n",
    "print(\"Тестовая выборка:\", accuracy_score(target_test, test_predictions))"
   ]
  },
  {
   "cell_type": "code",
   "execution_count": null,
   "metadata": {},
   "outputs": [],
   "source": []
  }
 ],
 "metadata": {
  "kernelspec": {
   "display_name": "Python 3",
   "language": "python",
   "name": "python3"
  },
  "language_info": {
   "codemirror_mode": {
    "name": "ipython",
    "version": 3
   },
   "file_extension": ".py",
   "mimetype": "text/x-python",
   "name": "python",
   "nbconvert_exporter": "python",
   "pygments_lexer": "ipython3",
   "version": "3.7.3"
  }
 },
 "nbformat": 4,
 "nbformat_minor": 2
}
